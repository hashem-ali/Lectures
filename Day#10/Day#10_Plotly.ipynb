{
 "cells": [
  {
   "cell_type": "code",
   "execution_count": 1,
   "metadata": {},
   "outputs": [
    {
     "name": "stderr",
     "output_type": "stream",
     "text": [
      "/Users/Noura/opt/anaconda3/lib/python3.8/site-packages/scipy/__init__.py:138: UserWarning:\n",
      "\n",
      "A NumPy version >=1.16.5 and <1.23.0 is required for this version of SciPy (detected version 1.23.1)\n",
      "\n"
     ]
    }
   ],
   "source": [
    "import pandas as pd\n",
    "import numpy as np\n",
    "%matplotlib inline\n",
    "import cufflinks as cf\n",
    "from plotly.offline import download_plotlyjs, init_notebook_mode, plot, iplot"
   ]
  },
  {
   "cell_type": "code",
   "execution_count": 2,
   "metadata": {},
   "outputs": [
    {
     "data": {
      "text/html": [
       "        <script type=\"text/javascript\">\n",
       "        window.PlotlyConfig = {MathJaxConfig: 'local'};\n",
       "        if (window.MathJax) {MathJax.Hub.Config({SVG: {font: \"STIX-Web\"}});}\n",
       "        if (typeof require !== 'undefined') {\n",
       "        require.undef(\"plotly\");\n",
       "        requirejs.config({\n",
       "            paths: {\n",
       "                'plotly': ['https://cdn.plot.ly/plotly-2.8.3.min']\n",
       "            }\n",
       "        });\n",
       "        require(['plotly'], function(Plotly) {\n",
       "            window._Plotly = Plotly;\n",
       "        });\n",
       "        }\n",
       "        </script>\n",
       "        "
      ]
     },
     "metadata": {},
     "output_type": "display_data"
    },
    {
     "data": {
      "text/html": [
       "        <script type=\"text/javascript\">\n",
       "        window.PlotlyConfig = {MathJaxConfig: 'local'};\n",
       "        if (window.MathJax) {MathJax.Hub.Config({SVG: {font: \"STIX-Web\"}});}\n",
       "        if (typeof require !== 'undefined') {\n",
       "        require.undef(\"plotly\");\n",
       "        requirejs.config({\n",
       "            paths: {\n",
       "                'plotly': ['https://cdn.plot.ly/plotly-2.8.3.min']\n",
       "            }\n",
       "        });\n",
       "        require(['plotly'], function(Plotly) {\n",
       "            window._Plotly = Plotly;\n",
       "        });\n",
       "        }\n",
       "        </script>\n",
       "        "
      ]
     },
     "metadata": {},
     "output_type": "display_data"
    }
   ],
   "source": [
    "# to connect python and pandas with interactive javascript library\n",
    "init_notebook_mode(connected=True)\n",
    "# For offline use\n",
    "cf.go_offline()"
   ]
  },
  {
   "cell_type": "markdown",
   "metadata": {},
   "source": [
    "### Fake Data"
   ]
  },
  {
   "cell_type": "code",
   "execution_count": 3,
   "metadata": {},
   "outputs": [
    {
     "data": {
      "text/html": [
       "<div>\n",
       "<style scoped>\n",
       "    .dataframe tbody tr th:only-of-type {\n",
       "        vertical-align: middle;\n",
       "    }\n",
       "\n",
       "    .dataframe tbody tr th {\n",
       "        vertical-align: top;\n",
       "    }\n",
       "\n",
       "    .dataframe thead th {\n",
       "        text-align: right;\n",
       "    }\n",
       "</style>\n",
       "<table border=\"1\" class=\"dataframe\">\n",
       "  <thead>\n",
       "    <tr style=\"text-align: right;\">\n",
       "      <th></th>\n",
       "      <th>A</th>\n",
       "      <th>B</th>\n",
       "      <th>C</th>\n",
       "      <th>D</th>\n",
       "    </tr>\n",
       "  </thead>\n",
       "  <tbody>\n",
       "    <tr>\n",
       "      <th>0</th>\n",
       "      <td>0.359894</td>\n",
       "      <td>-0.921775</td>\n",
       "      <td>0.827315</td>\n",
       "      <td>0.163952</td>\n",
       "    </tr>\n",
       "    <tr>\n",
       "      <th>1</th>\n",
       "      <td>-0.459225</td>\n",
       "      <td>-1.682236</td>\n",
       "      <td>2.592083</td>\n",
       "      <td>1.891281</td>\n",
       "    </tr>\n",
       "    <tr>\n",
       "      <th>2</th>\n",
       "      <td>1.146934</td>\n",
       "      <td>-0.055573</td>\n",
       "      <td>1.344637</td>\n",
       "      <td>0.130754</td>\n",
       "    </tr>\n",
       "    <tr>\n",
       "      <th>3</th>\n",
       "      <td>0.011458</td>\n",
       "      <td>-0.735096</td>\n",
       "      <td>0.850455</td>\n",
       "      <td>-2.462474</td>\n",
       "    </tr>\n",
       "    <tr>\n",
       "      <th>4</th>\n",
       "      <td>-1.325226</td>\n",
       "      <td>-0.163126</td>\n",
       "      <td>1.441108</td>\n",
       "      <td>-0.660400</td>\n",
       "    </tr>\n",
       "  </tbody>\n",
       "</table>\n",
       "</div>"
      ],
      "text/plain": [
       "          A         B         C         D\n",
       "0  0.359894 -0.921775  0.827315  0.163952\n",
       "1 -0.459225 -1.682236  2.592083  1.891281\n",
       "2  1.146934 -0.055573  1.344637  0.130754\n",
       "3  0.011458 -0.735096  0.850455 -2.462474\n",
       "4 -1.325226 -0.163126  1.441108 -0.660400"
      ]
     },
     "execution_count": 3,
     "metadata": {},
     "output_type": "execute_result"
    }
   ],
   "source": [
    "df = pd.DataFrame(np.random.randn(100,4), columns='A B C D'.split())\n",
    "df.head()"
   ]
  },
  {
   "cell_type": "code",
   "execution_count": 4,
   "metadata": {},
   "outputs": [
    {
     "data": {
      "text/html": [
       "<div>\n",
       "<style scoped>\n",
       "    .dataframe tbody tr th:only-of-type {\n",
       "        vertical-align: middle;\n",
       "    }\n",
       "\n",
       "    .dataframe tbody tr th {\n",
       "        vertical-align: top;\n",
       "    }\n",
       "\n",
       "    .dataframe thead th {\n",
       "        text-align: right;\n",
       "    }\n",
       "</style>\n",
       "<table border=\"1\" class=\"dataframe\">\n",
       "  <thead>\n",
       "    <tr style=\"text-align: right;\">\n",
       "      <th></th>\n",
       "      <th>Category</th>\n",
       "      <th>Values</th>\n",
       "    </tr>\n",
       "  </thead>\n",
       "  <tbody>\n",
       "    <tr>\n",
       "      <th>0</th>\n",
       "      <td>A</td>\n",
       "      <td>32</td>\n",
       "    </tr>\n",
       "    <tr>\n",
       "      <th>1</th>\n",
       "      <td>B</td>\n",
       "      <td>43</td>\n",
       "    </tr>\n",
       "    <tr>\n",
       "      <th>2</th>\n",
       "      <td>C</td>\n",
       "      <td>50</td>\n",
       "    </tr>\n",
       "  </tbody>\n",
       "</table>\n",
       "</div>"
      ],
      "text/plain": [
       "  Category  Values\n",
       "0        A      32\n",
       "1        B      43\n",
       "2        C      50"
      ]
     },
     "execution_count": 4,
     "metadata": {},
     "output_type": "execute_result"
    }
   ],
   "source": [
    "df2 = pd.DataFrame({'Category':['A','B','C'],'Values':[32,43,50]})\n",
    "df2.head()"
   ]
  },
  {
   "cell_type": "code",
   "execution_count": 5,
   "metadata": {},
   "outputs": [
    {
     "data": {
      "text/plain": [
       "<AxesSubplot:>"
      ]
     },
     "execution_count": 5,
     "metadata": {},
     "output_type": "execute_result"
    },
    {
     "data": {
      "image/png": "[encoded data removed]",
      "text/plain": [
       "<Figure size 432x288 with 1 Axes>"
      ]
     },
     "metadata": {
      "needs_background": "light"
     },
     "output_type": "display_data"
    }
   ],
   "source": [
    "df.plot()"
   ]
  },
  {
   "cell_type": "code",
   "execution_count": 6,
   "metadata": {},
   "outputs": [],
   "source": [
    "# install pip install chart_studio\n",
    "import chart_studio.plotly as py"
   ]
  },
  {
   "cell_type": "code",
   "execution_count": 7,
   "metadata": {},
   "outputs": [
    {
     "data": {
      "application/vnd.plotly.v1+json": {
       "config": {
        "linkText": "Export to plot.ly",
        "plotlyServerURL": "https://plot.ly",
        "showLink": true
       },
       "data": [
        {
         "line": {
          "color": "rgba(255, 153, 51, 1.0)",
          "dash": "solid",
          "shape": "linear",
          "width": 1.3
         },
         "mode": "lines",
         "name": "A",
         "text": "",
         "type": "scatter",
         "x": [
          0,
          1,
          2,
          3,
          4,
          5,
          6,
          7,
          8,
          9,
          10,
          11,
          12,
          13,
          14,
          15,
          16,
          17,
          18,
          19,
          20,
          21,
          22,
          23,
          24,
          25,
          26,
          27,
          28,
          29,
          30,
          31,
          32,
          33,
          34,
          35,
          36,
          37,
          38,
          39,
          40,
          41,
          42,
          43,
          44,
          45,
          46,
          47,
          48,
          49,
          50,
          51,
          52,
          53,
          54,
          55,
          56,
          57,
          58,
          59,
          60,
          61,
          62,
          63,
          64,
          65,
          66,
          67,
          68,
          69,
          70,
          71,
          72,
          73,
          74,
          75,
          76,
          77,
          78,
          79,
          80,
          81,
          82,
          83,
          84,
          85,
          86,
          87,
          88,
          89,
          90,
          91,
          92,
          93,
          94,
          95,
          96,
          97,
          98,
          99
         ],
         "y": [
          0.35989448670498325,
          -0.4592246745596689,
          1.1469340676932693,
          0.011457522595807158,
          -1.325225593039427,
          0.6814113631472483,
          -0.6786363701384942,
          1.0437656967750097,
          -0.47746466288488,
          0.8125037672312054,
          -0.47404658256936544,
          1.2031540729757069,
          1.4635324716319182,
          0.06280967604194186,
          -1.3846713229533583,
          0.857625982236854,
          0.5068595009022173,
          0.5580764208978222,
          0.7283816078799463,
          1.6679793441485444,
          0.5494052825729143,
          2.179905991957352,
          0.6687883289057667,
          -0.3900788675173005,
          0.6003974566718818,
          -0.4550592069568799,
          0.024033182599412138,
          0.8838170831120449,
          -0.3815550521370984,
          -1.1351702026828523,
          1.8944649799641564,
          0.294708748187957,
          0.21978311050099436,
          -0.07065302380242854,
          -0.07252968052331976,
          1.1144820614967048,
          0.606171730343062,
          -0.8731464829889949,
          -0.9310256218748634,
          -1.1793341276575884,
          -1.257519736482706,
          -1.7425979839917272,
          -0.9445804193991463,
          -1.7502567337064294,
          -1.4243514037650187,
          -0.4090315100280699,
          0.18554365411004087,
          1.5207346391246686,
          -1.3323522975428201,
          -1.0763732961923527,
          0.935426096415537,
          0.786447031400014,
          0.3251381994168318,
          0.4245928479689998,
          0.6172282965203385,
          2.616286334548319,
          0.35013172747915905,
          0.23072155751839604,
          0.1078120918737563,
          -0.6767857327332797,
          1.486845300668094,
          -0.22754332442045902,
          -0.37629874464913476,
          0.7463145320495523,
          -0.19467705150091513,
          -1.4154453380765688,
          1.3399136119262056,
          -1.5777643034446764,
          -0.27774725451621385,
          0.20185972252411266,
          0.9349122376858232,
          -1.9228425692134634,
          1.0046670938839755,
          -0.6508739922195852,
          0.4269958744781549,
          0.7736665220816002,
          -0.1679201401431736,
          -1.3158405857178361,
          -0.8227589415389568,
          2.332130548823311,
          -0.26318021389783985,
          -1.4971248638820622,
          0.3152560911248023,
          -0.21665547778357377,
          -1.0023809876326206,
          1.0562004740071824,
          0.5338261162974342,
          1.084603932148778,
          0.2935647195292971,
          0.28628110241537885,
          -1.1494679572805997,
          -0.25532087031031897,
          -0.35075476425964247,
          0.9497286053864785,
          0.2807308118655686,
          -0.4251098238132698,
          -1.0621446257664477,
          0.41931528695406345,
          -1.433797178077299,
          -0.8059425488799932
         ]
        },
        {
         "line": {
          "color": "rgba(55, 128, 191, 1.0)",
          "dash": "solid",
          "shape": "linear",
          "width": 1.3
         },
         "mode": "lines",
         "name": "B",
         "text": "",
         "type": "scatter",
         "x": [
          0,
          1,
          2,
          3,
          4,
          5,
          6,
          7,
          8,
          9,
          10,
          11,
          12,
          13,
          14,
          15,
          16,
          17,
          18,
          19,
          20,
          21,
          22,
          23,
          24,
          25,
          26,
          27,
          28,
          29,
          30,
          31,
          32,
          33,
          34,
          35,
          36,
          37,
          38,
          39,
          40,
          41,
          42,
          43,
          44,
          45,
          46,
          47,
          48,
          49,
          50,
          51,
          52,
          53,
          54,
          55,
          56,
          57,
          58,
          59,
          60,
          61,
          62,
          63,
          64,
          65,
          66,
          67,
          68,
          69,
          70,
          71,
          72,
          73,
          74,
          75,
          76,
          77,
          78,
          79,
          80,
          81,
          82,
          83,
          84,
          85,
          86,
          87,
          88,
          89,
          90,
          91,
          92,
          93,
          94,
          95,
          96,
          97,
          98,
          99
         ],
         "y": [
          -0.9217746063940998,
          -1.6822361723427532,
          -0.055572935761315195,
          -0.7350958966894335,
          -0.16312573884020234,
          0.26078513301011524,
          -1.6077194546656872,
          -0.16660545555158907,
          0.4702211267676788,
          -0.8160247909852378,
          0.07090561857130953,
          -0.512506611196169,
          0.7176328754936439,
          -0.5532917462243572,
          -0.8119234722216444,
          -1.1765423268753135,
          -1.12954248594935,
          -0.4149262245711078,
          -0.4253415826023585,
          0.8469921767949793,
          1.881699763566048,
          -0.25778150596466876,
          -0.13128008428078422,
          0.5004041084234315,
          -1.649491285150849,
          -0.5042162792070994,
          0.6218104662260018,
          -0.5987775790098924,
          1.4123907764913297,
          -1.5904079493683279,
          -0.17544539905896128,
          -0.26662817691141316,
          1.6537875958037962,
          0.47060178918033885,
          -1.0478398572685959,
          1.2458723160603526,
          0.3183776222101448,
          -0.34137069400463826,
          0.6268383693928805,
          -0.49492715859173325,
          1.7894001280490095,
          1.0923690990085906,
          -0.4426468257952904,
          -1.7570569105500355,
          -0.2975462515868482,
          -0.9903552540790408,
          -2.0298888359656786,
          0.20798858218719538,
          -0.19840303127725278,
          0.9591272839305035,
          -1.0280598843346984,
          -1.3992328031466221,
          0.1824738273519832,
          -0.6025895866492086,
          -0.9843279818631707,
          -1.8390232897687318,
          1.534352550556892,
          1.0097682622746742,
          -0.861460988903354,
          -1.1660932424398551,
          -0.3094667414878226,
          1.1390385211944523,
          0.7427373004453051,
          0.4325319033275298,
          -0.49157497264069144,
          -1.1332619048375008,
          1.1259775995666133,
          1.9633898033012296,
          -0.1707707527943106,
          -0.4707537511823286,
          0.293722238328297,
          -0.6637770134834158,
          0.1301936407996693,
          0.3317424608102532,
          -1.0087404003189793,
          1.5522849293264396,
          0.22765004510397707,
          0.5272387175192732,
          -1.2419532380663771,
          0.33703182748365773,
          -1.7943304931124409,
          1.9246712787355624,
          -0.23366511001055065,
          0.09530901830895594,
          -0.2594634402771084,
          -0.20051248855805656,
          0.5230413669385336,
          -0.5013104579418655,
          0.46862784928238493,
          -1.2320574972191813,
          1.2274744511742934,
          0.9056958647317631,
          0.6943233325625244,
          0.613944109383328,
          0.20386916943256914,
          -0.4326740892386687,
          -0.5777941644677652,
          1.2663919771320504,
          1.4677257199411882,
          -1.8332729500431604
         ]
        },
        {
         "line": {
          "color": "rgba(50, 171, 96, 1.0)",
          "dash": "solid",
          "shape": "linear",
          "width": 1.3
         },
         "mode": "lines",
         "name": "C",
         "text": "",
         "type": "scatter",
         "x": [
          0,
          1,
          2,
          3,
          4,
          5,
          6,
          7,
          8,
          9,
          10,
          11,
          12,
          13,
          14,
          15,
          16,
          17,
          18,
          19,
          20,
          21,
          22,
          23,
          24,
          25,
          26,
          27,
          28,
          29,
          30,
          31,
          32,
          33,
          34,
          35,
          36,
          37,
          38,
          39,
          40,
          41,
          42,
          43,
          44,
          45,
          46,
          47,
          48,
          49,
          50,
          51,
          52,
          53,
          54,
          55,
          56,
          57,
          58,
          59,
          60,
          61,
          62,
          63,
          64,
          65,
          66,
          67,
          68,
          69,
          70,
          71,
          72,
          73,
          74,
          75,
          76,
          77,
          78,
          79,
          80,
          81,
          82,
          83,
          84,
          85,
          86,
          87,
          88,
          89,
          90,
          91,
          92,
          93,
          94,
          95,
          96,
          97,
          98,
          99
         ],
         "y": [
          0.8273152785715431,
          2.592082609608652,
          1.3446371871912153,
          0.8504550879324595,
          1.4411075649619918,
          0.5897397057175384,
          1.4823375219325754,
          0.493545341242126,
          0.2277940736874258,
          0.26800571588185357,
          -0.35721758206893844,
          -0.5240919506759124,
          -0.998536527564416,
          -0.25250677074350025,
          0.34751354653457334,
          0.7319758834630521,
          0.8515431046657899,
          -0.5151755682976872,
          1.1034991243247498,
          -0.2514271267200668,
          0.11530430980968087,
          0.42783703065710466,
          -0.46493111644446494,
          -0.3697897261937152,
          0.5756817113457978,
          0.5590010846145865,
          0.7723509688301612,
          -0.3848689347948521,
          -0.03960165885586036,
          0.044185855710254546,
          -0.5140996425468439,
          0.13193354043914313,
          0.9187833900981137,
          1.484115372604817,
          0.18697754963781588,
          1.9497496515191346,
          -0.025593087049639886,
          0.19876252469269806,
          0.40681310501725126,
          1.5754598787831944,
          0.5434325141033527,
          -1.1639700750272357,
          -2.027499814689522,
          0.3774390179879476,
          0.07839364114765025,
          0.2099088012296653,
          -1.0098193100645472,
          -2.1968598817674136,
          -2.085850838972527,
          0.22237535775602632,
          1.410759157113143,
          0.7575898202084071,
          -0.379137771012906,
          0.05344419077288705,
          -0.39949566994663593,
          0.15032321148972558,
          -0.13006768244103997,
          -0.1104800512865253,
          0.14024177840245208,
          -0.11546794485658657,
          1.1370169489407962,
          1.6418440274751496,
          1.029633502483267,
          2.064768104260361,
          -1.4246738743908782,
          -1.1906028269960245,
          1.1195470807731074,
          0.24714600279234417,
          0.41050677418878273,
          -0.3044927976891417,
          -2.054946754679443,
          -0.7307213097989068,
          -0.8708435579846577,
          -1.1405779109930412,
          -1.3375884485723633,
          -0.8553922504340327,
          0.811982322687059,
          0.6504087801710815,
          0.22215904010631066,
          -1.4420307525037719,
          0.7506310074727195,
          1.3566616786070929,
          0.7461563731341896,
          -0.07648236873264547,
          0.022522698063428805,
          0.6937233126166052,
          -0.32415267449581314,
          0.1577868414126188,
          1.094604977544399,
          -0.7470298922393848,
          0.558516436318415,
          0.7339447070301272,
          0.32600844025502,
          0.7143208325728774,
          1.1930579479539156,
          -0.16489897476312007,
          -0.5023550910613268,
          0.8485020620346165,
          0.6152295906262166,
          -1.7710607238056244
         ]
        },
        {
         "line": {
          "color": "rgba(128, 0, 128, 1.0)",
          "dash": "solid",
          "shape": "linear",
          "width": 1.3
         },
         "mode": "lines",
         "name": "D",
         "text": "",
         "type": "scatter",
         "x": [
          0,
          1,
          2,
          3,
          4,
          5,
          6,
          7,
          8,
          9,
          10,
          11,
          12,
          13,
          14,
          15,
          16,
          17,
          18,
          19,
          20,
          21,
          22,
          23,
          24,
          25,
          26,
          27,
          28,
          29,
          30,
          31,
          32,
          33,
          34,
          35,
          36,
          37,
          38,
          39,
          40,
          41,
          42,
          43,
          44,
          45,
          46,
          47,
          48,
          49,
          50,
          51,
          52,
          53,
          54,
          55,
          56,
          57,
          58,
          59,
          60,
          61,
          62,
          63,
          64,
          65,
          66,
          67,
          68,
          69,
          70,
          71,
          72,
          73,
          74,
          75,
          76,
          77,
          78,
          79,
          80,
          81,
          82,
          83,
          84,
          85,
          86,
          87,
          88,
          89,
          90,
          91,
          92,
          93,
          94,
          95,
          96,
          97,
          98,
          99
         ],
         "y": [
          0.1639515482012815,
          1.8912813739797474,
          0.130753561918199,
          -2.462473908106972,
          -0.6603998166821248,
          1.9977377081442942,
          -1.0129093630599486,
          0.7921290056316523,
          -0.5664348156991554,
          -0.7249453745242685,
          -1.316613740020055,
          -0.6912569883984678,
          -1.240988387334244,
          -0.5210705358852363,
          0.09427243247393506,
          0.23596339084549361,
          0.39613978935162286,
          -0.5036875231146357,
          -1.4879042015174808,
          2.008266172048622,
          -0.9267001478713117,
          0.8886469782275257,
          -0.013999911406236168,
          0.18162473087366604,
          -0.05355539919631981,
          0.8512041291095764,
          1.4188904241052764,
          2.0261909174276163,
          -0.7659204731984209,
          -1.0137288460711575,
          -0.11314826507733342,
          -0.006556842213361446,
          -1.4145634914480307,
          -0.04656715573464401,
          0.11464370009805469,
          1.077154835460711,
          -0.6558996673933815,
          1.6004297267147591,
          1.1560180690378152,
          -1.1020980479547866,
          -0.29695874751007373,
          -2.3171441457140984,
          -0.6845246028821502,
          0.44585404969474557,
          0.023595686585148427,
          0.8643865790452707,
          0.6314911651454947,
          1.2575699668623646,
          0.04729427854654969,
          0.5259727805936953,
          0.619317035851485,
          -0.1106898572460105,
          -1.1664952254834136,
          0.21837344055509192,
          1.7268542929393982,
          1.1910080253594584,
          -0.03371678760423379,
          0.7484607684771561,
          1.7097535689505192,
          1.6719306216288725,
          0.17375769926297524,
          0.37715327609221455,
          -0.5887231780567602,
          -0.09935263687710601,
          0.27712225162381837,
          -0.8609743885728103,
          0.4279101952965506,
          0.3007884188375812,
          0.34063671029127696,
          0.10538779020884839,
          -0.30028901730662577,
          1.0019587248375998,
          0.1832065798821189,
          -1.4554640798274099,
          2.9912213268678367,
          1.6829095016685827,
          -0.6230371284787307,
          0.7837134148587172,
          -0.0842101697097363,
          0.7455313961820127,
          -1.612400798498298,
          -0.3221942083634528,
          -1.2099618162593822,
          -0.35263267466788234,
          0.6164369788445613,
          -0.13032311478530598,
          -1.8835020613120474,
          1.157435009222289,
          0.9121473121955195,
          1.2473321030756332,
          -0.7666362855181403,
          0.7432402678061955,
          0.344599844220491,
          0.6452809496473196,
          0.831922075508615,
          -0.6315196967878742,
          0.21774047700345495,
          -0.04705120336250258,
          -0.2739043016194293,
          0.3032166418279464
         ]
        }
       ],
       "layout": {
        "legend": {
         "bgcolor": "#F5F6F9",
         "font": {
          "color": "#4D5663"
         }
        },
        "paper_bgcolor": "#F5F6F9",
        "plot_bgcolor": "#F5F6F9",
        "template": {
         "data": {
          "bar": [
           {
            "error_x": {
             "color": "#2a3f5f"
            },
            "error_y": {
             "color": "#2a3f5f"
            },
            "marker": {
             "line": {
              "color": "#E5ECF6",
              "width": 0.5
             },
             "pattern": {
              "fillmode": "overlay",
              "size": 10,
              "solidity": 0.2
             }
            },
            "type": "bar"
           }
          ],
          "barpolar": [
           {
            "marker": {
             "line": {
              "color": "#E5ECF6",
              "width": 0.5
             },
             "pattern": {
              "fillmode": "overlay",
              "size": 10,
              "solidity": 0.2
             }
            },
            "type": "barpolar"
           }
          ],
          "carpet": [
           {
            "aaxis": {
             "endlinecolor": "#2a3f5f",
             "gridcolor": "white",
             "linecolor": "white",
             "minorgridcolor": "white",
             "startlinecolor": "#2a3f5f"
            },
            "baxis": {
             "endlinecolor": "#2a3f5f",
             "gridcolor": "white",
             "linecolor": "white",
             "minorgridcolor": "white",
             "startlinecolor": "#2a3f5f"
            },
            "type": "carpet"
           }
          ],
          "choropleth": [
           {
            "colorbar": {
             "outlinewidth": 0,
             "ticks": ""
            },
            "type": "choropleth"
           }
          ],
          "contour": [
           {
            "colorbar": {
             "outlinewidth": 0,
             "ticks": ""
            },
            "colorscale": [
             [
              0,
              "#0d0887"
             ],
             [
              0.1111111111111111,
              "#46039f"
             ],
             [
              0.2222222222222222,
              "#7201a8"
             ],
             [
              0.3333333333333333,
              "#9c179e"
             ],
             [
              0.4444444444444444,
              "#bd3786"
             ],
             [
              0.5555555555555556,
              "#d8576b"
             ],
             [
              0.6666666666666666,
              "#ed7953"
             ],
             [
              0.7777777777777778,
              "#fb9f3a"
             ],
             [
              0.8888888888888888,
              "#fdca26"
             ],
             [
              1,
              "#f0f921"
             ]
            ],
            "type": "contour"
           }
          ],
          "contourcarpet": [
           {
            "colorbar": {
             "outlinewidth": 0,
             "ticks": ""
            },
            "type": "contourcarpet"
           }
          ],
          "heatmap": [
           {
            "colorbar": {
             "outlinewidth": 0,
             "ticks": ""
            },
            "colorscale": [
             [
              0,
              "#0d0887"
             ],
             [
              0.1111111111111111,
              "#46039f"
             ],
             [
              0.2222222222222222,
              "#7201a8"
             ],
             [
              0.3333333333333333,
              "#9c179e"
             ],
             [
              0.4444444444444444,
              "#bd3786"
             ],
             [
              0.5555555555555556,
              "#d8576b"
             ],
             [
              0.6666666666666666,
              "#ed7953"
             ],
             [
              0.7777777777777778,
              "#fb9f3a"
             ],
             [
              0.8888888888888888,
              "#fdca26"
             ],
             [
              1,
              "#f0f921"
             ]
            ],
            "type": "heatmap"
           }
          ],
          "heatmapgl": [
           {
            "colorbar": {
             "outlinewidth": 0,
             "ticks": ""
            },
            "colorscale": [
             [
              0,
              "#0d0887"
             ],
             [
              0.1111111111111111,
              "#46039f"
             ],
             [
              0.2222222222222222,
              "#7201a8"
             ],
             [
              0.3333333333333333,
              "#9c179e"
             ],
             [
              0.4444444444444444,
              "#bd3786"
             ],
             [
              0.5555555555555556,
              "#d8576b"
             ],
             [
              0.6666666666666666,
              "#ed7953"
             ],
             [
              0.7777777777777778,
              "#fb9f3a"
             ],
             [
              0.8888888888888888,
              "#fdca26"
             ],
             [
              1,
              "#f0f921"
             ]
            ],
            "type": "heatmapgl"
           }
          ],
          "histogram": [
           {
            "marker": {
             "pattern": {
              "fillmode": "overlay",
              "size": 10,
              "solidity": 0.2
             }
            },
            "type": "histogram"
           }
          ],
          "histogram2d": [
           {
            "colorbar": {
             "outlinewidth": 0,
             "ticks": ""
            },
            "colorscale": [
             [
              0,
              "#0d0887"
             ],
             [
              0.1111111111111111,
              "#46039f"
             ],
             [
              0.2222222222222222,
              "#7201a8"
             ],
             [
              0.3333333333333333,
              "#9c179e"
             ],
             [
              0.4444444444444444,
              "#bd3786"
             ],
             [
              0.5555555555555556,
              "#d8576b"
             ],
             [
              0.6666666666666666,
              "#ed7953"
             ],
             [
              0.7777777777777778,
              "#fb9f3a"
             ],
             [
              0.8888888888888888,
              "#fdca26"
             ],
             [
              1,
              "#f0f921"
             ]
            ],
            "type": "histogram2d"
           }
          ],
          "histogram2dcontour": [
           {
            "colorbar": {
             "outlinewidth": 0,
             "ticks": ""
            },
            "colorscale": [
             [
              0,
              "#0d0887"
             ],
             [
              0.1111111111111111,
              "#46039f"
             ],
             [
              0.2222222222222222,
              "#7201a8"
             ],
             [
              0.3333333333333333,
              "#9c179e"
             ],
             [
              0.4444444444444444,
              "#bd3786"
             ],
             [
              0.5555555555555556,
              "#d8576b"
             ],
             [
              0.6666666666666666,
              "#ed7953"
             ],
             [
              0.7777777777777778,
              "#fb9f3a"
             ],
             [
              0.8888888888888888,
              "#fdca26"
             ],
             [
              1,
              "#f0f921"
             ]
            ],
            "type": "histogram2dcontour"
           }
          ],
          "mesh3d": [
           {
            "colorbar": {
             "outlinewidth": 0,
             "ticks": ""
            },
            "type": "mesh3d"
           }
          ],
          "parcoords": [
           {
            "line": {
             "colorbar": {
              "outlinewidth": 0,
              "ticks": ""
             }
            },
            "type": "parcoords"
           }
          ],
          "pie": [
           {
            "automargin": true,
            "type": "pie"
           }
          ],
          "scatter": [
           {
            "marker": {
             "colorbar": {
              "outlinewidth": 0,
              "ticks": ""
             }
            },
            "type": "scatter"
           }
          ],
          "scatter3d": [
           {
            "line": {
             "colorbar": {
              "outlinewidth": 0,
              "ticks": ""
             }
            },
            "marker": {
             "colorbar": {
              "outlinewidth": 0,
              "ticks": ""
             }
            },
            "type": "scatter3d"
           }
          ],
          "scattercarpet": [
           {
            "marker": {
             "colorbar": {
              "outlinewidth": 0,
              "ticks": ""
             }
            },
            "type": "scattercarpet"
           }
          ],
          "scattergeo": [
           {
            "marker": {
             "colorbar": {
              "outlinewidth": 0,
              "ticks": ""
             }
            },
            "type": "scattergeo"
           }
          ],
          "scattergl": [
           {
            "marker": {
             "colorbar": {
              "outlinewidth": 0,
              "ticks": ""
             }
            },
            "type": "scattergl"
           }
          ],
          "scattermapbox": [
           {
            "marker": {
             "colorbar": {
              "outlinewidth": 0,
              "ticks": ""
             }
            },
            "type": "scattermapbox"
           }
          ],
          "scatterpolar": [
           {
            "marker": {
             "colorbar": {
              "outlinewidth": 0,
              "ticks": ""
             }
            },
            "type": "scatterpolar"
           }
          ],
          "scatterpolargl": [
           {
            "marker": {
             "colorbar": {
              "outlinewidth": 0,
              "ticks": ""
             }
            },
            "type": "scatterpolargl"
           }
          ],
          "scatterternary": [
           {
            "marker": {
             "colorbar": {
              "outlinewidth": 0,
              "ticks": ""
             }
            },
            "type": "scatterternary"
           }
          ],
          "surface": [
           {
            "colorbar": {
             "outlinewidth": 0,
             "ticks": ""
            },
            "colorscale": [
             [
              0,
              "#0d0887"
             ],
             [
              0.1111111111111111,
              "#46039f"
             ],
             [
              0.2222222222222222,
              "#7201a8"
             ],
             [
              0.3333333333333333,
              "#9c179e"
             ],
             [
              0.4444444444444444,
              "#bd3786"
             ],
             [
              0.5555555555555556,
              "#d8576b"
             ],
             [
              0.6666666666666666,
              "#ed7953"
             ],
             [
              0.7777777777777778,
              "#fb9f3a"
             ],
             [
              0.8888888888888888,
              "#fdca26"
             ],
             [
              1,
              "#f0f921"
             ]
            ],
            "type": "surface"
           }
          ],
          "table": [
           {
            "cells": {
             "fill": {
              "color": "#EBF0F8"
             },
             "line": {
              "color": "white"
             }
            },
            "header": {
             "fill": {
              "color": "#C8D4E3"
             },
             "line": {
              "color": "white"
             }
            },
            "type": "table"
           }
          ]
         },
         "layout": {
          "annotationdefaults": {
           "arrowcolor": "#2a3f5f",
           "arrowhead": 0,
           "arrowwidth": 1
          },
          "autotypenumbers": "strict",
          "coloraxis": {
           "colorbar": {
            "outlinewidth": 0,
            "ticks": ""
           }
          },
          "colorscale": {
           "diverging": [
            [
             0,
             "#8e0152"
            ],
            [
             0.1,
             "#c51b7d"
            ],
            [
             0.2,
             "#de77ae"
            ],
            [
             0.3,
             "#f1b6da"
            ],
            [
             0.4,
             "#fde0ef"
            ],
            [
             0.5,
             "#f7f7f7"
            ],
            [
             0.6,
             "#e6f5d0"
            ],
            [
             0.7,
             "#b8e186"
            ],
            [
             0.8,
             "#7fbc41"
            ],
            [
             0.9,
             "#4d9221"
            ],
            [
             1,
             "#276419"
            ]
           ],
           "sequential": [
            [
             0,
             "#0d0887"
            ],
            [
             0.1111111111111111,
             "#46039f"
            ],
            [
             0.2222222222222222,
             "#7201a8"
            ],
            [
             0.3333333333333333,
             "#9c179e"
            ],
            [
             0.4444444444444444,
             "#bd3786"
            ],
            [
             0.5555555555555556,
             "#d8576b"
            ],
            [
             0.6666666666666666,
             "#ed7953"
            ],
            [
             0.7777777777777778,
             "#fb9f3a"
            ],
            [
             0.8888888888888888,
             "#fdca26"
            ],
            [
             1,
             "#f0f921"
            ]
           ],
           "sequentialminus": [
            [
             0,
             "#0d0887"
            ],
            [
             0.1111111111111111,
             "#46039f"
            ],
            [
             0.2222222222222222,
             "#7201a8"
            ],
            [
             0.3333333333333333,
             "#9c179e"
            ],
            [
             0.4444444444444444,
             "#bd3786"
            ],
            [
             0.5555555555555556,
             "#d8576b"
            ],
            [
             0.6666666666666666,
             "#ed7953"
            ],
            [
             0.7777777777777778,
             "#fb9f3a"
            ],
            [
             0.8888888888888888,
             "#fdca26"
            ],
            [
             1,
             "#f0f921"
            ]
           ]
          },
          "colorway": [
           "#636efa",
           "#EF553B",
           "#00cc96",
           "#ab63fa",
           "#FFA15A",
           "#19d3f3",
           "#FF6692",
           "#B6E880",
           "#FF97FF",
           "#FECB52"
          ],
          "font": {
           "color": "#2a3f5f"
          },
          "geo": {
           "bgcolor": "white",
           "lakecolor": "white",
           "landcolor": "#E5ECF6",
           "showlakes": true,
           "showland": true,
           "subunitcolor": "white"
          },
          "hoverlabel": {
           "align": "left"
          },
          "hovermode": "closest",
          "mapbox": {
           "style": "light"
          },
          "paper_bgcolor": "white",
          "plot_bgcolor": "#E5ECF6",
          "polar": {
           "angularaxis": {
            "gridcolor": "white",
            "linecolor": "white",
            "ticks": ""
           },
           "bgcolor": "#E5ECF6",
           "radialaxis": {
            "gridcolor": "white",
            "linecolor": "white",
            "ticks": ""
           }
          },
          "scene": {
           "xaxis": {
            "backgroundcolor": "#E5ECF6",
            "gridcolor": "white",
            "gridwidth": 2,
            "linecolor": "white",
            "showbackground": true,
            "ticks": "",
            "zerolinecolor": "white"
           },
           "yaxis": {
            "backgroundcolor": "#E5ECF6",
            "gridcolor": "white",
            "gridwidth": 2,
            "linecolor": "white",
            "showbackground": true,
            "ticks": "",
            "zerolinecolor": "white"
           },
           "zaxis": {
            "backgroundcolor": "#E5ECF6",
            "gridcolor": "white",
            "gridwidth": 2,
            "linecolor": "white",
            "showbackground": true,
            "ticks": "",
            "zerolinecolor": "white"
           }
          },
          "shapedefaults": {
           "line": {
            "color": "#2a3f5f"
           }
          },
          "ternary": {
           "aaxis": {
            "gridcolor": "white",
            "linecolor": "white",
            "ticks": ""
           },
           "baxis": {
            "gridcolor": "white",
            "linecolor": "white",
            "ticks": ""
           },
           "bgcolor": "#E5ECF6",
           "caxis": {
            "gridcolor": "white",
            "linecolor": "white",
            "ticks": ""
           }
          },
          "title": {
           "x": 0.05
          },
          "xaxis": {
           "automargin": true,
           "gridcolor": "white",
           "linecolor": "white",
           "ticks": "",
           "title": {
            "standoff": 15
           },
           "zerolinecolor": "white",
           "zerolinewidth": 2
          },
          "yaxis": {
           "automargin": true,
           "gridcolor": "white",
           "linecolor": "white",
           "ticks": "",
           "title": {
            "standoff": 15
           },
           "zerolinecolor": "white",
           "zerolinewidth": 2
          }
         }
        },
        "title": {
         "font": {
          "color": "#4D5663"
         }
        },
        "xaxis": {
         "gridcolor": "#E1E5ED",
         "showgrid": true,
         "tickfont": {
          "color": "#4D5663"
         },
         "title": {
          "font": {
           "color": "#4D5663"
          },
          "text": ""
         },
         "zerolinecolor": "#E1E5ED"
        },
        "yaxis": {
         "gridcolor": "#E1E5ED",
         "showgrid": true,
         "tickfont": {
          "color": "#4D5663"
         },
         "title": {
          "font": {
           "color": "#4D5663"
          },
          "text": ""
         },
         "zerolinecolor": "#E1E5ED"
        }
       }
      },
      "text/html": [
       "<div>                            <div id=\"103a0f96-a54f-4a76-9664-fa28d068409e\" class=\"plotly-graph-div\" style=\"height:525px; width:100%;\"></div>            <script type=\"text/javascript\">                require([\"plotly\"], function(Plotly) {                    window.PLOTLYENV=window.PLOTLYENV || {};\n",
       "                    window.PLOTLYENV.BASE_URL='https://plot.ly';                                    if (document.getElementById(\"103a0f96-a54f-4a76-9664-fa28d068409e\")) {                    Plotly.newPlot(                        \"103a0f96-a54f-4a76-9664-fa28d068409e\",                        [{\"line\":{\"color\":\"rgba(255, 153, 51, 1.0)\",\"dash\":\"solid\",\"shape\":\"linear\",\"width\":1.3},\"mode\":\"lines\",\"name\":\"A\",\"text\":\"\",\"x\":[0,1,2,3,4,5,6,7,8,9,10,11,12,13,14,15,16,17,18,19,20,21,22,23,24,25,26,27,28,29,30,31,32,33,34,35,36,37,38,39,40,41,42,43,44,45,46,47,48,49,50,51,52,53,54,55,56,57,58,59,60,61,62,63,64,65,66,67,68,69,70,71,72,73,74,75,76,77,78,79,80,81,82,83,84,85,86,87,88,89,90,91,92,93,94,95,96,97,98,99],\"y\":[0.35989448670498325,-0.4592246745596689,1.1469340676932693,0.011457522595807158,-1.325225593039427,0.6814113631472483,-0.6786363701384942,1.0437656967750097,-0.47746466288488,0.8125037672312054,-0.47404658256936544,1.2031540729757069,1.4635324716319182,0.06280967604194186,-1.3846713229533583,0.857625982236854,0.5068595009022173,0.5580764208978222,0.7283816078799463,1.6679793441485444,0.5494052825729143,2.179905991957352,0.6687883289057667,-0.3900788675173005,0.6003974566718818,-0.4550592069568799,0.024033182599412138,0.8838170831120449,-0.3815550521370984,-1.1351702026828523,1.8944649799641564,0.294708748187957,0.21978311050099436,-0.07065302380242854,-0.07252968052331976,1.1144820614967048,0.606171730343062,-0.8731464829889949,-0.9310256218748634,-1.1793341276575884,-1.257519736482706,-1.7425979839917272,-0.9445804193991463,-1.7502567337064294,-1.4243514037650187,-0.4090315100280699,0.18554365411004087,1.5207346391246686,-1.3323522975428201,-1.0763732961923527,0.935426096415537,0.786447031400014,0.3251381994168318,0.4245928479689998,0.6172282965203385,2.616286334548319,0.35013172747915905,0.23072155751839604,0.1078120918737563,-0.6767857327332797,1.486845300668094,-0.22754332442045902,-0.37629874464913476,0.7463145320495523,-0.19467705150091513,-1.4154453380765688,1.3399136119262056,-1.5777643034446764,-0.27774725451621385,0.20185972252411266,0.9349122376858232,-1.9228425692134634,1.0046670938839755,-0.6508739922195852,0.4269958744781549,0.7736665220816002,-0.1679201401431736,-1.3158405857178361,-0.8227589415389568,2.332130548823311,-0.26318021389783985,-1.4971248638820622,0.3152560911248023,-0.21665547778357377,-1.0023809876326206,1.0562004740071824,0.5338261162974342,1.084603932148778,0.2935647195292971,0.28628110241537885,-1.1494679572805997,-0.25532087031031897,-0.35075476425964247,0.9497286053864785,0.2807308118655686,-0.4251098238132698,-1.0621446257664477,0.41931528695406345,-1.433797178077299,-0.8059425488799932],\"type\":\"scatter\"},{\"line\":{\"color\":\"rgba(55, 128, 191, 1.0)\",\"dash\":\"solid\",\"shape\":\"linear\",\"width\":1.3},\"mode\":\"lines\",\"name\":\"B\",\"text\":\"\",\"x\":[0,1,2,3,4,5,6,7,8,9,10,11,12,13,14,15,16,17,18,19,20,21,22,23,24,25,26,27,28,29,30,31,32,33,34,35,36,37,38,39,40,41,42,43,44,45,46,47,48,49,50,51,52,53,54,55,56,57,58,59,60,61,62,63,64,65,66,67,68,69,70,71,72,73,74,75,76,77,78,79,80,81,82,83,84,85,86,87,88,89,90,91,92,93,94,95,96,97,98,99],\"y\":[-0.9217746063940998,-1.6822361723427532,-0.055572935761315195,-0.7350958966894335,-0.16312573884020234,0.26078513301011524,-1.6077194546656872,-0.16660545555158907,0.4702211267676788,-0.8160247909852378,0.07090561857130953,-0.512506611196169,0.7176328754936439,-0.5532917462243572,-0.8119234722216444,-1.1765423268753135,-1.12954248594935,-0.4149262245711078,-0.4253415826023585,0.8469921767949793,1.881699763566048,-0.25778150596466876,-0.13128008428078422,0.5004041084234315,-1.649491285150849,-0.5042162792070994,0.6218104662260018,-0.5987775790098924,1.4123907764913297,-1.5904079493683279,-0.17544539905896128,-0.26662817691141316,1.6537875958037962,0.47060178918033885,-1.0478398572685959,1.2458723160603526,0.3183776222101448,-0.34137069400463826,0.6268383693928805,-0.49492715859173325,1.7894001280490095,1.0923690990085906,-0.4426468257952904,-1.7570569105500355,-0.2975462515868482,-0.9903552540790408,-2.0298888359656786,0.20798858218719538,-0.19840303127725278,0.9591272839305035,-1.0280598843346984,-1.3992328031466221,0.1824738273519832,-0.6025895866492086,-0.9843279818631707,-1.8390232897687318,1.534352550556892,1.0097682622746742,-0.861460988903354,-1.1660932424398551,-0.3094667414878226,1.1390385211944523,0.7427373004453051,0.4325319033275298,-0.49157497264069144,-1.1332619048375008,1.1259775995666133,1.9633898033012296,-0.1707707527943106,-0.4707537511823286,0.293722238328297,-0.6637770134834158,0.1301936407996693,0.3317424608102532,-1.0087404003189793,1.5522849293264396,0.22765004510397707,0.5272387175192732,-1.2419532380663771,0.33703182748365773,-1.7943304931124409,1.9246712787355624,-0.23366511001055065,0.09530901830895594,-0.2594634402771084,-0.20051248855805656,0.5230413669385336,-0.5013104579418655,0.46862784928238493,-1.2320574972191813,1.2274744511742934,0.9056958647317631,0.6943233325625244,0.613944109383328,0.20386916943256914,-0.4326740892386687,-0.5777941644677652,1.2663919771320504,1.4677257199411882,-1.8332729500431604],\"type\":\"scatter\"},{\"line\":{\"color\":\"rgba(50, 171, 96, 1.0)\",\"dash\":\"solid\",\"shape\":\"linear\",\"width\":1.3},\"mode\":\"lines\",\"name\":\"C\",\"text\":\"\",\"x\":[0,1,2,3,4,5,6,7,8,9,10,11,12,13,14,15,16,17,18,19,20,21,22,23,24,25,26,27,28,29,30,31,32,33,34,35,36,37,38,39,40,41,42,43,44,45,46,47,48,49,50,51,52,53,54,55,56,57,58,59,60,61,62,63,64,65,66,67,68,69,70,71,72,73,74,75,76,77,78,79,80,81,82,83,84,85,86,87,88,89,90,91,92,93,94,95,96,97,98,99],\"y\":[0.8273152785715431,2.592082609608652,1.3446371871912153,0.8504550879324595,1.4411075649619918,0.5897397057175384,1.4823375219325754,0.493545341242126,0.2277940736874258,0.26800571588185357,-0.35721758206893844,-0.5240919506759124,-0.998536527564416,-0.25250677074350025,0.34751354653457334,0.7319758834630521,0.8515431046657899,-0.5151755682976872,1.1034991243247498,-0.2514271267200668,0.11530430980968087,0.42783703065710466,-0.46493111644446494,-0.3697897261937152,0.5756817113457978,0.5590010846145865,0.7723509688301612,-0.3848689347948521,-0.03960165885586036,0.044185855710254546,-0.5140996425468439,0.13193354043914313,0.9187833900981137,1.484115372604817,0.18697754963781588,1.9497496515191346,-0.025593087049639886,0.19876252469269806,0.40681310501725126,1.5754598787831944,0.5434325141033527,-1.1639700750272357,-2.027499814689522,0.3774390179879476,0.07839364114765025,0.2099088012296653,-1.0098193100645472,-2.1968598817674136,-2.085850838972527,0.22237535775602632,1.410759157113143,0.7575898202084071,-0.379137771012906,0.05344419077288705,-0.39949566994663593,0.15032321148972558,-0.13006768244103997,-0.1104800512865253,0.14024177840245208,-0.11546794485658657,1.1370169489407962,1.6418440274751496,1.029633502483267,2.064768104260361,-1.4246738743908782,-1.1906028269960245,1.1195470807731074,0.24714600279234417,0.41050677418878273,-0.3044927976891417,-2.054946754679443,-0.7307213097989068,-0.8708435579846577,-1.1405779109930412,-1.3375884485723633,-0.8553922504340327,0.811982322687059,0.6504087801710815,0.22215904010631066,-1.4420307525037719,0.7506310074727195,1.3566616786070929,0.7461563731341896,-0.07648236873264547,0.022522698063428805,0.6937233126166052,-0.32415267449581314,0.1577868414126188,1.094604977544399,-0.7470298922393848,0.558516436318415,0.7339447070301272,0.32600844025502,0.7143208325728774,1.1930579479539156,-0.16489897476312007,-0.5023550910613268,0.8485020620346165,0.6152295906262166,-1.7710607238056244],\"type\":\"scatter\"},{\"line\":{\"color\":\"rgba(128, 0, 128, 1.0)\",\"dash\":\"solid\",\"shape\":\"linear\",\"width\":1.3},\"mode\":\"lines\",\"name\":\"D\",\"text\":\"\",\"x\":[0,1,2,3,4,5,6,7,8,9,10,11,12,13,14,15,16,17,18,19,20,21,22,23,24,25,26,27,28,29,30,31,32,33,34,35,36,37,38,39,40,41,42,43,44,45,46,47,48,49,50,51,52,53,54,55,56,57,58,59,60,61,62,63,64,65,66,67,68,69,70,71,72,73,74,75,76,77,78,79,80,81,82,83,84,85,86,87,88,89,90,91,92,93,94,95,96,97,98,99],\"y\":[0.1639515482012815,1.8912813739797474,0.130753561918199,-2.462473908106972,-0.6603998166821248,1.9977377081442942,-1.0129093630599486,0.7921290056316523,-0.5664348156991554,-0.7249453745242685,-1.316613740020055,-0.6912569883984678,-1.240988387334244,-0.5210705358852363,0.09427243247393506,0.23596339084549361,0.39613978935162286,-0.5036875231146357,-1.4879042015174808,2.008266172048622,-0.9267001478713117,0.8886469782275257,-0.013999911406236168,0.18162473087366604,-0.05355539919631981,0.8512041291095764,1.4188904241052764,2.0261909174276163,-0.7659204731984209,-1.0137288460711575,-0.11314826507733342,-0.006556842213361446,-1.4145634914480307,-0.04656715573464401,0.11464370009805469,1.077154835460711,-0.6558996673933815,1.6004297267147591,1.1560180690378152,-1.1020980479547866,-0.29695874751007373,-2.3171441457140984,-0.6845246028821502,0.44585404969474557,0.023595686585148427,0.8643865790452707,0.6314911651454947,1.2575699668623646,0.04729427854654969,0.5259727805936953,0.619317035851485,-0.1106898572460105,-1.1664952254834136,0.21837344055509192,1.7268542929393982,1.1910080253594584,-0.03371678760423379,0.7484607684771561,1.7097535689505192,1.6719306216288725,0.17375769926297524,0.37715327609221455,-0.5887231780567602,-0.09935263687710601,0.27712225162381837,-0.8609743885728103,0.4279101952965506,0.3007884188375812,0.34063671029127696,0.10538779020884839,-0.30028901730662577,1.0019587248375998,0.1832065798821189,-1.4554640798274099,2.9912213268678367,1.6829095016685827,-0.6230371284787307,0.7837134148587172,-0.0842101697097363,0.7455313961820127,-1.612400798498298,-0.3221942083634528,-1.2099618162593822,-0.35263267466788234,0.6164369788445613,-0.13032311478530598,-1.8835020613120474,1.157435009222289,0.9121473121955195,1.2473321030756332,-0.7666362855181403,0.7432402678061955,0.344599844220491,0.6452809496473196,0.831922075508615,-0.6315196967878742,0.21774047700345495,-0.04705120336250258,-0.2739043016194293,0.3032166418279464],\"type\":\"scatter\"}],                        {\"legend\":{\"bgcolor\":\"#F5F6F9\",\"font\":{\"color\":\"#4D5663\"}},\"paper_bgcolor\":\"#F5F6F9\",\"plot_bgcolor\":\"#F5F6F9\",\"template\":{\"data\":{\"barpolar\":[{\"marker\":{\"line\":{\"color\":\"#E5ECF6\",\"width\":0.5},\"pattern\":{\"fillmode\":\"overlay\",\"size\":10,\"solidity\":0.2}},\"type\":\"barpolar\"}],\"bar\":[{\"error_x\":{\"color\":\"#2a3f5f\"},\"error_y\":{\"color\":\"#2a3f5f\"},\"marker\":{\"line\":{\"color\":\"#E5ECF6\",\"width\":0.5},\"pattern\":{\"fillmode\":\"overlay\",\"size\":10,\"solidity\":0.2}},\"type\":\"bar\"}],\"carpet\":[{\"aaxis\":{\"endlinecolor\":\"#2a3f5f\",\"gridcolor\":\"white\",\"linecolor\":\"white\",\"minorgridcolor\":\"white\",\"startlinecolor\":\"#2a3f5f\"},\"baxis\":{\"endlinecolor\":\"#2a3f5f\",\"gridcolor\":\"white\",\"linecolor\":\"white\",\"minorgridcolor\":\"white\",\"startlinecolor\":\"#2a3f5f\"},\"type\":\"carpet\"}],\"choropleth\":[{\"colorbar\":{\"outlinewidth\":0,\"ticks\":\"\"},\"type\":\"choropleth\"}],\"contourcarpet\":[{\"colorbar\":{\"outlinewidth\":0,\"ticks\":\"\"},\"type\":\"contourcarpet\"}],\"contour\":[{\"colorbar\":{\"outlinewidth\":0,\"ticks\":\"\"},\"colorscale\":[[0.0,\"#0d0887\"],[0.1111111111111111,\"#46039f\"],[0.2222222222222222,\"#7201a8\"],[0.3333333333333333,\"#9c179e\"],[0.4444444444444444,\"#bd3786\"],[0.5555555555555556,\"#d8576b\"],[0.6666666666666666,\"#ed7953\"],[0.7777777777777778,\"#fb9f3a\"],[0.8888888888888888,\"#fdca26\"],[1.0,\"#f0f921\"]],\"type\":\"contour\"}],\"heatmapgl\":[{\"colorbar\":{\"outlinewidth\":0,\"ticks\":\"\"},\"colorscale\":[[0.0,\"#0d0887\"],[0.1111111111111111,\"#46039f\"],[0.2222222222222222,\"#7201a8\"],[0.3333333333333333,\"#9c179e\"],[0.4444444444444444,\"#bd3786\"],[0.5555555555555556,\"#d8576b\"],[0.6666666666666666,\"#ed7953\"],[0.7777777777777778,\"#fb9f3a\"],[0.8888888888888888,\"#fdca26\"],[1.0,\"#f0f921\"]],\"type\":\"heatmapgl\"}],\"heatmap\":[{\"colorbar\":{\"outlinewidth\":0,\"ticks\":\"\"},\"colorscale\":[[0.0,\"#0d0887\"],[0.1111111111111111,\"#46039f\"],[0.2222222222222222,\"#7201a8\"],[0.3333333333333333,\"#9c179e\"],[0.4444444444444444,\"#bd3786\"],[0.5555555555555556,\"#d8576b\"],[0.6666666666666666,\"#ed7953\"],[0.7777777777777778,\"#fb9f3a\"],[0.8888888888888888,\"#fdca26\"],[1.0,\"#f0f921\"]],\"type\":\"heatmap\"}],\"histogram2dcontour\":[{\"colorbar\":{\"outlinewidth\":0,\"ticks\":\"\"},\"colorscale\":[[0.0,\"#0d0887\"],[0.1111111111111111,\"#46039f\"],[0.2222222222222222,\"#7201a8\"],[0.3333333333333333,\"#9c179e\"],[0.4444444444444444,\"#bd3786\"],[0.5555555555555556,\"#d8576b\"],[0.6666666666666666,\"#ed7953\"],[0.7777777777777778,\"#fb9f3a\"],[0.8888888888888888,\"#fdca26\"],[1.0,\"#f0f921\"]],\"type\":\"histogram2dcontour\"}],\"histogram2d\":[{\"colorbar\":{\"outlinewidth\":0,\"ticks\":\"\"},\"colorscale\":[[0.0,\"#0d0887\"],[0.1111111111111111,\"#46039f\"],[0.2222222222222222,\"#7201a8\"],[0.3333333333333333,\"#9c179e\"],[0.4444444444444444,\"#bd3786\"],[0.5555555555555556,\"#d8576b\"],[0.6666666666666666,\"#ed7953\"],[0.7777777777777778,\"#fb9f3a\"],[0.8888888888888888,\"#fdca26\"],[1.0,\"#f0f921\"]],\"type\":\"histogram2d\"}],\"histogram\":[{\"marker\":{\"pattern\":{\"fillmode\":\"overlay\",\"size\":10,\"solidity\":0.2}},\"type\":\"histogram\"}],\"mesh3d\":[{\"colorbar\":{\"outlinewidth\":0,\"ticks\":\"\"},\"type\":\"mesh3d\"}],\"parcoords\":[{\"line\":{\"colorbar\":{\"outlinewidth\":0,\"ticks\":\"\"}},\"type\":\"parcoords\"}],\"pie\":[{\"automargin\":true,\"type\":\"pie\"}],\"scatter3d\":[{\"line\":{\"colorbar\":{\"outlinewidth\":0,\"ticks\":\"\"}},\"marker\":{\"colorbar\":{\"outlinewidth\":0,\"ticks\":\"\"}},\"type\":\"scatter3d\"}],\"scattercarpet\":[{\"marker\":{\"colorbar\":{\"outlinewidth\":0,\"ticks\":\"\"}},\"type\":\"scattercarpet\"}],\"scattergeo\":[{\"marker\":{\"colorbar\":{\"outlinewidth\":0,\"ticks\":\"\"}},\"type\":\"scattergeo\"}],\"scattergl\":[{\"marker\":{\"colorbar\":{\"outlinewidth\":0,\"ticks\":\"\"}},\"type\":\"scattergl\"}],\"scattermapbox\":[{\"marker\":{\"colorbar\":{\"outlinewidth\":0,\"ticks\":\"\"}},\"type\":\"scattermapbox\"}],\"scatterpolargl\":[{\"marker\":{\"colorbar\":{\"outlinewidth\":0,\"ticks\":\"\"}},\"type\":\"scatterpolargl\"}],\"scatterpolar\":[{\"marker\":{\"colorbar\":{\"outlinewidth\":0,\"ticks\":\"\"}},\"type\":\"scatterpolar\"}],\"scatter\":[{\"marker\":{\"colorbar\":{\"outlinewidth\":0,\"ticks\":\"\"}},\"type\":\"scatter\"}],\"scatterternary\":[{\"marker\":{\"colorbar\":{\"outlinewidth\":0,\"ticks\":\"\"}},\"type\":\"scatterternary\"}],\"surface\":[{\"colorbar\":{\"outlinewidth\":0,\"ticks\":\"\"},\"colorscale\":[[0.0,\"#0d0887\"],[0.1111111111111111,\"#46039f\"],[0.2222222222222222,\"#7201a8\"],[0.3333333333333333,\"#9c179e\"],[0.4444444444444444,\"#bd3786\"],[0.5555555555555556,\"#d8576b\"],[0.6666666666666666,\"#ed7953\"],[0.7777777777777778,\"#fb9f3a\"],[0.8888888888888888,\"#fdca26\"],[1.0,\"#f0f921\"]],\"type\":\"surface\"}],\"table\":[{\"cells\":{\"fill\":{\"color\":\"#EBF0F8\"},\"line\":{\"color\":\"white\"}},\"header\":{\"fill\":{\"color\":\"#C8D4E3\"},\"line\":{\"color\":\"white\"}},\"type\":\"table\"}]},\"layout\":{\"annotationdefaults\":{\"arrowcolor\":\"#2a3f5f\",\"arrowhead\":0,\"arrowwidth\":1},\"autotypenumbers\":\"strict\",\"coloraxis\":{\"colorbar\":{\"outlinewidth\":0,\"ticks\":\"\"}},\"colorscale\":{\"diverging\":[[0,\"#8e0152\"],[0.1,\"#c51b7d\"],[0.2,\"#de77ae\"],[0.3,\"#f1b6da\"],[0.4,\"#fde0ef\"],[0.5,\"#f7f7f7\"],[0.6,\"#e6f5d0\"],[0.7,\"#b8e186\"],[0.8,\"#7fbc41\"],[0.9,\"#4d9221\"],[1,\"#276419\"]],\"sequential\":[[0.0,\"#0d0887\"],[0.1111111111111111,\"#46039f\"],[0.2222222222222222,\"#7201a8\"],[0.3333333333333333,\"#9c179e\"],[0.4444444444444444,\"#bd3786\"],[0.5555555555555556,\"#d8576b\"],[0.6666666666666666,\"#ed7953\"],[0.7777777777777778,\"#fb9f3a\"],[0.8888888888888888,\"#fdca26\"],[1.0,\"#f0f921\"]],\"sequentialminus\":[[0.0,\"#0d0887\"],[0.1111111111111111,\"#46039f\"],[0.2222222222222222,\"#7201a8\"],[0.3333333333333333,\"#9c179e\"],[0.4444444444444444,\"#bd3786\"],[0.5555555555555556,\"#d8576b\"],[0.6666666666666666,\"#ed7953\"],[0.7777777777777778,\"#fb9f3a\"],[0.8888888888888888,\"#fdca26\"],[1.0,\"#f0f921\"]]},\"colorway\":[\"#636efa\",\"#EF553B\",\"#00cc96\",\"#ab63fa\",\"#FFA15A\",\"#19d3f3\",\"#FF6692\",\"#B6E880\",\"#FF97FF\",\"#FECB52\"],\"font\":{\"color\":\"#2a3f5f\"},\"geo\":{\"bgcolor\":\"white\",\"lakecolor\":\"white\",\"landcolor\":\"#E5ECF6\",\"showlakes\":true,\"showland\":true,\"subunitcolor\":\"white\"},\"hoverlabel\":{\"align\":\"left\"},\"hovermode\":\"closest\",\"mapbox\":{\"style\":\"light\"},\"paper_bgcolor\":\"white\",\"plot_bgcolor\":\"#E5ECF6\",\"polar\":{\"angularaxis\":{\"gridcolor\":\"white\",\"linecolor\":\"white\",\"ticks\":\"\"},\"bgcolor\":\"#E5ECF6\",\"radialaxis\":{\"gridcolor\":\"white\",\"linecolor\":\"white\",\"ticks\":\"\"}},\"scene\":{\"xaxis\":{\"backgroundcolor\":\"#E5ECF6\",\"gridcolor\":\"white\",\"gridwidth\":2,\"linecolor\":\"white\",\"showbackground\":true,\"ticks\":\"\",\"zerolinecolor\":\"white\"},\"yaxis\":{\"backgroundcolor\":\"#E5ECF6\",\"gridcolor\":\"white\",\"gridwidth\":2,\"linecolor\":\"white\",\"showbackground\":true,\"ticks\":\"\",\"zerolinecolor\":\"white\"},\"zaxis\":{\"backgroundcolor\":\"#E5ECF6\",\"gridcolor\":\"white\",\"gridwidth\":2,\"linecolor\":\"white\",\"showbackground\":true,\"ticks\":\"\",\"zerolinecolor\":\"white\"}},\"shapedefaults\":{\"line\":{\"color\":\"#2a3f5f\"}},\"ternary\":{\"aaxis\":{\"gridcolor\":\"white\",\"linecolor\":\"white\",\"ticks\":\"\"},\"baxis\":{\"gridcolor\":\"white\",\"linecolor\":\"white\",\"ticks\":\"\"},\"bgcolor\":\"#E5ECF6\",\"caxis\":{\"gridcolor\":\"white\",\"linecolor\":\"white\",\"ticks\":\"\"}},\"title\":{\"x\":0.05},\"xaxis\":{\"automargin\":true,\"gridcolor\":\"white\",\"linecolor\":\"white\",\"ticks\":\"\",\"title\":{\"standoff\":15},\"zerolinecolor\":\"white\",\"zerolinewidth\":2},\"yaxis\":{\"automargin\":true,\"gridcolor\":\"white\",\"linecolor\":\"white\",\"ticks\":\"\",\"title\":{\"standoff\":15},\"zerolinecolor\":\"white\",\"zerolinewidth\":2}}},\"title\":{\"font\":{\"color\":\"#4D5663\"}},\"xaxis\":{\"gridcolor\":\"#E1E5ED\",\"showgrid\":true,\"tickfont\":{\"color\":\"#4D5663\"},\"title\":{\"font\":{\"color\":\"#4D5663\"},\"text\":\"\"},\"zerolinecolor\":\"#E1E5ED\"},\"yaxis\":{\"gridcolor\":\"#E1E5ED\",\"showgrid\":true,\"tickfont\":{\"color\":\"#4D5663\"},\"title\":{\"font\":{\"color\":\"#4D5663\"},\"text\":\"\"},\"zerolinecolor\":\"#E1E5ED\"}},                        {\"showLink\": true, \"linkText\": \"Export to plot.ly\", \"plotlyServerURL\": \"https://plot.ly\", \"responsive\": true}                    ).then(function(){\n",
       "                            \n",
       "var gd = document.getElementById('103a0f96-a54f-4a76-9664-fa28d068409e');\n",
       "var x = new MutationObserver(function (mutations, observer) {{\n",
       "        var display = window.getComputedStyle(gd).display;\n",
       "        if (!display || display === 'none') {{\n",
       "            console.log([gd, 'removed!']);\n",
       "            Plotly.purge(gd);\n",
       "            observer.disconnect();\n",
       "        }}\n",
       "}});\n",
       "\n",
       "// Listen for the removal of the full notebook cells\n",
       "var notebookContainer = gd.closest('#notebook-container');\n",
       "if (notebookContainer) {{\n",
       "    x.observe(notebookContainer, {childList: true});\n",
       "}}\n",
       "\n",
       "// Listen for the clearing of the current output cell\n",
       "var outputEl = gd.closest('.output');\n",
       "if (outputEl) {{\n",
       "    x.observe(outputEl, {childList: true});\n",
       "}}\n",
       "\n",
       "                        })                };                });            </script>        </div>"
      ]
     },
     "metadata": {},
     "output_type": "display_data"
    }
   ],
   "source": [
    "df.iplot()"
   ]
  },
  {
   "cell_type": "markdown",
   "metadata": {},
   "source": [
    "# Scatter"
   ]
  },
  {
   "cell_type": "code",
   "execution_count": 8,
   "metadata": {},
   "outputs": [
    {
     "data": {
      "application/vnd.plotly.v1+json": {
       "config": {
        "linkText": "Export to plot.ly",
        "plotlyServerURL": "https://plot.ly",
        "showLink": true
       },
       "data": [
        {
         "line": {
          "color": "rgba(255, 153, 51, 1.0)",
          "dash": "solid",
          "shape": "linear",
          "width": 1.3
         },
         "marker": {
          "size": 10,
          "symbol": "circle"
         },
         "mode": "markers",
         "name": "B",
         "text": "",
         "type": "scatter",
         "x": [
          0.35989448670498325,
          -0.4592246745596689,
          1.1469340676932693,
          0.011457522595807158,
          -1.325225593039427,
          0.6814113631472483,
          -0.6786363701384942,
          1.0437656967750097,
          -0.47746466288488,
          0.8125037672312054,
          -0.47404658256936544,
          1.2031540729757069,
          1.4635324716319182,
          0.06280967604194186,
          -1.3846713229533583,
          0.857625982236854,
          0.5068595009022173,
          0.5580764208978222,
          0.7283816078799463,
          1.6679793441485444,
          0.5494052825729143,
          2.179905991957352,
          0.6687883289057667,
          -0.3900788675173005,
          0.6003974566718818,
          -0.4550592069568799,
          0.024033182599412138,
          0.8838170831120449,
          -0.3815550521370984,
          -1.1351702026828523,
          1.8944649799641564,
          0.294708748187957,
          0.21978311050099436,
          -0.07065302380242854,
          -0.07252968052331976,
          1.1144820614967048,
          0.606171730343062,
          -0.8731464829889949,
          -0.9310256218748634,
          -1.1793341276575884,
          -1.257519736482706,
          -1.7425979839917272,
          -0.9445804193991463,
          -1.7502567337064294,
          -1.4243514037650187,
          -0.4090315100280699,
          0.18554365411004087,
          1.5207346391246686,
          -1.3323522975428201,
          -1.0763732961923527,
          0.935426096415537,
          0.786447031400014,
          0.3251381994168318,
          0.4245928479689998,
          0.6172282965203385,
          2.616286334548319,
          0.35013172747915905,
          0.23072155751839604,
          0.1078120918737563,
          -0.6767857327332797,
          1.486845300668094,
          -0.22754332442045902,
          -0.37629874464913476,
          0.7463145320495523,
          -0.19467705150091513,
          -1.4154453380765688,
          1.3399136119262056,
          -1.5777643034446764,
          -0.27774725451621385,
          0.20185972252411266,
          0.9349122376858232,
          -1.9228425692134634,
          1.0046670938839755,
          -0.6508739922195852,
          0.4269958744781549,
          0.7736665220816002,
          -0.1679201401431736,
          -1.3158405857178361,
          -0.8227589415389568,
          2.332130548823311,
          -0.26318021389783985,
          -1.4971248638820622,
          0.3152560911248023,
          -0.21665547778357377,
          -1.0023809876326206,
          1.0562004740071824,
          0.5338261162974342,
          1.084603932148778,
          0.2935647195292971,
          0.28628110241537885,
          -1.1494679572805997,
          -0.25532087031031897,
          -0.35075476425964247,
          0.9497286053864785,
          0.2807308118655686,
          -0.4251098238132698,
          -1.0621446257664477,
          0.41931528695406345,
          -1.433797178077299,
          -0.8059425488799932
         ],
         "y": [
          -0.9217746063940998,
          -1.6822361723427532,
          -0.055572935761315195,
          -0.7350958966894335,
          -0.16312573884020234,
          0.26078513301011524,
          -1.6077194546656872,
          -0.16660545555158907,
          0.4702211267676788,
          -0.8160247909852378,
          0.07090561857130953,
          -0.512506611196169,
          0.7176328754936439,
          -0.5532917462243572,
          -0.8119234722216444,
          -1.1765423268753135,
          -1.12954248594935,
          -0.4149262245711078,
          -0.4253415826023585,
          0.8469921767949793,
          1.881699763566048,
          -0.25778150596466876,
          -0.13128008428078422,
          0.5004041084234315,
          -1.649491285150849,
          -0.5042162792070994,
          0.6218104662260018,
          -0.5987775790098924,
          1.4123907764913297,
          -1.5904079493683279,
          -0.17544539905896128,
          -0.26662817691141316,
          1.6537875958037962,
          0.47060178918033885,
          -1.0478398572685959,
          1.2458723160603526,
          0.3183776222101448,
          -0.34137069400463826,
          0.6268383693928805,
          -0.49492715859173325,
          1.7894001280490095,
          1.0923690990085906,
          -0.4426468257952904,
          -1.7570569105500355,
          -0.2975462515868482,
          -0.9903552540790408,
          -2.0298888359656786,
          0.20798858218719538,
          -0.19840303127725278,
          0.9591272839305035,
          -1.0280598843346984,
          -1.3992328031466221,
          0.1824738273519832,
          -0.6025895866492086,
          -0.9843279818631707,
          -1.8390232897687318,
          1.534352550556892,
          1.0097682622746742,
          -0.861460988903354,
          -1.1660932424398551,
          -0.3094667414878226,
          1.1390385211944523,
          0.7427373004453051,
          0.4325319033275298,
          -0.49157497264069144,
          -1.1332619048375008,
          1.1259775995666133,
          1.9633898033012296,
          -0.1707707527943106,
          -0.4707537511823286,
          0.293722238328297,
          -0.6637770134834158,
          0.1301936407996693,
          0.3317424608102532,
          -1.0087404003189793,
          1.5522849293264396,
          0.22765004510397707,
          0.5272387175192732,
          -1.2419532380663771,
          0.33703182748365773,
          -1.7943304931124409,
          1.9246712787355624,
          -0.23366511001055065,
          0.09530901830895594,
          -0.2594634402771084,
          -0.20051248855805656,
          0.5230413669385336,
          -0.5013104579418655,
          0.46862784928238493,
          -1.2320574972191813,
          1.2274744511742934,
          0.9056958647317631,
          0.6943233325625244,
          0.613944109383328,
          0.20386916943256914,
          -0.4326740892386687,
          -0.5777941644677652,
          1.2663919771320504,
          1.4677257199411882,
          -1.8332729500431604
         ]
        }
       ],
       "layout": {
        "legend": {
         "bgcolor": "#F5F6F9",
         "font": {
          "color": "#4D5663"
         }
        },
        "paper_bgcolor": "#F5F6F9",
        "plot_bgcolor": "#F5F6F9",
        "template": {
         "data": {
          "bar": [
           {
            "error_x": {
             "color": "#2a3f5f"
            },
            "error_y": {
             "color": "#2a3f5f"
            },
            "marker": {
             "line": {
              "color": "#E5ECF6",
              "width": 0.5
             },
             "pattern": {
              "fillmode": "overlay",
              "size": 10,
              "solidity": 0.2
             }
            },
            "type": "bar"
           }
          ],
          "barpolar": [
           {
            "marker": {
             "line": {
              "color": "#E5ECF6",
              "width": 0.5
             },
             "pattern": {
              "fillmode": "overlay",
              "size": 10,
              "solidity": 0.2
             }
            },
            "type": "barpolar"
           }
          ],
          "carpet": [
           {
            "aaxis": {
             "endlinecolor": "#2a3f5f",
             "gridcolor": "white",
             "linecolor": "white",
             "minorgridcolor": "white",
             "startlinecolor": "#2a3f5f"
            },
            "baxis": {
             "endlinecolor": "#2a3f5f",
             "gridcolor": "white",
             "linecolor": "white",
             "minorgridcolor": "white",
             "startlinecolor": "#2a3f5f"
            },
            "type": "carpet"
           }
          ],
          "choropleth": [
           {
            "colorbar": {
             "outlinewidth": 0,
             "ticks": ""
            },
            "type": "choropleth"
           }
          ],
          "contour": [
           {
            "colorbar": {
             "outlinewidth": 0,
             "ticks": ""
            },
            "colorscale": [
             [
              0,
              "#0d0887"
             ],
             [
              0.1111111111111111,
              "#46039f"
             ],
             [
              0.2222222222222222,
              "#7201a8"
             ],
             [
              0.3333333333333333,
              "#9c179e"
             ],
             [
              0.4444444444444444,
              "#bd3786"
             ],
             [
              0.5555555555555556,
              "#d8576b"
             ],
             [
              0.6666666666666666,
              "#ed7953"
             ],
             [
              0.7777777777777778,
              "#fb9f3a"
             ],
             [
              0.8888888888888888,
              "#fdca26"
             ],
             [
              1,
              "#f0f921"
             ]
            ],
            "type": "contour"
           }
          ],
          "contourcarpet": [
           {
            "colorbar": {
             "outlinewidth": 0,
             "ticks": ""
            },
            "type": "contourcarpet"
           }
          ],
          "heatmap": [
           {
            "colorbar": {
             "outlinewidth": 0,
             "ticks": ""
            },
            "colorscale": [
             [
              0,
              "#0d0887"
             ],
             [
              0.1111111111111111,
              "#46039f"
             ],
             [
              0.2222222222222222,
              "#7201a8"
             ],
             [
              0.3333333333333333,
              "#9c179e"
             ],
             [
              0.4444444444444444,
              "#bd3786"
             ],
             [
              0.5555555555555556,
              "#d8576b"
             ],
             [
              0.6666666666666666,
              "#ed7953"
             ],
             [
              0.7777777777777778,
              "#fb9f3a"
             ],
             [
              0.8888888888888888,
              "#fdca26"
             ],
             [
              1,
              "#f0f921"
             ]
            ],
            "type": "heatmap"
           }
          ],
          "heatmapgl": [
           {
            "colorbar": {
             "outlinewidth": 0,
             "ticks": ""
            },
            "colorscale": [
             [
              0,
              "#0d0887"
             ],
             [
              0.1111111111111111,
              "#46039f"
             ],
             [
              0.2222222222222222,
              "#7201a8"
             ],
             [
              0.3333333333333333,
              "#9c179e"
             ],
             [
              0.4444444444444444,
              "#bd3786"
             ],
             [
              0.5555555555555556,
              "#d8576b"
             ],
             [
              0.6666666666666666,
              "#ed7953"
             ],
             [
              0.7777777777777778,
              "#fb9f3a"
             ],
             [
              0.8888888888888888,
              "#fdca26"
             ],
             [
              1,
              "#f0f921"
             ]
            ],
            "type": "heatmapgl"
           }
          ],
          "histogram": [
           {
            "marker": {
             "pattern": {
              "fillmode": "overlay",
              "size": 10,
              "solidity": 0.2
             }
            },
            "type": "histogram"
           }
          ],
          "histogram2d": [
           {
            "colorbar": {
             "outlinewidth": 0,
             "ticks": ""
            },
            "colorscale": [
             [
              0,
              "#0d0887"
             ],
             [
              0.1111111111111111,
              "#46039f"
             ],
             [
              0.2222222222222222,
              "#7201a8"
             ],
             [
              0.3333333333333333,
              "#9c179e"
             ],
             [
              0.4444444444444444,
              "#bd3786"
             ],
             [
              0.5555555555555556,
              "#d8576b"
             ],
             [
              0.6666666666666666,
              "#ed7953"
             ],
             [
              0.7777777777777778,
              "#fb9f3a"
             ],
             [
              0.8888888888888888,
              "#fdca26"
             ],
             [
              1,
              "#f0f921"
             ]
            ],
            "type": "histogram2d"
           }
          ],
          "histogram2dcontour": [
           {
            "colorbar": {
             "outlinewidth": 0,
             "ticks": ""
            },
            "colorscale": [
             [
              0,
              "#0d0887"
             ],
             [
              0.1111111111111111,
              "#46039f"
             ],
             [
              0.2222222222222222,
              "#7201a8"
             ],
             [
              0.3333333333333333,
              "#9c179e"
             ],
             [
              0.4444444444444444,
              "#bd3786"
             ],
             [
              0.5555555555555556,
              "#d8576b"
             ],
             [
              0.6666666666666666,
              "#ed7953"
             ],
             [
              0.7777777777777778,
              "#fb9f3a"
             ],
             [
              0.8888888888888888,
              "#fdca26"
             ],
             [
              1,
              "#f0f921"
             ]
            ],
            "type": "histogram2dcontour"
           }
          ],
          "mesh3d": [
           {
            "colorbar": {
             "outlinewidth": 0,
             "ticks": ""
            },
            "type": "mesh3d"
           }
          ],
          "parcoords": [
           {
            "line": {
             "colorbar": {
              "outlinewidth": 0,
              "ticks": ""
             }
            },
            "type": "parcoords"
           }
          ],
          "pie": [
           {
            "automargin": true,
            "type": "pie"
           }
          ],
          "scatter": [
           {
            "marker": {
             "colorbar": {
              "outlinewidth": 0,
              "ticks": ""
             }
            },
            "type": "scatter"
           }
          ],
          "scatter3d": [
           {
            "line": {
             "colorbar": {
              "outlinewidth": 0,
              "ticks": ""
             }
            },
            "marker": {
             "colorbar": {
              "outlinewidth": 0,
              "ticks": ""
             }
            },
            "type": "scatter3d"
           }
          ],
          "scattercarpet": [
           {
            "marker": {
             "colorbar": {
              "outlinewidth": 0,
              "ticks": ""
             }
            },
            "type": "scattercarpet"
           }
          ],
          "scattergeo": [
           {
            "marker": {
             "colorbar": {
              "outlinewidth": 0,
              "ticks": ""
             }
            },
            "type": "scattergeo"
           }
          ],
          "scattergl": [
           {
            "marker": {
             "colorbar": {
              "outlinewidth": 0,
              "ticks": ""
             }
            },
            "type": "scattergl"
           }
          ],
          "scattermapbox": [
           {
            "marker": {
             "colorbar": {
              "outlinewidth": 0,
              "ticks": ""
             }
            },
            "type": "scattermapbox"
           }
          ],
          "scatterpolar": [
           {
            "marker": {
             "colorbar": {
              "outlinewidth": 0,
              "ticks": ""
             }
            },
            "type": "scatterpolar"
           }
          ],
          "scatterpolargl": [
           {
            "marker": {
             "colorbar": {
              "outlinewidth": 0,
              "ticks": ""
             }
            },
            "type": "scatterpolargl"
           }
          ],
          "scatterternary": [
           {
            "marker": {
             "colorbar": {
              "outlinewidth": 0,
              "ticks": ""
             }
            },
            "type": "scatterternary"
           }
          ],
          "surface": [
           {
            "colorbar": {
             "outlinewidth": 0,
             "ticks": ""
            },
            "colorscale": [
             [
              0,
              "#0d0887"
             ],
             [
              0.1111111111111111,
              "#46039f"
             ],
             [
              0.2222222222222222,
              "#7201a8"
             ],
             [
              0.3333333333333333,
              "#9c179e"
             ],
             [
              0.4444444444444444,
              "#bd3786"
             ],
             [
              0.5555555555555556,
              "#d8576b"
             ],
             [
              0.6666666666666666,
              "#ed7953"
             ],
             [
              0.7777777777777778,
              "#fb9f3a"
             ],
             [
              0.8888888888888888,
              "#fdca26"
             ],
             [
              1,
              "#f0f921"
             ]
            ],
            "type": "surface"
           }
          ],
          "table": [
           {
            "cells": {
             "fill": {
              "color": "#EBF0F8"
             },
             "line": {
              "color": "white"
             }
            },
            "header": {
             "fill": {
              "color": "#C8D4E3"
             },
             "line": {
              "color": "white"
             }
            },
            "type": "table"
           }
          ]
         },
         "layout": {
          "annotationdefaults": {
           "arrowcolor": "#2a3f5f",
           "arrowhead": 0,
           "arrowwidth": 1
          },
          "autotypenumbers": "strict",
          "coloraxis": {
           "colorbar": {
            "outlinewidth": 0,
            "ticks": ""
           }
          },
          "colorscale": {
           "diverging": [
            [
             0,
             "#8e0152"
            ],
            [
             0.1,
             "#c51b7d"
            ],
            [
             0.2,
             "#de77ae"
            ],
            [
             0.3,
             "#f1b6da"
            ],
            [
             0.4,
             "#fde0ef"
            ],
            [
             0.5,
             "#f7f7f7"
            ],
            [
             0.6,
             "#e6f5d0"
            ],
            [
             0.7,
             "#b8e186"
            ],
            [
             0.8,
             "#7fbc41"
            ],
            [
             0.9,
             "#4d9221"
            ],
            [
             1,
             "#276419"
            ]
           ],
           "sequential": [
            [
             0,
             "#0d0887"
            ],
            [
             0.1111111111111111,
             "#46039f"
            ],
            [
             0.2222222222222222,
             "#7201a8"
            ],
            [
             0.3333333333333333,
             "#9c179e"
            ],
            [
             0.4444444444444444,
             "#bd3786"
            ],
            [
             0.5555555555555556,
             "#d8576b"
            ],
            [
             0.6666666666666666,
             "#ed7953"
            ],
            [
             0.7777777777777778,
             "#fb9f3a"
            ],
            [
             0.8888888888888888,
             "#fdca26"
            ],
            [
             1,
             "#f0f921"
            ]
           ],
           "sequentialminus": [
            [
             0,
             "#0d0887"
            ],
            [
             0.1111111111111111,
             "#46039f"
            ],
            [
             0.2222222222222222,
             "#7201a8"
            ],
            [
             0.3333333333333333,
             "#9c179e"
            ],
            [
             0.4444444444444444,
             "#bd3786"
            ],
            [
             0.5555555555555556,
             "#d8576b"
            ],
            [
             0.6666666666666666,
             "#ed7953"
            ],
            [
             0.7777777777777778,
             "#fb9f3a"
            ],
            [
             0.8888888888888888,
             "#fdca26"
            ],
            [
             1,
             "#f0f921"
            ]
           ]
          },
          "colorway": [
           "#636efa",
           "#EF553B",
           "#00cc96",
           "#ab63fa",
           "#FFA15A",
           "#19d3f3",
           "#FF6692",
           "#B6E880",
           "#FF97FF",
           "#FECB52"
          ],
          "font": {
           "color": "#2a3f5f"
          },
          "geo": {
           "bgcolor": "white",
           "lakecolor": "white",
           "landcolor": "#E5ECF6",
           "showlakes": true,
           "showland": true,
           "subunitcolor": "white"
          },
          "hoverlabel": {
           "align": "left"
          },
          "hovermode": "closest",
          "mapbox": {
           "style": "light"
          },
          "paper_bgcolor": "white",
          "plot_bgcolor": "#E5ECF6",
          "polar": {
           "angularaxis": {
            "gridcolor": "white",
            "linecolor": "white",
            "ticks": ""
           },
           "bgcolor": "#E5ECF6",
           "radialaxis": {
            "gridcolor": "white",
            "linecolor": "white",
            "ticks": ""
           }
          },
          "scene": {
           "xaxis": {
            "backgroundcolor": "#E5ECF6",
            "gridcolor": "white",
            "gridwidth": 2,
            "linecolor": "white",
            "showbackground": true,
            "ticks": "",
            "zerolinecolor": "white"
           },
           "yaxis": {
            "backgroundcolor": "#E5ECF6",
            "gridcolor": "white",
            "gridwidth": 2,
            "linecolor": "white",
            "showbackground": true,
            "ticks": "",
            "zerolinecolor": "white"
           },
           "zaxis": {
            "backgroundcolor": "#E5ECF6",
            "gridcolor": "white",
            "gridwidth": 2,
            "linecolor": "white",
            "showbackground": true,
            "ticks": "",
            "zerolinecolor": "white"
           }
          },
          "shapedefaults": {
           "line": {
            "color": "#2a3f5f"
           }
          },
          "ternary": {
           "aaxis": {
            "gridcolor": "white",
            "linecolor": "white",
            "ticks": ""
           },
           "baxis": {
            "gridcolor": "white",
            "linecolor": "white",
            "ticks": ""
           },
           "bgcolor": "#E5ECF6",
           "caxis": {
            "gridcolor": "white",
            "linecolor": "white",
            "ticks": ""
           }
          },
          "title": {
           "x": 0.05
          },
          "xaxis": {
           "automargin": true,
           "gridcolor": "white",
           "linecolor": "white",
           "ticks": "",
           "title": {
            "standoff": 15
           },
           "zerolinecolor": "white",
           "zerolinewidth": 2
          },
          "yaxis": {
           "automargin": true,
           "gridcolor": "white",
           "linecolor": "white",
           "ticks": "",
           "title": {
            "standoff": 15
           },
           "zerolinecolor": "white",
           "zerolinewidth": 2
          }
         }
        },
        "title": {
         "font": {
          "color": "#4D5663"
         }
        },
        "xaxis": {
         "gridcolor": "#E1E5ED",
         "showgrid": true,
         "tickfont": {
          "color": "#4D5663"
         },
         "title": {
          "font": {
           "color": "#4D5663"
          },
          "text": ""
         },
         "zerolinecolor": "#E1E5ED"
        },
        "yaxis": {
         "gridcolor": "#E1E5ED",
         "showgrid": true,
         "tickfont": {
          "color": "#4D5663"
         },
         "title": {
          "font": {
           "color": "#4D5663"
          },
          "text": ""
         },
         "zerolinecolor": "#E1E5ED"
        }
       }
      },
      "text/html": [
       "<div>                            <div id=\"49a2263e-b3c9-4182-94c0-744f45b9e2a5\" class=\"plotly-graph-div\" style=\"height:525px; width:100%;\"></div>            <script type=\"text/javascript\">                require([\"plotly\"], function(Plotly) {                    window.PLOTLYENV=window.PLOTLYENV || {};\n",
       "                    window.PLOTLYENV.BASE_URL='https://plot.ly';                                    if (document.getElementById(\"49a2263e-b3c9-4182-94c0-744f45b9e2a5\")) {                    Plotly.newPlot(                        \"49a2263e-b3c9-4182-94c0-744f45b9e2a5\",                        [{\"line\":{\"color\":\"rgba(255, 153, 51, 1.0)\",\"dash\":\"solid\",\"shape\":\"linear\",\"width\":1.3},\"marker\":{\"size\":10,\"symbol\":\"circle\"},\"mode\":\"markers\",\"name\":\"B\",\"text\":\"\",\"x\":[0.35989448670498325,-0.4592246745596689,1.1469340676932693,0.011457522595807158,-1.325225593039427,0.6814113631472483,-0.6786363701384942,1.0437656967750097,-0.47746466288488,0.8125037672312054,-0.47404658256936544,1.2031540729757069,1.4635324716319182,0.06280967604194186,-1.3846713229533583,0.857625982236854,0.5068595009022173,0.5580764208978222,0.7283816078799463,1.6679793441485444,0.5494052825729143,2.179905991957352,0.6687883289057667,-0.3900788675173005,0.6003974566718818,-0.4550592069568799,0.024033182599412138,0.8838170831120449,-0.3815550521370984,-1.1351702026828523,1.8944649799641564,0.294708748187957,0.21978311050099436,-0.07065302380242854,-0.07252968052331976,1.1144820614967048,0.606171730343062,-0.8731464829889949,-0.9310256218748634,-1.1793341276575884,-1.257519736482706,-1.7425979839917272,-0.9445804193991463,-1.7502567337064294,-1.4243514037650187,-0.4090315100280699,0.18554365411004087,1.5207346391246686,-1.3323522975428201,-1.0763732961923527,0.935426096415537,0.786447031400014,0.3251381994168318,0.4245928479689998,0.6172282965203385,2.616286334548319,0.35013172747915905,0.23072155751839604,0.1078120918737563,-0.6767857327332797,1.486845300668094,-0.22754332442045902,-0.37629874464913476,0.7463145320495523,-0.19467705150091513,-1.4154453380765688,1.3399136119262056,-1.5777643034446764,-0.27774725451621385,0.20185972252411266,0.9349122376858232,-1.9228425692134634,1.0046670938839755,-0.6508739922195852,0.4269958744781549,0.7736665220816002,-0.1679201401431736,-1.3158405857178361,-0.8227589415389568,2.332130548823311,-0.26318021389783985,-1.4971248638820622,0.3152560911248023,-0.21665547778357377,-1.0023809876326206,1.0562004740071824,0.5338261162974342,1.084603932148778,0.2935647195292971,0.28628110241537885,-1.1494679572805997,-0.25532087031031897,-0.35075476425964247,0.9497286053864785,0.2807308118655686,-0.4251098238132698,-1.0621446257664477,0.41931528695406345,-1.433797178077299,-0.8059425488799932],\"y\":[-0.9217746063940998,-1.6822361723427532,-0.055572935761315195,-0.7350958966894335,-0.16312573884020234,0.26078513301011524,-1.6077194546656872,-0.16660545555158907,0.4702211267676788,-0.8160247909852378,0.07090561857130953,-0.512506611196169,0.7176328754936439,-0.5532917462243572,-0.8119234722216444,-1.1765423268753135,-1.12954248594935,-0.4149262245711078,-0.4253415826023585,0.8469921767949793,1.881699763566048,-0.25778150596466876,-0.13128008428078422,0.5004041084234315,-1.649491285150849,-0.5042162792070994,0.6218104662260018,-0.5987775790098924,1.4123907764913297,-1.5904079493683279,-0.17544539905896128,-0.26662817691141316,1.6537875958037962,0.47060178918033885,-1.0478398572685959,1.2458723160603526,0.3183776222101448,-0.34137069400463826,0.6268383693928805,-0.49492715859173325,1.7894001280490095,1.0923690990085906,-0.4426468257952904,-1.7570569105500355,-0.2975462515868482,-0.9903552540790408,-2.0298888359656786,0.20798858218719538,-0.19840303127725278,0.9591272839305035,-1.0280598843346984,-1.3992328031466221,0.1824738273519832,-0.6025895866492086,-0.9843279818631707,-1.8390232897687318,1.534352550556892,1.0097682622746742,-0.861460988903354,-1.1660932424398551,-0.3094667414878226,1.1390385211944523,0.7427373004453051,0.4325319033275298,-0.49157497264069144,-1.1332619048375008,1.1259775995666133,1.9633898033012296,-0.1707707527943106,-0.4707537511823286,0.293722238328297,-0.6637770134834158,0.1301936407996693,0.3317424608102532,-1.0087404003189793,1.5522849293264396,0.22765004510397707,0.5272387175192732,-1.2419532380663771,0.33703182748365773,-1.7943304931124409,1.9246712787355624,-0.23366511001055065,0.09530901830895594,-0.2594634402771084,-0.20051248855805656,0.5230413669385336,-0.5013104579418655,0.46862784928238493,-1.2320574972191813,1.2274744511742934,0.9056958647317631,0.6943233325625244,0.613944109383328,0.20386916943256914,-0.4326740892386687,-0.5777941644677652,1.2663919771320504,1.4677257199411882,-1.8332729500431604],\"type\":\"scatter\"}],                        {\"legend\":{\"bgcolor\":\"#F5F6F9\",\"font\":{\"color\":\"#4D5663\"}},\"paper_bgcolor\":\"#F5F6F9\",\"plot_bgcolor\":\"#F5F6F9\",\"template\":{\"data\":{\"barpolar\":[{\"marker\":{\"line\":{\"color\":\"#E5ECF6\",\"width\":0.5},\"pattern\":{\"fillmode\":\"overlay\",\"size\":10,\"solidity\":0.2}},\"type\":\"barpolar\"}],\"bar\":[{\"error_x\":{\"color\":\"#2a3f5f\"},\"error_y\":{\"color\":\"#2a3f5f\"},\"marker\":{\"line\":{\"color\":\"#E5ECF6\",\"width\":0.5},\"pattern\":{\"fillmode\":\"overlay\",\"size\":10,\"solidity\":0.2}},\"type\":\"bar\"}],\"carpet\":[{\"aaxis\":{\"endlinecolor\":\"#2a3f5f\",\"gridcolor\":\"white\",\"linecolor\":\"white\",\"minorgridcolor\":\"white\",\"startlinecolor\":\"#2a3f5f\"},\"baxis\":{\"endlinecolor\":\"#2a3f5f\",\"gridcolor\":\"white\",\"linecolor\":\"white\",\"minorgridcolor\":\"white\",\"startlinecolor\":\"#2a3f5f\"},\"type\":\"carpet\"}],\"choropleth\":[{\"colorbar\":{\"outlinewidth\":0,\"ticks\":\"\"},\"type\":\"choropleth\"}],\"contourcarpet\":[{\"colorbar\":{\"outlinewidth\":0,\"ticks\":\"\"},\"type\":\"contourcarpet\"}],\"contour\":[{\"colorbar\":{\"outlinewidth\":0,\"ticks\":\"\"},\"colorscale\":[[0.0,\"#0d0887\"],[0.1111111111111111,\"#46039f\"],[0.2222222222222222,\"#7201a8\"],[0.3333333333333333,\"#9c179e\"],[0.4444444444444444,\"#bd3786\"],[0.5555555555555556,\"#d8576b\"],[0.6666666666666666,\"#ed7953\"],[0.7777777777777778,\"#fb9f3a\"],[0.8888888888888888,\"#fdca26\"],[1.0,\"#f0f921\"]],\"type\":\"contour\"}],\"heatmapgl\":[{\"colorbar\":{\"outlinewidth\":0,\"ticks\":\"\"},\"colorscale\":[[0.0,\"#0d0887\"],[0.1111111111111111,\"#46039f\"],[0.2222222222222222,\"#7201a8\"],[0.3333333333333333,\"#9c179e\"],[0.4444444444444444,\"#bd3786\"],[0.5555555555555556,\"#d8576b\"],[0.6666666666666666,\"#ed7953\"],[0.7777777777777778,\"#fb9f3a\"],[0.8888888888888888,\"#fdca26\"],[1.0,\"#f0f921\"]],\"type\":\"heatmapgl\"}],\"heatmap\":[{\"colorbar\":{\"outlinewidth\":0,\"ticks\":\"\"},\"colorscale\":[[0.0,\"#0d0887\"],[0.1111111111111111,\"#46039f\"],[0.2222222222222222,\"#7201a8\"],[0.3333333333333333,\"#9c179e\"],[0.4444444444444444,\"#bd3786\"],[0.5555555555555556,\"#d8576b\"],[0.6666666666666666,\"#ed7953\"],[0.7777777777777778,\"#fb9f3a\"],[0.8888888888888888,\"#fdca26\"],[1.0,\"#f0f921\"]],\"type\":\"heatmap\"}],\"histogram2dcontour\":[{\"colorbar\":{\"outlinewidth\":0,\"ticks\":\"\"},\"colorscale\":[[0.0,\"#0d0887\"],[0.1111111111111111,\"#46039f\"],[0.2222222222222222,\"#7201a8\"],[0.3333333333333333,\"#9c179e\"],[0.4444444444444444,\"#bd3786\"],[0.5555555555555556,\"#d8576b\"],[0.6666666666666666,\"#ed7953\"],[0.7777777777777778,\"#fb9f3a\"],[0.8888888888888888,\"#fdca26\"],[1.0,\"#f0f921\"]],\"type\":\"histogram2dcontour\"}],\"histogram2d\":[{\"colorbar\":{\"outlinewidth\":0,\"ticks\":\"\"},\"colorscale\":[[0.0,\"#0d0887\"],[0.1111111111111111,\"#46039f\"],[0.2222222222222222,\"#7201a8\"],[0.3333333333333333,\"#9c179e\"],[0.4444444444444444,\"#bd3786\"],[0.5555555555555556,\"#d8576b\"],[0.6666666666666666,\"#ed7953\"],[0.7777777777777778,\"#fb9f3a\"],[0.8888888888888888,\"#fdca26\"],[1.0,\"#f0f921\"]],\"type\":\"histogram2d\"}],\"histogram\":[{\"marker\":{\"pattern\":{\"fillmode\":\"overlay\",\"size\":10,\"solidity\":0.2}},\"type\":\"histogram\"}],\"mesh3d\":[{\"colorbar\":{\"outlinewidth\":0,\"ticks\":\"\"},\"type\":\"mesh3d\"}],\"parcoords\":[{\"line\":{\"colorbar\":{\"outlinewidth\":0,\"ticks\":\"\"}},\"type\":\"parcoords\"}],\"pie\":[{\"automargin\":true,\"type\":\"pie\"}],\"scatter3d\":[{\"line\":{\"colorbar\":{\"outlinewidth\":0,\"ticks\":\"\"}},\"marker\":{\"colorbar\":{\"outlinewidth\":0,\"ticks\":\"\"}},\"type\":\"scatter3d\"}],\"scattercarpet\":[{\"marker\":{\"colorbar\":{\"outlinewidth\":0,\"ticks\":\"\"}},\"type\":\"scattercarpet\"}],\"scattergeo\":[{\"marker\":{\"colorbar\":{\"outlinewidth\":0,\"ticks\":\"\"}},\"type\":\"scattergeo\"}],\"scattergl\":[{\"marker\":{\"colorbar\":{\"outlinewidth\":0,\"ticks\":\"\"}},\"type\":\"scattergl\"}],\"scattermapbox\":[{\"marker\":{\"colorbar\":{\"outlinewidth\":0,\"ticks\":\"\"}},\"type\":\"scattermapbox\"}],\"scatterpolargl\":[{\"marker\":{\"colorbar\":{\"outlinewidth\":0,\"ticks\":\"\"}},\"type\":\"scatterpolargl\"}],\"scatterpolar\":[{\"marker\":{\"colorbar\":{\"outlinewidth\":0,\"ticks\":\"\"}},\"type\":\"scatterpolar\"}],\"scatter\":[{\"marker\":{\"colorbar\":{\"outlinewidth\":0,\"ticks\":\"\"}},\"type\":\"scatter\"}],\"scatterternary\":[{\"marker\":{\"colorbar\":{\"outlinewidth\":0,\"ticks\":\"\"}},\"type\":\"scatterternary\"}],\"surface\":[{\"colorbar\":{\"outlinewidth\":0,\"ticks\":\"\"},\"colorscale\":[[0.0,\"#0d0887\"],[0.1111111111111111,\"#46039f\"],[0.2222222222222222,\"#7201a8\"],[0.3333333333333333,\"#9c179e\"],[0.4444444444444444,\"#bd3786\"],[0.5555555555555556,\"#d8576b\"],[0.6666666666666666,\"#ed7953\"],[0.7777777777777778,\"#fb9f3a\"],[0.8888888888888888,\"#fdca26\"],[1.0,\"#f0f921\"]],\"type\":\"surface\"}],\"table\":[{\"cells\":{\"fill\":{\"color\":\"#EBF0F8\"},\"line\":{\"color\":\"white\"}},\"header\":{\"fill\":{\"color\":\"#C8D4E3\"},\"line\":{\"color\":\"white\"}},\"type\":\"table\"}]},\"layout\":{\"annotationdefaults\":{\"arrowcolor\":\"#2a3f5f\",\"arrowhead\":0,\"arrowwidth\":1},\"autotypenumbers\":\"strict\",\"coloraxis\":{\"colorbar\":{\"outlinewidth\":0,\"ticks\":\"\"}},\"colorscale\":{\"diverging\":[[0,\"#8e0152\"],[0.1,\"#c51b7d\"],[0.2,\"#de77ae\"],[0.3,\"#f1b6da\"],[0.4,\"#fde0ef\"],[0.5,\"#f7f7f7\"],[0.6,\"#e6f5d0\"],[0.7,\"#b8e186\"],[0.8,\"#7fbc41\"],[0.9,\"#4d9221\"],[1,\"#276419\"]],\"sequential\":[[0.0,\"#0d0887\"],[0.1111111111111111,\"#46039f\"],[0.2222222222222222,\"#7201a8\"],[0.3333333333333333,\"#9c179e\"],[0.4444444444444444,\"#bd3786\"],[0.5555555555555556,\"#d8576b\"],[0.6666666666666666,\"#ed7953\"],[0.7777777777777778,\"#fb9f3a\"],[0.8888888888888888,\"#fdca26\"],[1.0,\"#f0f921\"]],\"sequentialminus\":[[0.0,\"#0d0887\"],[0.1111111111111111,\"#46039f\"],[0.2222222222222222,\"#7201a8\"],[0.3333333333333333,\"#9c179e\"],[0.4444444444444444,\"#bd3786\"],[0.5555555555555556,\"#d8576b\"],[0.6666666666666666,\"#ed7953\"],[0.7777777777777778,\"#fb9f3a\"],[0.8888888888888888,\"#fdca26\"],[1.0,\"#f0f921\"]]},\"colorway\":[\"#636efa\",\"#EF553B\",\"#00cc96\",\"#ab63fa\",\"#FFA15A\",\"#19d3f3\",\"#FF6692\",\"#B6E880\",\"#FF97FF\",\"#FECB52\"],\"font\":{\"color\":\"#2a3f5f\"},\"geo\":{\"bgcolor\":\"white\",\"lakecolor\":\"white\",\"landcolor\":\"#E5ECF6\",\"showlakes\":true,\"showland\":true,\"subunitcolor\":\"white\"},\"hoverlabel\":{\"align\":\"left\"},\"hovermode\":\"closest\",\"mapbox\":{\"style\":\"light\"},\"paper_bgcolor\":\"white\",\"plot_bgcolor\":\"#E5ECF6\",\"polar\":{\"angularaxis\":{\"gridcolor\":\"white\",\"linecolor\":\"white\",\"ticks\":\"\"},\"bgcolor\":\"#E5ECF6\",\"radialaxis\":{\"gridcolor\":\"white\",\"linecolor\":\"white\",\"ticks\":\"\"}},\"scene\":{\"xaxis\":{\"backgroundcolor\":\"#E5ECF6\",\"gridcolor\":\"white\",\"gridwidth\":2,\"linecolor\":\"white\",\"showbackground\":true,\"ticks\":\"\",\"zerolinecolor\":\"white\"},\"yaxis\":{\"backgroundcolor\":\"#E5ECF6\",\"gridcolor\":\"white\",\"gridwidth\":2,\"linecolor\":\"white\",\"showbackground\":true,\"ticks\":\"\",\"zerolinecolor\":\"white\"},\"zaxis\":{\"backgroundcolor\":\"#E5ECF6\",\"gridcolor\":\"white\",\"gridwidth\":2,\"linecolor\":\"white\",\"showbackground\":true,\"ticks\":\"\",\"zerolinecolor\":\"white\"}},\"shapedefaults\":{\"line\":{\"color\":\"#2a3f5f\"}},\"ternary\":{\"aaxis\":{\"gridcolor\":\"white\",\"linecolor\":\"white\",\"ticks\":\"\"},\"baxis\":{\"gridcolor\":\"white\",\"linecolor\":\"white\",\"ticks\":\"\"},\"bgcolor\":\"#E5ECF6\",\"caxis\":{\"gridcolor\":\"white\",\"linecolor\":\"white\",\"ticks\":\"\"}},\"title\":{\"x\":0.05},\"xaxis\":{\"automargin\":true,\"gridcolor\":\"white\",\"linecolor\":\"white\",\"ticks\":\"\",\"title\":{\"standoff\":15},\"zerolinecolor\":\"white\",\"zerolinewidth\":2},\"yaxis\":{\"automargin\":true,\"gridcolor\":\"white\",\"linecolor\":\"white\",\"ticks\":\"\",\"title\":{\"standoff\":15},\"zerolinecolor\":\"white\",\"zerolinewidth\":2}}},\"title\":{\"font\":{\"color\":\"#4D5663\"}},\"xaxis\":{\"gridcolor\":\"#E1E5ED\",\"showgrid\":true,\"tickfont\":{\"color\":\"#4D5663\"},\"title\":{\"font\":{\"color\":\"#4D5663\"},\"text\":\"\"},\"zerolinecolor\":\"#E1E5ED\"},\"yaxis\":{\"gridcolor\":\"#E1E5ED\",\"showgrid\":true,\"tickfont\":{\"color\":\"#4D5663\"},\"title\":{\"font\":{\"color\":\"#4D5663\"},\"text\":\"\"},\"zerolinecolor\":\"#E1E5ED\"}},                        {\"showLink\": true, \"linkText\": \"Export to plot.ly\", \"plotlyServerURL\": \"https://plot.ly\", \"responsive\": true}                    ).then(function(){\n",
       "                            \n",
       "var gd = document.getElementById('49a2263e-b3c9-4182-94c0-744f45b9e2a5');\n",
       "var x = new MutationObserver(function (mutations, observer) {{\n",
       "        var display = window.getComputedStyle(gd).display;\n",
       "        if (!display || display === 'none') {{\n",
       "            console.log([gd, 'removed!']);\n",
       "            Plotly.purge(gd);\n",
       "            observer.disconnect();\n",
       "        }}\n",
       "}});\n",
       "\n",
       "// Listen for the removal of the full notebook cells\n",
       "var notebookContainer = gd.closest('#notebook-container');\n",
       "if (notebookContainer) {{\n",
       "    x.observe(notebookContainer, {childList: true});\n",
       "}}\n",
       "\n",
       "// Listen for the clearing of the current output cell\n",
       "var outputEl = gd.closest('.output');\n",
       "if (outputEl) {{\n",
       "    x.observe(outputEl, {childList: true});\n",
       "}}\n",
       "\n",
       "                        })                };                });            </script>        </div>"
      ]
     },
     "metadata": {},
     "output_type": "display_data"
    }
   ],
   "source": [
    "df.iplot(kind='scatter', x='A', y='B', mode='markers',size=10)"
   ]
  },
  {
   "cell_type": "markdown",
   "metadata": {},
   "source": [
    "# Bar Plots"
   ]
  },
  {
   "cell_type": "code",
   "execution_count": 9,
   "metadata": {},
   "outputs": [
    {
     "data": {
      "application/vnd.plotly.v1+json": {
       "config": {
        "linkText": "Export to plot.ly",
        "plotlyServerURL": "https://plot.ly",
        "showLink": true
       },
       "data": [
        {
         "marker": {
          "color": "rgba(255, 153, 51, 0.6)",
          "line": {
           "color": "rgba(255, 153, 51, 1.0)",
           "width": 1
          }
         },
         "name": "Values",
         "orientation": "v",
         "text": "",
         "type": "bar",
         "x": [
          "A",
          "B",
          "C"
         ],
         "y": [
          32,
          43,
          50
         ]
        }
       ],
       "layout": {
        "legend": {
         "bgcolor": "#F5F6F9",
         "font": {
          "color": "#4D5663"
         }
        },
        "paper_bgcolor": "#F5F6F9",
        "plot_bgcolor": "#F5F6F9",
        "template": {
         "data": {
          "bar": [
           {
            "error_x": {
             "color": "#2a3f5f"
            },
            "error_y": {
             "color": "#2a3f5f"
            },
            "marker": {
             "line": {
              "color": "#E5ECF6",
              "width": 0.5
             },
             "pattern": {
              "fillmode": "overlay",
              "size": 10,
              "solidity": 0.2
             }
            },
            "type": "bar"
           }
          ],
          "barpolar": [
           {
            "marker": {
             "line": {
              "color": "#E5ECF6",
              "width": 0.5
             },
             "pattern": {
              "fillmode": "overlay",
              "size": 10,
              "solidity": 0.2
             }
            },
            "type": "barpolar"
           }
          ],
          "carpet": [
           {
            "aaxis": {
             "endlinecolor": "#2a3f5f",
             "gridcolor": "white",
             "linecolor": "white",
             "minorgridcolor": "white",
             "startlinecolor": "#2a3f5f"
            },
            "baxis": {
             "endlinecolor": "#2a3f5f",
             "gridcolor": "white",
             "linecolor": "white",
             "minorgridcolor": "white",
             "startlinecolor": "#2a3f5f"
            },
            "type": "carpet"
           }
          ],
          "choropleth": [
           {
            "colorbar": {
             "outlinewidth": 0,
             "ticks": ""
            },
            "type": "choropleth"
           }
          ],
          "contour": [
           {
            "colorbar": {
             "outlinewidth": 0,
             "ticks": ""
            },
            "colorscale": [
             [
              0,
              "#0d0887"
             ],
             [
              0.1111111111111111,
              "#46039f"
             ],
             [
              0.2222222222222222,
              "#7201a8"
             ],
             [
              0.3333333333333333,
              "#9c179e"
             ],
             [
              0.4444444444444444,
              "#bd3786"
             ],
             [
              0.5555555555555556,
              "#d8576b"
             ],
             [
              0.6666666666666666,
              "#ed7953"
             ],
             [
              0.7777777777777778,
              "#fb9f3a"
             ],
             [
              0.8888888888888888,
              "#fdca26"
             ],
             [
              1,
              "#f0f921"
             ]
            ],
            "type": "contour"
           }
          ],
          "contourcarpet": [
           {
            "colorbar": {
             "outlinewidth": 0,
             "ticks": ""
            },
            "type": "contourcarpet"
           }
          ],
          "heatmap": [
           {
            "colorbar": {
             "outlinewidth": 0,
             "ticks": ""
            },
            "colorscale": [
             [
              0,
              "#0d0887"
             ],
             [
              0.1111111111111111,
              "#46039f"
             ],
             [
              0.2222222222222222,
              "#7201a8"
             ],
             [
              0.3333333333333333,
              "#9c179e"
             ],
             [
              0.4444444444444444,
              "#bd3786"
             ],
             [
              0.5555555555555556,
              "#d8576b"
             ],
             [
              0.6666666666666666,
              "#ed7953"
             ],
             [
              0.7777777777777778,
              "#fb9f3a"
             ],
             [
              0.8888888888888888,
              "#fdca26"
             ],
             [
              1,
              "#f0f921"
             ]
            ],
            "type": "heatmap"
           }
          ],
          "heatmapgl": [
           {
            "colorbar": {
             "outlinewidth": 0,
             "ticks": ""
            },
            "colorscale": [
             [
              0,
              "#0d0887"
             ],
             [
              0.1111111111111111,
              "#46039f"
             ],
             [
              0.2222222222222222,
              "#7201a8"
             ],
             [
              0.3333333333333333,
              "#9c179e"
             ],
             [
              0.4444444444444444,
              "#bd3786"
             ],
             [
              0.5555555555555556,
              "#d8576b"
             ],
             [
              0.6666666666666666,
              "#ed7953"
             ],
             [
              0.7777777777777778,
              "#fb9f3a"
             ],
             [
              0.8888888888888888,
              "#fdca26"
             ],
             [
              1,
              "#f0f921"
             ]
            ],
            "type": "heatmapgl"
           }
          ],
          "histogram": [
           {
            "marker": {
             "pattern": {
              "fillmode": "overlay",
              "size": 10,
              "solidity": 0.2
             }
            },
            "type": "histogram"
           }
          ],
          "histogram2d": [
           {
            "colorbar": {
             "outlinewidth": 0,
             "ticks": ""
            },
            "colorscale": [
             [
              0,
              "#0d0887"
             ],
             [
              0.1111111111111111,
              "#46039f"
             ],
             [
              0.2222222222222222,
              "#7201a8"
             ],
             [
              0.3333333333333333,
              "#9c179e"
             ],
             [
              0.4444444444444444,
              "#bd3786"
             ],
             [
              0.5555555555555556,
              "#d8576b"
             ],
             [
              0.6666666666666666,
              "#ed7953"
             ],
             [
              0.7777777777777778,
              "#fb9f3a"
             ],
             [
              0.8888888888888888,
              "#fdca26"
             ],
             [
              1,
              "#f0f921"
             ]
            ],
            "type": "histogram2d"
           }
          ],
          "histogram2dcontour": [
           {
            "colorbar": {
             "outlinewidth": 0,
             "ticks": ""
            },
            "colorscale": [
             [
              0,
              "#0d0887"
             ],
             [
              0.1111111111111111,
              "#46039f"
             ],
             [
              0.2222222222222222,
              "#7201a8"
             ],
             [
              0.3333333333333333,
              "#9c179e"
             ],
             [
              0.4444444444444444,
              "#bd3786"
             ],
             [
              0.5555555555555556,
              "#d8576b"
             ],
             [
              0.6666666666666666,
              "#ed7953"
             ],
             [
              0.7777777777777778,
              "#fb9f3a"
             ],
             [
              0.8888888888888888,
              "#fdca26"
             ],
             [
              1,
              "#f0f921"
             ]
            ],
            "type": "histogram2dcontour"
           }
          ],
          "mesh3d": [
           {
            "colorbar": {
             "outlinewidth": 0,
             "ticks": ""
            },
            "type": "mesh3d"
           }
          ],
          "parcoords": [
           {
            "line": {
             "colorbar": {
              "outlinewidth": 0,
              "ticks": ""
             }
            },
            "type": "parcoords"
           }
          ],
          "pie": [
           {
            "automargin": true,
            "type": "pie"
           }
          ],
          "scatter": [
           {
            "marker": {
             "colorbar": {
              "outlinewidth": 0,
              "ticks": ""
             }
            },
            "type": "scatter"
           }
          ],
          "scatter3d": [
           {
            "line": {
             "colorbar": {
              "outlinewidth": 0,
              "ticks": ""
             }
            },
            "marker": {
             "colorbar": {
              "outlinewidth": 0,
              "ticks": ""
             }
            },
            "type": "scatter3d"
           }
          ],
          "scattercarpet": [
           {
            "marker": {
             "colorbar": {
              "outlinewidth": 0,
              "ticks": ""
             }
            },
            "type": "scattercarpet"
           }
          ],
          "scattergeo": [
           {
            "marker": {
             "colorbar": {
              "outlinewidth": 0,
              "ticks": ""
             }
            },
            "type": "scattergeo"
           }
          ],
          "scattergl": [
           {
            "marker": {
             "colorbar": {
              "outlinewidth": 0,
              "ticks": ""
             }
            },
            "type": "scattergl"
           }
          ],
          "scattermapbox": [
           {
            "marker": {
             "colorbar": {
              "outlinewidth": 0,
              "ticks": ""
             }
            },
            "type": "scattermapbox"
           }
          ],
          "scatterpolar": [
           {
            "marker": {
             "colorbar": {
              "outlinewidth": 0,
              "ticks": ""
             }
            },
            "type": "scatterpolar"
           }
          ],
          "scatterpolargl": [
           {
            "marker": {
             "colorbar": {
              "outlinewidth": 0,
              "ticks": ""
             }
            },
            "type": "scatterpolargl"
           }
          ],
          "scatterternary": [
           {
            "marker": {
             "colorbar": {
              "outlinewidth": 0,
              "ticks": ""
             }
            },
            "type": "scatterternary"
           }
          ],
          "surface": [
           {
            "colorbar": {
             "outlinewidth": 0,
             "ticks": ""
            },
            "colorscale": [
             [
              0,
              "#0d0887"
             ],
             [
              0.1111111111111111,
              "#46039f"
             ],
             [
              0.2222222222222222,
              "#7201a8"
             ],
             [
              0.3333333333333333,
              "#9c179e"
             ],
             [
              0.4444444444444444,
              "#bd3786"
             ],
             [
              0.5555555555555556,
              "#d8576b"
             ],
             [
              0.6666666666666666,
              "#ed7953"
             ],
             [
              0.7777777777777778,
              "#fb9f3a"
             ],
             [
              0.8888888888888888,
              "#fdca26"
             ],
             [
              1,
              "#f0f921"
             ]
            ],
            "type": "surface"
           }
          ],
          "table": [
           {
            "cells": {
             "fill": {
              "color": "#EBF0F8"
             },
             "line": {
              "color": "white"
             }
            },
            "header": {
             "fill": {
              "color": "#C8D4E3"
             },
             "line": {
              "color": "white"
             }
            },
            "type": "table"
           }
          ]
         },
         "layout": {
          "annotationdefaults": {
           "arrowcolor": "#2a3f5f",
           "arrowhead": 0,
           "arrowwidth": 1
          },
          "autotypenumbers": "strict",
          "coloraxis": {
           "colorbar": {
            "outlinewidth": 0,
            "ticks": ""
           }
          },
          "colorscale": {
           "diverging": [
            [
             0,
             "#8e0152"
            ],
            [
             0.1,
             "#c51b7d"
            ],
            [
             0.2,
             "#de77ae"
            ],
            [
             0.3,
             "#f1b6da"
            ],
            [
             0.4,
             "#fde0ef"
            ],
            [
             0.5,
             "#f7f7f7"
            ],
            [
             0.6,
             "#e6f5d0"
            ],
            [
             0.7,
             "#b8e186"
            ],
            [
             0.8,
             "#7fbc41"
            ],
            [
             0.9,
             "#4d9221"
            ],
            [
             1,
             "#276419"
            ]
           ],
           "sequential": [
            [
             0,
             "#0d0887"
            ],
            [
             0.1111111111111111,
             "#46039f"
            ],
            [
             0.2222222222222222,
             "#7201a8"
            ],
            [
             0.3333333333333333,
             "#9c179e"
            ],
            [
             0.4444444444444444,
             "#bd3786"
            ],
            [
             0.5555555555555556,
             "#d8576b"
            ],
            [
             0.6666666666666666,
             "#ed7953"
            ],
            [
             0.7777777777777778,
             "#fb9f3a"
            ],
            [
             0.8888888888888888,
             "#fdca26"
            ],
            [
             1,
             "#f0f921"
            ]
           ],
           "sequentialminus": [
            [
             0,
             "#0d0887"
            ],
            [
             0.1111111111111111,
             "#46039f"
            ],
            [
             0.2222222222222222,
             "#7201a8"
            ],
            [
             0.3333333333333333,
             "#9c179e"
            ],
            [
             0.4444444444444444,
             "#bd3786"
            ],
            [
             0.5555555555555556,
             "#d8576b"
            ],
            [
             0.6666666666666666,
             "#ed7953"
            ],
            [
             0.7777777777777778,
             "#fb9f3a"
            ],
            [
             0.8888888888888888,
             "#fdca26"
            ],
            [
             1,
             "#f0f921"
            ]
           ]
          },
          "colorway": [
           "#636efa",
           "#EF553B",
           "#00cc96",
           "#ab63fa",
           "#FFA15A",
           "#19d3f3",
           "#FF6692",
           "#B6E880",
           "#FF97FF",
           "#FECB52"
          ],
          "font": {
           "color": "#2a3f5f"
          },
          "geo": {
           "bgcolor": "white",
           "lakecolor": "white",
           "landcolor": "#E5ECF6",
           "showlakes": true,
           "showland": true,
           "subunitcolor": "white"
          },
          "hoverlabel": {
           "align": "left"
          },
          "hovermode": "closest",
          "mapbox": {
           "style": "light"
          },
          "paper_bgcolor": "white",
          "plot_bgcolor": "#E5ECF6",
          "polar": {
           "angularaxis": {
            "gridcolor": "white",
            "linecolor": "white",
            "ticks": ""
           },
           "bgcolor": "#E5ECF6",
           "radialaxis": {
            "gridcolor": "white",
            "linecolor": "white",
            "ticks": ""
           }
          },
          "scene": {
           "xaxis": {
            "backgroundcolor": "#E5ECF6",
            "gridcolor": "white",
            "gridwidth": 2,
            "linecolor": "white",
            "showbackground": true,
            "ticks": "",
            "zerolinecolor": "white"
           },
           "yaxis": {
            "backgroundcolor": "#E5ECF6",
            "gridcolor": "white",
            "gridwidth": 2,
            "linecolor": "white",
            "showbackground": true,
            "ticks": "",
            "zerolinecolor": "white"
           },
           "zaxis": {
            "backgroundcolor": "#E5ECF6",
            "gridcolor": "white",
            "gridwidth": 2,
            "linecolor": "white",
            "showbackground": true,
            "ticks": "",
            "zerolinecolor": "white"
           }
          },
          "shapedefaults": {
           "line": {
            "color": "#2a3f5f"
           }
          },
          "ternary": {
           "aaxis": {
            "gridcolor": "white",
            "linecolor": "white",
            "ticks": ""
           },
           "baxis": {
            "gridcolor": "white",
            "linecolor": "white",
            "ticks": ""
           },
           "bgcolor": "#E5ECF6",
           "caxis": {
            "gridcolor": "white",
            "linecolor": "white",
            "ticks": ""
           }
          },
          "title": {
           "x": 0.05
          },
          "xaxis": {
           "automargin": true,
           "gridcolor": "white",
           "linecolor": "white",
           "ticks": "",
           "title": {
            "standoff": 15
           },
           "zerolinecolor": "white",
           "zerolinewidth": 2
          },
          "yaxis": {
           "automargin": true,
           "gridcolor": "white",
           "linecolor": "white",
           "ticks": "",
           "title": {
            "standoff": 15
           },
           "zerolinecolor": "white",
           "zerolinewidth": 2
          }
         }
        },
        "title": {
         "font": {
          "color": "#4D5663"
         }
        },
        "xaxis": {
         "gridcolor": "#E1E5ED",
         "showgrid": true,
         "tickfont": {
          "color": "#4D5663"
         },
         "title": {
          "font": {
           "color": "#4D5663"
          },
          "text": ""
         },
         "zerolinecolor": "#E1E5ED"
        },
        "yaxis": {
         "gridcolor": "#E1E5ED",
         "showgrid": true,
         "tickfont": {
          "color": "#4D5663"
         },
         "title": {
          "font": {
           "color": "#4D5663"
          },
          "text": ""
         },
         "zerolinecolor": "#E1E5ED"
        }
       }
      },
      "text/html": [
       "<div>                            <div id=\"09ad8e1d-d336-4ee2-96d1-0abe897ed8d1\" class=\"plotly-graph-div\" style=\"height:525px; width:100%;\"></div>            <script type=\"text/javascript\">                require([\"plotly\"], function(Plotly) {                    window.PLOTLYENV=window.PLOTLYENV || {};\n",
       "                    window.PLOTLYENV.BASE_URL='https://plot.ly';                                    if (document.getElementById(\"09ad8e1d-d336-4ee2-96d1-0abe897ed8d1\")) {                    Plotly.newPlot(                        \"09ad8e1d-d336-4ee2-96d1-0abe897ed8d1\",                        [{\"marker\":{\"color\":\"rgba(255, 153, 51, 0.6)\",\"line\":{\"color\":\"rgba(255, 153, 51, 1.0)\",\"width\":1}},\"name\":\"Values\",\"orientation\":\"v\",\"text\":\"\",\"x\":[\"A\",\"B\",\"C\"],\"y\":[32,43,50],\"type\":\"bar\"}],                        {\"legend\":{\"bgcolor\":\"#F5F6F9\",\"font\":{\"color\":\"#4D5663\"}},\"paper_bgcolor\":\"#F5F6F9\",\"plot_bgcolor\":\"#F5F6F9\",\"template\":{\"data\":{\"barpolar\":[{\"marker\":{\"line\":{\"color\":\"#E5ECF6\",\"width\":0.5},\"pattern\":{\"fillmode\":\"overlay\",\"size\":10,\"solidity\":0.2}},\"type\":\"barpolar\"}],\"bar\":[{\"error_x\":{\"color\":\"#2a3f5f\"},\"error_y\":{\"color\":\"#2a3f5f\"},\"marker\":{\"line\":{\"color\":\"#E5ECF6\",\"width\":0.5},\"pattern\":{\"fillmode\":\"overlay\",\"size\":10,\"solidity\":0.2}},\"type\":\"bar\"}],\"carpet\":[{\"aaxis\":{\"endlinecolor\":\"#2a3f5f\",\"gridcolor\":\"white\",\"linecolor\":\"white\",\"minorgridcolor\":\"white\",\"startlinecolor\":\"#2a3f5f\"},\"baxis\":{\"endlinecolor\":\"#2a3f5f\",\"gridcolor\":\"white\",\"linecolor\":\"white\",\"minorgridcolor\":\"white\",\"startlinecolor\":\"#2a3f5f\"},\"type\":\"carpet\"}],\"choropleth\":[{\"colorbar\":{\"outlinewidth\":0,\"ticks\":\"\"},\"type\":\"choropleth\"}],\"contourcarpet\":[{\"colorbar\":{\"outlinewidth\":0,\"ticks\":\"\"},\"type\":\"contourcarpet\"}],\"contour\":[{\"colorbar\":{\"outlinewidth\":0,\"ticks\":\"\"},\"colorscale\":[[0.0,\"#0d0887\"],[0.1111111111111111,\"#46039f\"],[0.2222222222222222,\"#7201a8\"],[0.3333333333333333,\"#9c179e\"],[0.4444444444444444,\"#bd3786\"],[0.5555555555555556,\"#d8576b\"],[0.6666666666666666,\"#ed7953\"],[0.7777777777777778,\"#fb9f3a\"],[0.8888888888888888,\"#fdca26\"],[1.0,\"#f0f921\"]],\"type\":\"contour\"}],\"heatmapgl\":[{\"colorbar\":{\"outlinewidth\":0,\"ticks\":\"\"},\"colorscale\":[[0.0,\"#0d0887\"],[0.1111111111111111,\"#46039f\"],[0.2222222222222222,\"#7201a8\"],[0.3333333333333333,\"#9c179e\"],[0.4444444444444444,\"#bd3786\"],[0.5555555555555556,\"#d8576b\"],[0.6666666666666666,\"#ed7953\"],[0.7777777777777778,\"#fb9f3a\"],[0.8888888888888888,\"#fdca26\"],[1.0,\"#f0f921\"]],\"type\":\"heatmapgl\"}],\"heatmap\":[{\"colorbar\":{\"outlinewidth\":0,\"ticks\":\"\"},\"colorscale\":[[0.0,\"#0d0887\"],[0.1111111111111111,\"#46039f\"],[0.2222222222222222,\"#7201a8\"],[0.3333333333333333,\"#9c179e\"],[0.4444444444444444,\"#bd3786\"],[0.5555555555555556,\"#d8576b\"],[0.6666666666666666,\"#ed7953\"],[0.7777777777777778,\"#fb9f3a\"],[0.8888888888888888,\"#fdca26\"],[1.0,\"#f0f921\"]],\"type\":\"heatmap\"}],\"histogram2dcontour\":[{\"colorbar\":{\"outlinewidth\":0,\"ticks\":\"\"},\"colorscale\":[[0.0,\"#0d0887\"],[0.1111111111111111,\"#46039f\"],[0.2222222222222222,\"#7201a8\"],[0.3333333333333333,\"#9c179e\"],[0.4444444444444444,\"#bd3786\"],[0.5555555555555556,\"#d8576b\"],[0.6666666666666666,\"#ed7953\"],[0.7777777777777778,\"#fb9f3a\"],[0.8888888888888888,\"#fdca26\"],[1.0,\"#f0f921\"]],\"type\":\"histogram2dcontour\"}],\"histogram2d\":[{\"colorbar\":{\"outlinewidth\":0,\"ticks\":\"\"},\"colorscale\":[[0.0,\"#0d0887\"],[0.1111111111111111,\"#46039f\"],[0.2222222222222222,\"#7201a8\"],[0.3333333333333333,\"#9c179e\"],[0.4444444444444444,\"#bd3786\"],[0.5555555555555556,\"#d8576b\"],[0.6666666666666666,\"#ed7953\"],[0.7777777777777778,\"#fb9f3a\"],[0.8888888888888888,\"#fdca26\"],[1.0,\"#f0f921\"]],\"type\":\"histogram2d\"}],\"histogram\":[{\"marker\":{\"pattern\":{\"fillmode\":\"overlay\",\"size\":10,\"solidity\":0.2}},\"type\":\"histogram\"}],\"mesh3d\":[{\"colorbar\":{\"outlinewidth\":0,\"ticks\":\"\"},\"type\":\"mesh3d\"}],\"parcoords\":[{\"line\":{\"colorbar\":{\"outlinewidth\":0,\"ticks\":\"\"}},\"type\":\"parcoords\"}],\"pie\":[{\"automargin\":true,\"type\":\"pie\"}],\"scatter3d\":[{\"line\":{\"colorbar\":{\"outlinewidth\":0,\"ticks\":\"\"}},\"marker\":{\"colorbar\":{\"outlinewidth\":0,\"ticks\":\"\"}},\"type\":\"scatter3d\"}],\"scattercarpet\":[{\"marker\":{\"colorbar\":{\"outlinewidth\":0,\"ticks\":\"\"}},\"type\":\"scattercarpet\"}],\"scattergeo\":[{\"marker\":{\"colorbar\":{\"outlinewidth\":0,\"ticks\":\"\"}},\"type\":\"scattergeo\"}],\"scattergl\":[{\"marker\":{\"colorbar\":{\"outlinewidth\":0,\"ticks\":\"\"}},\"type\":\"scattergl\"}],\"scattermapbox\":[{\"marker\":{\"colorbar\":{\"outlinewidth\":0,\"ticks\":\"\"}},\"type\":\"scattermapbox\"}],\"scatterpolargl\":[{\"marker\":{\"colorbar\":{\"outlinewidth\":0,\"ticks\":\"\"}},\"type\":\"scatterpolargl\"}],\"scatterpolar\":[{\"marker\":{\"colorbar\":{\"outlinewidth\":0,\"ticks\":\"\"}},\"type\":\"scatterpolar\"}],\"scatter\":[{\"marker\":{\"colorbar\":{\"outlinewidth\":0,\"ticks\":\"\"}},\"type\":\"scatter\"}],\"scatterternary\":[{\"marker\":{\"colorbar\":{\"outlinewidth\":0,\"ticks\":\"\"}},\"type\":\"scatterternary\"}],\"surface\":[{\"colorbar\":{\"outlinewidth\":0,\"ticks\":\"\"},\"colorscale\":[[0.0,\"#0d0887\"],[0.1111111111111111,\"#46039f\"],[0.2222222222222222,\"#7201a8\"],[0.3333333333333333,\"#9c179e\"],[0.4444444444444444,\"#bd3786\"],[0.5555555555555556,\"#d8576b\"],[0.6666666666666666,\"#ed7953\"],[0.7777777777777778,\"#fb9f3a\"],[0.8888888888888888,\"#fdca26\"],[1.0,\"#f0f921\"]],\"type\":\"surface\"}],\"table\":[{\"cells\":{\"fill\":{\"color\":\"#EBF0F8\"},\"line\":{\"color\":\"white\"}},\"header\":{\"fill\":{\"color\":\"#C8D4E3\"},\"line\":{\"color\":\"white\"}},\"type\":\"table\"}]},\"layout\":{\"annotationdefaults\":{\"arrowcolor\":\"#2a3f5f\",\"arrowhead\":0,\"arrowwidth\":1},\"autotypenumbers\":\"strict\",\"coloraxis\":{\"colorbar\":{\"outlinewidth\":0,\"ticks\":\"\"}},\"colorscale\":{\"diverging\":[[0,\"#8e0152\"],[0.1,\"#c51b7d\"],[0.2,\"#de77ae\"],[0.3,\"#f1b6da\"],[0.4,\"#fde0ef\"],[0.5,\"#f7f7f7\"],[0.6,\"#e6f5d0\"],[0.7,\"#b8e186\"],[0.8,\"#7fbc41\"],[0.9,\"#4d9221\"],[1,\"#276419\"]],\"sequential\":[[0.0,\"#0d0887\"],[0.1111111111111111,\"#46039f\"],[0.2222222222222222,\"#7201a8\"],[0.3333333333333333,\"#9c179e\"],[0.4444444444444444,\"#bd3786\"],[0.5555555555555556,\"#d8576b\"],[0.6666666666666666,\"#ed7953\"],[0.7777777777777778,\"#fb9f3a\"],[0.8888888888888888,\"#fdca26\"],[1.0,\"#f0f921\"]],\"sequentialminus\":[[0.0,\"#0d0887\"],[0.1111111111111111,\"#46039f\"],[0.2222222222222222,\"#7201a8\"],[0.3333333333333333,\"#9c179e\"],[0.4444444444444444,\"#bd3786\"],[0.5555555555555556,\"#d8576b\"],[0.6666666666666666,\"#ed7953\"],[0.7777777777777778,\"#fb9f3a\"],[0.8888888888888888,\"#fdca26\"],[1.0,\"#f0f921\"]]},\"colorway\":[\"#636efa\",\"#EF553B\",\"#00cc96\",\"#ab63fa\",\"#FFA15A\",\"#19d3f3\",\"#FF6692\",\"#B6E880\",\"#FF97FF\",\"#FECB52\"],\"font\":{\"color\":\"#2a3f5f\"},\"geo\":{\"bgcolor\":\"white\",\"lakecolor\":\"white\",\"landcolor\":\"#E5ECF6\",\"showlakes\":true,\"showland\":true,\"subunitcolor\":\"white\"},\"hoverlabel\":{\"align\":\"left\"},\"hovermode\":\"closest\",\"mapbox\":{\"style\":\"light\"},\"paper_bgcolor\":\"white\",\"plot_bgcolor\":\"#E5ECF6\",\"polar\":{\"angularaxis\":{\"gridcolor\":\"white\",\"linecolor\":\"white\",\"ticks\":\"\"},\"bgcolor\":\"#E5ECF6\",\"radialaxis\":{\"gridcolor\":\"white\",\"linecolor\":\"white\",\"ticks\":\"\"}},\"scene\":{\"xaxis\":{\"backgroundcolor\":\"#E5ECF6\",\"gridcolor\":\"white\",\"gridwidth\":2,\"linecolor\":\"white\",\"showbackground\":true,\"ticks\":\"\",\"zerolinecolor\":\"white\"},\"yaxis\":{\"backgroundcolor\":\"#E5ECF6\",\"gridcolor\":\"white\",\"gridwidth\":2,\"linecolor\":\"white\",\"showbackground\":true,\"ticks\":\"\",\"zerolinecolor\":\"white\"},\"zaxis\":{\"backgroundcolor\":\"#E5ECF6\",\"gridcolor\":\"white\",\"gridwidth\":2,\"linecolor\":\"white\",\"showbackground\":true,\"ticks\":\"\",\"zerolinecolor\":\"white\"}},\"shapedefaults\":{\"line\":{\"color\":\"#2a3f5f\"}},\"ternary\":{\"aaxis\":{\"gridcolor\":\"white\",\"linecolor\":\"white\",\"ticks\":\"\"},\"baxis\":{\"gridcolor\":\"white\",\"linecolor\":\"white\",\"ticks\":\"\"},\"bgcolor\":\"#E5ECF6\",\"caxis\":{\"gridcolor\":\"white\",\"linecolor\":\"white\",\"ticks\":\"\"}},\"title\":{\"x\":0.05},\"xaxis\":{\"automargin\":true,\"gridcolor\":\"white\",\"linecolor\":\"white\",\"ticks\":\"\",\"title\":{\"standoff\":15},\"zerolinecolor\":\"white\",\"zerolinewidth\":2},\"yaxis\":{\"automargin\":true,\"gridcolor\":\"white\",\"linecolor\":\"white\",\"ticks\":\"\",\"title\":{\"standoff\":15},\"zerolinecolor\":\"white\",\"zerolinewidth\":2}}},\"title\":{\"font\":{\"color\":\"#4D5663\"}},\"xaxis\":{\"gridcolor\":\"#E1E5ED\",\"showgrid\":true,\"tickfont\":{\"color\":\"#4D5663\"},\"title\":{\"font\":{\"color\":\"#4D5663\"},\"text\":\"\"},\"zerolinecolor\":\"#E1E5ED\"},\"yaxis\":{\"gridcolor\":\"#E1E5ED\",\"showgrid\":true,\"tickfont\":{\"color\":\"#4D5663\"},\"title\":{\"font\":{\"color\":\"#4D5663\"},\"text\":\"\"},\"zerolinecolor\":\"#E1E5ED\"}},                        {\"showLink\": true, \"linkText\": \"Export to plot.ly\", \"plotlyServerURL\": \"https://plot.ly\", \"responsive\": true}                    ).then(function(){\n",
       "                            \n",
       "var gd = document.getElementById('09ad8e1d-d336-4ee2-96d1-0abe897ed8d1');\n",
       "var x = new MutationObserver(function (mutations, observer) {{\n",
       "        var display = window.getComputedStyle(gd).display;\n",
       "        if (!display || display === 'none') {{\n",
       "            console.log([gd, 'removed!']);\n",
       "            Plotly.purge(gd);\n",
       "            observer.disconnect();\n",
       "        }}\n",
       "}});\n",
       "\n",
       "// Listen for the removal of the full notebook cells\n",
       "var notebookContainer = gd.closest('#notebook-container');\n",
       "if (notebookContainer) {{\n",
       "    x.observe(notebookContainer, {childList: true});\n",
       "}}\n",
       "\n",
       "// Listen for the clearing of the current output cell\n",
       "var outputEl = gd.closest('.output');\n",
       "if (outputEl) {{\n",
       "    x.observe(outputEl, {childList: true});\n",
       "}}\n",
       "\n",
       "                        })                };                });            </script>        </div>"
      ]
     },
     "metadata": {},
     "output_type": "display_data"
    }
   ],
   "source": [
    "df2.iplot(kind='bar',x='Category',y='Values')"
   ]
  },
  {
   "cell_type": "code",
   "execution_count": 10,
   "metadata": {},
   "outputs": [
    {
     "data": {
      "application/vnd.plotly.v1+json": {
       "config": {
        "linkText": "Export to plot.ly",
        "plotlyServerURL": "https://plot.ly",
        "showLink": true
       },
       "data": [
        {
         "marker": {
          "color": "rgba(255, 153, 51, 0.6)",
          "line": {
           "color": "rgba(255, 153, 51, 1.0)",
           "width": 1
          }
         },
         "name": "A",
         "orientation": "v",
         "text": "",
         "type": "bar",
         "x": [
          0,
          1,
          2,
          3,
          4,
          5,
          6,
          7,
          8,
          9,
          10,
          11,
          12,
          13,
          14,
          15,
          16,
          17,
          18,
          19,
          20,
          21,
          22,
          23,
          24,
          25,
          26,
          27,
          28,
          29,
          30,
          31,
          32,
          33,
          34,
          35,
          36,
          37,
          38,
          39,
          40,
          41,
          42,
          43,
          44,
          45,
          46,
          47,
          48,
          49,
          50,
          51,
          52,
          53,
          54,
          55,
          56,
          57,
          58,
          59,
          60,
          61,
          62,
          63,
          64,
          65,
          66,
          67,
          68,
          69,
          70,
          71,
          72,
          73,
          74,
          75,
          76,
          77,
          78,
          79,
          80,
          81,
          82,
          83,
          84,
          85,
          86,
          87,
          88,
          89,
          90,
          91,
          92,
          93,
          94,
          95,
          96,
          97,
          98,
          99
         ],
         "y": [
          0.35989448670498325,
          -0.4592246745596689,
          1.1469340676932693,
          0.011457522595807158,
          -1.325225593039427,
          0.6814113631472483,
          -0.6786363701384942,
          1.0437656967750097,
          -0.47746466288488,
          0.8125037672312054,
          -0.47404658256936544,
          1.2031540729757069,
          1.4635324716319182,
          0.06280967604194186,
          -1.3846713229533583,
          0.857625982236854,
          0.5068595009022173,
          0.5580764208978222,
          0.7283816078799463,
          1.6679793441485444,
          0.5494052825729143,
          2.179905991957352,
          0.6687883289057667,
          -0.3900788675173005,
          0.6003974566718818,
          -0.4550592069568799,
          0.024033182599412138,
          0.8838170831120449,
          -0.3815550521370984,
          -1.1351702026828523,
          1.8944649799641564,
          0.294708748187957,
          0.21978311050099436,
          -0.07065302380242854,
          -0.07252968052331976,
          1.1144820614967048,
          0.606171730343062,
          -0.8731464829889949,
          -0.9310256218748634,
          -1.1793341276575884,
          -1.257519736482706,
          -1.7425979839917272,
          -0.9445804193991463,
          -1.7502567337064294,
          -1.4243514037650187,
          -0.4090315100280699,
          0.18554365411004087,
          1.5207346391246686,
          -1.3323522975428201,
          -1.0763732961923527,
          0.935426096415537,
          0.786447031400014,
          0.3251381994168318,
          0.4245928479689998,
          0.6172282965203385,
          2.616286334548319,
          0.35013172747915905,
          0.23072155751839604,
          0.1078120918737563,
          -0.6767857327332797,
          1.486845300668094,
          -0.22754332442045902,
          -0.37629874464913476,
          0.7463145320495523,
          -0.19467705150091513,
          -1.4154453380765688,
          1.3399136119262056,
          -1.5777643034446764,
          -0.27774725451621385,
          0.20185972252411266,
          0.9349122376858232,
          -1.9228425692134634,
          1.0046670938839755,
          -0.6508739922195852,
          0.4269958744781549,
          0.7736665220816002,
          -0.1679201401431736,
          -1.3158405857178361,
          -0.8227589415389568,
          2.332130548823311,
          -0.26318021389783985,
          -1.4971248638820622,
          0.3152560911248023,
          -0.21665547778357377,
          -1.0023809876326206,
          1.0562004740071824,
          0.5338261162974342,
          1.084603932148778,
          0.2935647195292971,
          0.28628110241537885,
          -1.1494679572805997,
          -0.25532087031031897,
          -0.35075476425964247,
          0.9497286053864785,
          0.2807308118655686,
          -0.4251098238132698,
          -1.0621446257664477,
          0.41931528695406345,
          -1.433797178077299,
          -0.8059425488799932
         ]
        },
        {
         "marker": {
          "color": "rgba(55, 128, 191, 0.6)",
          "line": {
           "color": "rgba(55, 128, 191, 1.0)",
           "width": 1
          }
         },
         "name": "B",
         "orientation": "v",
         "text": "",
         "type": "bar",
         "x": [
          0,
          1,
          2,
          3,
          4,
          5,
          6,
          7,
          8,
          9,
          10,
          11,
          12,
          13,
          14,
          15,
          16,
          17,
          18,
          19,
          20,
          21,
          22,
          23,
          24,
          25,
          26,
          27,
          28,
          29,
          30,
          31,
          32,
          33,
          34,
          35,
          36,
          37,
          38,
          39,
          40,
          41,
          42,
          43,
          44,
          45,
          46,
          47,
          48,
          49,
          50,
          51,
          52,
          53,
          54,
          55,
          56,
          57,
          58,
          59,
          60,
          61,
          62,
          63,
          64,
          65,
          66,
          67,
          68,
          69,
          70,
          71,
          72,
          73,
          74,
          75,
          76,
          77,
          78,
          79,
          80,
          81,
          82,
          83,
          84,
          85,
          86,
          87,
          88,
          89,
          90,
          91,
          92,
          93,
          94,
          95,
          96,
          97,
          98,
          99
         ],
         "y": [
          -0.9217746063940998,
          -1.6822361723427532,
          -0.055572935761315195,
          -0.7350958966894335,
          -0.16312573884020234,
          0.26078513301011524,
          -1.6077194546656872,
          -0.16660545555158907,
          0.4702211267676788,
          -0.8160247909852378,
          0.07090561857130953,
          -0.512506611196169,
          0.7176328754936439,
          -0.5532917462243572,
          -0.8119234722216444,
          -1.1765423268753135,
          -1.12954248594935,
          -0.4149262245711078,
          -0.4253415826023585,
          0.8469921767949793,
          1.881699763566048,
          -0.25778150596466876,
          -0.13128008428078422,
          0.5004041084234315,
          -1.649491285150849,
          -0.5042162792070994,
          0.6218104662260018,
          -0.5987775790098924,
          1.4123907764913297,
          -1.5904079493683279,
          -0.17544539905896128,
          -0.26662817691141316,
          1.6537875958037962,
          0.47060178918033885,
          -1.0478398572685959,
          1.2458723160603526,
          0.3183776222101448,
          -0.34137069400463826,
          0.6268383693928805,
          -0.49492715859173325,
          1.7894001280490095,
          1.0923690990085906,
          -0.4426468257952904,
          -1.7570569105500355,
          -0.2975462515868482,
          -0.9903552540790408,
          -2.0298888359656786,
          0.20798858218719538,
          -0.19840303127725278,
          0.9591272839305035,
          -1.0280598843346984,
          -1.3992328031466221,
          0.1824738273519832,
          -0.6025895866492086,
          -0.9843279818631707,
          -1.8390232897687318,
          1.534352550556892,
          1.0097682622746742,
          -0.861460988903354,
          -1.1660932424398551,
          -0.3094667414878226,
          1.1390385211944523,
          0.7427373004453051,
          0.4325319033275298,
          -0.49157497264069144,
          -1.1332619048375008,
          1.1259775995666133,
          1.9633898033012296,
          -0.1707707527943106,
          -0.4707537511823286,
          0.293722238328297,
          -0.6637770134834158,
          0.1301936407996693,
          0.3317424608102532,
          -1.0087404003189793,
          1.5522849293264396,
          0.22765004510397707,
          0.5272387175192732,
          -1.2419532380663771,
          0.33703182748365773,
          -1.7943304931124409,
          1.9246712787355624,
          -0.23366511001055065,
          0.09530901830895594,
          -0.2594634402771084,
          -0.20051248855805656,
          0.5230413669385336,
          -0.5013104579418655,
          0.46862784928238493,
          -1.2320574972191813,
          1.2274744511742934,
          0.9056958647317631,
          0.6943233325625244,
          0.613944109383328,
          0.20386916943256914,
          -0.4326740892386687,
          -0.5777941644677652,
          1.2663919771320504,
          1.4677257199411882,
          -1.8332729500431604
         ]
        },
        {
         "marker": {
          "color": "rgba(50, 171, 96, 0.6)",
          "line": {
           "color": "rgba(50, 171, 96, 1.0)",
           "width": 1
          }
         },
         "name": "C",
         "orientation": "v",
         "text": "",
         "type": "bar",
         "x": [
          0,
          1,
          2,
          3,
          4,
          5,
          6,
          7,
          8,
          9,
          10,
          11,
          12,
          13,
          14,
          15,
          16,
          17,
          18,
          19,
          20,
          21,
          22,
          23,
          24,
          25,
          26,
          27,
          28,
          29,
          30,
          31,
          32,
          33,
          34,
          35,
          36,
          37,
          38,
          39,
          40,
          41,
          42,
          43,
          44,
          45,
          46,
          47,
          48,
          49,
          50,
          51,
          52,
          53,
          54,
          55,
          56,
          57,
          58,
          59,
          60,
          61,
          62,
          63,
          64,
          65,
          66,
          67,
          68,
          69,
          70,
          71,
          72,
          73,
          74,
          75,
          76,
          77,
          78,
          79,
          80,
          81,
          82,
          83,
          84,
          85,
          86,
          87,
          88,
          89,
          90,
          91,
          92,
          93,
          94,
          95,
          96,
          97,
          98,
          99
         ],
         "y": [
          0.8273152785715431,
          2.592082609608652,
          1.3446371871912153,
          0.8504550879324595,
          1.4411075649619918,
          0.5897397057175384,
          1.4823375219325754,
          0.493545341242126,
          0.2277940736874258,
          0.26800571588185357,
          -0.35721758206893844,
          -0.5240919506759124,
          -0.998536527564416,
          -0.25250677074350025,
          0.34751354653457334,
          0.7319758834630521,
          0.8515431046657899,
          -0.5151755682976872,
          1.1034991243247498,
          -0.2514271267200668,
          0.11530430980968087,
          0.42783703065710466,
          -0.46493111644446494,
          -0.3697897261937152,
          0.5756817113457978,
          0.5590010846145865,
          0.7723509688301612,
          -0.3848689347948521,
          -0.03960165885586036,
          0.044185855710254546,
          -0.5140996425468439,
          0.13193354043914313,
          0.9187833900981137,
          1.484115372604817,
          0.18697754963781588,
          1.9497496515191346,
          -0.025593087049639886,
          0.19876252469269806,
          0.40681310501725126,
          1.5754598787831944,
          0.5434325141033527,
          -1.1639700750272357,
          -2.027499814689522,
          0.3774390179879476,
          0.07839364114765025,
          0.2099088012296653,
          -1.0098193100645472,
          -2.1968598817674136,
          -2.085850838972527,
          0.22237535775602632,
          1.410759157113143,
          0.7575898202084071,
          -0.379137771012906,
          0.05344419077288705,
          -0.39949566994663593,
          0.15032321148972558,
          -0.13006768244103997,
          -0.1104800512865253,
          0.14024177840245208,
          -0.11546794485658657,
          1.1370169489407962,
          1.6418440274751496,
          1.029633502483267,
          2.064768104260361,
          -1.4246738743908782,
          -1.1906028269960245,
          1.1195470807731074,
          0.24714600279234417,
          0.41050677418878273,
          -0.3044927976891417,
          -2.054946754679443,
          -0.7307213097989068,
          -0.8708435579846577,
          -1.1405779109930412,
          -1.3375884485723633,
          -0.8553922504340327,
          0.811982322687059,
          0.6504087801710815,
          0.22215904010631066,
          -1.4420307525037719,
          0.7506310074727195,
          1.3566616786070929,
          0.7461563731341896,
          -0.07648236873264547,
          0.022522698063428805,
          0.6937233126166052,
          -0.32415267449581314,
          0.1577868414126188,
          1.094604977544399,
          -0.7470298922393848,
          0.558516436318415,
          0.7339447070301272,
          0.32600844025502,
          0.7143208325728774,
          1.1930579479539156,
          -0.16489897476312007,
          -0.5023550910613268,
          0.8485020620346165,
          0.6152295906262166,
          -1.7710607238056244
         ]
        },
        {
         "marker": {
          "color": "rgba(128, 0, 128, 0.6)",
          "line": {
           "color": "rgba(128, 0, 128, 1.0)",
           "width": 1
          }
         },
         "name": "D",
         "orientation": "v",
         "text": "",
         "type": "bar",
         "x": [
          0,
          1,
          2,
          3,
          4,
          5,
          6,
          7,
          8,
          9,
          10,
          11,
          12,
          13,
          14,
          15,
          16,
          17,
          18,
          19,
          20,
          21,
          22,
          23,
          24,
          25,
          26,
          27,
          28,
          29,
          30,
          31,
          32,
          33,
          34,
          35,
          36,
          37,
          38,
          39,
          40,
          41,
          42,
          43,
          44,
          45,
          46,
          47,
          48,
          49,
          50,
          51,
          52,
          53,
          54,
          55,
          56,
          57,
          58,
          59,
          60,
          61,
          62,
          63,
          64,
          65,
          66,
          67,
          68,
          69,
          70,
          71,
          72,
          73,
          74,
          75,
          76,
          77,
          78,
          79,
          80,
          81,
          82,
          83,
          84,
          85,
          86,
          87,
          88,
          89,
          90,
          91,
          92,
          93,
          94,
          95,
          96,
          97,
          98,
          99
         ],
         "y": [
          0.1639515482012815,
          1.8912813739797474,
          0.130753561918199,
          -2.462473908106972,
          -0.6603998166821248,
          1.9977377081442942,
          -1.0129093630599486,
          0.7921290056316523,
          -0.5664348156991554,
          -0.7249453745242685,
          -1.316613740020055,
          -0.6912569883984678,
          -1.240988387334244,
          -0.5210705358852363,
          0.09427243247393506,
          0.23596339084549361,
          0.39613978935162286,
          -0.5036875231146357,
          -1.4879042015174808,
          2.008266172048622,
          -0.9267001478713117,
          0.8886469782275257,
          -0.013999911406236168,
          0.18162473087366604,
          -0.05355539919631981,
          0.8512041291095764,
          1.4188904241052764,
          2.0261909174276163,
          -0.7659204731984209,
          -1.0137288460711575,
          -0.11314826507733342,
          -0.006556842213361446,
          -1.4145634914480307,
          -0.04656715573464401,
          0.11464370009805469,
          1.077154835460711,
          -0.6558996673933815,
          1.6004297267147591,
          1.1560180690378152,
          -1.1020980479547866,
          -0.29695874751007373,
          -2.3171441457140984,
          -0.6845246028821502,
          0.44585404969474557,
          0.023595686585148427,
          0.8643865790452707,
          0.6314911651454947,
          1.2575699668623646,
          0.04729427854654969,
          0.5259727805936953,
          0.619317035851485,
          -0.1106898572460105,
          -1.1664952254834136,
          0.21837344055509192,
          1.7268542929393982,
          1.1910080253594584,
          -0.03371678760423379,
          0.7484607684771561,
          1.7097535689505192,
          1.6719306216288725,
          0.17375769926297524,
          0.37715327609221455,
          -0.5887231780567602,
          -0.09935263687710601,
          0.27712225162381837,
          -0.8609743885728103,
          0.4279101952965506,
          0.3007884188375812,
          0.34063671029127696,
          0.10538779020884839,
          -0.30028901730662577,
          1.0019587248375998,
          0.1832065798821189,
          -1.4554640798274099,
          2.9912213268678367,
          1.6829095016685827,
          -0.6230371284787307,
          0.7837134148587172,
          -0.0842101697097363,
          0.7455313961820127,
          -1.612400798498298,
          -0.3221942083634528,
          -1.2099618162593822,
          -0.35263267466788234,
          0.6164369788445613,
          -0.13032311478530598,
          -1.8835020613120474,
          1.157435009222289,
          0.9121473121955195,
          1.2473321030756332,
          -0.7666362855181403,
          0.7432402678061955,
          0.344599844220491,
          0.6452809496473196,
          0.831922075508615,
          -0.6315196967878742,
          0.21774047700345495,
          -0.04705120336250258,
          -0.2739043016194293,
          0.3032166418279464
         ]
        }
       ],
       "layout": {
        "legend": {
         "bgcolor": "#F5F6F9",
         "font": {
          "color": "#4D5663"
         }
        },
        "paper_bgcolor": "#F5F6F9",
        "plot_bgcolor": "#F5F6F9",
        "template": {
         "data": {
          "bar": [
           {
            "error_x": {
             "color": "#2a3f5f"
            },
            "error_y": {
             "color": "#2a3f5f"
            },
            "marker": {
             "line": {
              "color": "#E5ECF6",
              "width": 0.5
             },
             "pattern": {
              "fillmode": "overlay",
              "size": 10,
              "solidity": 0.2
             }
            },
            "type": "bar"
           }
          ],
          "barpolar": [
           {
            "marker": {
             "line": {
              "color": "#E5ECF6",
              "width": 0.5
             },
             "pattern": {
              "fillmode": "overlay",
              "size": 10,
              "solidity": 0.2
             }
            },
            "type": "barpolar"
           }
          ],
          "carpet": [
           {
            "aaxis": {
             "endlinecolor": "#2a3f5f",
             "gridcolor": "white",
             "linecolor": "white",
             "minorgridcolor": "white",
             "startlinecolor": "#2a3f5f"
            },
            "baxis": {
             "endlinecolor": "#2a3f5f",
             "gridcolor": "white",
             "linecolor": "white",
             "minorgridcolor": "white",
             "startlinecolor": "#2a3f5f"
            },
            "type": "carpet"
           }
          ],
          "choropleth": [
           {
            "colorbar": {
             "outlinewidth": 0,
             "ticks": ""
            },
            "type": "choropleth"
           }
          ],
          "contour": [
           {
            "colorbar": {
             "outlinewidth": 0,
             "ticks": ""
            },
            "colorscale": [
             [
              0,
              "#0d0887"
             ],
             [
              0.1111111111111111,
              "#46039f"
             ],
             [
              0.2222222222222222,
              "#7201a8"
             ],
             [
              0.3333333333333333,
              "#9c179e"
             ],
             [
              0.4444444444444444,
              "#bd3786"
             ],
             [
              0.5555555555555556,
              "#d8576b"
             ],
             [
              0.6666666666666666,
              "#ed7953"
             ],
             [
              0.7777777777777778,
              "#fb9f3a"
             ],
             [
              0.8888888888888888,
              "#fdca26"
             ],
             [
              1,
              "#f0f921"
             ]
            ],
            "type": "contour"
           }
          ],
          "contourcarpet": [
           {
            "colorbar": {
             "outlinewidth": 0,
             "ticks": ""
            },
            "type": "contourcarpet"
           }
          ],
          "heatmap": [
           {
            "colorbar": {
             "outlinewidth": 0,
             "ticks": ""
            },
            "colorscale": [
             [
              0,
              "#0d0887"
             ],
             [
              0.1111111111111111,
              "#46039f"
             ],
             [
              0.2222222222222222,
              "#7201a8"
             ],
             [
              0.3333333333333333,
              "#9c179e"
             ],
             [
              0.4444444444444444,
              "#bd3786"
             ],
             [
              0.5555555555555556,
              "#d8576b"
             ],
             [
              0.6666666666666666,
              "#ed7953"
             ],
             [
              0.7777777777777778,
              "#fb9f3a"
             ],
             [
              0.8888888888888888,
              "#fdca26"
             ],
             [
              1,
              "#f0f921"
             ]
            ],
            "type": "heatmap"
           }
          ],
          "heatmapgl": [
           {
            "colorbar": {
             "outlinewidth": 0,
             "ticks": ""
            },
            "colorscale": [
             [
              0,
              "#0d0887"
             ],
             [
              0.1111111111111111,
              "#46039f"
             ],
             [
              0.2222222222222222,
              "#7201a8"
             ],
             [
              0.3333333333333333,
              "#9c179e"
             ],
             [
              0.4444444444444444,
              "#bd3786"
             ],
             [
              0.5555555555555556,
              "#d8576b"
             ],
             [
              0.6666666666666666,
              "#ed7953"
             ],
             [
              0.7777777777777778,
              "#fb9f3a"
             ],
             [
              0.8888888888888888,
              "#fdca26"
             ],
             [
              1,
              "#f0f921"
             ]
            ],
            "type": "heatmapgl"
           }
          ],
          "histogram": [
           {
            "marker": {
             "pattern": {
              "fillmode": "overlay",
              "size": 10,
              "solidity": 0.2
             }
            },
            "type": "histogram"
           }
          ],
          "histogram2d": [
           {
            "colorbar": {
             "outlinewidth": 0,
             "ticks": ""
            },
            "colorscale": [
             [
              0,
              "#0d0887"
             ],
             [
              0.1111111111111111,
              "#46039f"
             ],
             [
              0.2222222222222222,
              "#7201a8"
             ],
             [
              0.3333333333333333,
              "#9c179e"
             ],
             [
              0.4444444444444444,
              "#bd3786"
             ],
             [
              0.5555555555555556,
              "#d8576b"
             ],
             [
              0.6666666666666666,
              "#ed7953"
             ],
             [
              0.7777777777777778,
              "#fb9f3a"
             ],
             [
              0.8888888888888888,
              "#fdca26"
             ],
             [
              1,
              "#f0f921"
             ]
            ],
            "type": "histogram2d"
           }
          ],
          "histogram2dcontour": [
           {
            "colorbar": {
             "outlinewidth": 0,
             "ticks": ""
            },
            "colorscale": [
             [
              0,
              "#0d0887"
             ],
             [
              0.1111111111111111,
              "#46039f"
             ],
             [
              0.2222222222222222,
              "#7201a8"
             ],
             [
              0.3333333333333333,
              "#9c179e"
             ],
             [
              0.4444444444444444,
              "#bd3786"
             ],
             [
              0.5555555555555556,
              "#d8576b"
             ],
             [
              0.6666666666666666,
              "#ed7953"
             ],
             [
              0.7777777777777778,
              "#fb9f3a"
             ],
             [
              0.8888888888888888,
              "#fdca26"
             ],
             [
              1,
              "#f0f921"
             ]
            ],
            "type": "histogram2dcontour"
           }
          ],
          "mesh3d": [
           {
            "colorbar": {
             "outlinewidth": 0,
             "ticks": ""
            },
            "type": "mesh3d"
           }
          ],
          "parcoords": [
           {
            "line": {
             "colorbar": {
              "outlinewidth": 0,
              "ticks": ""
             }
            },
            "type": "parcoords"
           }
          ],
          "pie": [
           {
            "automargin": true,
            "type": "pie"
           }
          ],
          "scatter": [
           {
            "marker": {
             "colorbar": {
              "outlinewidth": 0,
              "ticks": ""
             }
            },
            "type": "scatter"
           }
          ],
          "scatter3d": [
           {
            "line": {
             "colorbar": {
              "outlinewidth": 0,
              "ticks": ""
             }
            },
            "marker": {
             "colorbar": {
              "outlinewidth": 0,
              "ticks": ""
             }
            },
            "type": "scatter3d"
           }
          ],
          "scattercarpet": [
           {
            "marker": {
             "colorbar": {
              "outlinewidth": 0,
              "ticks": ""
             }
            },
            "type": "scattercarpet"
           }
          ],
          "scattergeo": [
           {
            "marker": {
             "colorbar": {
              "outlinewidth": 0,
              "ticks": ""
             }
            },
            "type": "scattergeo"
           }
          ],
          "scattergl": [
           {
            "marker": {
             "colorbar": {
              "outlinewidth": 0,
              "ticks": ""
             }
            },
            "type": "scattergl"
           }
          ],
          "scattermapbox": [
           {
            "marker": {
             "colorbar": {
              "outlinewidth": 0,
              "ticks": ""
             }
            },
            "type": "scattermapbox"
           }
          ],
          "scatterpolar": [
           {
            "marker": {
             "colorbar": {
              "outlinewidth": 0,
              "ticks": ""
             }
            },
            "type": "scatterpolar"
           }
          ],
          "scatterpolargl": [
           {
            "marker": {
             "colorbar": {
              "outlinewidth": 0,
              "ticks": ""
             }
            },
            "type": "scatterpolargl"
           }
          ],
          "scatterternary": [
           {
            "marker": {
             "colorbar": {
              "outlinewidth": 0,
              "ticks": ""
             }
            },
            "type": "scatterternary"
           }
          ],
          "surface": [
           {
            "colorbar": {
             "outlinewidth": 0,
             "ticks": ""
            },
            "colorscale": [
             [
              0,
              "#0d0887"
             ],
             [
              0.1111111111111111,
              "#46039f"
             ],
             [
              0.2222222222222222,
              "#7201a8"
             ],
             [
              0.3333333333333333,
              "#9c179e"
             ],
             [
              0.4444444444444444,
              "#bd3786"
             ],
             [
              0.5555555555555556,
              "#d8576b"
             ],
             [
              0.6666666666666666,
              "#ed7953"
             ],
             [
              0.7777777777777778,
              "#fb9f3a"
             ],
             [
              0.8888888888888888,
              "#fdca26"
             ],
             [
              1,
              "#f0f921"
             ]
            ],
            "type": "surface"
           }
          ],
          "table": [
           {
            "cells": {
             "fill": {
              "color": "#EBF0F8"
             },
             "line": {
              "color": "white"
             }
            },
            "header": {
             "fill": {
              "color": "#C8D4E3"
             },
             "line": {
              "color": "white"
             }
            },
            "type": "table"
           }
          ]
         },
         "layout": {
          "annotationdefaults": {
           "arrowcolor": "#2a3f5f",
           "arrowhead": 0,
           "arrowwidth": 1
          },
          "autotypenumbers": "strict",
          "coloraxis": {
           "colorbar": {
            "outlinewidth": 0,
            "ticks": ""
           }
          },
          "colorscale": {
           "diverging": [
            [
             0,
             "#8e0152"
            ],
            [
             0.1,
             "#c51b7d"
            ],
            [
             0.2,
             "#de77ae"
            ],
            [
             0.3,
             "#f1b6da"
            ],
            [
             0.4,
             "#fde0ef"
            ],
            [
             0.5,
             "#f7f7f7"
            ],
            [
             0.6,
             "#e6f5d0"
            ],
            [
             0.7,
             "#b8e186"
            ],
            [
             0.8,
             "#7fbc41"
            ],
            [
             0.9,
             "#4d9221"
            ],
            [
             1,
             "#276419"
            ]
           ],
           "sequential": [
            [
             0,
             "#0d0887"
            ],
            [
             0.1111111111111111,
             "#46039f"
            ],
            [
             0.2222222222222222,
             "#7201a8"
            ],
            [
             0.3333333333333333,
             "#9c179e"
            ],
            [
             0.4444444444444444,
             "#bd3786"
            ],
            [
             0.5555555555555556,
             "#d8576b"
            ],
            [
             0.6666666666666666,
             "#ed7953"
            ],
            [
             0.7777777777777778,
             "#fb9f3a"
            ],
            [
             0.8888888888888888,
             "#fdca26"
            ],
            [
             1,
             "#f0f921"
            ]
           ],
           "sequentialminus": [
            [
             0,
             "#0d0887"
            ],
            [
             0.1111111111111111,
             "#46039f"
            ],
            [
             0.2222222222222222,
             "#7201a8"
            ],
            [
             0.3333333333333333,
             "#9c179e"
            ],
            [
             0.4444444444444444,
             "#bd3786"
            ],
            [
             0.5555555555555556,
             "#d8576b"
            ],
            [
             0.6666666666666666,
             "#ed7953"
            ],
            [
             0.7777777777777778,
             "#fb9f3a"
            ],
            [
             0.8888888888888888,
             "#fdca26"
            ],
            [
             1,
             "#f0f921"
            ]
           ]
          },
          "colorway": [
           "#636efa",
           "#EF553B",
           "#00cc96",
           "#ab63fa",
           "#FFA15A",
           "#19d3f3",
           "#FF6692",
           "#B6E880",
           "#FF97FF",
           "#FECB52"
          ],
          "font": {
           "color": "#2a3f5f"
          },
          "geo": {
           "bgcolor": "white",
           "lakecolor": "white",
           "landcolor": "#E5ECF6",
           "showlakes": true,
           "showland": true,
           "subunitcolor": "white"
          },
          "hoverlabel": {
           "align": "left"
          },
          "hovermode": "closest",
          "mapbox": {
           "style": "light"
          },
          "paper_bgcolor": "white",
          "plot_bgcolor": "#E5ECF6",
          "polar": {
           "angularaxis": {
            "gridcolor": "white",
            "linecolor": "white",
            "ticks": ""
           },
           "bgcolor": "#E5ECF6",
           "radialaxis": {
            "gridcolor": "white",
            "linecolor": "white",
            "ticks": ""
           }
          },
          "scene": {
           "xaxis": {
            "backgroundcolor": "#E5ECF6",
            "gridcolor": "white",
            "gridwidth": 2,
            "linecolor": "white",
            "showbackground": true,
            "ticks": "",
            "zerolinecolor": "white"
           },
           "yaxis": {
            "backgroundcolor": "#E5ECF6",
            "gridcolor": "white",
            "gridwidth": 2,
            "linecolor": "white",
            "showbackground": true,
            "ticks": "",
            "zerolinecolor": "white"
           },
           "zaxis": {
            "backgroundcolor": "#E5ECF6",
            "gridcolor": "white",
            "gridwidth": 2,
            "linecolor": "white",
            "showbackground": true,
            "ticks": "",
            "zerolinecolor": "white"
           }
          },
          "shapedefaults": {
           "line": {
            "color": "#2a3f5f"
           }
          },
          "ternary": {
           "aaxis": {
            "gridcolor": "white",
            "linecolor": "white",
            "ticks": ""
           },
           "baxis": {
            "gridcolor": "white",
            "linecolor": "white",
            "ticks": ""
           },
           "bgcolor": "#E5ECF6",
           "caxis": {
            "gridcolor": "white",
            "linecolor": "white",
            "ticks": ""
           }
          },
          "title": {
           "x": 0.05
          },
          "xaxis": {
           "automargin": true,
           "gridcolor": "white",
           "linecolor": "white",
           "ticks": "",
           "title": {
            "standoff": 15
           },
           "zerolinecolor": "white",
           "zerolinewidth": 2
          },
          "yaxis": {
           "automargin": true,
           "gridcolor": "white",
           "linecolor": "white",
           "ticks": "",
           "title": {
            "standoff": 15
           },
           "zerolinecolor": "white",
           "zerolinewidth": 2
          }
         }
        },
        "title": {
         "font": {
          "color": "#4D5663"
         }
        },
        "xaxis": {
         "gridcolor": "#E1E5ED",
         "showgrid": true,
         "tickfont": {
          "color": "#4D5663"
         },
         "title": {
          "font": {
           "color": "#4D5663"
          },
          "text": ""
         },
         "zerolinecolor": "#E1E5ED"
        },
        "yaxis": {
         "gridcolor": "#E1E5ED",
         "showgrid": true,
         "tickfont": {
          "color": "#4D5663"
         },
         "title": {
          "font": {
           "color": "#4D5663"
          },
          "text": ""
         },
         "zerolinecolor": "#E1E5ED"
        }
       }
      },
      "text/html": [
       "<div>                            <div id=\"efde74c7-a7b1-42e7-9aca-5571937780a7\" class=\"plotly-graph-div\" style=\"height:525px; width:100%;\"></div>            <script type=\"text/javascript\">                require([\"plotly\"], function(Plotly) {                    window.PLOTLYENV=window.PLOTLYENV || {};\n",
       "                    window.PLOTLYENV.BASE_URL='https://plot.ly';                                    if (document.getElementById(\"efde74c7-a7b1-42e7-9aca-5571937780a7\")) {                    Plotly.newPlot(                        \"efde74c7-a7b1-42e7-9aca-5571937780a7\",                        [{\"marker\":{\"color\":\"rgba(255, 153, 51, 0.6)\",\"line\":{\"color\":\"rgba(255, 153, 51, 1.0)\",\"width\":1}},\"name\":\"A\",\"orientation\":\"v\",\"text\":\"\",\"x\":[0,1,2,3,4,5,6,7,8,9,10,11,12,13,14,15,16,17,18,19,20,21,22,23,24,25,26,27,28,29,30,31,32,33,34,35,36,37,38,39,40,41,42,43,44,45,46,47,48,49,50,51,52,53,54,55,56,57,58,59,60,61,62,63,64,65,66,67,68,69,70,71,72,73,74,75,76,77,78,79,80,81,82,83,84,85,86,87,88,89,90,91,92,93,94,95,96,97,98,99],\"y\":[0.35989448670498325,-0.4592246745596689,1.1469340676932693,0.011457522595807158,-1.325225593039427,0.6814113631472483,-0.6786363701384942,1.0437656967750097,-0.47746466288488,0.8125037672312054,-0.47404658256936544,1.2031540729757069,1.4635324716319182,0.06280967604194186,-1.3846713229533583,0.857625982236854,0.5068595009022173,0.5580764208978222,0.7283816078799463,1.6679793441485444,0.5494052825729143,2.179905991957352,0.6687883289057667,-0.3900788675173005,0.6003974566718818,-0.4550592069568799,0.024033182599412138,0.8838170831120449,-0.3815550521370984,-1.1351702026828523,1.8944649799641564,0.294708748187957,0.21978311050099436,-0.07065302380242854,-0.07252968052331976,1.1144820614967048,0.606171730343062,-0.8731464829889949,-0.9310256218748634,-1.1793341276575884,-1.257519736482706,-1.7425979839917272,-0.9445804193991463,-1.7502567337064294,-1.4243514037650187,-0.4090315100280699,0.18554365411004087,1.5207346391246686,-1.3323522975428201,-1.0763732961923527,0.935426096415537,0.786447031400014,0.3251381994168318,0.4245928479689998,0.6172282965203385,2.616286334548319,0.35013172747915905,0.23072155751839604,0.1078120918737563,-0.6767857327332797,1.486845300668094,-0.22754332442045902,-0.37629874464913476,0.7463145320495523,-0.19467705150091513,-1.4154453380765688,1.3399136119262056,-1.5777643034446764,-0.27774725451621385,0.20185972252411266,0.9349122376858232,-1.9228425692134634,1.0046670938839755,-0.6508739922195852,0.4269958744781549,0.7736665220816002,-0.1679201401431736,-1.3158405857178361,-0.8227589415389568,2.332130548823311,-0.26318021389783985,-1.4971248638820622,0.3152560911248023,-0.21665547778357377,-1.0023809876326206,1.0562004740071824,0.5338261162974342,1.084603932148778,0.2935647195292971,0.28628110241537885,-1.1494679572805997,-0.25532087031031897,-0.35075476425964247,0.9497286053864785,0.2807308118655686,-0.4251098238132698,-1.0621446257664477,0.41931528695406345,-1.433797178077299,-0.8059425488799932],\"type\":\"bar\"},{\"marker\":{\"color\":\"rgba(55, 128, 191, 0.6)\",\"line\":{\"color\":\"rgba(55, 128, 191, 1.0)\",\"width\":1}},\"name\":\"B\",\"orientation\":\"v\",\"text\":\"\",\"x\":[0,1,2,3,4,5,6,7,8,9,10,11,12,13,14,15,16,17,18,19,20,21,22,23,24,25,26,27,28,29,30,31,32,33,34,35,36,37,38,39,40,41,42,43,44,45,46,47,48,49,50,51,52,53,54,55,56,57,58,59,60,61,62,63,64,65,66,67,68,69,70,71,72,73,74,75,76,77,78,79,80,81,82,83,84,85,86,87,88,89,90,91,92,93,94,95,96,97,98,99],\"y\":[-0.9217746063940998,-1.6822361723427532,-0.055572935761315195,-0.7350958966894335,-0.16312573884020234,0.26078513301011524,-1.6077194546656872,-0.16660545555158907,0.4702211267676788,-0.8160247909852378,0.07090561857130953,-0.512506611196169,0.7176328754936439,-0.5532917462243572,-0.8119234722216444,-1.1765423268753135,-1.12954248594935,-0.4149262245711078,-0.4253415826023585,0.8469921767949793,1.881699763566048,-0.25778150596466876,-0.13128008428078422,0.5004041084234315,-1.649491285150849,-0.5042162792070994,0.6218104662260018,-0.5987775790098924,1.4123907764913297,-1.5904079493683279,-0.17544539905896128,-0.26662817691141316,1.6537875958037962,0.47060178918033885,-1.0478398572685959,1.2458723160603526,0.3183776222101448,-0.34137069400463826,0.6268383693928805,-0.49492715859173325,1.7894001280490095,1.0923690990085906,-0.4426468257952904,-1.7570569105500355,-0.2975462515868482,-0.9903552540790408,-2.0298888359656786,0.20798858218719538,-0.19840303127725278,0.9591272839305035,-1.0280598843346984,-1.3992328031466221,0.1824738273519832,-0.6025895866492086,-0.9843279818631707,-1.8390232897687318,1.534352550556892,1.0097682622746742,-0.861460988903354,-1.1660932424398551,-0.3094667414878226,1.1390385211944523,0.7427373004453051,0.4325319033275298,-0.49157497264069144,-1.1332619048375008,1.1259775995666133,1.9633898033012296,-0.1707707527943106,-0.4707537511823286,0.293722238328297,-0.6637770134834158,0.1301936407996693,0.3317424608102532,-1.0087404003189793,1.5522849293264396,0.22765004510397707,0.5272387175192732,-1.2419532380663771,0.33703182748365773,-1.7943304931124409,1.9246712787355624,-0.23366511001055065,0.09530901830895594,-0.2594634402771084,-0.20051248855805656,0.5230413669385336,-0.5013104579418655,0.46862784928238493,-1.2320574972191813,1.2274744511742934,0.9056958647317631,0.6943233325625244,0.613944109383328,0.20386916943256914,-0.4326740892386687,-0.5777941644677652,1.2663919771320504,1.4677257199411882,-1.8332729500431604],\"type\":\"bar\"},{\"marker\":{\"color\":\"rgba(50, 171, 96, 0.6)\",\"line\":{\"color\":\"rgba(50, 171, 96, 1.0)\",\"width\":1}},\"name\":\"C\",\"orientation\":\"v\",\"text\":\"\",\"x\":[0,1,2,3,4,5,6,7,8,9,10,11,12,13,14,15,16,17,18,19,20,21,22,23,24,25,26,27,28,29,30,31,32,33,34,35,36,37,38,39,40,41,42,43,44,45,46,47,48,49,50,51,52,53,54,55,56,57,58,59,60,61,62,63,64,65,66,67,68,69,70,71,72,73,74,75,76,77,78,79,80,81,82,83,84,85,86,87,88,89,90,91,92,93,94,95,96,97,98,99],\"y\":[0.8273152785715431,2.592082609608652,1.3446371871912153,0.8504550879324595,1.4411075649619918,0.5897397057175384,1.4823375219325754,0.493545341242126,0.2277940736874258,0.26800571588185357,-0.35721758206893844,-0.5240919506759124,-0.998536527564416,-0.25250677074350025,0.34751354653457334,0.7319758834630521,0.8515431046657899,-0.5151755682976872,1.1034991243247498,-0.2514271267200668,0.11530430980968087,0.42783703065710466,-0.46493111644446494,-0.3697897261937152,0.5756817113457978,0.5590010846145865,0.7723509688301612,-0.3848689347948521,-0.03960165885586036,0.044185855710254546,-0.5140996425468439,0.13193354043914313,0.9187833900981137,1.484115372604817,0.18697754963781588,1.9497496515191346,-0.025593087049639886,0.19876252469269806,0.40681310501725126,1.5754598787831944,0.5434325141033527,-1.1639700750272357,-2.027499814689522,0.3774390179879476,0.07839364114765025,0.2099088012296653,-1.0098193100645472,-2.1968598817674136,-2.085850838972527,0.22237535775602632,1.410759157113143,0.7575898202084071,-0.379137771012906,0.05344419077288705,-0.39949566994663593,0.15032321148972558,-0.13006768244103997,-0.1104800512865253,0.14024177840245208,-0.11546794485658657,1.1370169489407962,1.6418440274751496,1.029633502483267,2.064768104260361,-1.4246738743908782,-1.1906028269960245,1.1195470807731074,0.24714600279234417,0.41050677418878273,-0.3044927976891417,-2.054946754679443,-0.7307213097989068,-0.8708435579846577,-1.1405779109930412,-1.3375884485723633,-0.8553922504340327,0.811982322687059,0.6504087801710815,0.22215904010631066,-1.4420307525037719,0.7506310074727195,1.3566616786070929,0.7461563731341896,-0.07648236873264547,0.022522698063428805,0.6937233126166052,-0.32415267449581314,0.1577868414126188,1.094604977544399,-0.7470298922393848,0.558516436318415,0.7339447070301272,0.32600844025502,0.7143208325728774,1.1930579479539156,-0.16489897476312007,-0.5023550910613268,0.8485020620346165,0.6152295906262166,-1.7710607238056244],\"type\":\"bar\"},{\"marker\":{\"color\":\"rgba(128, 0, 128, 0.6)\",\"line\":{\"color\":\"rgba(128, 0, 128, 1.0)\",\"width\":1}},\"name\":\"D\",\"orientation\":\"v\",\"text\":\"\",\"x\":[0,1,2,3,4,5,6,7,8,9,10,11,12,13,14,15,16,17,18,19,20,21,22,23,24,25,26,27,28,29,30,31,32,33,34,35,36,37,38,39,40,41,42,43,44,45,46,47,48,49,50,51,52,53,54,55,56,57,58,59,60,61,62,63,64,65,66,67,68,69,70,71,72,73,74,75,76,77,78,79,80,81,82,83,84,85,86,87,88,89,90,91,92,93,94,95,96,97,98,99],\"y\":[0.1639515482012815,1.8912813739797474,0.130753561918199,-2.462473908106972,-0.6603998166821248,1.9977377081442942,-1.0129093630599486,0.7921290056316523,-0.5664348156991554,-0.7249453745242685,-1.316613740020055,-0.6912569883984678,-1.240988387334244,-0.5210705358852363,0.09427243247393506,0.23596339084549361,0.39613978935162286,-0.5036875231146357,-1.4879042015174808,2.008266172048622,-0.9267001478713117,0.8886469782275257,-0.013999911406236168,0.18162473087366604,-0.05355539919631981,0.8512041291095764,1.4188904241052764,2.0261909174276163,-0.7659204731984209,-1.0137288460711575,-0.11314826507733342,-0.006556842213361446,-1.4145634914480307,-0.04656715573464401,0.11464370009805469,1.077154835460711,-0.6558996673933815,1.6004297267147591,1.1560180690378152,-1.1020980479547866,-0.29695874751007373,-2.3171441457140984,-0.6845246028821502,0.44585404969474557,0.023595686585148427,0.8643865790452707,0.6314911651454947,1.2575699668623646,0.04729427854654969,0.5259727805936953,0.619317035851485,-0.1106898572460105,-1.1664952254834136,0.21837344055509192,1.7268542929393982,1.1910080253594584,-0.03371678760423379,0.7484607684771561,1.7097535689505192,1.6719306216288725,0.17375769926297524,0.37715327609221455,-0.5887231780567602,-0.09935263687710601,0.27712225162381837,-0.8609743885728103,0.4279101952965506,0.3007884188375812,0.34063671029127696,0.10538779020884839,-0.30028901730662577,1.0019587248375998,0.1832065798821189,-1.4554640798274099,2.9912213268678367,1.6829095016685827,-0.6230371284787307,0.7837134148587172,-0.0842101697097363,0.7455313961820127,-1.612400798498298,-0.3221942083634528,-1.2099618162593822,-0.35263267466788234,0.6164369788445613,-0.13032311478530598,-1.8835020613120474,1.157435009222289,0.9121473121955195,1.2473321030756332,-0.7666362855181403,0.7432402678061955,0.344599844220491,0.6452809496473196,0.831922075508615,-0.6315196967878742,0.21774047700345495,-0.04705120336250258,-0.2739043016194293,0.3032166418279464],\"type\":\"bar\"}],                        {\"legend\":{\"bgcolor\":\"#F5F6F9\",\"font\":{\"color\":\"#4D5663\"}},\"paper_bgcolor\":\"#F5F6F9\",\"plot_bgcolor\":\"#F5F6F9\",\"template\":{\"data\":{\"barpolar\":[{\"marker\":{\"line\":{\"color\":\"#E5ECF6\",\"width\":0.5},\"pattern\":{\"fillmode\":\"overlay\",\"size\":10,\"solidity\":0.2}},\"type\":\"barpolar\"}],\"bar\":[{\"error_x\":{\"color\":\"#2a3f5f\"},\"error_y\":{\"color\":\"#2a3f5f\"},\"marker\":{\"line\":{\"color\":\"#E5ECF6\",\"width\":0.5},\"pattern\":{\"fillmode\":\"overlay\",\"size\":10,\"solidity\":0.2}},\"type\":\"bar\"}],\"carpet\":[{\"aaxis\":{\"endlinecolor\":\"#2a3f5f\",\"gridcolor\":\"white\",\"linecolor\":\"white\",\"minorgridcolor\":\"white\",\"startlinecolor\":\"#2a3f5f\"},\"baxis\":{\"endlinecolor\":\"#2a3f5f\",\"gridcolor\":\"white\",\"linecolor\":\"white\",\"minorgridcolor\":\"white\",\"startlinecolor\":\"#2a3f5f\"},\"type\":\"carpet\"}],\"choropleth\":[{\"colorbar\":{\"outlinewidth\":0,\"ticks\":\"\"},\"type\":\"choropleth\"}],\"contourcarpet\":[{\"colorbar\":{\"outlinewidth\":0,\"ticks\":\"\"},\"type\":\"contourcarpet\"}],\"contour\":[{\"colorbar\":{\"outlinewidth\":0,\"ticks\":\"\"},\"colorscale\":[[0.0,\"#0d0887\"],[0.1111111111111111,\"#46039f\"],[0.2222222222222222,\"#7201a8\"],[0.3333333333333333,\"#9c179e\"],[0.4444444444444444,\"#bd3786\"],[0.5555555555555556,\"#d8576b\"],[0.6666666666666666,\"#ed7953\"],[0.7777777777777778,\"#fb9f3a\"],[0.8888888888888888,\"#fdca26\"],[1.0,\"#f0f921\"]],\"type\":\"contour\"}],\"heatmapgl\":[{\"colorbar\":{\"outlinewidth\":0,\"ticks\":\"\"},\"colorscale\":[[0.0,\"#0d0887\"],[0.1111111111111111,\"#46039f\"],[0.2222222222222222,\"#7201a8\"],[0.3333333333333333,\"#9c179e\"],[0.4444444444444444,\"#bd3786\"],[0.5555555555555556,\"#d8576b\"],[0.6666666666666666,\"#ed7953\"],[0.7777777777777778,\"#fb9f3a\"],[0.8888888888888888,\"#fdca26\"],[1.0,\"#f0f921\"]],\"type\":\"heatmapgl\"}],\"heatmap\":[{\"colorbar\":{\"outlinewidth\":0,\"ticks\":\"\"},\"colorscale\":[[0.0,\"#0d0887\"],[0.1111111111111111,\"#46039f\"],[0.2222222222222222,\"#7201a8\"],[0.3333333333333333,\"#9c179e\"],[0.4444444444444444,\"#bd3786\"],[0.5555555555555556,\"#d8576b\"],[0.6666666666666666,\"#ed7953\"],[0.7777777777777778,\"#fb9f3a\"],[0.8888888888888888,\"#fdca26\"],[1.0,\"#f0f921\"]],\"type\":\"heatmap\"}],\"histogram2dcontour\":[{\"colorbar\":{\"outlinewidth\":0,\"ticks\":\"\"},\"colorscale\":[[0.0,\"#0d0887\"],[0.1111111111111111,\"#46039f\"],[0.2222222222222222,\"#7201a8\"],[0.3333333333333333,\"#9c179e\"],[0.4444444444444444,\"#bd3786\"],[0.5555555555555556,\"#d8576b\"],[0.6666666666666666,\"#ed7953\"],[0.7777777777777778,\"#fb9f3a\"],[0.8888888888888888,\"#fdca26\"],[1.0,\"#f0f921\"]],\"type\":\"histogram2dcontour\"}],\"histogram2d\":[{\"colorbar\":{\"outlinewidth\":0,\"ticks\":\"\"},\"colorscale\":[[0.0,\"#0d0887\"],[0.1111111111111111,\"#46039f\"],[0.2222222222222222,\"#7201a8\"],[0.3333333333333333,\"#9c179e\"],[0.4444444444444444,\"#bd3786\"],[0.5555555555555556,\"#d8576b\"],[0.6666666666666666,\"#ed7953\"],[0.7777777777777778,\"#fb9f3a\"],[0.8888888888888888,\"#fdca26\"],[1.0,\"#f0f921\"]],\"type\":\"histogram2d\"}],\"histogram\":[{\"marker\":{\"pattern\":{\"fillmode\":\"overlay\",\"size\":10,\"solidity\":0.2}},\"type\":\"histogram\"}],\"mesh3d\":[{\"colorbar\":{\"outlinewidth\":0,\"ticks\":\"\"},\"type\":\"mesh3d\"}],\"parcoords\":[{\"line\":{\"colorbar\":{\"outlinewidth\":0,\"ticks\":\"\"}},\"type\":\"parcoords\"}],\"pie\":[{\"automargin\":true,\"type\":\"pie\"}],\"scatter3d\":[{\"line\":{\"colorbar\":{\"outlinewidth\":0,\"ticks\":\"\"}},\"marker\":{\"colorbar\":{\"outlinewidth\":0,\"ticks\":\"\"}},\"type\":\"scatter3d\"}],\"scattercarpet\":[{\"marker\":{\"colorbar\":{\"outlinewidth\":0,\"ticks\":\"\"}},\"type\":\"scattercarpet\"}],\"scattergeo\":[{\"marker\":{\"colorbar\":{\"outlinewidth\":0,\"ticks\":\"\"}},\"type\":\"scattergeo\"}],\"scattergl\":[{\"marker\":{\"colorbar\":{\"outlinewidth\":0,\"ticks\":\"\"}},\"type\":\"scattergl\"}],\"scattermapbox\":[{\"marker\":{\"colorbar\":{\"outlinewidth\":0,\"ticks\":\"\"}},\"type\":\"scattermapbox\"}],\"scatterpolargl\":[{\"marker\":{\"colorbar\":{\"outlinewidth\":0,\"ticks\":\"\"}},\"type\":\"scatterpolargl\"}],\"scatterpolar\":[{\"marker\":{\"colorbar\":{\"outlinewidth\":0,\"ticks\":\"\"}},\"type\":\"scatterpolar\"}],\"scatter\":[{\"marker\":{\"colorbar\":{\"outlinewidth\":0,\"ticks\":\"\"}},\"type\":\"scatter\"}],\"scatterternary\":[{\"marker\":{\"colorbar\":{\"outlinewidth\":0,\"ticks\":\"\"}},\"type\":\"scatterternary\"}],\"surface\":[{\"colorbar\":{\"outlinewidth\":0,\"ticks\":\"\"},\"colorscale\":[[0.0,\"#0d0887\"],[0.1111111111111111,\"#46039f\"],[0.2222222222222222,\"#7201a8\"],[0.3333333333333333,\"#9c179e\"],[0.4444444444444444,\"#bd3786\"],[0.5555555555555556,\"#d8576b\"],[0.6666666666666666,\"#ed7953\"],[0.7777777777777778,\"#fb9f3a\"],[0.8888888888888888,\"#fdca26\"],[1.0,\"#f0f921\"]],\"type\":\"surface\"}],\"table\":[{\"cells\":{\"fill\":{\"color\":\"#EBF0F8\"},\"line\":{\"color\":\"white\"}},\"header\":{\"fill\":{\"color\":\"#C8D4E3\"},\"line\":{\"color\":\"white\"}},\"type\":\"table\"}]},\"layout\":{\"annotationdefaults\":{\"arrowcolor\":\"#2a3f5f\",\"arrowhead\":0,\"arrowwidth\":1},\"autotypenumbers\":\"strict\",\"coloraxis\":{\"colorbar\":{\"outlinewidth\":0,\"ticks\":\"\"}},\"colorscale\":{\"diverging\":[[0,\"#8e0152\"],[0.1,\"#c51b7d\"],[0.2,\"#de77ae\"],[0.3,\"#f1b6da\"],[0.4,\"#fde0ef\"],[0.5,\"#f7f7f7\"],[0.6,\"#e6f5d0\"],[0.7,\"#b8e186\"],[0.8,\"#7fbc41\"],[0.9,\"#4d9221\"],[1,\"#276419\"]],\"sequential\":[[0.0,\"#0d0887\"],[0.1111111111111111,\"#46039f\"],[0.2222222222222222,\"#7201a8\"],[0.3333333333333333,\"#9c179e\"],[0.4444444444444444,\"#bd3786\"],[0.5555555555555556,\"#d8576b\"],[0.6666666666666666,\"#ed7953\"],[0.7777777777777778,\"#fb9f3a\"],[0.8888888888888888,\"#fdca26\"],[1.0,\"#f0f921\"]],\"sequentialminus\":[[0.0,\"#0d0887\"],[0.1111111111111111,\"#46039f\"],[0.2222222222222222,\"#7201a8\"],[0.3333333333333333,\"#9c179e\"],[0.4444444444444444,\"#bd3786\"],[0.5555555555555556,\"#d8576b\"],[0.6666666666666666,\"#ed7953\"],[0.7777777777777778,\"#fb9f3a\"],[0.8888888888888888,\"#fdca26\"],[1.0,\"#f0f921\"]]},\"colorway\":[\"#636efa\",\"#EF553B\",\"#00cc96\",\"#ab63fa\",\"#FFA15A\",\"#19d3f3\",\"#FF6692\",\"#B6E880\",\"#FF97FF\",\"#FECB52\"],\"font\":{\"color\":\"#2a3f5f\"},\"geo\":{\"bgcolor\":\"white\",\"lakecolor\":\"white\",\"landcolor\":\"#E5ECF6\",\"showlakes\":true,\"showland\":true,\"subunitcolor\":\"white\"},\"hoverlabel\":{\"align\":\"left\"},\"hovermode\":\"closest\",\"mapbox\":{\"style\":\"light\"},\"paper_bgcolor\":\"white\",\"plot_bgcolor\":\"#E5ECF6\",\"polar\":{\"angularaxis\":{\"gridcolor\":\"white\",\"linecolor\":\"white\",\"ticks\":\"\"},\"bgcolor\":\"#E5ECF6\",\"radialaxis\":{\"gridcolor\":\"white\",\"linecolor\":\"white\",\"ticks\":\"\"}},\"scene\":{\"xaxis\":{\"backgroundcolor\":\"#E5ECF6\",\"gridcolor\":\"white\",\"gridwidth\":2,\"linecolor\":\"white\",\"showbackground\":true,\"ticks\":\"\",\"zerolinecolor\":\"white\"},\"yaxis\":{\"backgroundcolor\":\"#E5ECF6\",\"gridcolor\":\"white\",\"gridwidth\":2,\"linecolor\":\"white\",\"showbackground\":true,\"ticks\":\"\",\"zerolinecolor\":\"white\"},\"zaxis\":{\"backgroundcolor\":\"#E5ECF6\",\"gridcolor\":\"white\",\"gridwidth\":2,\"linecolor\":\"white\",\"showbackground\":true,\"ticks\":\"\",\"zerolinecolor\":\"white\"}},\"shapedefaults\":{\"line\":{\"color\":\"#2a3f5f\"}},\"ternary\":{\"aaxis\":{\"gridcolor\":\"white\",\"linecolor\":\"white\",\"ticks\":\"\"},\"baxis\":{\"gridcolor\":\"white\",\"linecolor\":\"white\",\"ticks\":\"\"},\"bgcolor\":\"#E5ECF6\",\"caxis\":{\"gridcolor\":\"white\",\"linecolor\":\"white\",\"ticks\":\"\"}},\"title\":{\"x\":0.05},\"xaxis\":{\"automargin\":true,\"gridcolor\":\"white\",\"linecolor\":\"white\",\"ticks\":\"\",\"title\":{\"standoff\":15},\"zerolinecolor\":\"white\",\"zerolinewidth\":2},\"yaxis\":{\"automargin\":true,\"gridcolor\":\"white\",\"linecolor\":\"white\",\"ticks\":\"\",\"title\":{\"standoff\":15},\"zerolinecolor\":\"white\",\"zerolinewidth\":2}}},\"title\":{\"font\":{\"color\":\"#4D5663\"}},\"xaxis\":{\"gridcolor\":\"#E1E5ED\",\"showgrid\":true,\"tickfont\":{\"color\":\"#4D5663\"},\"title\":{\"font\":{\"color\":\"#4D5663\"},\"text\":\"\"},\"zerolinecolor\":\"#E1E5ED\"},\"yaxis\":{\"gridcolor\":\"#E1E5ED\",\"showgrid\":true,\"tickfont\":{\"color\":\"#4D5663\"},\"title\":{\"font\":{\"color\":\"#4D5663\"},\"text\":\"\"},\"zerolinecolor\":\"#E1E5ED\"}},                        {\"showLink\": true, \"linkText\": \"Export to plot.ly\", \"plotlyServerURL\": \"https://plot.ly\", \"responsive\": true}                    ).then(function(){\n",
       "                            \n",
       "var gd = document.getElementById('efde74c7-a7b1-42e7-9aca-5571937780a7');\n",
       "var x = new MutationObserver(function (mutations, observer) {{\n",
       "        var display = window.getComputedStyle(gd).display;\n",
       "        if (!display || display === 'none') {{\n",
       "            console.log([gd, 'removed!']);\n",
       "            Plotly.purge(gd);\n",
       "            observer.disconnect();\n",
       "        }}\n",
       "}});\n",
       "\n",
       "// Listen for the removal of the full notebook cells\n",
       "var notebookContainer = gd.closest('#notebook-container');\n",
       "if (notebookContainer) {{\n",
       "    x.observe(notebookContainer, {childList: true});\n",
       "}}\n",
       "\n",
       "// Listen for the clearing of the current output cell\n",
       "var outputEl = gd.closest('.output');\n",
       "if (outputEl) {{\n",
       "    x.observe(outputEl, {childList: true});\n",
       "}}\n",
       "\n",
       "                        })                };                });            </script>        </div>"
      ]
     },
     "metadata": {},
     "output_type": "display_data"
    }
   ],
   "source": [
    "df.iplot(kind='bar')"
   ]
  },
  {
   "cell_type": "code",
   "execution_count": 11,
   "metadata": {},
   "outputs": [
    {
     "data": {
      "application/vnd.plotly.v1+json": {
       "config": {
        "linkText": "Export to plot.ly",
        "plotlyServerURL": "https://plot.ly",
        "showLink": true
       },
       "data": [
        {
         "marker": {
          "color": "rgba(255, 153, 51, 0.6)",
          "line": {
           "color": "rgba(255, 153, 51, 1.0)",
           "width": 1
          }
         },
         "name": "None",
         "orientation": "v",
         "text": "",
         "type": "bar",
         "x": [
          "A",
          "B",
          "C",
          "D"
         ],
         "y": [
          4.3939568542478735,
          -8.31404722554685,
          16.334755758046043,
          11.964680670796211
         ]
        }
       ],
       "layout": {
        "legend": {
         "bgcolor": "#F5F6F9",
         "font": {
          "color": "#4D5663"
         }
        },
        "paper_bgcolor": "#F5F6F9",
        "plot_bgcolor": "#F5F6F9",
        "template": {
         "data": {
          "bar": [
           {
            "error_x": {
             "color": "#2a3f5f"
            },
            "error_y": {
             "color": "#2a3f5f"
            },
            "marker": {
             "line": {
              "color": "#E5ECF6",
              "width": 0.5
             },
             "pattern": {
              "fillmode": "overlay",
              "size": 10,
              "solidity": 0.2
             }
            },
            "type": "bar"
           }
          ],
          "barpolar": [
           {
            "marker": {
             "line": {
              "color": "#E5ECF6",
              "width": 0.5
             },
             "pattern": {
              "fillmode": "overlay",
              "size": 10,
              "solidity": 0.2
             }
            },
            "type": "barpolar"
           }
          ],
          "carpet": [
           {
            "aaxis": {
             "endlinecolor": "#2a3f5f",
             "gridcolor": "white",
             "linecolor": "white",
             "minorgridcolor": "white",
             "startlinecolor": "#2a3f5f"
            },
            "baxis": {
             "endlinecolor": "#2a3f5f",
             "gridcolor": "white",
             "linecolor": "white",
             "minorgridcolor": "white",
             "startlinecolor": "#2a3f5f"
            },
            "type": "carpet"
           }
          ],
          "choropleth": [
           {
            "colorbar": {
             "outlinewidth": 0,
             "ticks": ""
            },
            "type": "choropleth"
           }
          ],
          "contour": [
           {
            "colorbar": {
             "outlinewidth": 0,
             "ticks": ""
            },
            "colorscale": [
             [
              0,
              "#0d0887"
             ],
             [
              0.1111111111111111,
              "#46039f"
             ],
             [
              0.2222222222222222,
              "#7201a8"
             ],
             [
              0.3333333333333333,
              "#9c179e"
             ],
             [
              0.4444444444444444,
              "#bd3786"
             ],
             [
              0.5555555555555556,
              "#d8576b"
             ],
             [
              0.6666666666666666,
              "#ed7953"
             ],
             [
              0.7777777777777778,
              "#fb9f3a"
             ],
             [
              0.8888888888888888,
              "#fdca26"
             ],
             [
              1,
              "#f0f921"
             ]
            ],
            "type": "contour"
           }
          ],
          "contourcarpet": [
           {
            "colorbar": {
             "outlinewidth": 0,
             "ticks": ""
            },
            "type": "contourcarpet"
           }
          ],
          "heatmap": [
           {
            "colorbar": {
             "outlinewidth": 0,
             "ticks": ""
            },
            "colorscale": [
             [
              0,
              "#0d0887"
             ],
             [
              0.1111111111111111,
              "#46039f"
             ],
             [
              0.2222222222222222,
              "#7201a8"
             ],
             [
              0.3333333333333333,
              "#9c179e"
             ],
             [
              0.4444444444444444,
              "#bd3786"
             ],
             [
              0.5555555555555556,
              "#d8576b"
             ],
             [
              0.6666666666666666,
              "#ed7953"
             ],
             [
              0.7777777777777778,
              "#fb9f3a"
             ],
             [
              0.8888888888888888,
              "#fdca26"
             ],
             [
              1,
              "#f0f921"
             ]
            ],
            "type": "heatmap"
           }
          ],
          "heatmapgl": [
           {
            "colorbar": {
             "outlinewidth": 0,
             "ticks": ""
            },
            "colorscale": [
             [
              0,
              "#0d0887"
             ],
             [
              0.1111111111111111,
              "#46039f"
             ],
             [
              0.2222222222222222,
              "#7201a8"
             ],
             [
              0.3333333333333333,
              "#9c179e"
             ],
             [
              0.4444444444444444,
              "#bd3786"
             ],
             [
              0.5555555555555556,
              "#d8576b"
             ],
             [
              0.6666666666666666,
              "#ed7953"
             ],
             [
              0.7777777777777778,
              "#fb9f3a"
             ],
             [
              0.8888888888888888,
              "#fdca26"
             ],
             [
              1,
              "#f0f921"
             ]
            ],
            "type": "heatmapgl"
           }
          ],
          "histogram": [
           {
            "marker": {
             "pattern": {
              "fillmode": "overlay",
              "size": 10,
              "solidity": 0.2
             }
            },
            "type": "histogram"
           }
          ],
          "histogram2d": [
           {
            "colorbar": {
             "outlinewidth": 0,
             "ticks": ""
            },
            "colorscale": [
             [
              0,
              "#0d0887"
             ],
             [
              0.1111111111111111,
              "#46039f"
             ],
             [
              0.2222222222222222,
              "#7201a8"
             ],
             [
              0.3333333333333333,
              "#9c179e"
             ],
             [
              0.4444444444444444,
              "#bd3786"
             ],
             [
              0.5555555555555556,
              "#d8576b"
             ],
             [
              0.6666666666666666,
              "#ed7953"
             ],
             [
              0.7777777777777778,
              "#fb9f3a"
             ],
             [
              0.8888888888888888,
              "#fdca26"
             ],
             [
              1,
              "#f0f921"
             ]
            ],
            "type": "histogram2d"
           }
          ],
          "histogram2dcontour": [
           {
            "colorbar": {
             "outlinewidth": 0,
             "ticks": ""
            },
            "colorscale": [
             [
              0,
              "#0d0887"
             ],
             [
              0.1111111111111111,
              "#46039f"
             ],
             [
              0.2222222222222222,
              "#7201a8"
             ],
             [
              0.3333333333333333,
              "#9c179e"
             ],
             [
              0.4444444444444444,
              "#bd3786"
             ],
             [
              0.5555555555555556,
              "#d8576b"
             ],
             [
              0.6666666666666666,
              "#ed7953"
             ],
             [
              0.7777777777777778,
              "#fb9f3a"
             ],
             [
              0.8888888888888888,
              "#fdca26"
             ],
             [
              1,
              "#f0f921"
             ]
            ],
            "type": "histogram2dcontour"
           }
          ],
          "mesh3d": [
           {
            "colorbar": {
             "outlinewidth": 0,
             "ticks": ""
            },
            "type": "mesh3d"
           }
          ],
          "parcoords": [
           {
            "line": {
             "colorbar": {
              "outlinewidth": 0,
              "ticks": ""
             }
            },
            "type": "parcoords"
           }
          ],
          "pie": [
           {
            "automargin": true,
            "type": "pie"
           }
          ],
          "scatter": [
           {
            "marker": {
             "colorbar": {
              "outlinewidth": 0,
              "ticks": ""
             }
            },
            "type": "scatter"
           }
          ],
          "scatter3d": [
           {
            "line": {
             "colorbar": {
              "outlinewidth": 0,
              "ticks": ""
             }
            },
            "marker": {
             "colorbar": {
              "outlinewidth": 0,
              "ticks": ""
             }
            },
            "type": "scatter3d"
           }
          ],
          "scattercarpet": [
           {
            "marker": {
             "colorbar": {
              "outlinewidth": 0,
              "ticks": ""
             }
            },
            "type": "scattercarpet"
           }
          ],
          "scattergeo": [
           {
            "marker": {
             "colorbar": {
              "outlinewidth": 0,
              "ticks": ""
             }
            },
            "type": "scattergeo"
           }
          ],
          "scattergl": [
           {
            "marker": {
             "colorbar": {
              "outlinewidth": 0,
              "ticks": ""
             }
            },
            "type": "scattergl"
           }
          ],
          "scattermapbox": [
           {
            "marker": {
             "colorbar": {
              "outlinewidth": 0,
              "ticks": ""
             }
            },
            "type": "scattermapbox"
           }
          ],
          "scatterpolar": [
           {
            "marker": {
             "colorbar": {
              "outlinewidth": 0,
              "ticks": ""
             }
            },
            "type": "scatterpolar"
           }
          ],
          "scatterpolargl": [
           {
            "marker": {
             "colorbar": {
              "outlinewidth": 0,
              "ticks": ""
             }
            },
            "type": "scatterpolargl"
           }
          ],
          "scatterternary": [
           {
            "marker": {
             "colorbar": {
              "outlinewidth": 0,
              "ticks": ""
             }
            },
            "type": "scatterternary"
           }
          ],
          "surface": [
           {
            "colorbar": {
             "outlinewidth": 0,
             "ticks": ""
            },
            "colorscale": [
             [
              0,
              "#0d0887"
             ],
             [
              0.1111111111111111,
              "#46039f"
             ],
             [
              0.2222222222222222,
              "#7201a8"
             ],
             [
              0.3333333333333333,
              "#9c179e"
             ],
             [
              0.4444444444444444,
              "#bd3786"
             ],
             [
              0.5555555555555556,
              "#d8576b"
             ],
             [
              0.6666666666666666,
              "#ed7953"
             ],
             [
              0.7777777777777778,
              "#fb9f3a"
             ],
             [
              0.8888888888888888,
              "#fdca26"
             ],
             [
              1,
              "#f0f921"
             ]
            ],
            "type": "surface"
           }
          ],
          "table": [
           {
            "cells": {
             "fill": {
              "color": "#EBF0F8"
             },
             "line": {
              "color": "white"
             }
            },
            "header": {
             "fill": {
              "color": "#C8D4E3"
             },
             "line": {
              "color": "white"
             }
            },
            "type": "table"
           }
          ]
         },
         "layout": {
          "annotationdefaults": {
           "arrowcolor": "#2a3f5f",
           "arrowhead": 0,
           "arrowwidth": 1
          },
          "autotypenumbers": "strict",
          "coloraxis": {
           "colorbar": {
            "outlinewidth": 0,
            "ticks": ""
           }
          },
          "colorscale": {
           "diverging": [
            [
             0,
             "#8e0152"
            ],
            [
             0.1,
             "#c51b7d"
            ],
            [
             0.2,
             "#de77ae"
            ],
            [
             0.3,
             "#f1b6da"
            ],
            [
             0.4,
             "#fde0ef"
            ],
            [
             0.5,
             "#f7f7f7"
            ],
            [
             0.6,
             "#e6f5d0"
            ],
            [
             0.7,
             "#b8e186"
            ],
            [
             0.8,
             "#7fbc41"
            ],
            [
             0.9,
             "#4d9221"
            ],
            [
             1,
             "#276419"
            ]
           ],
           "sequential": [
            [
             0,
             "#0d0887"
            ],
            [
             0.1111111111111111,
             "#46039f"
            ],
            [
             0.2222222222222222,
             "#7201a8"
            ],
            [
             0.3333333333333333,
             "#9c179e"
            ],
            [
             0.4444444444444444,
             "#bd3786"
            ],
            [
             0.5555555555555556,
             "#d8576b"
            ],
            [
             0.6666666666666666,
             "#ed7953"
            ],
            [
             0.7777777777777778,
             "#fb9f3a"
            ],
            [
             0.8888888888888888,
             "#fdca26"
            ],
            [
             1,
             "#f0f921"
            ]
           ],
           "sequentialminus": [
            [
             0,
             "#0d0887"
            ],
            [
             0.1111111111111111,
             "#46039f"
            ],
            [
             0.2222222222222222,
             "#7201a8"
            ],
            [
             0.3333333333333333,
             "#9c179e"
            ],
            [
             0.4444444444444444,
             "#bd3786"
            ],
            [
             0.5555555555555556,
             "#d8576b"
            ],
            [
             0.6666666666666666,
             "#ed7953"
            ],
            [
             0.7777777777777778,
             "#fb9f3a"
            ],
            [
             0.8888888888888888,
             "#fdca26"
            ],
            [
             1,
             "#f0f921"
            ]
           ]
          },
          "colorway": [
           "#636efa",
           "#EF553B",
           "#00cc96",
           "#ab63fa",
           "#FFA15A",
           "#19d3f3",
           "#FF6692",
           "#B6E880",
           "#FF97FF",
           "#FECB52"
          ],
          "font": {
           "color": "#2a3f5f"
          },
          "geo": {
           "bgcolor": "white",
           "lakecolor": "white",
           "landcolor": "#E5ECF6",
           "showlakes": true,
           "showland": true,
           "subunitcolor": "white"
          },
          "hoverlabel": {
           "align": "left"
          },
          "hovermode": "closest",
          "mapbox": {
           "style": "light"
          },
          "paper_bgcolor": "white",
          "plot_bgcolor": "#E5ECF6",
          "polar": {
           "angularaxis": {
            "gridcolor": "white",
            "linecolor": "white",
            "ticks": ""
           },
           "bgcolor": "#E5ECF6",
           "radialaxis": {
            "gridcolor": "white",
            "linecolor": "white",
            "ticks": ""
           }
          },
          "scene": {
           "xaxis": {
            "backgroundcolor": "#E5ECF6",
            "gridcolor": "white",
            "gridwidth": 2,
            "linecolor": "white",
            "showbackground": true,
            "ticks": "",
            "zerolinecolor": "white"
           },
           "yaxis": {
            "backgroundcolor": "#E5ECF6",
            "gridcolor": "white",
            "gridwidth": 2,
            "linecolor": "white",
            "showbackground": true,
            "ticks": "",
            "zerolinecolor": "white"
           },
           "zaxis": {
            "backgroundcolor": "#E5ECF6",
            "gridcolor": "white",
            "gridwidth": 2,
            "linecolor": "white",
            "showbackground": true,
            "ticks": "",
            "zerolinecolor": "white"
           }
          },
          "shapedefaults": {
           "line": {
            "color": "#2a3f5f"
           }
          },
          "ternary": {
           "aaxis": {
            "gridcolor": "white",
            "linecolor": "white",
            "ticks": ""
           },
           "baxis": {
            "gridcolor": "white",
            "linecolor": "white",
            "ticks": ""
           },
           "bgcolor": "#E5ECF6",
           "caxis": {
            "gridcolor": "white",
            "linecolor": "white",
            "ticks": ""
           }
          },
          "title": {
           "x": 0.05
          },
          "xaxis": {
           "automargin": true,
           "gridcolor": "white",
           "linecolor": "white",
           "ticks": "",
           "title": {
            "standoff": 15
           },
           "zerolinecolor": "white",
           "zerolinewidth": 2
          },
          "yaxis": {
           "automargin": true,
           "gridcolor": "white",
           "linecolor": "white",
           "ticks": "",
           "title": {
            "standoff": 15
           },
           "zerolinecolor": "white",
           "zerolinewidth": 2
          }
         }
        },
        "title": {
         "font": {
          "color": "#4D5663"
         }
        },
        "xaxis": {
         "gridcolor": "#E1E5ED",
         "showgrid": true,
         "tickfont": {
          "color": "#4D5663"
         },
         "title": {
          "font": {
           "color": "#4D5663"
          },
          "text": ""
         },
         "zerolinecolor": "#E1E5ED"
        },
        "yaxis": {
         "gridcolor": "#E1E5ED",
         "showgrid": true,
         "tickfont": {
          "color": "#4D5663"
         },
         "title": {
          "font": {
           "color": "#4D5663"
          },
          "text": ""
         },
         "zerolinecolor": "#E1E5ED"
        }
       }
      },
      "text/html": [
       "<div>                            <div id=\"36c7c88a-a677-4891-a3e4-4115641032f8\" class=\"plotly-graph-div\" style=\"height:525px; width:100%;\"></div>            <script type=\"text/javascript\">                require([\"plotly\"], function(Plotly) {                    window.PLOTLYENV=window.PLOTLYENV || {};\n",
       "                    window.PLOTLYENV.BASE_URL='https://plot.ly';                                    if (document.getElementById(\"36c7c88a-a677-4891-a3e4-4115641032f8\")) {                    Plotly.newPlot(                        \"36c7c88a-a677-4891-a3e4-4115641032f8\",                        [{\"marker\":{\"color\":\"rgba(255, 153, 51, 0.6)\",\"line\":{\"color\":\"rgba(255, 153, 51, 1.0)\",\"width\":1}},\"name\":\"None\",\"orientation\":\"v\",\"text\":\"\",\"x\":[\"A\",\"B\",\"C\",\"D\"],\"y\":[4.3939568542478735,-8.31404722554685,16.334755758046043,11.964680670796211],\"type\":\"bar\"}],                        {\"legend\":{\"bgcolor\":\"#F5F6F9\",\"font\":{\"color\":\"#4D5663\"}},\"paper_bgcolor\":\"#F5F6F9\",\"plot_bgcolor\":\"#F5F6F9\",\"template\":{\"data\":{\"barpolar\":[{\"marker\":{\"line\":{\"color\":\"#E5ECF6\",\"width\":0.5},\"pattern\":{\"fillmode\":\"overlay\",\"size\":10,\"solidity\":0.2}},\"type\":\"barpolar\"}],\"bar\":[{\"error_x\":{\"color\":\"#2a3f5f\"},\"error_y\":{\"color\":\"#2a3f5f\"},\"marker\":{\"line\":{\"color\":\"#E5ECF6\",\"width\":0.5},\"pattern\":{\"fillmode\":\"overlay\",\"size\":10,\"solidity\":0.2}},\"type\":\"bar\"}],\"carpet\":[{\"aaxis\":{\"endlinecolor\":\"#2a3f5f\",\"gridcolor\":\"white\",\"linecolor\":\"white\",\"minorgridcolor\":\"white\",\"startlinecolor\":\"#2a3f5f\"},\"baxis\":{\"endlinecolor\":\"#2a3f5f\",\"gridcolor\":\"white\",\"linecolor\":\"white\",\"minorgridcolor\":\"white\",\"startlinecolor\":\"#2a3f5f\"},\"type\":\"carpet\"}],\"choropleth\":[{\"colorbar\":{\"outlinewidth\":0,\"ticks\":\"\"},\"type\":\"choropleth\"}],\"contourcarpet\":[{\"colorbar\":{\"outlinewidth\":0,\"ticks\":\"\"},\"type\":\"contourcarpet\"}],\"contour\":[{\"colorbar\":{\"outlinewidth\":0,\"ticks\":\"\"},\"colorscale\":[[0.0,\"#0d0887\"],[0.1111111111111111,\"#46039f\"],[0.2222222222222222,\"#7201a8\"],[0.3333333333333333,\"#9c179e\"],[0.4444444444444444,\"#bd3786\"],[0.5555555555555556,\"#d8576b\"],[0.6666666666666666,\"#ed7953\"],[0.7777777777777778,\"#fb9f3a\"],[0.8888888888888888,\"#fdca26\"],[1.0,\"#f0f921\"]],\"type\":\"contour\"}],\"heatmapgl\":[{\"colorbar\":{\"outlinewidth\":0,\"ticks\":\"\"},\"colorscale\":[[0.0,\"#0d0887\"],[0.1111111111111111,\"#46039f\"],[0.2222222222222222,\"#7201a8\"],[0.3333333333333333,\"#9c179e\"],[0.4444444444444444,\"#bd3786\"],[0.5555555555555556,\"#d8576b\"],[0.6666666666666666,\"#ed7953\"],[0.7777777777777778,\"#fb9f3a\"],[0.8888888888888888,\"#fdca26\"],[1.0,\"#f0f921\"]],\"type\":\"heatmapgl\"}],\"heatmap\":[{\"colorbar\":{\"outlinewidth\":0,\"ticks\":\"\"},\"colorscale\":[[0.0,\"#0d0887\"],[0.1111111111111111,\"#46039f\"],[0.2222222222222222,\"#7201a8\"],[0.3333333333333333,\"#9c179e\"],[0.4444444444444444,\"#bd3786\"],[0.5555555555555556,\"#d8576b\"],[0.6666666666666666,\"#ed7953\"],[0.7777777777777778,\"#fb9f3a\"],[0.8888888888888888,\"#fdca26\"],[1.0,\"#f0f921\"]],\"type\":\"heatmap\"}],\"histogram2dcontour\":[{\"colorbar\":{\"outlinewidth\":0,\"ticks\":\"\"},\"colorscale\":[[0.0,\"#0d0887\"],[0.1111111111111111,\"#46039f\"],[0.2222222222222222,\"#7201a8\"],[0.3333333333333333,\"#9c179e\"],[0.4444444444444444,\"#bd3786\"],[0.5555555555555556,\"#d8576b\"],[0.6666666666666666,\"#ed7953\"],[0.7777777777777778,\"#fb9f3a\"],[0.8888888888888888,\"#fdca26\"],[1.0,\"#f0f921\"]],\"type\":\"histogram2dcontour\"}],\"histogram2d\":[{\"colorbar\":{\"outlinewidth\":0,\"ticks\":\"\"},\"colorscale\":[[0.0,\"#0d0887\"],[0.1111111111111111,\"#46039f\"],[0.2222222222222222,\"#7201a8\"],[0.3333333333333333,\"#9c179e\"],[0.4444444444444444,\"#bd3786\"],[0.5555555555555556,\"#d8576b\"],[0.6666666666666666,\"#ed7953\"],[0.7777777777777778,\"#fb9f3a\"],[0.8888888888888888,\"#fdca26\"],[1.0,\"#f0f921\"]],\"type\":\"histogram2d\"}],\"histogram\":[{\"marker\":{\"pattern\":{\"fillmode\":\"overlay\",\"size\":10,\"solidity\":0.2}},\"type\":\"histogram\"}],\"mesh3d\":[{\"colorbar\":{\"outlinewidth\":0,\"ticks\":\"\"},\"type\":\"mesh3d\"}],\"parcoords\":[{\"line\":{\"colorbar\":{\"outlinewidth\":0,\"ticks\":\"\"}},\"type\":\"parcoords\"}],\"pie\":[{\"automargin\":true,\"type\":\"pie\"}],\"scatter3d\":[{\"line\":{\"colorbar\":{\"outlinewidth\":0,\"ticks\":\"\"}},\"marker\":{\"colorbar\":{\"outlinewidth\":0,\"ticks\":\"\"}},\"type\":\"scatter3d\"}],\"scattercarpet\":[{\"marker\":{\"colorbar\":{\"outlinewidth\":0,\"ticks\":\"\"}},\"type\":\"scattercarpet\"}],\"scattergeo\":[{\"marker\":{\"colorbar\":{\"outlinewidth\":0,\"ticks\":\"\"}},\"type\":\"scattergeo\"}],\"scattergl\":[{\"marker\":{\"colorbar\":{\"outlinewidth\":0,\"ticks\":\"\"}},\"type\":\"scattergl\"}],\"scattermapbox\":[{\"marker\":{\"colorbar\":{\"outlinewidth\":0,\"ticks\":\"\"}},\"type\":\"scattermapbox\"}],\"scatterpolargl\":[{\"marker\":{\"colorbar\":{\"outlinewidth\":0,\"ticks\":\"\"}},\"type\":\"scatterpolargl\"}],\"scatterpolar\":[{\"marker\":{\"colorbar\":{\"outlinewidth\":0,\"ticks\":\"\"}},\"type\":\"scatterpolar\"}],\"scatter\":[{\"marker\":{\"colorbar\":{\"outlinewidth\":0,\"ticks\":\"\"}},\"type\":\"scatter\"}],\"scatterternary\":[{\"marker\":{\"colorbar\":{\"outlinewidth\":0,\"ticks\":\"\"}},\"type\":\"scatterternary\"}],\"surface\":[{\"colorbar\":{\"outlinewidth\":0,\"ticks\":\"\"},\"colorscale\":[[0.0,\"#0d0887\"],[0.1111111111111111,\"#46039f\"],[0.2222222222222222,\"#7201a8\"],[0.3333333333333333,\"#9c179e\"],[0.4444444444444444,\"#bd3786\"],[0.5555555555555556,\"#d8576b\"],[0.6666666666666666,\"#ed7953\"],[0.7777777777777778,\"#fb9f3a\"],[0.8888888888888888,\"#fdca26\"],[1.0,\"#f0f921\"]],\"type\":\"surface\"}],\"table\":[{\"cells\":{\"fill\":{\"color\":\"#EBF0F8\"},\"line\":{\"color\":\"white\"}},\"header\":{\"fill\":{\"color\":\"#C8D4E3\"},\"line\":{\"color\":\"white\"}},\"type\":\"table\"}]},\"layout\":{\"annotationdefaults\":{\"arrowcolor\":\"#2a3f5f\",\"arrowhead\":0,\"arrowwidth\":1},\"autotypenumbers\":\"strict\",\"coloraxis\":{\"colorbar\":{\"outlinewidth\":0,\"ticks\":\"\"}},\"colorscale\":{\"diverging\":[[0,\"#8e0152\"],[0.1,\"#c51b7d\"],[0.2,\"#de77ae\"],[0.3,\"#f1b6da\"],[0.4,\"#fde0ef\"],[0.5,\"#f7f7f7\"],[0.6,\"#e6f5d0\"],[0.7,\"#b8e186\"],[0.8,\"#7fbc41\"],[0.9,\"#4d9221\"],[1,\"#276419\"]],\"sequential\":[[0.0,\"#0d0887\"],[0.1111111111111111,\"#46039f\"],[0.2222222222222222,\"#7201a8\"],[0.3333333333333333,\"#9c179e\"],[0.4444444444444444,\"#bd3786\"],[0.5555555555555556,\"#d8576b\"],[0.6666666666666666,\"#ed7953\"],[0.7777777777777778,\"#fb9f3a\"],[0.8888888888888888,\"#fdca26\"],[1.0,\"#f0f921\"]],\"sequentialminus\":[[0.0,\"#0d0887\"],[0.1111111111111111,\"#46039f\"],[0.2222222222222222,\"#7201a8\"],[0.3333333333333333,\"#9c179e\"],[0.4444444444444444,\"#bd3786\"],[0.5555555555555556,\"#d8576b\"],[0.6666666666666666,\"#ed7953\"],[0.7777777777777778,\"#fb9f3a\"],[0.8888888888888888,\"#fdca26\"],[1.0,\"#f0f921\"]]},\"colorway\":[\"#636efa\",\"#EF553B\",\"#00cc96\",\"#ab63fa\",\"#FFA15A\",\"#19d3f3\",\"#FF6692\",\"#B6E880\",\"#FF97FF\",\"#FECB52\"],\"font\":{\"color\":\"#2a3f5f\"},\"geo\":{\"bgcolor\":\"white\",\"lakecolor\":\"white\",\"landcolor\":\"#E5ECF6\",\"showlakes\":true,\"showland\":true,\"subunitcolor\":\"white\"},\"hoverlabel\":{\"align\":\"left\"},\"hovermode\":\"closest\",\"mapbox\":{\"style\":\"light\"},\"paper_bgcolor\":\"white\",\"plot_bgcolor\":\"#E5ECF6\",\"polar\":{\"angularaxis\":{\"gridcolor\":\"white\",\"linecolor\":\"white\",\"ticks\":\"\"},\"bgcolor\":\"#E5ECF6\",\"radialaxis\":{\"gridcolor\":\"white\",\"linecolor\":\"white\",\"ticks\":\"\"}},\"scene\":{\"xaxis\":{\"backgroundcolor\":\"#E5ECF6\",\"gridcolor\":\"white\",\"gridwidth\":2,\"linecolor\":\"white\",\"showbackground\":true,\"ticks\":\"\",\"zerolinecolor\":\"white\"},\"yaxis\":{\"backgroundcolor\":\"#E5ECF6\",\"gridcolor\":\"white\",\"gridwidth\":2,\"linecolor\":\"white\",\"showbackground\":true,\"ticks\":\"\",\"zerolinecolor\":\"white\"},\"zaxis\":{\"backgroundcolor\":\"#E5ECF6\",\"gridcolor\":\"white\",\"gridwidth\":2,\"linecolor\":\"white\",\"showbackground\":true,\"ticks\":\"\",\"zerolinecolor\":\"white\"}},\"shapedefaults\":{\"line\":{\"color\":\"#2a3f5f\"}},\"ternary\":{\"aaxis\":{\"gridcolor\":\"white\",\"linecolor\":\"white\",\"ticks\":\"\"},\"baxis\":{\"gridcolor\":\"white\",\"linecolor\":\"white\",\"ticks\":\"\"},\"bgcolor\":\"#E5ECF6\",\"caxis\":{\"gridcolor\":\"white\",\"linecolor\":\"white\",\"ticks\":\"\"}},\"title\":{\"x\":0.05},\"xaxis\":{\"automargin\":true,\"gridcolor\":\"white\",\"linecolor\":\"white\",\"ticks\":\"\",\"title\":{\"standoff\":15},\"zerolinecolor\":\"white\",\"zerolinewidth\":2},\"yaxis\":{\"automargin\":true,\"gridcolor\":\"white\",\"linecolor\":\"white\",\"ticks\":\"\",\"title\":{\"standoff\":15},\"zerolinecolor\":\"white\",\"zerolinewidth\":2}}},\"title\":{\"font\":{\"color\":\"#4D5663\"}},\"xaxis\":{\"gridcolor\":\"#E1E5ED\",\"showgrid\":true,\"tickfont\":{\"color\":\"#4D5663\"},\"title\":{\"font\":{\"color\":\"#4D5663\"},\"text\":\"\"},\"zerolinecolor\":\"#E1E5ED\"},\"yaxis\":{\"gridcolor\":\"#E1E5ED\",\"showgrid\":true,\"tickfont\":{\"color\":\"#4D5663\"},\"title\":{\"font\":{\"color\":\"#4D5663\"},\"text\":\"\"},\"zerolinecolor\":\"#E1E5ED\"}},                        {\"showLink\": true, \"linkText\": \"Export to plot.ly\", \"plotlyServerURL\": \"https://plot.ly\", \"responsive\": true}                    ).then(function(){\n",
       "                            \n",
       "var gd = document.getElementById('36c7c88a-a677-4891-a3e4-4115641032f8');\n",
       "var x = new MutationObserver(function (mutations, observer) {{\n",
       "        var display = window.getComputedStyle(gd).display;\n",
       "        if (!display || display === 'none') {{\n",
       "            console.log([gd, 'removed!']);\n",
       "            Plotly.purge(gd);\n",
       "            observer.disconnect();\n",
       "        }}\n",
       "}});\n",
       "\n",
       "// Listen for the removal of the full notebook cells\n",
       "var notebookContainer = gd.closest('#notebook-container');\n",
       "if (notebookContainer) {{\n",
       "    x.observe(notebookContainer, {childList: true});\n",
       "}}\n",
       "\n",
       "// Listen for the clearing of the current output cell\n",
       "var outputEl = gd.closest('.output');\n",
       "if (outputEl) {{\n",
       "    x.observe(outputEl, {childList: true});\n",
       "}}\n",
       "\n",
       "                        })                };                });            </script>        </div>"
      ]
     },
     "metadata": {},
     "output_type": "display_data"
    }
   ],
   "source": [
    "df.sum().iplot(kind='bar')"
   ]
  },
  {
   "cell_type": "markdown",
   "metadata": {},
   "source": [
    "# Boxplots"
   ]
  },
  {
   "cell_type": "code",
   "execution_count": 12,
   "metadata": {},
   "outputs": [
    {
     "data": {
      "application/vnd.plotly.v1+json": {
       "config": {
        "linkText": "Export to plot.ly",
        "plotlyServerURL": "https://plot.ly",
        "showLink": true
       },
       "data": [
        {
         "boxpoints": false,
         "line": {
          "width": 1.3
         },
         "marker": {
          "color": "rgba(255, 153, 51, 1.0)"
         },
         "name": "A",
         "orientation": "v",
         "type": "box",
         "y": [
          0.35989448670498325,
          -0.4592246745596689,
          1.1469340676932693,
          0.011457522595807158,
          -1.325225593039427,
          0.6814113631472483,
          -0.6786363701384942,
          1.0437656967750097,
          -0.47746466288488,
          0.8125037672312054,
          -0.47404658256936544,
          1.2031540729757069,
          1.4635324716319182,
          0.06280967604194186,
          -1.3846713229533583,
          0.857625982236854,
          0.5068595009022173,
          0.5580764208978222,
          0.7283816078799463,
          1.6679793441485444,
          0.5494052825729143,
          2.179905991957352,
          0.6687883289057667,
          -0.3900788675173005,
          0.6003974566718818,
          -0.4550592069568799,
          0.024033182599412138,
          0.8838170831120449,
          -0.3815550521370984,
          -1.1351702026828523,
          1.8944649799641564,
          0.294708748187957,
          0.21978311050099436,
          -0.07065302380242854,
          -0.07252968052331976,
          1.1144820614967048,
          0.606171730343062,
          -0.8731464829889949,
          -0.9310256218748634,
          -1.1793341276575884,
          -1.257519736482706,
          -1.7425979839917272,
          -0.9445804193991463,
          -1.7502567337064294,
          -1.4243514037650187,
          -0.4090315100280699,
          0.18554365411004087,
          1.5207346391246686,
          -1.3323522975428201,
          -1.0763732961923527,
          0.935426096415537,
          0.786447031400014,
          0.3251381994168318,
          0.4245928479689998,
          0.6172282965203385,
          2.616286334548319,
          0.35013172747915905,
          0.23072155751839604,
          0.1078120918737563,
          -0.6767857327332797,
          1.486845300668094,
          -0.22754332442045902,
          -0.37629874464913476,
          0.7463145320495523,
          -0.19467705150091513,
          -1.4154453380765688,
          1.3399136119262056,
          -1.5777643034446764,
          -0.27774725451621385,
          0.20185972252411266,
          0.9349122376858232,
          -1.9228425692134634,
          1.0046670938839755,
          -0.6508739922195852,
          0.4269958744781549,
          0.7736665220816002,
          -0.1679201401431736,
          -1.3158405857178361,
          -0.8227589415389568,
          2.332130548823311,
          -0.26318021389783985,
          -1.4971248638820622,
          0.3152560911248023,
          -0.21665547778357377,
          -1.0023809876326206,
          1.0562004740071824,
          0.5338261162974342,
          1.084603932148778,
          0.2935647195292971,
          0.28628110241537885,
          -1.1494679572805997,
          -0.25532087031031897,
          -0.35075476425964247,
          0.9497286053864785,
          0.2807308118655686,
          -0.4251098238132698,
          -1.0621446257664477,
          0.41931528695406345,
          -1.433797178077299,
          -0.8059425488799932
         ]
        },
        {
         "boxpoints": false,
         "line": {
          "width": 1.3
         },
         "marker": {
          "color": "rgba(55, 128, 191, 1.0)"
         },
         "name": "B",
         "orientation": "v",
         "type": "box",
         "y": [
          -0.9217746063940998,
          -1.6822361723427532,
          -0.055572935761315195,
          -0.7350958966894335,
          -0.16312573884020234,
          0.26078513301011524,
          -1.6077194546656872,
          -0.16660545555158907,
          0.4702211267676788,
          -0.8160247909852378,
          0.07090561857130953,
          -0.512506611196169,
          0.7176328754936439,
          -0.5532917462243572,
          -0.8119234722216444,
          -1.1765423268753135,
          -1.12954248594935,
          -0.4149262245711078,
          -0.4253415826023585,
          0.8469921767949793,
          1.881699763566048,
          -0.25778150596466876,
          -0.13128008428078422,
          0.5004041084234315,
          -1.649491285150849,
          -0.5042162792070994,
          0.6218104662260018,
          -0.5987775790098924,
          1.4123907764913297,
          -1.5904079493683279,
          -0.17544539905896128,
          -0.26662817691141316,
          1.6537875958037962,
          0.47060178918033885,
          -1.0478398572685959,
          1.2458723160603526,
          0.3183776222101448,
          -0.34137069400463826,
          0.6268383693928805,
          -0.49492715859173325,
          1.7894001280490095,
          1.0923690990085906,
          -0.4426468257952904,
          -1.7570569105500355,
          -0.2975462515868482,
          -0.9903552540790408,
          -2.0298888359656786,
          0.20798858218719538,
          -0.19840303127725278,
          0.9591272839305035,
          -1.0280598843346984,
          -1.3992328031466221,
          0.1824738273519832,
          -0.6025895866492086,
          -0.9843279818631707,
          -1.8390232897687318,
          1.534352550556892,
          1.0097682622746742,
          -0.861460988903354,
          -1.1660932424398551,
          -0.3094667414878226,
          1.1390385211944523,
          0.7427373004453051,
          0.4325319033275298,
          -0.49157497264069144,
          -1.1332619048375008,
          1.1259775995666133,
          1.9633898033012296,
          -0.1707707527943106,
          -0.4707537511823286,
          0.293722238328297,
          -0.6637770134834158,
          0.1301936407996693,
          0.3317424608102532,
          -1.0087404003189793,
          1.5522849293264396,
          0.22765004510397707,
          0.5272387175192732,
          -1.2419532380663771,
          0.33703182748365773,
          -1.7943304931124409,
          1.9246712787355624,
          -0.23366511001055065,
          0.09530901830895594,
          -0.2594634402771084,
          -0.20051248855805656,
          0.5230413669385336,
          -0.5013104579418655,
          0.46862784928238493,
          -1.2320574972191813,
          1.2274744511742934,
          0.9056958647317631,
          0.6943233325625244,
          0.613944109383328,
          0.20386916943256914,
          -0.4326740892386687,
          -0.5777941644677652,
          1.2663919771320504,
          1.4677257199411882,
          -1.8332729500431604
         ]
        },
        {
         "boxpoints": false,
         "line": {
          "width": 1.3
         },
         "marker": {
          "color": "rgba(50, 171, 96, 1.0)"
         },
         "name": "C",
         "orientation": "v",
         "type": "box",
         "y": [
          0.8273152785715431,
          2.592082609608652,
          1.3446371871912153,
          0.8504550879324595,
          1.4411075649619918,
          0.5897397057175384,
          1.4823375219325754,
          0.493545341242126,
          0.2277940736874258,
          0.26800571588185357,
          -0.35721758206893844,
          -0.5240919506759124,
          -0.998536527564416,
          -0.25250677074350025,
          0.34751354653457334,
          0.7319758834630521,
          0.8515431046657899,
          -0.5151755682976872,
          1.1034991243247498,
          -0.2514271267200668,
          0.11530430980968087,
          0.42783703065710466,
          -0.46493111644446494,
          -0.3697897261937152,
          0.5756817113457978,
          0.5590010846145865,
          0.7723509688301612,
          -0.3848689347948521,
          -0.03960165885586036,
          0.044185855710254546,
          -0.5140996425468439,
          0.13193354043914313,
          0.9187833900981137,
          1.484115372604817,
          0.18697754963781588,
          1.9497496515191346,
          -0.025593087049639886,
          0.19876252469269806,
          0.40681310501725126,
          1.5754598787831944,
          0.5434325141033527,
          -1.1639700750272357,
          -2.027499814689522,
          0.3774390179879476,
          0.07839364114765025,
          0.2099088012296653,
          -1.0098193100645472,
          -2.1968598817674136,
          -2.085850838972527,
          0.22237535775602632,
          1.410759157113143,
          0.7575898202084071,
          -0.379137771012906,
          0.05344419077288705,
          -0.39949566994663593,
          0.15032321148972558,
          -0.13006768244103997,
          -0.1104800512865253,
          0.14024177840245208,
          -0.11546794485658657,
          1.1370169489407962,
          1.6418440274751496,
          1.029633502483267,
          2.064768104260361,
          -1.4246738743908782,
          -1.1906028269960245,
          1.1195470807731074,
          0.24714600279234417,
          0.41050677418878273,
          -0.3044927976891417,
          -2.054946754679443,
          -0.7307213097989068,
          -0.8708435579846577,
          -1.1405779109930412,
          -1.3375884485723633,
          -0.8553922504340327,
          0.811982322687059,
          0.6504087801710815,
          0.22215904010631066,
          -1.4420307525037719,
          0.7506310074727195,
          1.3566616786070929,
          0.7461563731341896,
          -0.07648236873264547,
          0.022522698063428805,
          0.6937233126166052,
          -0.32415267449581314,
          0.1577868414126188,
          1.094604977544399,
          -0.7470298922393848,
          0.558516436318415,
          0.7339447070301272,
          0.32600844025502,
          0.7143208325728774,
          1.1930579479539156,
          -0.16489897476312007,
          -0.5023550910613268,
          0.8485020620346165,
          0.6152295906262166,
          -1.7710607238056244
         ]
        },
        {
         "boxpoints": false,
         "line": {
          "width": 1.3
         },
         "marker": {
          "color": "rgba(128, 0, 128, 1.0)"
         },
         "name": "D",
         "orientation": "v",
         "type": "box",
         "y": [
          0.1639515482012815,
          1.8912813739797474,
          0.130753561918199,
          -2.462473908106972,
          -0.6603998166821248,
          1.9977377081442942,
          -1.0129093630599486,
          0.7921290056316523,
          -0.5664348156991554,
          -0.7249453745242685,
          -1.316613740020055,
          -0.6912569883984678,
          -1.240988387334244,
          -0.5210705358852363,
          0.09427243247393506,
          0.23596339084549361,
          0.39613978935162286,
          -0.5036875231146357,
          -1.4879042015174808,
          2.008266172048622,
          -0.9267001478713117,
          0.8886469782275257,
          -0.013999911406236168,
          0.18162473087366604,
          -0.05355539919631981,
          0.8512041291095764,
          1.4188904241052764,
          2.0261909174276163,
          -0.7659204731984209,
          -1.0137288460711575,
          -0.11314826507733342,
          -0.006556842213361446,
          -1.4145634914480307,
          -0.04656715573464401,
          0.11464370009805469,
          1.077154835460711,
          -0.6558996673933815,
          1.6004297267147591,
          1.1560180690378152,
          -1.1020980479547866,
          -0.29695874751007373,
          -2.3171441457140984,
          -0.6845246028821502,
          0.44585404969474557,
          0.023595686585148427,
          0.8643865790452707,
          0.6314911651454947,
          1.2575699668623646,
          0.04729427854654969,
          0.5259727805936953,
          0.619317035851485,
          -0.1106898572460105,
          -1.1664952254834136,
          0.21837344055509192,
          1.7268542929393982,
          1.1910080253594584,
          -0.03371678760423379,
          0.7484607684771561,
          1.7097535689505192,
          1.6719306216288725,
          0.17375769926297524,
          0.37715327609221455,
          -0.5887231780567602,
          -0.09935263687710601,
          0.27712225162381837,
          -0.8609743885728103,
          0.4279101952965506,
          0.3007884188375812,
          0.34063671029127696,
          0.10538779020884839,
          -0.30028901730662577,
          1.0019587248375998,
          0.1832065798821189,
          -1.4554640798274099,
          2.9912213268678367,
          1.6829095016685827,
          -0.6230371284787307,
          0.7837134148587172,
          -0.0842101697097363,
          0.7455313961820127,
          -1.612400798498298,
          -0.3221942083634528,
          -1.2099618162593822,
          -0.35263267466788234,
          0.6164369788445613,
          -0.13032311478530598,
          -1.8835020613120474,
          1.157435009222289,
          0.9121473121955195,
          1.2473321030756332,
          -0.7666362855181403,
          0.7432402678061955,
          0.344599844220491,
          0.6452809496473196,
          0.831922075508615,
          -0.6315196967878742,
          0.21774047700345495,
          -0.04705120336250258,
          -0.2739043016194293,
          0.3032166418279464
         ]
        }
       ],
       "layout": {
        "legend": {
         "bgcolor": "#F5F6F9",
         "font": {
          "color": "#4D5663"
         }
        },
        "paper_bgcolor": "#F5F6F9",
        "plot_bgcolor": "#F5F6F9",
        "template": {
         "data": {
          "bar": [
           {
            "error_x": {
             "color": "#2a3f5f"
            },
            "error_y": {
             "color": "#2a3f5f"
            },
            "marker": {
             "line": {
              "color": "#E5ECF6",
              "width": 0.5
             },
             "pattern": {
              "fillmode": "overlay",
              "size": 10,
              "solidity": 0.2
             }
            },
            "type": "bar"
           }
          ],
          "barpolar": [
           {
            "marker": {
             "line": {
              "color": "#E5ECF6",
              "width": 0.5
             },
             "pattern": {
              "fillmode": "overlay",
              "size": 10,
              "solidity": 0.2
             }
            },
            "type": "barpolar"
           }
          ],
          "carpet": [
           {
            "aaxis": {
             "endlinecolor": "#2a3f5f",
             "gridcolor": "white",
             "linecolor": "white",
             "minorgridcolor": "white",
             "startlinecolor": "#2a3f5f"
            },
            "baxis": {
             "endlinecolor": "#2a3f5f",
             "gridcolor": "white",
             "linecolor": "white",
             "minorgridcolor": "white",
             "startlinecolor": "#2a3f5f"
            },
            "type": "carpet"
           }
          ],
          "choropleth": [
           {
            "colorbar": {
             "outlinewidth": 0,
             "ticks": ""
            },
            "type": "choropleth"
           }
          ],
          "contour": [
           {
            "colorbar": {
             "outlinewidth": 0,
             "ticks": ""
            },
            "colorscale": [
             [
              0,
              "#0d0887"
             ],
             [
              0.1111111111111111,
              "#46039f"
             ],
             [
              0.2222222222222222,
              "#7201a8"
             ],
             [
              0.3333333333333333,
              "#9c179e"
             ],
             [
              0.4444444444444444,
              "#bd3786"
             ],
             [
              0.5555555555555556,
              "#d8576b"
             ],
             [
              0.6666666666666666,
              "#ed7953"
             ],
             [
              0.7777777777777778,
              "#fb9f3a"
             ],
             [
              0.8888888888888888,
              "#fdca26"
             ],
             [
              1,
              "#f0f921"
             ]
            ],
            "type": "contour"
           }
          ],
          "contourcarpet": [
           {
            "colorbar": {
             "outlinewidth": 0,
             "ticks": ""
            },
            "type": "contourcarpet"
           }
          ],
          "heatmap": [
           {
            "colorbar": {
             "outlinewidth": 0,
             "ticks": ""
            },
            "colorscale": [
             [
              0,
              "#0d0887"
             ],
             [
              0.1111111111111111,
              "#46039f"
             ],
             [
              0.2222222222222222,
              "#7201a8"
             ],
             [
              0.3333333333333333,
              "#9c179e"
             ],
             [
              0.4444444444444444,
              "#bd3786"
             ],
             [
              0.5555555555555556,
              "#d8576b"
             ],
             [
              0.6666666666666666,
              "#ed7953"
             ],
             [
              0.7777777777777778,
              "#fb9f3a"
             ],
             [
              0.8888888888888888,
              "#fdca26"
             ],
             [
              1,
              "#f0f921"
             ]
            ],
            "type": "heatmap"
           }
          ],
          "heatmapgl": [
           {
            "colorbar": {
             "outlinewidth": 0,
             "ticks": ""
            },
            "colorscale": [
             [
              0,
              "#0d0887"
             ],
             [
              0.1111111111111111,
              "#46039f"
             ],
             [
              0.2222222222222222,
              "#7201a8"
             ],
             [
              0.3333333333333333,
              "#9c179e"
             ],
             [
              0.4444444444444444,
              "#bd3786"
             ],
             [
              0.5555555555555556,
              "#d8576b"
             ],
             [
              0.6666666666666666,
              "#ed7953"
             ],
             [
              0.7777777777777778,
              "#fb9f3a"
             ],
             [
              0.8888888888888888,
              "#fdca26"
             ],
             [
              1,
              "#f0f921"
             ]
            ],
            "type": "heatmapgl"
           }
          ],
          "histogram": [
           {
            "marker": {
             "pattern": {
              "fillmode": "overlay",
              "size": 10,
              "solidity": 0.2
             }
            },
            "type": "histogram"
           }
          ],
          "histogram2d": [
           {
            "colorbar": {
             "outlinewidth": 0,
             "ticks": ""
            },
            "colorscale": [
             [
              0,
              "#0d0887"
             ],
             [
              0.1111111111111111,
              "#46039f"
             ],
             [
              0.2222222222222222,
              "#7201a8"
             ],
             [
              0.3333333333333333,
              "#9c179e"
             ],
             [
              0.4444444444444444,
              "#bd3786"
             ],
             [
              0.5555555555555556,
              "#d8576b"
             ],
             [
              0.6666666666666666,
              "#ed7953"
             ],
             [
              0.7777777777777778,
              "#fb9f3a"
             ],
             [
              0.8888888888888888,
              "#fdca26"
             ],
             [
              1,
              "#f0f921"
             ]
            ],
            "type": "histogram2d"
           }
          ],
          "histogram2dcontour": [
           {
            "colorbar": {
             "outlinewidth": 0,
             "ticks": ""
            },
            "colorscale": [
             [
              0,
              "#0d0887"
             ],
             [
              0.1111111111111111,
              "#46039f"
             ],
             [
              0.2222222222222222,
              "#7201a8"
             ],
             [
              0.3333333333333333,
              "#9c179e"
             ],
             [
              0.4444444444444444,
              "#bd3786"
             ],
             [
              0.5555555555555556,
              "#d8576b"
             ],
             [
              0.6666666666666666,
              "#ed7953"
             ],
             [
              0.7777777777777778,
              "#fb9f3a"
             ],
             [
              0.8888888888888888,
              "#fdca26"
             ],
             [
              1,
              "#f0f921"
             ]
            ],
            "type": "histogram2dcontour"
           }
          ],
          "mesh3d": [
           {
            "colorbar": {
             "outlinewidth": 0,
             "ticks": ""
            },
            "type": "mesh3d"
           }
          ],
          "parcoords": [
           {
            "line": {
             "colorbar": {
              "outlinewidth": 0,
              "ticks": ""
             }
            },
            "type": "parcoords"
           }
          ],
          "pie": [
           {
            "automargin": true,
            "type": "pie"
           }
          ],
          "scatter": [
           {
            "marker": {
             "colorbar": {
              "outlinewidth": 0,
              "ticks": ""
             }
            },
            "type": "scatter"
           }
          ],
          "scatter3d": [
           {
            "line": {
             "colorbar": {
              "outlinewidth": 0,
              "ticks": ""
             }
            },
            "marker": {
             "colorbar": {
              "outlinewidth": 0,
              "ticks": ""
             }
            },
            "type": "scatter3d"
           }
          ],
          "scattercarpet": [
           {
            "marker": {
             "colorbar": {
              "outlinewidth": 0,
              "ticks": ""
             }
            },
            "type": "scattercarpet"
           }
          ],
          "scattergeo": [
           {
            "marker": {
             "colorbar": {
              "outlinewidth": 0,
              "ticks": ""
             }
            },
            "type": "scattergeo"
           }
          ],
          "scattergl": [
           {
            "marker": {
             "colorbar": {
              "outlinewidth": 0,
              "ticks": ""
             }
            },
            "type": "scattergl"
           }
          ],
          "scattermapbox": [
           {
            "marker": {
             "colorbar": {
              "outlinewidth": 0,
              "ticks": ""
             }
            },
            "type": "scattermapbox"
           }
          ],
          "scatterpolar": [
           {
            "marker": {
             "colorbar": {
              "outlinewidth": 0,
              "ticks": ""
             }
            },
            "type": "scatterpolar"
           }
          ],
          "scatterpolargl": [
           {
            "marker": {
             "colorbar": {
              "outlinewidth": 0,
              "ticks": ""
             }
            },
            "type": "scatterpolargl"
           }
          ],
          "scatterternary": [
           {
            "marker": {
             "colorbar": {
              "outlinewidth": 0,
              "ticks": ""
             }
            },
            "type": "scatterternary"
           }
          ],
          "surface": [
           {
            "colorbar": {
             "outlinewidth": 0,
             "ticks": ""
            },
            "colorscale": [
             [
              0,
              "#0d0887"
             ],
             [
              0.1111111111111111,
              "#46039f"
             ],
             [
              0.2222222222222222,
              "#7201a8"
             ],
             [
              0.3333333333333333,
              "#9c179e"
             ],
             [
              0.4444444444444444,
              "#bd3786"
             ],
             [
              0.5555555555555556,
              "#d8576b"
             ],
             [
              0.6666666666666666,
              "#ed7953"
             ],
             [
              0.7777777777777778,
              "#fb9f3a"
             ],
             [
              0.8888888888888888,
              "#fdca26"
             ],
             [
              1,
              "#f0f921"
             ]
            ],
            "type": "surface"
           }
          ],
          "table": [
           {
            "cells": {
             "fill": {
              "color": "#EBF0F8"
             },
             "line": {
              "color": "white"
             }
            },
            "header": {
             "fill": {
              "color": "#C8D4E3"
             },
             "line": {
              "color": "white"
             }
            },
            "type": "table"
           }
          ]
         },
         "layout": {
          "annotationdefaults": {
           "arrowcolor": "#2a3f5f",
           "arrowhead": 0,
           "arrowwidth": 1
          },
          "autotypenumbers": "strict",
          "coloraxis": {
           "colorbar": {
            "outlinewidth": 0,
            "ticks": ""
           }
          },
          "colorscale": {
           "diverging": [
            [
             0,
             "#8e0152"
            ],
            [
             0.1,
             "#c51b7d"
            ],
            [
             0.2,
             "#de77ae"
            ],
            [
             0.3,
             "#f1b6da"
            ],
            [
             0.4,
             "#fde0ef"
            ],
            [
             0.5,
             "#f7f7f7"
            ],
            [
             0.6,
             "#e6f5d0"
            ],
            [
             0.7,
             "#b8e186"
            ],
            [
             0.8,
             "#7fbc41"
            ],
            [
             0.9,
             "#4d9221"
            ],
            [
             1,
             "#276419"
            ]
           ],
           "sequential": [
            [
             0,
             "#0d0887"
            ],
            [
             0.1111111111111111,
             "#46039f"
            ],
            [
             0.2222222222222222,
             "#7201a8"
            ],
            [
             0.3333333333333333,
             "#9c179e"
            ],
            [
             0.4444444444444444,
             "#bd3786"
            ],
            [
             0.5555555555555556,
             "#d8576b"
            ],
            [
             0.6666666666666666,
             "#ed7953"
            ],
            [
             0.7777777777777778,
             "#fb9f3a"
            ],
            [
             0.8888888888888888,
             "#fdca26"
            ],
            [
             1,
             "#f0f921"
            ]
           ],
           "sequentialminus": [
            [
             0,
             "#0d0887"
            ],
            [
             0.1111111111111111,
             "#46039f"
            ],
            [
             0.2222222222222222,
             "#7201a8"
            ],
            [
             0.3333333333333333,
             "#9c179e"
            ],
            [
             0.4444444444444444,
             "#bd3786"
            ],
            [
             0.5555555555555556,
             "#d8576b"
            ],
            [
             0.6666666666666666,
             "#ed7953"
            ],
            [
             0.7777777777777778,
             "#fb9f3a"
            ],
            [
             0.8888888888888888,
             "#fdca26"
            ],
            [
             1,
             "#f0f921"
            ]
           ]
          },
          "colorway": [
           "#636efa",
           "#EF553B",
           "#00cc96",
           "#ab63fa",
           "#FFA15A",
           "#19d3f3",
           "#FF6692",
           "#B6E880",
           "#FF97FF",
           "#FECB52"
          ],
          "font": {
           "color": "#2a3f5f"
          },
          "geo": {
           "bgcolor": "white",
           "lakecolor": "white",
           "landcolor": "#E5ECF6",
           "showlakes": true,
           "showland": true,
           "subunitcolor": "white"
          },
          "hoverlabel": {
           "align": "left"
          },
          "hovermode": "closest",
          "mapbox": {
           "style": "light"
          },
          "paper_bgcolor": "white",
          "plot_bgcolor": "#E5ECF6",
          "polar": {
           "angularaxis": {
            "gridcolor": "white",
            "linecolor": "white",
            "ticks": ""
           },
           "bgcolor": "#E5ECF6",
           "radialaxis": {
            "gridcolor": "white",
            "linecolor": "white",
            "ticks": ""
           }
          },
          "scene": {
           "xaxis": {
            "backgroundcolor": "#E5ECF6",
            "gridcolor": "white",
            "gridwidth": 2,
            "linecolor": "white",
            "showbackground": true,
            "ticks": "",
            "zerolinecolor": "white"
           },
           "yaxis": {
            "backgroundcolor": "#E5ECF6",
            "gridcolor": "white",
            "gridwidth": 2,
            "linecolor": "white",
            "showbackground": true,
            "ticks": "",
            "zerolinecolor": "white"
           },
           "zaxis": {
            "backgroundcolor": "#E5ECF6",
            "gridcolor": "white",
            "gridwidth": 2,
            "linecolor": "white",
            "showbackground": true,
            "ticks": "",
            "zerolinecolor": "white"
           }
          },
          "shapedefaults": {
           "line": {
            "color": "#2a3f5f"
           }
          },
          "ternary": {
           "aaxis": {
            "gridcolor": "white",
            "linecolor": "white",
            "ticks": ""
           },
           "baxis": {
            "gridcolor": "white",
            "linecolor": "white",
            "ticks": ""
           },
           "bgcolor": "#E5ECF6",
           "caxis": {
            "gridcolor": "white",
            "linecolor": "white",
            "ticks": ""
           }
          },
          "title": {
           "x": 0.05
          },
          "xaxis": {
           "automargin": true,
           "gridcolor": "white",
           "linecolor": "white",
           "ticks": "",
           "title": {
            "standoff": 15
           },
           "zerolinecolor": "white",
           "zerolinewidth": 2
          },
          "yaxis": {
           "automargin": true,
           "gridcolor": "white",
           "linecolor": "white",
           "ticks": "",
           "title": {
            "standoff": 15
           },
           "zerolinecolor": "white",
           "zerolinewidth": 2
          }
         }
        },
        "title": {
         "font": {
          "color": "#4D5663"
         }
        },
        "xaxis": {
         "gridcolor": "#E1E5ED",
         "showgrid": true,
         "tickfont": {
          "color": "#4D5663"
         },
         "title": {
          "font": {
           "color": "#4D5663"
          },
          "text": ""
         },
         "zerolinecolor": "#E1E5ED"
        },
        "yaxis": {
         "gridcolor": "#E1E5ED",
         "showgrid": true,
         "tickfont": {
          "color": "#4D5663"
         },
         "title": {
          "font": {
           "color": "#4D5663"
          },
          "text": ""
         },
         "zerolinecolor": "#E1E5ED"
        }
       }
      },
      "text/html": [
       "<div>                            <div id=\"af274c55-6816-47af-8565-2be9fa67893a\" class=\"plotly-graph-div\" style=\"height:525px; width:100%;\"></div>            <script type=\"text/javascript\">                require([\"plotly\"], function(Plotly) {                    window.PLOTLYENV=window.PLOTLYENV || {};\n",
       "                    window.PLOTLYENV.BASE_URL='https://plot.ly';                                    if (document.getElementById(\"af274c55-6816-47af-8565-2be9fa67893a\")) {                    Plotly.newPlot(                        \"af274c55-6816-47af-8565-2be9fa67893a\",                        [{\"boxpoints\":false,\"line\":{\"width\":1.3},\"marker\":{\"color\":\"rgba(255, 153, 51, 1.0)\"},\"name\":\"A\",\"orientation\":\"v\",\"y\":[0.35989448670498325,-0.4592246745596689,1.1469340676932693,0.011457522595807158,-1.325225593039427,0.6814113631472483,-0.6786363701384942,1.0437656967750097,-0.47746466288488,0.8125037672312054,-0.47404658256936544,1.2031540729757069,1.4635324716319182,0.06280967604194186,-1.3846713229533583,0.857625982236854,0.5068595009022173,0.5580764208978222,0.7283816078799463,1.6679793441485444,0.5494052825729143,2.179905991957352,0.6687883289057667,-0.3900788675173005,0.6003974566718818,-0.4550592069568799,0.024033182599412138,0.8838170831120449,-0.3815550521370984,-1.1351702026828523,1.8944649799641564,0.294708748187957,0.21978311050099436,-0.07065302380242854,-0.07252968052331976,1.1144820614967048,0.606171730343062,-0.8731464829889949,-0.9310256218748634,-1.1793341276575884,-1.257519736482706,-1.7425979839917272,-0.9445804193991463,-1.7502567337064294,-1.4243514037650187,-0.4090315100280699,0.18554365411004087,1.5207346391246686,-1.3323522975428201,-1.0763732961923527,0.935426096415537,0.786447031400014,0.3251381994168318,0.4245928479689998,0.6172282965203385,2.616286334548319,0.35013172747915905,0.23072155751839604,0.1078120918737563,-0.6767857327332797,1.486845300668094,-0.22754332442045902,-0.37629874464913476,0.7463145320495523,-0.19467705150091513,-1.4154453380765688,1.3399136119262056,-1.5777643034446764,-0.27774725451621385,0.20185972252411266,0.9349122376858232,-1.9228425692134634,1.0046670938839755,-0.6508739922195852,0.4269958744781549,0.7736665220816002,-0.1679201401431736,-1.3158405857178361,-0.8227589415389568,2.332130548823311,-0.26318021389783985,-1.4971248638820622,0.3152560911248023,-0.21665547778357377,-1.0023809876326206,1.0562004740071824,0.5338261162974342,1.084603932148778,0.2935647195292971,0.28628110241537885,-1.1494679572805997,-0.25532087031031897,-0.35075476425964247,0.9497286053864785,0.2807308118655686,-0.4251098238132698,-1.0621446257664477,0.41931528695406345,-1.433797178077299,-0.8059425488799932],\"type\":\"box\"},{\"boxpoints\":false,\"line\":{\"width\":1.3},\"marker\":{\"color\":\"rgba(55, 128, 191, 1.0)\"},\"name\":\"B\",\"orientation\":\"v\",\"y\":[-0.9217746063940998,-1.6822361723427532,-0.055572935761315195,-0.7350958966894335,-0.16312573884020234,0.26078513301011524,-1.6077194546656872,-0.16660545555158907,0.4702211267676788,-0.8160247909852378,0.07090561857130953,-0.512506611196169,0.7176328754936439,-0.5532917462243572,-0.8119234722216444,-1.1765423268753135,-1.12954248594935,-0.4149262245711078,-0.4253415826023585,0.8469921767949793,1.881699763566048,-0.25778150596466876,-0.13128008428078422,0.5004041084234315,-1.649491285150849,-0.5042162792070994,0.6218104662260018,-0.5987775790098924,1.4123907764913297,-1.5904079493683279,-0.17544539905896128,-0.26662817691141316,1.6537875958037962,0.47060178918033885,-1.0478398572685959,1.2458723160603526,0.3183776222101448,-0.34137069400463826,0.6268383693928805,-0.49492715859173325,1.7894001280490095,1.0923690990085906,-0.4426468257952904,-1.7570569105500355,-0.2975462515868482,-0.9903552540790408,-2.0298888359656786,0.20798858218719538,-0.19840303127725278,0.9591272839305035,-1.0280598843346984,-1.3992328031466221,0.1824738273519832,-0.6025895866492086,-0.9843279818631707,-1.8390232897687318,1.534352550556892,1.0097682622746742,-0.861460988903354,-1.1660932424398551,-0.3094667414878226,1.1390385211944523,0.7427373004453051,0.4325319033275298,-0.49157497264069144,-1.1332619048375008,1.1259775995666133,1.9633898033012296,-0.1707707527943106,-0.4707537511823286,0.293722238328297,-0.6637770134834158,0.1301936407996693,0.3317424608102532,-1.0087404003189793,1.5522849293264396,0.22765004510397707,0.5272387175192732,-1.2419532380663771,0.33703182748365773,-1.7943304931124409,1.9246712787355624,-0.23366511001055065,0.09530901830895594,-0.2594634402771084,-0.20051248855805656,0.5230413669385336,-0.5013104579418655,0.46862784928238493,-1.2320574972191813,1.2274744511742934,0.9056958647317631,0.6943233325625244,0.613944109383328,0.20386916943256914,-0.4326740892386687,-0.5777941644677652,1.2663919771320504,1.4677257199411882,-1.8332729500431604],\"type\":\"box\"},{\"boxpoints\":false,\"line\":{\"width\":1.3},\"marker\":{\"color\":\"rgba(50, 171, 96, 1.0)\"},\"name\":\"C\",\"orientation\":\"v\",\"y\":[0.8273152785715431,2.592082609608652,1.3446371871912153,0.8504550879324595,1.4411075649619918,0.5897397057175384,1.4823375219325754,0.493545341242126,0.2277940736874258,0.26800571588185357,-0.35721758206893844,-0.5240919506759124,-0.998536527564416,-0.25250677074350025,0.34751354653457334,0.7319758834630521,0.8515431046657899,-0.5151755682976872,1.1034991243247498,-0.2514271267200668,0.11530430980968087,0.42783703065710466,-0.46493111644446494,-0.3697897261937152,0.5756817113457978,0.5590010846145865,0.7723509688301612,-0.3848689347948521,-0.03960165885586036,0.044185855710254546,-0.5140996425468439,0.13193354043914313,0.9187833900981137,1.484115372604817,0.18697754963781588,1.9497496515191346,-0.025593087049639886,0.19876252469269806,0.40681310501725126,1.5754598787831944,0.5434325141033527,-1.1639700750272357,-2.027499814689522,0.3774390179879476,0.07839364114765025,0.2099088012296653,-1.0098193100645472,-2.1968598817674136,-2.085850838972527,0.22237535775602632,1.410759157113143,0.7575898202084071,-0.379137771012906,0.05344419077288705,-0.39949566994663593,0.15032321148972558,-0.13006768244103997,-0.1104800512865253,0.14024177840245208,-0.11546794485658657,1.1370169489407962,1.6418440274751496,1.029633502483267,2.064768104260361,-1.4246738743908782,-1.1906028269960245,1.1195470807731074,0.24714600279234417,0.41050677418878273,-0.3044927976891417,-2.054946754679443,-0.7307213097989068,-0.8708435579846577,-1.1405779109930412,-1.3375884485723633,-0.8553922504340327,0.811982322687059,0.6504087801710815,0.22215904010631066,-1.4420307525037719,0.7506310074727195,1.3566616786070929,0.7461563731341896,-0.07648236873264547,0.022522698063428805,0.6937233126166052,-0.32415267449581314,0.1577868414126188,1.094604977544399,-0.7470298922393848,0.558516436318415,0.7339447070301272,0.32600844025502,0.7143208325728774,1.1930579479539156,-0.16489897476312007,-0.5023550910613268,0.8485020620346165,0.6152295906262166,-1.7710607238056244],\"type\":\"box\"},{\"boxpoints\":false,\"line\":{\"width\":1.3},\"marker\":{\"color\":\"rgba(128, 0, 128, 1.0)\"},\"name\":\"D\",\"orientation\":\"v\",\"y\":[0.1639515482012815,1.8912813739797474,0.130753561918199,-2.462473908106972,-0.6603998166821248,1.9977377081442942,-1.0129093630599486,0.7921290056316523,-0.5664348156991554,-0.7249453745242685,-1.316613740020055,-0.6912569883984678,-1.240988387334244,-0.5210705358852363,0.09427243247393506,0.23596339084549361,0.39613978935162286,-0.5036875231146357,-1.4879042015174808,2.008266172048622,-0.9267001478713117,0.8886469782275257,-0.013999911406236168,0.18162473087366604,-0.05355539919631981,0.8512041291095764,1.4188904241052764,2.0261909174276163,-0.7659204731984209,-1.0137288460711575,-0.11314826507733342,-0.006556842213361446,-1.4145634914480307,-0.04656715573464401,0.11464370009805469,1.077154835460711,-0.6558996673933815,1.6004297267147591,1.1560180690378152,-1.1020980479547866,-0.29695874751007373,-2.3171441457140984,-0.6845246028821502,0.44585404969474557,0.023595686585148427,0.8643865790452707,0.6314911651454947,1.2575699668623646,0.04729427854654969,0.5259727805936953,0.619317035851485,-0.1106898572460105,-1.1664952254834136,0.21837344055509192,1.7268542929393982,1.1910080253594584,-0.03371678760423379,0.7484607684771561,1.7097535689505192,1.6719306216288725,0.17375769926297524,0.37715327609221455,-0.5887231780567602,-0.09935263687710601,0.27712225162381837,-0.8609743885728103,0.4279101952965506,0.3007884188375812,0.34063671029127696,0.10538779020884839,-0.30028901730662577,1.0019587248375998,0.1832065798821189,-1.4554640798274099,2.9912213268678367,1.6829095016685827,-0.6230371284787307,0.7837134148587172,-0.0842101697097363,0.7455313961820127,-1.612400798498298,-0.3221942083634528,-1.2099618162593822,-0.35263267466788234,0.6164369788445613,-0.13032311478530598,-1.8835020613120474,1.157435009222289,0.9121473121955195,1.2473321030756332,-0.7666362855181403,0.7432402678061955,0.344599844220491,0.6452809496473196,0.831922075508615,-0.6315196967878742,0.21774047700345495,-0.04705120336250258,-0.2739043016194293,0.3032166418279464],\"type\":\"box\"}],                        {\"legend\":{\"bgcolor\":\"#F5F6F9\",\"font\":{\"color\":\"#4D5663\"}},\"paper_bgcolor\":\"#F5F6F9\",\"plot_bgcolor\":\"#F5F6F9\",\"template\":{\"data\":{\"barpolar\":[{\"marker\":{\"line\":{\"color\":\"#E5ECF6\",\"width\":0.5},\"pattern\":{\"fillmode\":\"overlay\",\"size\":10,\"solidity\":0.2}},\"type\":\"barpolar\"}],\"bar\":[{\"error_x\":{\"color\":\"#2a3f5f\"},\"error_y\":{\"color\":\"#2a3f5f\"},\"marker\":{\"line\":{\"color\":\"#E5ECF6\",\"width\":0.5},\"pattern\":{\"fillmode\":\"overlay\",\"size\":10,\"solidity\":0.2}},\"type\":\"bar\"}],\"carpet\":[{\"aaxis\":{\"endlinecolor\":\"#2a3f5f\",\"gridcolor\":\"white\",\"linecolor\":\"white\",\"minorgridcolor\":\"white\",\"startlinecolor\":\"#2a3f5f\"},\"baxis\":{\"endlinecolor\":\"#2a3f5f\",\"gridcolor\":\"white\",\"linecolor\":\"white\",\"minorgridcolor\":\"white\",\"startlinecolor\":\"#2a3f5f\"},\"type\":\"carpet\"}],\"choropleth\":[{\"colorbar\":{\"outlinewidth\":0,\"ticks\":\"\"},\"type\":\"choropleth\"}],\"contourcarpet\":[{\"colorbar\":{\"outlinewidth\":0,\"ticks\":\"\"},\"type\":\"contourcarpet\"}],\"contour\":[{\"colorbar\":{\"outlinewidth\":0,\"ticks\":\"\"},\"colorscale\":[[0.0,\"#0d0887\"],[0.1111111111111111,\"#46039f\"],[0.2222222222222222,\"#7201a8\"],[0.3333333333333333,\"#9c179e\"],[0.4444444444444444,\"#bd3786\"],[0.5555555555555556,\"#d8576b\"],[0.6666666666666666,\"#ed7953\"],[0.7777777777777778,\"#fb9f3a\"],[0.8888888888888888,\"#fdca26\"],[1.0,\"#f0f921\"]],\"type\":\"contour\"}],\"heatmapgl\":[{\"colorbar\":{\"outlinewidth\":0,\"ticks\":\"\"},\"colorscale\":[[0.0,\"#0d0887\"],[0.1111111111111111,\"#46039f\"],[0.2222222222222222,\"#7201a8\"],[0.3333333333333333,\"#9c179e\"],[0.4444444444444444,\"#bd3786\"],[0.5555555555555556,\"#d8576b\"],[0.6666666666666666,\"#ed7953\"],[0.7777777777777778,\"#fb9f3a\"],[0.8888888888888888,\"#fdca26\"],[1.0,\"#f0f921\"]],\"type\":\"heatmapgl\"}],\"heatmap\":[{\"colorbar\":{\"outlinewidth\":0,\"ticks\":\"\"},\"colorscale\":[[0.0,\"#0d0887\"],[0.1111111111111111,\"#46039f\"],[0.2222222222222222,\"#7201a8\"],[0.3333333333333333,\"#9c179e\"],[0.4444444444444444,\"#bd3786\"],[0.5555555555555556,\"#d8576b\"],[0.6666666666666666,\"#ed7953\"],[0.7777777777777778,\"#fb9f3a\"],[0.8888888888888888,\"#fdca26\"],[1.0,\"#f0f921\"]],\"type\":\"heatmap\"}],\"histogram2dcontour\":[{\"colorbar\":{\"outlinewidth\":0,\"ticks\":\"\"},\"colorscale\":[[0.0,\"#0d0887\"],[0.1111111111111111,\"#46039f\"],[0.2222222222222222,\"#7201a8\"],[0.3333333333333333,\"#9c179e\"],[0.4444444444444444,\"#bd3786\"],[0.5555555555555556,\"#d8576b\"],[0.6666666666666666,\"#ed7953\"],[0.7777777777777778,\"#fb9f3a\"],[0.8888888888888888,\"#fdca26\"],[1.0,\"#f0f921\"]],\"type\":\"histogram2dcontour\"}],\"histogram2d\":[{\"colorbar\":{\"outlinewidth\":0,\"ticks\":\"\"},\"colorscale\":[[0.0,\"#0d0887\"],[0.1111111111111111,\"#46039f\"],[0.2222222222222222,\"#7201a8\"],[0.3333333333333333,\"#9c179e\"],[0.4444444444444444,\"#bd3786\"],[0.5555555555555556,\"#d8576b\"],[0.6666666666666666,\"#ed7953\"],[0.7777777777777778,\"#fb9f3a\"],[0.8888888888888888,\"#fdca26\"],[1.0,\"#f0f921\"]],\"type\":\"histogram2d\"}],\"histogram\":[{\"marker\":{\"pattern\":{\"fillmode\":\"overlay\",\"size\":10,\"solidity\":0.2}},\"type\":\"histogram\"}],\"mesh3d\":[{\"colorbar\":{\"outlinewidth\":0,\"ticks\":\"\"},\"type\":\"mesh3d\"}],\"parcoords\":[{\"line\":{\"colorbar\":{\"outlinewidth\":0,\"ticks\":\"\"}},\"type\":\"parcoords\"}],\"pie\":[{\"automargin\":true,\"type\":\"pie\"}],\"scatter3d\":[{\"line\":{\"colorbar\":{\"outlinewidth\":0,\"ticks\":\"\"}},\"marker\":{\"colorbar\":{\"outlinewidth\":0,\"ticks\":\"\"}},\"type\":\"scatter3d\"}],\"scattercarpet\":[{\"marker\":{\"colorbar\":{\"outlinewidth\":0,\"ticks\":\"\"}},\"type\":\"scattercarpet\"}],\"scattergeo\":[{\"marker\":{\"colorbar\":{\"outlinewidth\":0,\"ticks\":\"\"}},\"type\":\"scattergeo\"}],\"scattergl\":[{\"marker\":{\"colorbar\":{\"outlinewidth\":0,\"ticks\":\"\"}},\"type\":\"scattergl\"}],\"scattermapbox\":[{\"marker\":{\"colorbar\":{\"outlinewidth\":0,\"ticks\":\"\"}},\"type\":\"scattermapbox\"}],\"scatterpolargl\":[{\"marker\":{\"colorbar\":{\"outlinewidth\":0,\"ticks\":\"\"}},\"type\":\"scatterpolargl\"}],\"scatterpolar\":[{\"marker\":{\"colorbar\":{\"outlinewidth\":0,\"ticks\":\"\"}},\"type\":\"scatterpolar\"}],\"scatter\":[{\"marker\":{\"colorbar\":{\"outlinewidth\":0,\"ticks\":\"\"}},\"type\":\"scatter\"}],\"scatterternary\":[{\"marker\":{\"colorbar\":{\"outlinewidth\":0,\"ticks\":\"\"}},\"type\":\"scatterternary\"}],\"surface\":[{\"colorbar\":{\"outlinewidth\":0,\"ticks\":\"\"},\"colorscale\":[[0.0,\"#0d0887\"],[0.1111111111111111,\"#46039f\"],[0.2222222222222222,\"#7201a8\"],[0.3333333333333333,\"#9c179e\"],[0.4444444444444444,\"#bd3786\"],[0.5555555555555556,\"#d8576b\"],[0.6666666666666666,\"#ed7953\"],[0.7777777777777778,\"#fb9f3a\"],[0.8888888888888888,\"#fdca26\"],[1.0,\"#f0f921\"]],\"type\":\"surface\"}],\"table\":[{\"cells\":{\"fill\":{\"color\":\"#EBF0F8\"},\"line\":{\"color\":\"white\"}},\"header\":{\"fill\":{\"color\":\"#C8D4E3\"},\"line\":{\"color\":\"white\"}},\"type\":\"table\"}]},\"layout\":{\"annotationdefaults\":{\"arrowcolor\":\"#2a3f5f\",\"arrowhead\":0,\"arrowwidth\":1},\"autotypenumbers\":\"strict\",\"coloraxis\":{\"colorbar\":{\"outlinewidth\":0,\"ticks\":\"\"}},\"colorscale\":{\"diverging\":[[0,\"#8e0152\"],[0.1,\"#c51b7d\"],[0.2,\"#de77ae\"],[0.3,\"#f1b6da\"],[0.4,\"#fde0ef\"],[0.5,\"#f7f7f7\"],[0.6,\"#e6f5d0\"],[0.7,\"#b8e186\"],[0.8,\"#7fbc41\"],[0.9,\"#4d9221\"],[1,\"#276419\"]],\"sequential\":[[0.0,\"#0d0887\"],[0.1111111111111111,\"#46039f\"],[0.2222222222222222,\"#7201a8\"],[0.3333333333333333,\"#9c179e\"],[0.4444444444444444,\"#bd3786\"],[0.5555555555555556,\"#d8576b\"],[0.6666666666666666,\"#ed7953\"],[0.7777777777777778,\"#fb9f3a\"],[0.8888888888888888,\"#fdca26\"],[1.0,\"#f0f921\"]],\"sequentialminus\":[[0.0,\"#0d0887\"],[0.1111111111111111,\"#46039f\"],[0.2222222222222222,\"#7201a8\"],[0.3333333333333333,\"#9c179e\"],[0.4444444444444444,\"#bd3786\"],[0.5555555555555556,\"#d8576b\"],[0.6666666666666666,\"#ed7953\"],[0.7777777777777778,\"#fb9f3a\"],[0.8888888888888888,\"#fdca26\"],[1.0,\"#f0f921\"]]},\"colorway\":[\"#636efa\",\"#EF553B\",\"#00cc96\",\"#ab63fa\",\"#FFA15A\",\"#19d3f3\",\"#FF6692\",\"#B6E880\",\"#FF97FF\",\"#FECB52\"],\"font\":{\"color\":\"#2a3f5f\"},\"geo\":{\"bgcolor\":\"white\",\"lakecolor\":\"white\",\"landcolor\":\"#E5ECF6\",\"showlakes\":true,\"showland\":true,\"subunitcolor\":\"white\"},\"hoverlabel\":{\"align\":\"left\"},\"hovermode\":\"closest\",\"mapbox\":{\"style\":\"light\"},\"paper_bgcolor\":\"white\",\"plot_bgcolor\":\"#E5ECF6\",\"polar\":{\"angularaxis\":{\"gridcolor\":\"white\",\"linecolor\":\"white\",\"ticks\":\"\"},\"bgcolor\":\"#E5ECF6\",\"radialaxis\":{\"gridcolor\":\"white\",\"linecolor\":\"white\",\"ticks\":\"\"}},\"scene\":{\"xaxis\":{\"backgroundcolor\":\"#E5ECF6\",\"gridcolor\":\"white\",\"gridwidth\":2,\"linecolor\":\"white\",\"showbackground\":true,\"ticks\":\"\",\"zerolinecolor\":\"white\"},\"yaxis\":{\"backgroundcolor\":\"#E5ECF6\",\"gridcolor\":\"white\",\"gridwidth\":2,\"linecolor\":\"white\",\"showbackground\":true,\"ticks\":\"\",\"zerolinecolor\":\"white\"},\"zaxis\":{\"backgroundcolor\":\"#E5ECF6\",\"gridcolor\":\"white\",\"gridwidth\":2,\"linecolor\":\"white\",\"showbackground\":true,\"ticks\":\"\",\"zerolinecolor\":\"white\"}},\"shapedefaults\":{\"line\":{\"color\":\"#2a3f5f\"}},\"ternary\":{\"aaxis\":{\"gridcolor\":\"white\",\"linecolor\":\"white\",\"ticks\":\"\"},\"baxis\":{\"gridcolor\":\"white\",\"linecolor\":\"white\",\"ticks\":\"\"},\"bgcolor\":\"#E5ECF6\",\"caxis\":{\"gridcolor\":\"white\",\"linecolor\":\"white\",\"ticks\":\"\"}},\"title\":{\"x\":0.05},\"xaxis\":{\"automargin\":true,\"gridcolor\":\"white\",\"linecolor\":\"white\",\"ticks\":\"\",\"title\":{\"standoff\":15},\"zerolinecolor\":\"white\",\"zerolinewidth\":2},\"yaxis\":{\"automargin\":true,\"gridcolor\":\"white\",\"linecolor\":\"white\",\"ticks\":\"\",\"title\":{\"standoff\":15},\"zerolinecolor\":\"white\",\"zerolinewidth\":2}}},\"title\":{\"font\":{\"color\":\"#4D5663\"}},\"xaxis\":{\"gridcolor\":\"#E1E5ED\",\"showgrid\":true,\"tickfont\":{\"color\":\"#4D5663\"},\"title\":{\"font\":{\"color\":\"#4D5663\"},\"text\":\"\"},\"zerolinecolor\":\"#E1E5ED\"},\"yaxis\":{\"gridcolor\":\"#E1E5ED\",\"showgrid\":true,\"tickfont\":{\"color\":\"#4D5663\"},\"title\":{\"font\":{\"color\":\"#4D5663\"},\"text\":\"\"},\"zerolinecolor\":\"#E1E5ED\"}},                        {\"showLink\": true, \"linkText\": \"Export to plot.ly\", \"plotlyServerURL\": \"https://plot.ly\", \"responsive\": true}                    ).then(function(){\n",
       "                            \n",
       "var gd = document.getElementById('af274c55-6816-47af-8565-2be9fa67893a');\n",
       "var x = new MutationObserver(function (mutations, observer) {{\n",
       "        var display = window.getComputedStyle(gd).display;\n",
       "        if (!display || display === 'none') {{\n",
       "            console.log([gd, 'removed!']);\n",
       "            Plotly.purge(gd);\n",
       "            observer.disconnect();\n",
       "        }}\n",
       "}});\n",
       "\n",
       "// Listen for the removal of the full notebook cells\n",
       "var notebookContainer = gd.closest('#notebook-container');\n",
       "if (notebookContainer) {{\n",
       "    x.observe(notebookContainer, {childList: true});\n",
       "}}\n",
       "\n",
       "// Listen for the clearing of the current output cell\n",
       "var outputEl = gd.closest('.output');\n",
       "if (outputEl) {{\n",
       "    x.observe(outputEl, {childList: true});\n",
       "}}\n",
       "\n",
       "                        })                };                });            </script>        </div>"
      ]
     },
     "metadata": {},
     "output_type": "display_data"
    }
   ],
   "source": [
    "df.iplot(kind='box')"
   ]
  },
  {
   "cell_type": "markdown",
   "metadata": {},
   "source": [
    "# 3d Surface"
   ]
  },
  {
   "cell_type": "code",
   "execution_count": 13,
   "metadata": {},
   "outputs": [
    {
     "data": {
      "application/vnd.plotly.v1+json": {
       "config": {
        "linkText": "Export to plot.ly",
        "plotlyServerURL": "https://plot.ly",
        "showLink": true
       },
       "data": [
        {
         "colorscale": [
          [
           0,
           "rgb(165,0,38)"
          ],
          [
           0.1,
           "rgb(215,48,39)"
          ],
          [
           0.2,
           "rgb(244,109,67)"
          ],
          [
           0.3,
           "rgb(253,174,97)"
          ],
          [
           0.4,
           "rgb(254,224,144)"
          ],
          [
           0.5,
           "rgb(255,255,191)"
          ],
          [
           0.6,
           "rgb(224,243,248)"
          ],
          [
           0.7,
           "rgb(171,217,233)"
          ],
          [
           0.8,
           "rgb(116,173,209)"
          ],
          [
           0.9,
           "rgb(69,117,180)"
          ],
          [
           1,
           "rgb(49,54,149)"
          ]
         ],
         "type": "surface",
         "x": [
          0,
          1,
          2,
          3,
          4
         ],
         "y": [
          "x",
          "y",
          "z"
         ],
         "z": [
          [
           1,
           2,
           3,
           4,
           5
          ],
          [
           10,
           20,
           30,
           20,
           10
          ],
          [
           5,
           4,
           3,
           2,
           1
          ]
         ]
        }
       ],
       "layout": {
        "legend": {
         "bgcolor": "#F5F6F9",
         "font": {
          "color": "#4D5663"
         }
        },
        "paper_bgcolor": "#F5F6F9",
        "plot_bgcolor": "#F5F6F9",
        "template": {
         "data": {
          "bar": [
           {
            "error_x": {
             "color": "#2a3f5f"
            },
            "error_y": {
             "color": "#2a3f5f"
            },
            "marker": {
             "line": {
              "color": "#E5ECF6",
              "width": 0.5
             },
             "pattern": {
              "fillmode": "overlay",
              "size": 10,
              "solidity": 0.2
             }
            },
            "type": "bar"
           }
          ],
          "barpolar": [
           {
            "marker": {
             "line": {
              "color": "#E5ECF6",
              "width": 0.5
             },
             "pattern": {
              "fillmode": "overlay",
              "size": 10,
              "solidity": 0.2
             }
            },
            "type": "barpolar"
           }
          ],
          "carpet": [
           {
            "aaxis": {
             "endlinecolor": "#2a3f5f",
             "gridcolor": "white",
             "linecolor": "white",
             "minorgridcolor": "white",
             "startlinecolor": "#2a3f5f"
            },
            "baxis": {
             "endlinecolor": "#2a3f5f",
             "gridcolor": "white",
             "linecolor": "white",
             "minorgridcolor": "white",
             "startlinecolor": "#2a3f5f"
            },
            "type": "carpet"
           }
          ],
          "choropleth": [
           {
            "colorbar": {
             "outlinewidth": 0,
             "ticks": ""
            },
            "type": "choropleth"
           }
          ],
          "contour": [
           {
            "colorbar": {
             "outlinewidth": 0,
             "ticks": ""
            },
            "colorscale": [
             [
              0,
              "#0d0887"
             ],
             [
              0.1111111111111111,
              "#46039f"
             ],
             [
              0.2222222222222222,
              "#7201a8"
             ],
             [
              0.3333333333333333,
              "#9c179e"
             ],
             [
              0.4444444444444444,
              "#bd3786"
             ],
             [
              0.5555555555555556,
              "#d8576b"
             ],
             [
              0.6666666666666666,
              "#ed7953"
             ],
             [
              0.7777777777777778,
              "#fb9f3a"
             ],
             [
              0.8888888888888888,
              "#fdca26"
             ],
             [
              1,
              "#f0f921"
             ]
            ],
            "type": "contour"
           }
          ],
          "contourcarpet": [
           {
            "colorbar": {
             "outlinewidth": 0,
             "ticks": ""
            },
            "type": "contourcarpet"
           }
          ],
          "heatmap": [
           {
            "colorbar": {
             "outlinewidth": 0,
             "ticks": ""
            },
            "colorscale": [
             [
              0,
              "#0d0887"
             ],
             [
              0.1111111111111111,
              "#46039f"
             ],
             [
              0.2222222222222222,
              "#7201a8"
             ],
             [
              0.3333333333333333,
              "#9c179e"
             ],
             [
              0.4444444444444444,
              "#bd3786"
             ],
             [
              0.5555555555555556,
              "#d8576b"
             ],
             [
              0.6666666666666666,
              "#ed7953"
             ],
             [
              0.7777777777777778,
              "#fb9f3a"
             ],
             [
              0.8888888888888888,
              "#fdca26"
             ],
             [
              1,
              "#f0f921"
             ]
            ],
            "type": "heatmap"
           }
          ],
          "heatmapgl": [
           {
            "colorbar": {
             "outlinewidth": 0,
             "ticks": ""
            },
            "colorscale": [
             [
              0,
              "#0d0887"
             ],
             [
              0.1111111111111111,
              "#46039f"
             ],
             [
              0.2222222222222222,
              "#7201a8"
             ],
             [
              0.3333333333333333,
              "#9c179e"
             ],
             [
              0.4444444444444444,
              "#bd3786"
             ],
             [
              0.5555555555555556,
              "#d8576b"
             ],
             [
              0.6666666666666666,
              "#ed7953"
             ],
             [
              0.7777777777777778,
              "#fb9f3a"
             ],
             [
              0.8888888888888888,
              "#fdca26"
             ],
             [
              1,
              "#f0f921"
             ]
            ],
            "type": "heatmapgl"
           }
          ],
          "histogram": [
           {
            "marker": {
             "pattern": {
              "fillmode": "overlay",
              "size": 10,
              "solidity": 0.2
             }
            },
            "type": "histogram"
           }
          ],
          "histogram2d": [
           {
            "colorbar": {
             "outlinewidth": 0,
             "ticks": ""
            },
            "colorscale": [
             [
              0,
              "#0d0887"
             ],
             [
              0.1111111111111111,
              "#46039f"
             ],
             [
              0.2222222222222222,
              "#7201a8"
             ],
             [
              0.3333333333333333,
              "#9c179e"
             ],
             [
              0.4444444444444444,
              "#bd3786"
             ],
             [
              0.5555555555555556,
              "#d8576b"
             ],
             [
              0.6666666666666666,
              "#ed7953"
             ],
             [
              0.7777777777777778,
              "#fb9f3a"
             ],
             [
              0.8888888888888888,
              "#fdca26"
             ],
             [
              1,
              "#f0f921"
             ]
            ],
            "type": "histogram2d"
           }
          ],
          "histogram2dcontour": [
           {
            "colorbar": {
             "outlinewidth": 0,
             "ticks": ""
            },
            "colorscale": [
             [
              0,
              "#0d0887"
             ],
             [
              0.1111111111111111,
              "#46039f"
             ],
             [
              0.2222222222222222,
              "#7201a8"
             ],
             [
              0.3333333333333333,
              "#9c179e"
             ],
             [
              0.4444444444444444,
              "#bd3786"
             ],
             [
              0.5555555555555556,
              "#d8576b"
             ],
             [
              0.6666666666666666,
              "#ed7953"
             ],
             [
              0.7777777777777778,
              "#fb9f3a"
             ],
             [
              0.8888888888888888,
              "#fdca26"
             ],
             [
              1,
              "#f0f921"
             ]
            ],
            "type": "histogram2dcontour"
           }
          ],
          "mesh3d": [
           {
            "colorbar": {
             "outlinewidth": 0,
             "ticks": ""
            },
            "type": "mesh3d"
           }
          ],
          "parcoords": [
           {
            "line": {
             "colorbar": {
              "outlinewidth": 0,
              "ticks": ""
             }
            },
            "type": "parcoords"
           }
          ],
          "pie": [
           {
            "automargin": true,
            "type": "pie"
           }
          ],
          "scatter": [
           {
            "marker": {
             "colorbar": {
              "outlinewidth": 0,
              "ticks": ""
             }
            },
            "type": "scatter"
           }
          ],
          "scatter3d": [
           {
            "line": {
             "colorbar": {
              "outlinewidth": 0,
              "ticks": ""
             }
            },
            "marker": {
             "colorbar": {
              "outlinewidth": 0,
              "ticks": ""
             }
            },
            "type": "scatter3d"
           }
          ],
          "scattercarpet": [
           {
            "marker": {
             "colorbar": {
              "outlinewidth": 0,
              "ticks": ""
             }
            },
            "type": "scattercarpet"
           }
          ],
          "scattergeo": [
           {
            "marker": {
             "colorbar": {
              "outlinewidth": 0,
              "ticks": ""
             }
            },
            "type": "scattergeo"
           }
          ],
          "scattergl": [
           {
            "marker": {
             "colorbar": {
              "outlinewidth": 0,
              "ticks": ""
             }
            },
            "type": "scattergl"
           }
          ],
          "scattermapbox": [
           {
            "marker": {
             "colorbar": {
              "outlinewidth": 0,
              "ticks": ""
             }
            },
            "type": "scattermapbox"
           }
          ],
          "scatterpolar": [
           {
            "marker": {
             "colorbar": {
              "outlinewidth": 0,
              "ticks": ""
             }
            },
            "type": "scatterpolar"
           }
          ],
          "scatterpolargl": [
           {
            "marker": {
             "colorbar": {
              "outlinewidth": 0,
              "ticks": ""
             }
            },
            "type": "scatterpolargl"
           }
          ],
          "scatterternary": [
           {
            "marker": {
             "colorbar": {
              "outlinewidth": 0,
              "ticks": ""
             }
            },
            "type": "scatterternary"
           }
          ],
          "surface": [
           {
            "colorbar": {
             "outlinewidth": 0,
             "ticks": ""
            },
            "colorscale": [
             [
              0,
              "#0d0887"
             ],
             [
              0.1111111111111111,
              "#46039f"
             ],
             [
              0.2222222222222222,
              "#7201a8"
             ],
             [
              0.3333333333333333,
              "#9c179e"
             ],
             [
              0.4444444444444444,
              "#bd3786"
             ],
             [
              0.5555555555555556,
              "#d8576b"
             ],
             [
              0.6666666666666666,
              "#ed7953"
             ],
             [
              0.7777777777777778,
              "#fb9f3a"
             ],
             [
              0.8888888888888888,
              "#fdca26"
             ],
             [
              1,
              "#f0f921"
             ]
            ],
            "type": "surface"
           }
          ],
          "table": [
           {
            "cells": {
             "fill": {
              "color": "#EBF0F8"
             },
             "line": {
              "color": "white"
             }
            },
            "header": {
             "fill": {
              "color": "#C8D4E3"
             },
             "line": {
              "color": "white"
             }
            },
            "type": "table"
           }
          ]
         },
         "layout": {
          "annotationdefaults": {
           "arrowcolor": "#2a3f5f",
           "arrowhead": 0,
           "arrowwidth": 1
          },
          "autotypenumbers": "strict",
          "coloraxis": {
           "colorbar": {
            "outlinewidth": 0,
            "ticks": ""
           }
          },
          "colorscale": {
           "diverging": [
            [
             0,
             "#8e0152"
            ],
            [
             0.1,
             "#c51b7d"
            ],
            [
             0.2,
             "#de77ae"
            ],
            [
             0.3,
             "#f1b6da"
            ],
            [
             0.4,
             "#fde0ef"
            ],
            [
             0.5,
             "#f7f7f7"
            ],
            [
             0.6,
             "#e6f5d0"
            ],
            [
             0.7,
             "#b8e186"
            ],
            [
             0.8,
             "#7fbc41"
            ],
            [
             0.9,
             "#4d9221"
            ],
            [
             1,
             "#276419"
            ]
           ],
           "sequential": [
            [
             0,
             "#0d0887"
            ],
            [
             0.1111111111111111,
             "#46039f"
            ],
            [
             0.2222222222222222,
             "#7201a8"
            ],
            [
             0.3333333333333333,
             "#9c179e"
            ],
            [
             0.4444444444444444,
             "#bd3786"
            ],
            [
             0.5555555555555556,
             "#d8576b"
            ],
            [
             0.6666666666666666,
             "#ed7953"
            ],
            [
             0.7777777777777778,
             "#fb9f3a"
            ],
            [
             0.8888888888888888,
             "#fdca26"
            ],
            [
             1,
             "#f0f921"
            ]
           ],
           "sequentialminus": [
            [
             0,
             "#0d0887"
            ],
            [
             0.1111111111111111,
             "#46039f"
            ],
            [
             0.2222222222222222,
             "#7201a8"
            ],
            [
             0.3333333333333333,
             "#9c179e"
            ],
            [
             0.4444444444444444,
             "#bd3786"
            ],
            [
             0.5555555555555556,
             "#d8576b"
            ],
            [
             0.6666666666666666,
             "#ed7953"
            ],
            [
             0.7777777777777778,
             "#fb9f3a"
            ],
            [
             0.8888888888888888,
             "#fdca26"
            ],
            [
             1,
             "#f0f921"
            ]
           ]
          },
          "colorway": [
           "#636efa",
           "#EF553B",
           "#00cc96",
           "#ab63fa",
           "#FFA15A",
           "#19d3f3",
           "#FF6692",
           "#B6E880",
           "#FF97FF",
           "#FECB52"
          ],
          "font": {
           "color": "#2a3f5f"
          },
          "geo": {
           "bgcolor": "white",
           "lakecolor": "white",
           "landcolor": "#E5ECF6",
           "showlakes": true,
           "showland": true,
           "subunitcolor": "white"
          },
          "hoverlabel": {
           "align": "left"
          },
          "hovermode": "closest",
          "mapbox": {
           "style": "light"
          },
          "paper_bgcolor": "white",
          "plot_bgcolor": "#E5ECF6",
          "polar": {
           "angularaxis": {
            "gridcolor": "white",
            "linecolor": "white",
            "ticks": ""
           },
           "bgcolor": "#E5ECF6",
           "radialaxis": {
            "gridcolor": "white",
            "linecolor": "white",
            "ticks": ""
           }
          },
          "scene": {
           "xaxis": {
            "backgroundcolor": "#E5ECF6",
            "gridcolor": "white",
            "gridwidth": 2,
            "linecolor": "white",
            "showbackground": true,
            "ticks": "",
            "zerolinecolor": "white"
           },
           "yaxis": {
            "backgroundcolor": "#E5ECF6",
            "gridcolor": "white",
            "gridwidth": 2,
            "linecolor": "white",
            "showbackground": true,
            "ticks": "",
            "zerolinecolor": "white"
           },
           "zaxis": {
            "backgroundcolor": "#E5ECF6",
            "gridcolor": "white",
            "gridwidth": 2,
            "linecolor": "white",
            "showbackground": true,
            "ticks": "",
            "zerolinecolor": "white"
           }
          },
          "shapedefaults": {
           "line": {
            "color": "#2a3f5f"
           }
          },
          "ternary": {
           "aaxis": {
            "gridcolor": "white",
            "linecolor": "white",
            "ticks": ""
           },
           "baxis": {
            "gridcolor": "white",
            "linecolor": "white",
            "ticks": ""
           },
           "bgcolor": "#E5ECF6",
           "caxis": {
            "gridcolor": "white",
            "linecolor": "white",
            "ticks": ""
           }
          },
          "title": {
           "x": 0.05
          },
          "xaxis": {
           "automargin": true,
           "gridcolor": "white",
           "linecolor": "white",
           "ticks": "",
           "title": {
            "standoff": 15
           },
           "zerolinecolor": "white",
           "zerolinewidth": 2
          },
          "yaxis": {
           "automargin": true,
           "gridcolor": "white",
           "linecolor": "white",
           "ticks": "",
           "title": {
            "standoff": 15
           },
           "zerolinecolor": "white",
           "zerolinewidth": 2
          }
         }
        },
        "title": {
         "font": {
          "color": "#4D5663"
         }
        },
        "xaxis": {
         "gridcolor": "#E1E5ED",
         "showgrid": true,
         "tickfont": {
          "color": "#4D5663"
         },
         "title": {
          "font": {
           "color": "#4D5663"
          },
          "text": ""
         },
         "zerolinecolor": "#E1E5ED"
        },
        "yaxis": {
         "gridcolor": "#E1E5ED",
         "showgrid": true,
         "tickfont": {
          "color": "#4D5663"
         },
         "title": {
          "font": {
           "color": "#4D5663"
          },
          "text": ""
         },
         "zerolinecolor": "#E1E5ED"
        }
       }
      },
      "text/html": [
       "<div>                            <div id=\"32c67598-90a1-4268-b8a3-1699c872f193\" class=\"plotly-graph-div\" style=\"height:525px; width:100%;\"></div>            <script type=\"text/javascript\">                require([\"plotly\"], function(Plotly) {                    window.PLOTLYENV=window.PLOTLYENV || {};\n",
       "                    window.PLOTLYENV.BASE_URL='https://plot.ly';                                    if (document.getElementById(\"32c67598-90a1-4268-b8a3-1699c872f193\")) {                    Plotly.newPlot(                        \"32c67598-90a1-4268-b8a3-1699c872f193\",                        [{\"colorscale\":[[0.0,\"rgb(165,0,38)\"],[0.1,\"rgb(215,48,39)\"],[0.2,\"rgb(244,109,67)\"],[0.3,\"rgb(253,174,97)\"],[0.4,\"rgb(254,224,144)\"],[0.5,\"rgb(255,255,191)\"],[0.6,\"rgb(224,243,248)\"],[0.7,\"rgb(171,217,233)\"],[0.8,\"rgb(116,173,209)\"],[0.9,\"rgb(69,117,180)\"],[1.0,\"rgb(49,54,149)\"]],\"x\":[0,1,2,3,4],\"y\":[\"x\",\"y\",\"z\"],\"z\":[[1,2,3,4,5],[10,20,30,20,10],[5,4,3,2,1]],\"type\":\"surface\"}],                        {\"legend\":{\"bgcolor\":\"#F5F6F9\",\"font\":{\"color\":\"#4D5663\"}},\"paper_bgcolor\":\"#F5F6F9\",\"plot_bgcolor\":\"#F5F6F9\",\"template\":{\"data\":{\"barpolar\":[{\"marker\":{\"line\":{\"color\":\"#E5ECF6\",\"width\":0.5},\"pattern\":{\"fillmode\":\"overlay\",\"size\":10,\"solidity\":0.2}},\"type\":\"barpolar\"}],\"bar\":[{\"error_x\":{\"color\":\"#2a3f5f\"},\"error_y\":{\"color\":\"#2a3f5f\"},\"marker\":{\"line\":{\"color\":\"#E5ECF6\",\"width\":0.5},\"pattern\":{\"fillmode\":\"overlay\",\"size\":10,\"solidity\":0.2}},\"type\":\"bar\"}],\"carpet\":[{\"aaxis\":{\"endlinecolor\":\"#2a3f5f\",\"gridcolor\":\"white\",\"linecolor\":\"white\",\"minorgridcolor\":\"white\",\"startlinecolor\":\"#2a3f5f\"},\"baxis\":{\"endlinecolor\":\"#2a3f5f\",\"gridcolor\":\"white\",\"linecolor\":\"white\",\"minorgridcolor\":\"white\",\"startlinecolor\":\"#2a3f5f\"},\"type\":\"carpet\"}],\"choropleth\":[{\"colorbar\":{\"outlinewidth\":0,\"ticks\":\"\"},\"type\":\"choropleth\"}],\"contourcarpet\":[{\"colorbar\":{\"outlinewidth\":0,\"ticks\":\"\"},\"type\":\"contourcarpet\"}],\"contour\":[{\"colorbar\":{\"outlinewidth\":0,\"ticks\":\"\"},\"colorscale\":[[0.0,\"#0d0887\"],[0.1111111111111111,\"#46039f\"],[0.2222222222222222,\"#7201a8\"],[0.3333333333333333,\"#9c179e\"],[0.4444444444444444,\"#bd3786\"],[0.5555555555555556,\"#d8576b\"],[0.6666666666666666,\"#ed7953\"],[0.7777777777777778,\"#fb9f3a\"],[0.8888888888888888,\"#fdca26\"],[1.0,\"#f0f921\"]],\"type\":\"contour\"}],\"heatmapgl\":[{\"colorbar\":{\"outlinewidth\":0,\"ticks\":\"\"},\"colorscale\":[[0.0,\"#0d0887\"],[0.1111111111111111,\"#46039f\"],[0.2222222222222222,\"#7201a8\"],[0.3333333333333333,\"#9c179e\"],[0.4444444444444444,\"#bd3786\"],[0.5555555555555556,\"#d8576b\"],[0.6666666666666666,\"#ed7953\"],[0.7777777777777778,\"#fb9f3a\"],[0.8888888888888888,\"#fdca26\"],[1.0,\"#f0f921\"]],\"type\":\"heatmapgl\"}],\"heatmap\":[{\"colorbar\":{\"outlinewidth\":0,\"ticks\":\"\"},\"colorscale\":[[0.0,\"#0d0887\"],[0.1111111111111111,\"#46039f\"],[0.2222222222222222,\"#7201a8\"],[0.3333333333333333,\"#9c179e\"],[0.4444444444444444,\"#bd3786\"],[0.5555555555555556,\"#d8576b\"],[0.6666666666666666,\"#ed7953\"],[0.7777777777777778,\"#fb9f3a\"],[0.8888888888888888,\"#fdca26\"],[1.0,\"#f0f921\"]],\"type\":\"heatmap\"}],\"histogram2dcontour\":[{\"colorbar\":{\"outlinewidth\":0,\"ticks\":\"\"},\"colorscale\":[[0.0,\"#0d0887\"],[0.1111111111111111,\"#46039f\"],[0.2222222222222222,\"#7201a8\"],[0.3333333333333333,\"#9c179e\"],[0.4444444444444444,\"#bd3786\"],[0.5555555555555556,\"#d8576b\"],[0.6666666666666666,\"#ed7953\"],[0.7777777777777778,\"#fb9f3a\"],[0.8888888888888888,\"#fdca26\"],[1.0,\"#f0f921\"]],\"type\":\"histogram2dcontour\"}],\"histogram2d\":[{\"colorbar\":{\"outlinewidth\":0,\"ticks\":\"\"},\"colorscale\":[[0.0,\"#0d0887\"],[0.1111111111111111,\"#46039f\"],[0.2222222222222222,\"#7201a8\"],[0.3333333333333333,\"#9c179e\"],[0.4444444444444444,\"#bd3786\"],[0.5555555555555556,\"#d8576b\"],[0.6666666666666666,\"#ed7953\"],[0.7777777777777778,\"#fb9f3a\"],[0.8888888888888888,\"#fdca26\"],[1.0,\"#f0f921\"]],\"type\":\"histogram2d\"}],\"histogram\":[{\"marker\":{\"pattern\":{\"fillmode\":\"overlay\",\"size\":10,\"solidity\":0.2}},\"type\":\"histogram\"}],\"mesh3d\":[{\"colorbar\":{\"outlinewidth\":0,\"ticks\":\"\"},\"type\":\"mesh3d\"}],\"parcoords\":[{\"line\":{\"colorbar\":{\"outlinewidth\":0,\"ticks\":\"\"}},\"type\":\"parcoords\"}],\"pie\":[{\"automargin\":true,\"type\":\"pie\"}],\"scatter3d\":[{\"line\":{\"colorbar\":{\"outlinewidth\":0,\"ticks\":\"\"}},\"marker\":{\"colorbar\":{\"outlinewidth\":0,\"ticks\":\"\"}},\"type\":\"scatter3d\"}],\"scattercarpet\":[{\"marker\":{\"colorbar\":{\"outlinewidth\":0,\"ticks\":\"\"}},\"type\":\"scattercarpet\"}],\"scattergeo\":[{\"marker\":{\"colorbar\":{\"outlinewidth\":0,\"ticks\":\"\"}},\"type\":\"scattergeo\"}],\"scattergl\":[{\"marker\":{\"colorbar\":{\"outlinewidth\":0,\"ticks\":\"\"}},\"type\":\"scattergl\"}],\"scattermapbox\":[{\"marker\":{\"colorbar\":{\"outlinewidth\":0,\"ticks\":\"\"}},\"type\":\"scattermapbox\"}],\"scatterpolargl\":[{\"marker\":{\"colorbar\":{\"outlinewidth\":0,\"ticks\":\"\"}},\"type\":\"scatterpolargl\"}],\"scatterpolar\":[{\"marker\":{\"colorbar\":{\"outlinewidth\":0,\"ticks\":\"\"}},\"type\":\"scatterpolar\"}],\"scatter\":[{\"marker\":{\"colorbar\":{\"outlinewidth\":0,\"ticks\":\"\"}},\"type\":\"scatter\"}],\"scatterternary\":[{\"marker\":{\"colorbar\":{\"outlinewidth\":0,\"ticks\":\"\"}},\"type\":\"scatterternary\"}],\"surface\":[{\"colorbar\":{\"outlinewidth\":0,\"ticks\":\"\"},\"colorscale\":[[0.0,\"#0d0887\"],[0.1111111111111111,\"#46039f\"],[0.2222222222222222,\"#7201a8\"],[0.3333333333333333,\"#9c179e\"],[0.4444444444444444,\"#bd3786\"],[0.5555555555555556,\"#d8576b\"],[0.6666666666666666,\"#ed7953\"],[0.7777777777777778,\"#fb9f3a\"],[0.8888888888888888,\"#fdca26\"],[1.0,\"#f0f921\"]],\"type\":\"surface\"}],\"table\":[{\"cells\":{\"fill\":{\"color\":\"#EBF0F8\"},\"line\":{\"color\":\"white\"}},\"header\":{\"fill\":{\"color\":\"#C8D4E3\"},\"line\":{\"color\":\"white\"}},\"type\":\"table\"}]},\"layout\":{\"annotationdefaults\":{\"arrowcolor\":\"#2a3f5f\",\"arrowhead\":0,\"arrowwidth\":1},\"autotypenumbers\":\"strict\",\"coloraxis\":{\"colorbar\":{\"outlinewidth\":0,\"ticks\":\"\"}},\"colorscale\":{\"diverging\":[[0,\"#8e0152\"],[0.1,\"#c51b7d\"],[0.2,\"#de77ae\"],[0.3,\"#f1b6da\"],[0.4,\"#fde0ef\"],[0.5,\"#f7f7f7\"],[0.6,\"#e6f5d0\"],[0.7,\"#b8e186\"],[0.8,\"#7fbc41\"],[0.9,\"#4d9221\"],[1,\"#276419\"]],\"sequential\":[[0.0,\"#0d0887\"],[0.1111111111111111,\"#46039f\"],[0.2222222222222222,\"#7201a8\"],[0.3333333333333333,\"#9c179e\"],[0.4444444444444444,\"#bd3786\"],[0.5555555555555556,\"#d8576b\"],[0.6666666666666666,\"#ed7953\"],[0.7777777777777778,\"#fb9f3a\"],[0.8888888888888888,\"#fdca26\"],[1.0,\"#f0f921\"]],\"sequentialminus\":[[0.0,\"#0d0887\"],[0.1111111111111111,\"#46039f\"],[0.2222222222222222,\"#7201a8\"],[0.3333333333333333,\"#9c179e\"],[0.4444444444444444,\"#bd3786\"],[0.5555555555555556,\"#d8576b\"],[0.6666666666666666,\"#ed7953\"],[0.7777777777777778,\"#fb9f3a\"],[0.8888888888888888,\"#fdca26\"],[1.0,\"#f0f921\"]]},\"colorway\":[\"#636efa\",\"#EF553B\",\"#00cc96\",\"#ab63fa\",\"#FFA15A\",\"#19d3f3\",\"#FF6692\",\"#B6E880\",\"#FF97FF\",\"#FECB52\"],\"font\":{\"color\":\"#2a3f5f\"},\"geo\":{\"bgcolor\":\"white\",\"lakecolor\":\"white\",\"landcolor\":\"#E5ECF6\",\"showlakes\":true,\"showland\":true,\"subunitcolor\":\"white\"},\"hoverlabel\":{\"align\":\"left\"},\"hovermode\":\"closest\",\"mapbox\":{\"style\":\"light\"},\"paper_bgcolor\":\"white\",\"plot_bgcolor\":\"#E5ECF6\",\"polar\":{\"angularaxis\":{\"gridcolor\":\"white\",\"linecolor\":\"white\",\"ticks\":\"\"},\"bgcolor\":\"#E5ECF6\",\"radialaxis\":{\"gridcolor\":\"white\",\"linecolor\":\"white\",\"ticks\":\"\"}},\"scene\":{\"xaxis\":{\"backgroundcolor\":\"#E5ECF6\",\"gridcolor\":\"white\",\"gridwidth\":2,\"linecolor\":\"white\",\"showbackground\":true,\"ticks\":\"\",\"zerolinecolor\":\"white\"},\"yaxis\":{\"backgroundcolor\":\"#E5ECF6\",\"gridcolor\":\"white\",\"gridwidth\":2,\"linecolor\":\"white\",\"showbackground\":true,\"ticks\":\"\",\"zerolinecolor\":\"white\"},\"zaxis\":{\"backgroundcolor\":\"#E5ECF6\",\"gridcolor\":\"white\",\"gridwidth\":2,\"linecolor\":\"white\",\"showbackground\":true,\"ticks\":\"\",\"zerolinecolor\":\"white\"}},\"shapedefaults\":{\"line\":{\"color\":\"#2a3f5f\"}},\"ternary\":{\"aaxis\":{\"gridcolor\":\"white\",\"linecolor\":\"white\",\"ticks\":\"\"},\"baxis\":{\"gridcolor\":\"white\",\"linecolor\":\"white\",\"ticks\":\"\"},\"bgcolor\":\"#E5ECF6\",\"caxis\":{\"gridcolor\":\"white\",\"linecolor\":\"white\",\"ticks\":\"\"}},\"title\":{\"x\":0.05},\"xaxis\":{\"automargin\":true,\"gridcolor\":\"white\",\"linecolor\":\"white\",\"ticks\":\"\",\"title\":{\"standoff\":15},\"zerolinecolor\":\"white\",\"zerolinewidth\":2},\"yaxis\":{\"automargin\":true,\"gridcolor\":\"white\",\"linecolor\":\"white\",\"ticks\":\"\",\"title\":{\"standoff\":15},\"zerolinecolor\":\"white\",\"zerolinewidth\":2}}},\"title\":{\"font\":{\"color\":\"#4D5663\"}},\"xaxis\":{\"gridcolor\":\"#E1E5ED\",\"showgrid\":true,\"tickfont\":{\"color\":\"#4D5663\"},\"title\":{\"font\":{\"color\":\"#4D5663\"},\"text\":\"\"},\"zerolinecolor\":\"#E1E5ED\"},\"yaxis\":{\"gridcolor\":\"#E1E5ED\",\"showgrid\":true,\"tickfont\":{\"color\":\"#4D5663\"},\"title\":{\"font\":{\"color\":\"#4D5663\"},\"text\":\"\"},\"zerolinecolor\":\"#E1E5ED\"}},                        {\"showLink\": true, \"linkText\": \"Export to plot.ly\", \"plotlyServerURL\": \"https://plot.ly\", \"responsive\": true}                    ).then(function(){\n",
       "                            \n",
       "var gd = document.getElementById('32c67598-90a1-4268-b8a3-1699c872f193');\n",
       "var x = new MutationObserver(function (mutations, observer) {{\n",
       "        var display = window.getComputedStyle(gd).display;\n",
       "        if (!display || display === 'none') {{\n",
       "            console.log([gd, 'removed!']);\n",
       "            Plotly.purge(gd);\n",
       "            observer.disconnect();\n",
       "        }}\n",
       "}});\n",
       "\n",
       "// Listen for the removal of the full notebook cells\n",
       "var notebookContainer = gd.closest('#notebook-container');\n",
       "if (notebookContainer) {{\n",
       "    x.observe(notebookContainer, {childList: true});\n",
       "}}\n",
       "\n",
       "// Listen for the clearing of the current output cell\n",
       "var outputEl = gd.closest('.output');\n",
       "if (outputEl) {{\n",
       "    x.observe(outputEl, {childList: true});\n",
       "}}\n",
       "\n",
       "                        })                };                });            </script>        </div>"
      ]
     },
     "metadata": {},
     "output_type": "display_data"
    }
   ],
   "source": [
    "df3 = pd.DataFrame({'x':[1,2,3,4,5],'y':[10,20,30,20,10],'z':[5,4,3,2,1]})\n",
    "df3.iplot(kind='surface',colorscale='rdylbu')"
   ]
  },
  {
   "cell_type": "markdown",
   "metadata": {},
   "source": [
    "# Spread"
   ]
  },
  {
   "cell_type": "code",
   "execution_count": 14,
   "metadata": {},
   "outputs": [
    {
     "name": "stderr",
     "output_type": "stream",
     "text": [
      "/Users/Noura/opt/anaconda3/lib/python3.8/site-packages/cufflinks/plotlytools.py:849: FutureWarning:\n",
      "\n",
      "The pandas.np module is deprecated and will be removed from pandas in a future version. Import numpy directly instead.\n",
      "\n",
      "/Users/Noura/opt/anaconda3/lib/python3.8/site-packages/cufflinks/plotlytools.py:850: FutureWarning:\n",
      "\n",
      "The pandas.np module is deprecated and will be removed from pandas in a future version. Import numpy directly instead.\n",
      "\n"
     ]
    },
    {
     "data": {
      "application/vnd.plotly.v1+json": {
       "config": {
        "linkText": "Export to plot.ly",
        "plotlyServerURL": "https://plot.ly",
        "showLink": true
       },
       "data": [
        {
         "line": {
          "color": "rgba(255, 153, 51, 1.0)",
          "dash": "solid",
          "shape": "linear",
          "width": 1.3
         },
         "mode": "lines",
         "name": "A",
         "text": "",
         "type": "scatter",
         "x": [
          0,
          1,
          2,
          3,
          4,
          5,
          6,
          7,
          8,
          9,
          10,
          11,
          12,
          13,
          14,
          15,
          16,
          17,
          18,
          19,
          20,
          21,
          22,
          23,
          24,
          25,
          26,
          27,
          28,
          29,
          30,
          31,
          32,
          33,
          34,
          35,
          36,
          37,
          38,
          39,
          40,
          41,
          42,
          43,
          44,
          45,
          46,
          47,
          48,
          49,
          50,
          51,
          52,
          53,
          54,
          55,
          56,
          57,
          58,
          59,
          60,
          61,
          62,
          63,
          64,
          65,
          66,
          67,
          68,
          69,
          70,
          71,
          72,
          73,
          74,
          75,
          76,
          77,
          78,
          79,
          80,
          81,
          82,
          83,
          84,
          85,
          86,
          87,
          88,
          89,
          90,
          91,
          92,
          93,
          94,
          95,
          96,
          97,
          98,
          99
         ],
         "y": [
          0.35989448670498325,
          -0.4592246745596689,
          1.1469340676932693,
          0.011457522595807158,
          -1.325225593039427,
          0.6814113631472483,
          -0.6786363701384942,
          1.0437656967750097,
          -0.47746466288488,
          0.8125037672312054,
          -0.47404658256936544,
          1.2031540729757069,
          1.4635324716319182,
          0.06280967604194186,
          -1.3846713229533583,
          0.857625982236854,
          0.5068595009022173,
          0.5580764208978222,
          0.7283816078799463,
          1.6679793441485444,
          0.5494052825729143,
          2.179905991957352,
          0.6687883289057667,
          -0.3900788675173005,
          0.6003974566718818,
          -0.4550592069568799,
          0.024033182599412138,
          0.8838170831120449,
          -0.3815550521370984,
          -1.1351702026828523,
          1.8944649799641564,
          0.294708748187957,
          0.21978311050099436,
          -0.07065302380242854,
          -0.07252968052331976,
          1.1144820614967048,
          0.606171730343062,
          -0.8731464829889949,
          -0.9310256218748634,
          -1.1793341276575884,
          -1.257519736482706,
          -1.7425979839917272,
          -0.9445804193991463,
          -1.7502567337064294,
          -1.4243514037650187,
          -0.4090315100280699,
          0.18554365411004087,
          1.5207346391246686,
          -1.3323522975428201,
          -1.0763732961923527,
          0.935426096415537,
          0.786447031400014,
          0.3251381994168318,
          0.4245928479689998,
          0.6172282965203385,
          2.616286334548319,
          0.35013172747915905,
          0.23072155751839604,
          0.1078120918737563,
          -0.6767857327332797,
          1.486845300668094,
          -0.22754332442045902,
          -0.37629874464913476,
          0.7463145320495523,
          -0.19467705150091513,
          -1.4154453380765688,
          1.3399136119262056,
          -1.5777643034446764,
          -0.27774725451621385,
          0.20185972252411266,
          0.9349122376858232,
          -1.9228425692134634,
          1.0046670938839755,
          -0.6508739922195852,
          0.4269958744781549,
          0.7736665220816002,
          -0.1679201401431736,
          -1.3158405857178361,
          -0.8227589415389568,
          2.332130548823311,
          -0.26318021389783985,
          -1.4971248638820622,
          0.3152560911248023,
          -0.21665547778357377,
          -1.0023809876326206,
          1.0562004740071824,
          0.5338261162974342,
          1.084603932148778,
          0.2935647195292971,
          0.28628110241537885,
          -1.1494679572805997,
          -0.25532087031031897,
          -0.35075476425964247,
          0.9497286053864785,
          0.2807308118655686,
          -0.4251098238132698,
          -1.0621446257664477,
          0.41931528695406345,
          -1.433797178077299,
          -0.8059425488799932
         ]
        },
        {
         "line": {
          "color": "rgba(55, 128, 191, 1.0)",
          "dash": "solid",
          "shape": "linear",
          "width": 1.3
         },
         "mode": "lines",
         "name": "B",
         "text": "",
         "type": "scatter",
         "x": [
          0,
          1,
          2,
          3,
          4,
          5,
          6,
          7,
          8,
          9,
          10,
          11,
          12,
          13,
          14,
          15,
          16,
          17,
          18,
          19,
          20,
          21,
          22,
          23,
          24,
          25,
          26,
          27,
          28,
          29,
          30,
          31,
          32,
          33,
          34,
          35,
          36,
          37,
          38,
          39,
          40,
          41,
          42,
          43,
          44,
          45,
          46,
          47,
          48,
          49,
          50,
          51,
          52,
          53,
          54,
          55,
          56,
          57,
          58,
          59,
          60,
          61,
          62,
          63,
          64,
          65,
          66,
          67,
          68,
          69,
          70,
          71,
          72,
          73,
          74,
          75,
          76,
          77,
          78,
          79,
          80,
          81,
          82,
          83,
          84,
          85,
          86,
          87,
          88,
          89,
          90,
          91,
          92,
          93,
          94,
          95,
          96,
          97,
          98,
          99
         ],
         "y": [
          -0.9217746063940998,
          -1.6822361723427532,
          -0.055572935761315195,
          -0.7350958966894335,
          -0.16312573884020234,
          0.26078513301011524,
          -1.6077194546656872,
          -0.16660545555158907,
          0.4702211267676788,
          -0.8160247909852378,
          0.07090561857130953,
          -0.512506611196169,
          0.7176328754936439,
          -0.5532917462243572,
          -0.8119234722216444,
          -1.1765423268753135,
          -1.12954248594935,
          -0.4149262245711078,
          -0.4253415826023585,
          0.8469921767949793,
          1.881699763566048,
          -0.25778150596466876,
          -0.13128008428078422,
          0.5004041084234315,
          -1.649491285150849,
          -0.5042162792070994,
          0.6218104662260018,
          -0.5987775790098924,
          1.4123907764913297,
          -1.5904079493683279,
          -0.17544539905896128,
          -0.26662817691141316,
          1.6537875958037962,
          0.47060178918033885,
          -1.0478398572685959,
          1.2458723160603526,
          0.3183776222101448,
          -0.34137069400463826,
          0.6268383693928805,
          -0.49492715859173325,
          1.7894001280490095,
          1.0923690990085906,
          -0.4426468257952904,
          -1.7570569105500355,
          -0.2975462515868482,
          -0.9903552540790408,
          -2.0298888359656786,
          0.20798858218719538,
          -0.19840303127725278,
          0.9591272839305035,
          -1.0280598843346984,
          -1.3992328031466221,
          0.1824738273519832,
          -0.6025895866492086,
          -0.9843279818631707,
          -1.8390232897687318,
          1.534352550556892,
          1.0097682622746742,
          -0.861460988903354,
          -1.1660932424398551,
          -0.3094667414878226,
          1.1390385211944523,
          0.7427373004453051,
          0.4325319033275298,
          -0.49157497264069144,
          -1.1332619048375008,
          1.1259775995666133,
          1.9633898033012296,
          -0.1707707527943106,
          -0.4707537511823286,
          0.293722238328297,
          -0.6637770134834158,
          0.1301936407996693,
          0.3317424608102532,
          -1.0087404003189793,
          1.5522849293264396,
          0.22765004510397707,
          0.5272387175192732,
          -1.2419532380663771,
          0.33703182748365773,
          -1.7943304931124409,
          1.9246712787355624,
          -0.23366511001055065,
          0.09530901830895594,
          -0.2594634402771084,
          -0.20051248855805656,
          0.5230413669385336,
          -0.5013104579418655,
          0.46862784928238493,
          -1.2320574972191813,
          1.2274744511742934,
          0.9056958647317631,
          0.6943233325625244,
          0.613944109383328,
          0.20386916943256914,
          -0.4326740892386687,
          -0.5777941644677652,
          1.2663919771320504,
          1.4677257199411882,
          -1.8332729500431604
         ]
        },
        {
         "connectgaps": false,
         "fill": "tozeroy",
         "line": {
          "color": "green",
          "dash": "solid",
          "shape": "linear",
          "width": 0.5
         },
         "mode": "lines",
         "name": "Spread",
         "showlegend": false,
         "type": "scatter",
         "x": [
          0,
          1,
          2,
          3,
          4,
          5,
          6,
          7,
          8,
          9,
          10,
          11,
          12,
          13,
          14,
          15,
          16,
          17,
          18,
          19,
          20,
          21,
          22,
          23,
          24,
          25,
          26,
          27,
          28,
          29,
          30,
          31,
          32,
          33,
          34,
          35,
          36,
          37,
          38,
          39,
          40,
          41,
          42,
          43,
          44,
          45,
          46,
          47,
          48,
          49,
          50,
          51,
          52,
          53,
          54,
          55,
          56,
          57,
          58,
          59,
          60,
          61,
          62,
          63,
          64,
          65,
          66,
          67,
          68,
          69,
          70,
          71,
          72,
          73,
          74,
          75,
          76,
          77,
          78,
          79,
          80,
          81,
          82,
          83,
          84,
          85,
          86,
          87,
          88,
          89,
          90,
          91,
          92,
          93,
          94,
          95,
          96,
          97,
          98,
          99
         ],
         "xaxis": "x2",
         "y": [
          1.281669093099083,
          1.2230114977830844,
          1.2025070034545846,
          0.7465534192852407,
          "",
          0.420626230137133,
          0.929083084527193,
          1.2103711523265988,
          "",
          1.6285285582164433,
          "",
          1.7156606841718758,
          0.7458995961382744,
          0.616101422266299,
          "",
          2.0341683091121676,
          1.6364019868515673,
          0.97300264546893,
          1.1537231904823049,
          0.8209871673535651,
          "",
          2.437687497922021,
          0.8000684131865509,
          "",
          2.2498887418227307,
          0.049157072250219536,
          "",
          1.4825946621219372,
          "",
          0.45523774668547556,
          2.069910379023118,
          0.5613369250993702,
          "",
          "",
          0.9753101767452761,
          "",
          0.2877941081329172,
          "",
          "",
          "",
          "",
          "",
          "",
          0.0068001768436061205,
          "",
          0.5813237440509709,
          2.2154324900757194,
          1.3127460569374731,
          "",
          "",
          1.9634859807502354,
          2.185679834546636,
          0.1426643720648486,
          1.0271824346182084,
          1.6015562783835091,
          4.455309624317051,
          "",
          "",
          0.9692730807771103,
          0.48930750970657544,
          1.7963120421559164,
          "",
          "",
          0.31378262872202256,
          0.2968979211397763,
          "",
          0.21393601235959236,
          "",
          "",
          0.6726134737064413,
          0.6411899993575262,
          "",
          0.8744734530843061,
          "",
          1.4357362747971343,
          "",
          "",
          "",
          0.41919429652742035,
          1.9950987213396534,
          1.531150279214601,
          "",
          0.5489212011353529,
          "",
          "",
          1.256712962565239,
          0.010784749358900503,
          1.5859143900906434,
          "",
          1.5183385996345602,
          "",
          "",
          "",
          0.3357844960031505,
          0.07686164243299945,
          0.007564265425398897,
          "",
          "",
          "",
          1.0273304011631672
         ],
         "yaxis": "y2"
        },
        {
         "connectgaps": false,
         "fill": "tozeroy",
         "line": {
          "color": "red",
          "dash": "solid",
          "shape": "linear",
          "width": 0.5
         },
         "mode": "lines",
         "name": "Spread",
         "showlegend": false,
         "type": "scatter",
         "x": [
          0,
          1,
          2,
          3,
          4,
          5,
          6,
          7,
          8,
          9,
          10,
          11,
          12,
          13,
          14,
          15,
          16,
          17,
          18,
          19,
          20,
          21,
          22,
          23,
          24,
          25,
          26,
          27,
          28,
          29,
          30,
          31,
          32,
          33,
          34,
          35,
          36,
          37,
          38,
          39,
          40,
          41,
          42,
          43,
          44,
          45,
          46,
          47,
          48,
          49,
          50,
          51,
          52,
          53,
          54,
          55,
          56,
          57,
          58,
          59,
          60,
          61,
          62,
          63,
          64,
          65,
          66,
          67,
          68,
          69,
          70,
          71,
          72,
          73,
          74,
          75,
          76,
          77,
          78,
          79,
          80,
          81,
          82,
          83,
          84,
          85,
          86,
          87,
          88,
          89,
          90,
          91,
          92,
          93,
          94,
          95,
          96,
          97,
          98,
          99
         ],
         "xaxis": "x2",
         "y": [
          "",
          "",
          "",
          "",
          -1.1620998541992247,
          "",
          "",
          "",
          -0.9476857896525588,
          "",
          -0.544952201140675,
          "",
          "",
          "",
          -0.5727478507317139,
          "",
          "",
          "",
          "",
          "",
          -1.3322944809931336,
          "",
          "",
          -0.890482975940732,
          "",
          "",
          -0.5977772836265897,
          "",
          -1.793945828628428,
          "",
          "",
          "",
          -1.4340044853028018,
          -0.5412548129827673,
          "",
          -0.13139025456364783,
          "",
          -0.5317757889843566,
          -1.5578639912677439,
          -0.6844069690658552,
          -3.0469198645317155,
          -2.8349670830003175,
          -0.5019335936038558,
          "",
          -1.1268051521781706,
          "",
          "",
          "",
          -1.1339492662655672,
          -2.0355005801228563,
          "",
          "",
          "",
          "",
          "",
          "",
          -1.184220823077733,
          -0.7790467047562781,
          "",
          "",
          "",
          -1.3665818456149113,
          -1.1190360450944399,
          "",
          "",
          -0.282183433239068,
          "",
          -3.541154106745906,
          -0.10697650172190326,
          "",
          "",
          -1.2590655557300476,
          "",
          -0.9826164530298385,
          "",
          -0.7786184072448393,
          -0.3955701852471507,
          -1.8430793032371093,
          "",
          "",
          "",
          -3.421796142617625,
          "",
          -0.31196449609252974,
          -0.7429175473555123,
          "",
          "",
          "",
          -0.17506312975308785,
          "",
          -2.376942408454893,
          -1.1610167350420821,
          -1.045078096822167,
          "",
          "",
          "",
          -0.48435046129868253,
          -0.8470766901779869,
          -2.901522898018487,
          ""
         ],
         "yaxis": "y2"
        }
       ],
       "layout": {
        "hovermode": "x",
        "legend": {
         "bgcolor": "#F5F6F9",
         "font": {
          "color": "#4D5663"
         }
        },
        "paper_bgcolor": "#F5F6F9",
        "plot_bgcolor": "#F5F6F9",
        "template": {
         "data": {
          "bar": [
           {
            "error_x": {
             "color": "#2a3f5f"
            },
            "error_y": {
             "color": "#2a3f5f"
            },
            "marker": {
             "line": {
              "color": "#E5ECF6",
              "width": 0.5
             },
             "pattern": {
              "fillmode": "overlay",
              "size": 10,
              "solidity": 0.2
             }
            },
            "type": "bar"
           }
          ],
          "barpolar": [
           {
            "marker": {
             "line": {
              "color": "#E5ECF6",
              "width": 0.5
             },
             "pattern": {
              "fillmode": "overlay",
              "size": 10,
              "solidity": 0.2
             }
            },
            "type": "barpolar"
           }
          ],
          "carpet": [
           {
            "aaxis": {
             "endlinecolor": "#2a3f5f",
             "gridcolor": "white",
             "linecolor": "white",
             "minorgridcolor": "white",
             "startlinecolor": "#2a3f5f"
            },
            "baxis": {
             "endlinecolor": "#2a3f5f",
             "gridcolor": "white",
             "linecolor": "white",
             "minorgridcolor": "white",
             "startlinecolor": "#2a3f5f"
            },
            "type": "carpet"
           }
          ],
          "choropleth": [
           {
            "colorbar": {
             "outlinewidth": 0,
             "ticks": ""
            },
            "type": "choropleth"
           }
          ],
          "contour": [
           {
            "colorbar": {
             "outlinewidth": 0,
             "ticks": ""
            },
            "colorscale": [
             [
              0,
              "#0d0887"
             ],
             [
              0.1111111111111111,
              "#46039f"
             ],
             [
              0.2222222222222222,
              "#7201a8"
             ],
             [
              0.3333333333333333,
              "#9c179e"
             ],
             [
              0.4444444444444444,
              "#bd3786"
             ],
             [
              0.5555555555555556,
              "#d8576b"
             ],
             [
              0.6666666666666666,
              "#ed7953"
             ],
             [
              0.7777777777777778,
              "#fb9f3a"
             ],
             [
              0.8888888888888888,
              "#fdca26"
             ],
             [
              1,
              "#f0f921"
             ]
            ],
            "type": "contour"
           }
          ],
          "contourcarpet": [
           {
            "colorbar": {
             "outlinewidth": 0,
             "ticks": ""
            },
            "type": "contourcarpet"
           }
          ],
          "heatmap": [
           {
            "colorbar": {
             "outlinewidth": 0,
             "ticks": ""
            },
            "colorscale": [
             [
              0,
              "#0d0887"
             ],
             [
              0.1111111111111111,
              "#46039f"
             ],
             [
              0.2222222222222222,
              "#7201a8"
             ],
             [
              0.3333333333333333,
              "#9c179e"
             ],
             [
              0.4444444444444444,
              "#bd3786"
             ],
             [
              0.5555555555555556,
              "#d8576b"
             ],
             [
              0.6666666666666666,
              "#ed7953"
             ],
             [
              0.7777777777777778,
              "#fb9f3a"
             ],
             [
              0.8888888888888888,
              "#fdca26"
             ],
             [
              1,
              "#f0f921"
             ]
            ],
            "type": "heatmap"
           }
          ],
          "heatmapgl": [
           {
            "colorbar": {
             "outlinewidth": 0,
             "ticks": ""
            },
            "colorscale": [
             [
              0,
              "#0d0887"
             ],
             [
              0.1111111111111111,
              "#46039f"
             ],
             [
              0.2222222222222222,
              "#7201a8"
             ],
             [
              0.3333333333333333,
              "#9c179e"
             ],
             [
              0.4444444444444444,
              "#bd3786"
             ],
             [
              0.5555555555555556,
              "#d8576b"
             ],
             [
              0.6666666666666666,
              "#ed7953"
             ],
             [
              0.7777777777777778,
              "#fb9f3a"
             ],
             [
              0.8888888888888888,
              "#fdca26"
             ],
             [
              1,
              "#f0f921"
             ]
            ],
            "type": "heatmapgl"
           }
          ],
          "histogram": [
           {
            "marker": {
             "pattern": {
              "fillmode": "overlay",
              "size": 10,
              "solidity": 0.2
             }
            },
            "type": "histogram"
           }
          ],
          "histogram2d": [
           {
            "colorbar": {
             "outlinewidth": 0,
             "ticks": ""
            },
            "colorscale": [
             [
              0,
              "#0d0887"
             ],
             [
              0.1111111111111111,
              "#46039f"
             ],
             [
              0.2222222222222222,
              "#7201a8"
             ],
             [
              0.3333333333333333,
              "#9c179e"
             ],
             [
              0.4444444444444444,
              "#bd3786"
             ],
             [
              0.5555555555555556,
              "#d8576b"
             ],
             [
              0.6666666666666666,
              "#ed7953"
             ],
             [
              0.7777777777777778,
              "#fb9f3a"
             ],
             [
              0.8888888888888888,
              "#fdca26"
             ],
             [
              1,
              "#f0f921"
             ]
            ],
            "type": "histogram2d"
           }
          ],
          "histogram2dcontour": [
           {
            "colorbar": {
             "outlinewidth": 0,
             "ticks": ""
            },
            "colorscale": [
             [
              0,
              "#0d0887"
             ],
             [
              0.1111111111111111,
              "#46039f"
             ],
             [
              0.2222222222222222,
              "#7201a8"
             ],
             [
              0.3333333333333333,
              "#9c179e"
             ],
             [
              0.4444444444444444,
              "#bd3786"
             ],
             [
              0.5555555555555556,
              "#d8576b"
             ],
             [
              0.6666666666666666,
              "#ed7953"
             ],
             [
              0.7777777777777778,
              "#fb9f3a"
             ],
             [
              0.8888888888888888,
              "#fdca26"
             ],
             [
              1,
              "#f0f921"
             ]
            ],
            "type": "histogram2dcontour"
           }
          ],
          "mesh3d": [
           {
            "colorbar": {
             "outlinewidth": 0,
             "ticks": ""
            },
            "type": "mesh3d"
           }
          ],
          "parcoords": [
           {
            "line": {
             "colorbar": {
              "outlinewidth": 0,
              "ticks": ""
             }
            },
            "type": "parcoords"
           }
          ],
          "pie": [
           {
            "automargin": true,
            "type": "pie"
           }
          ],
          "scatter": [
           {
            "marker": {
             "colorbar": {
              "outlinewidth": 0,
              "ticks": ""
             }
            },
            "type": "scatter"
           }
          ],
          "scatter3d": [
           {
            "line": {
             "colorbar": {
              "outlinewidth": 0,
              "ticks": ""
             }
            },
            "marker": {
             "colorbar": {
              "outlinewidth": 0,
              "ticks": ""
             }
            },
            "type": "scatter3d"
           }
          ],
          "scattercarpet": [
           {
            "marker": {
             "colorbar": {
              "outlinewidth": 0,
              "ticks": ""
             }
            },
            "type": "scattercarpet"
           }
          ],
          "scattergeo": [
           {
            "marker": {
             "colorbar": {
              "outlinewidth": 0,
              "ticks": ""
             }
            },
            "type": "scattergeo"
           }
          ],
          "scattergl": [
           {
            "marker": {
             "colorbar": {
              "outlinewidth": 0,
              "ticks": ""
             }
            },
            "type": "scattergl"
           }
          ],
          "scattermapbox": [
           {
            "marker": {
             "colorbar": {
              "outlinewidth": 0,
              "ticks": ""
             }
            },
            "type": "scattermapbox"
           }
          ],
          "scatterpolar": [
           {
            "marker": {
             "colorbar": {
              "outlinewidth": 0,
              "ticks": ""
             }
            },
            "type": "scatterpolar"
           }
          ],
          "scatterpolargl": [
           {
            "marker": {
             "colorbar": {
              "outlinewidth": 0,
              "ticks": ""
             }
            },
            "type": "scatterpolargl"
           }
          ],
          "scatterternary": [
           {
            "marker": {
             "colorbar": {
              "outlinewidth": 0,
              "ticks": ""
             }
            },
            "type": "scatterternary"
           }
          ],
          "surface": [
           {
            "colorbar": {
             "outlinewidth": 0,
             "ticks": ""
            },
            "colorscale": [
             [
              0,
              "#0d0887"
             ],
             [
              0.1111111111111111,
              "#46039f"
             ],
             [
              0.2222222222222222,
              "#7201a8"
             ],
             [
              0.3333333333333333,
              "#9c179e"
             ],
             [
              0.4444444444444444,
              "#bd3786"
             ],
             [
              0.5555555555555556,
              "#d8576b"
             ],
             [
              0.6666666666666666,
              "#ed7953"
             ],
             [
              0.7777777777777778,
              "#fb9f3a"
             ],
             [
              0.8888888888888888,
              "#fdca26"
             ],
             [
              1,
              "#f0f921"
             ]
            ],
            "type": "surface"
           }
          ],
          "table": [
           {
            "cells": {
             "fill": {
              "color": "#EBF0F8"
             },
             "line": {
              "color": "white"
             }
            },
            "header": {
             "fill": {
              "color": "#C8D4E3"
             },
             "line": {
              "color": "white"
             }
            },
            "type": "table"
           }
          ]
         },
         "layout": {
          "annotationdefaults": {
           "arrowcolor": "#2a3f5f",
           "arrowhead": 0,
           "arrowwidth": 1
          },
          "autotypenumbers": "strict",
          "coloraxis": {
           "colorbar": {
            "outlinewidth": 0,
            "ticks": ""
           }
          },
          "colorscale": {
           "diverging": [
            [
             0,
             "#8e0152"
            ],
            [
             0.1,
             "#c51b7d"
            ],
            [
             0.2,
             "#de77ae"
            ],
            [
             0.3,
             "#f1b6da"
            ],
            [
             0.4,
             "#fde0ef"
            ],
            [
             0.5,
             "#f7f7f7"
            ],
            [
             0.6,
             "#e6f5d0"
            ],
            [
             0.7,
             "#b8e186"
            ],
            [
             0.8,
             "#7fbc41"
            ],
            [
             0.9,
             "#4d9221"
            ],
            [
             1,
             "#276419"
            ]
           ],
           "sequential": [
            [
             0,
             "#0d0887"
            ],
            [
             0.1111111111111111,
             "#46039f"
            ],
            [
             0.2222222222222222,
             "#7201a8"
            ],
            [
             0.3333333333333333,
             "#9c179e"
            ],
            [
             0.4444444444444444,
             "#bd3786"
            ],
            [
             0.5555555555555556,
             "#d8576b"
            ],
            [
             0.6666666666666666,
             "#ed7953"
            ],
            [
             0.7777777777777778,
             "#fb9f3a"
            ],
            [
             0.8888888888888888,
             "#fdca26"
            ],
            [
             1,
             "#f0f921"
            ]
           ],
           "sequentialminus": [
            [
             0,
             "#0d0887"
            ],
            [
             0.1111111111111111,
             "#46039f"
            ],
            [
             0.2222222222222222,
             "#7201a8"
            ],
            [
             0.3333333333333333,
             "#9c179e"
            ],
            [
             0.4444444444444444,
             "#bd3786"
            ],
            [
             0.5555555555555556,
             "#d8576b"
            ],
            [
             0.6666666666666666,
             "#ed7953"
            ],
            [
             0.7777777777777778,
             "#fb9f3a"
            ],
            [
             0.8888888888888888,
             "#fdca26"
            ],
            [
             1,
             "#f0f921"
            ]
           ]
          },
          "colorway": [
           "#636efa",
           "#EF553B",
           "#00cc96",
           "#ab63fa",
           "#FFA15A",
           "#19d3f3",
           "#FF6692",
           "#B6E880",
           "#FF97FF",
           "#FECB52"
          ],
          "font": {
           "color": "#2a3f5f"
          },
          "geo": {
           "bgcolor": "white",
           "lakecolor": "white",
           "landcolor": "#E5ECF6",
           "showlakes": true,
           "showland": true,
           "subunitcolor": "white"
          },
          "hoverlabel": {
           "align": "left"
          },
          "hovermode": "closest",
          "mapbox": {
           "style": "light"
          },
          "paper_bgcolor": "white",
          "plot_bgcolor": "#E5ECF6",
          "polar": {
           "angularaxis": {
            "gridcolor": "white",
            "linecolor": "white",
            "ticks": ""
           },
           "bgcolor": "#E5ECF6",
           "radialaxis": {
            "gridcolor": "white",
            "linecolor": "white",
            "ticks": ""
           }
          },
          "scene": {
           "xaxis": {
            "backgroundcolor": "#E5ECF6",
            "gridcolor": "white",
            "gridwidth": 2,
            "linecolor": "white",
            "showbackground": true,
            "ticks": "",
            "zerolinecolor": "white"
           },
           "yaxis": {
            "backgroundcolor": "#E5ECF6",
            "gridcolor": "white",
            "gridwidth": 2,
            "linecolor": "white",
            "showbackground": true,
            "ticks": "",
            "zerolinecolor": "white"
           },
           "zaxis": {
            "backgroundcolor": "#E5ECF6",
            "gridcolor": "white",
            "gridwidth": 2,
            "linecolor": "white",
            "showbackground": true,
            "ticks": "",
            "zerolinecolor": "white"
           }
          },
          "shapedefaults": {
           "line": {
            "color": "#2a3f5f"
           }
          },
          "ternary": {
           "aaxis": {
            "gridcolor": "white",
            "linecolor": "white",
            "ticks": ""
           },
           "baxis": {
            "gridcolor": "white",
            "linecolor": "white",
            "ticks": ""
           },
           "bgcolor": "#E5ECF6",
           "caxis": {
            "gridcolor": "white",
            "linecolor": "white",
            "ticks": ""
           }
          },
          "title": {
           "x": 0.05
          },
          "xaxis": {
           "automargin": true,
           "gridcolor": "white",
           "linecolor": "white",
           "ticks": "",
           "title": {
            "standoff": 15
           },
           "zerolinecolor": "white",
           "zerolinewidth": 2
          },
          "yaxis": {
           "automargin": true,
           "gridcolor": "white",
           "linecolor": "white",
           "ticks": "",
           "title": {
            "standoff": 15
           },
           "zerolinecolor": "white",
           "zerolinewidth": 2
          }
         }
        },
        "title": {
         "font": {
          "color": "#4D5663"
         }
        },
        "xaxis": {
         "gridcolor": "#E1E5ED",
         "showgrid": true,
         "tickfont": {
          "color": "#4D5663"
         },
         "title": {
          "font": {
           "color": "#4D5663"
          },
          "text": ""
         },
         "zerolinecolor": "#E1E5ED"
        },
        "xaxis2": {
         "anchor": "y2",
         "gridcolor": "#E1E5ED",
         "showgrid": true,
         "showticklabels": false,
         "tickfont": {
          "color": "#4D5663"
         },
         "title": {
          "font": {
           "color": "#4D5663"
          },
          "text": ""
         },
         "zerolinecolor": "#E1E5ED"
        },
        "yaxis": {
         "domain": [
          0.3,
          1
         ],
         "gridcolor": "#E1E5ED",
         "showgrid": true,
         "tickfont": {
          "color": "#4D5663"
         },
         "title": {
          "font": {
           "color": "#4D5663"
          },
          "text": ""
         },
         "zerolinecolor": "#E1E5ED"
        },
        "yaxis2": {
         "domain": [
          0,
          0.25
         ],
         "gridcolor": "#E1E5ED",
         "showgrid": true,
         "tickfont": {
          "color": "#4D5663"
         },
         "title": {
          "font": {
           "color": "#4D5663"
          },
          "text": "Spread"
         },
         "zerolinecolor": "#E1E5ED"
        }
       }
      },
      "text/html": [
       "<div>                            <div id=\"066ec345-ba06-497f-b6e4-ea4aedf96054\" class=\"plotly-graph-div\" style=\"height:525px; width:100%;\"></div>            <script type=\"text/javascript\">                require([\"plotly\"], function(Plotly) {                    window.PLOTLYENV=window.PLOTLYENV || {};\n",
       "                    window.PLOTLYENV.BASE_URL='https://plot.ly';                                    if (document.getElementById(\"066ec345-ba06-497f-b6e4-ea4aedf96054\")) {                    Plotly.newPlot(                        \"066ec345-ba06-497f-b6e4-ea4aedf96054\",                        [{\"line\":{\"color\":\"rgba(255, 153, 51, 1.0)\",\"dash\":\"solid\",\"shape\":\"linear\",\"width\":1.3},\"mode\":\"lines\",\"name\":\"A\",\"text\":\"\",\"x\":[0,1,2,3,4,5,6,7,8,9,10,11,12,13,14,15,16,17,18,19,20,21,22,23,24,25,26,27,28,29,30,31,32,33,34,35,36,37,38,39,40,41,42,43,44,45,46,47,48,49,50,51,52,53,54,55,56,57,58,59,60,61,62,63,64,65,66,67,68,69,70,71,72,73,74,75,76,77,78,79,80,81,82,83,84,85,86,87,88,89,90,91,92,93,94,95,96,97,98,99],\"y\":[0.35989448670498325,-0.4592246745596689,1.1469340676932693,0.011457522595807158,-1.325225593039427,0.6814113631472483,-0.6786363701384942,1.0437656967750097,-0.47746466288488,0.8125037672312054,-0.47404658256936544,1.2031540729757069,1.4635324716319182,0.06280967604194186,-1.3846713229533583,0.857625982236854,0.5068595009022173,0.5580764208978222,0.7283816078799463,1.6679793441485444,0.5494052825729143,2.179905991957352,0.6687883289057667,-0.3900788675173005,0.6003974566718818,-0.4550592069568799,0.024033182599412138,0.8838170831120449,-0.3815550521370984,-1.1351702026828523,1.8944649799641564,0.294708748187957,0.21978311050099436,-0.07065302380242854,-0.07252968052331976,1.1144820614967048,0.606171730343062,-0.8731464829889949,-0.9310256218748634,-1.1793341276575884,-1.257519736482706,-1.7425979839917272,-0.9445804193991463,-1.7502567337064294,-1.4243514037650187,-0.4090315100280699,0.18554365411004087,1.5207346391246686,-1.3323522975428201,-1.0763732961923527,0.935426096415537,0.786447031400014,0.3251381994168318,0.4245928479689998,0.6172282965203385,2.616286334548319,0.35013172747915905,0.23072155751839604,0.1078120918737563,-0.6767857327332797,1.486845300668094,-0.22754332442045902,-0.37629874464913476,0.7463145320495523,-0.19467705150091513,-1.4154453380765688,1.3399136119262056,-1.5777643034446764,-0.27774725451621385,0.20185972252411266,0.9349122376858232,-1.9228425692134634,1.0046670938839755,-0.6508739922195852,0.4269958744781549,0.7736665220816002,-0.1679201401431736,-1.3158405857178361,-0.8227589415389568,2.332130548823311,-0.26318021389783985,-1.4971248638820622,0.3152560911248023,-0.21665547778357377,-1.0023809876326206,1.0562004740071824,0.5338261162974342,1.084603932148778,0.2935647195292971,0.28628110241537885,-1.1494679572805997,-0.25532087031031897,-0.35075476425964247,0.9497286053864785,0.2807308118655686,-0.4251098238132698,-1.0621446257664477,0.41931528695406345,-1.433797178077299,-0.8059425488799932],\"type\":\"scatter\"},{\"line\":{\"color\":\"rgba(55, 128, 191, 1.0)\",\"dash\":\"solid\",\"shape\":\"linear\",\"width\":1.3},\"mode\":\"lines\",\"name\":\"B\",\"text\":\"\",\"x\":[0,1,2,3,4,5,6,7,8,9,10,11,12,13,14,15,16,17,18,19,20,21,22,23,24,25,26,27,28,29,30,31,32,33,34,35,36,37,38,39,40,41,42,43,44,45,46,47,48,49,50,51,52,53,54,55,56,57,58,59,60,61,62,63,64,65,66,67,68,69,70,71,72,73,74,75,76,77,78,79,80,81,82,83,84,85,86,87,88,89,90,91,92,93,94,95,96,97,98,99],\"y\":[-0.9217746063940998,-1.6822361723427532,-0.055572935761315195,-0.7350958966894335,-0.16312573884020234,0.26078513301011524,-1.6077194546656872,-0.16660545555158907,0.4702211267676788,-0.8160247909852378,0.07090561857130953,-0.512506611196169,0.7176328754936439,-0.5532917462243572,-0.8119234722216444,-1.1765423268753135,-1.12954248594935,-0.4149262245711078,-0.4253415826023585,0.8469921767949793,1.881699763566048,-0.25778150596466876,-0.13128008428078422,0.5004041084234315,-1.649491285150849,-0.5042162792070994,0.6218104662260018,-0.5987775790098924,1.4123907764913297,-1.5904079493683279,-0.17544539905896128,-0.26662817691141316,1.6537875958037962,0.47060178918033885,-1.0478398572685959,1.2458723160603526,0.3183776222101448,-0.34137069400463826,0.6268383693928805,-0.49492715859173325,1.7894001280490095,1.0923690990085906,-0.4426468257952904,-1.7570569105500355,-0.2975462515868482,-0.9903552540790408,-2.0298888359656786,0.20798858218719538,-0.19840303127725278,0.9591272839305035,-1.0280598843346984,-1.3992328031466221,0.1824738273519832,-0.6025895866492086,-0.9843279818631707,-1.8390232897687318,1.534352550556892,1.0097682622746742,-0.861460988903354,-1.1660932424398551,-0.3094667414878226,1.1390385211944523,0.7427373004453051,0.4325319033275298,-0.49157497264069144,-1.1332619048375008,1.1259775995666133,1.9633898033012296,-0.1707707527943106,-0.4707537511823286,0.293722238328297,-0.6637770134834158,0.1301936407996693,0.3317424608102532,-1.0087404003189793,1.5522849293264396,0.22765004510397707,0.5272387175192732,-1.2419532380663771,0.33703182748365773,-1.7943304931124409,1.9246712787355624,-0.23366511001055065,0.09530901830895594,-0.2594634402771084,-0.20051248855805656,0.5230413669385336,-0.5013104579418655,0.46862784928238493,-1.2320574972191813,1.2274744511742934,0.9056958647317631,0.6943233325625244,0.613944109383328,0.20386916943256914,-0.4326740892386687,-0.5777941644677652,1.2663919771320504,1.4677257199411882,-1.8332729500431604],\"type\":\"scatter\"},{\"connectgaps\":false,\"fill\":\"tozeroy\",\"line\":{\"color\":\"green\",\"dash\":\"solid\",\"shape\":\"linear\",\"width\":0.5},\"mode\":\"lines\",\"name\":\"Spread\",\"showlegend\":false,\"x\":[0,1,2,3,4,5,6,7,8,9,10,11,12,13,14,15,16,17,18,19,20,21,22,23,24,25,26,27,28,29,30,31,32,33,34,35,36,37,38,39,40,41,42,43,44,45,46,47,48,49,50,51,52,53,54,55,56,57,58,59,60,61,62,63,64,65,66,67,68,69,70,71,72,73,74,75,76,77,78,79,80,81,82,83,84,85,86,87,88,89,90,91,92,93,94,95,96,97,98,99],\"xaxis\":\"x2\",\"y\":[1.281669093099083,1.2230114977830844,1.2025070034545846,0.7465534192852407,\"\",0.420626230137133,0.929083084527193,1.2103711523265988,\"\",1.6285285582164433,\"\",1.7156606841718758,0.7458995961382744,0.616101422266299,\"\",2.0341683091121676,1.6364019868515673,0.97300264546893,1.1537231904823049,0.8209871673535651,\"\",2.437687497922021,0.8000684131865509,\"\",2.2498887418227307,0.049157072250219536,\"\",1.4825946621219372,\"\",0.45523774668547556,2.069910379023118,0.5613369250993702,\"\",\"\",0.9753101767452761,\"\",0.2877941081329172,\"\",\"\",\"\",\"\",\"\",\"\",0.0068001768436061205,\"\",0.5813237440509709,2.2154324900757194,1.3127460569374731,\"\",\"\",1.9634859807502354,2.185679834546636,0.1426643720648486,1.0271824346182084,1.6015562783835091,4.455309624317051,\"\",\"\",0.9692730807771103,0.48930750970657544,1.7963120421559164,\"\",\"\",0.31378262872202256,0.2968979211397763,\"\",0.21393601235959236,\"\",\"\",0.6726134737064413,0.6411899993575262,\"\",0.8744734530843061,\"\",1.4357362747971343,\"\",\"\",\"\",0.41919429652742035,1.9950987213396534,1.531150279214601,\"\",0.5489212011353529,\"\",\"\",1.256712962565239,0.010784749358900503,1.5859143900906434,\"\",1.5183385996345602,\"\",\"\",\"\",0.3357844960031505,0.07686164243299945,0.007564265425398897,\"\",\"\",\"\",1.0273304011631672],\"yaxis\":\"y2\",\"type\":\"scatter\"},{\"connectgaps\":false,\"fill\":\"tozeroy\",\"line\":{\"color\":\"red\",\"dash\":\"solid\",\"shape\":\"linear\",\"width\":0.5},\"mode\":\"lines\",\"name\":\"Spread\",\"showlegend\":false,\"x\":[0,1,2,3,4,5,6,7,8,9,10,11,12,13,14,15,16,17,18,19,20,21,22,23,24,25,26,27,28,29,30,31,32,33,34,35,36,37,38,39,40,41,42,43,44,45,46,47,48,49,50,51,52,53,54,55,56,57,58,59,60,61,62,63,64,65,66,67,68,69,70,71,72,73,74,75,76,77,78,79,80,81,82,83,84,85,86,87,88,89,90,91,92,93,94,95,96,97,98,99],\"xaxis\":\"x2\",\"y\":[\"\",\"\",\"\",\"\",-1.1620998541992247,\"\",\"\",\"\",-0.9476857896525588,\"\",-0.544952201140675,\"\",\"\",\"\",-0.5727478507317139,\"\",\"\",\"\",\"\",\"\",-1.3322944809931336,\"\",\"\",-0.890482975940732,\"\",\"\",-0.5977772836265897,\"\",-1.793945828628428,\"\",\"\",\"\",-1.4340044853028018,-0.5412548129827673,\"\",-0.13139025456364783,\"\",-0.5317757889843566,-1.5578639912677439,-0.6844069690658552,-3.0469198645317155,-2.8349670830003175,-0.5019335936038558,\"\",-1.1268051521781706,\"\",\"\",\"\",-1.1339492662655672,-2.0355005801228563,\"\",\"\",\"\",\"\",\"\",\"\",-1.184220823077733,-0.7790467047562781,\"\",\"\",\"\",-1.3665818456149113,-1.1190360450944399,\"\",\"\",-0.282183433239068,\"\",-3.541154106745906,-0.10697650172190326,\"\",\"\",-1.2590655557300476,\"\",-0.9826164530298385,\"\",-0.7786184072448393,-0.3955701852471507,-1.8430793032371093,\"\",\"\",\"\",-3.421796142617625,\"\",-0.31196449609252974,-0.7429175473555123,\"\",\"\",\"\",-0.17506312975308785,\"\",-2.376942408454893,-1.1610167350420821,-1.045078096822167,\"\",\"\",\"\",-0.48435046129868253,-0.8470766901779869,-2.901522898018487,\"\"],\"yaxis\":\"y2\",\"type\":\"scatter\"}],                        {\"hovermode\":\"x\",\"legend\":{\"bgcolor\":\"#F5F6F9\",\"font\":{\"color\":\"#4D5663\"}},\"paper_bgcolor\":\"#F5F6F9\",\"plot_bgcolor\":\"#F5F6F9\",\"template\":{\"data\":{\"barpolar\":[{\"marker\":{\"line\":{\"color\":\"#E5ECF6\",\"width\":0.5},\"pattern\":{\"fillmode\":\"overlay\",\"size\":10,\"solidity\":0.2}},\"type\":\"barpolar\"}],\"bar\":[{\"error_x\":{\"color\":\"#2a3f5f\"},\"error_y\":{\"color\":\"#2a3f5f\"},\"marker\":{\"line\":{\"color\":\"#E5ECF6\",\"width\":0.5},\"pattern\":{\"fillmode\":\"overlay\",\"size\":10,\"solidity\":0.2}},\"type\":\"bar\"}],\"carpet\":[{\"aaxis\":{\"endlinecolor\":\"#2a3f5f\",\"gridcolor\":\"white\",\"linecolor\":\"white\",\"minorgridcolor\":\"white\",\"startlinecolor\":\"#2a3f5f\"},\"baxis\":{\"endlinecolor\":\"#2a3f5f\",\"gridcolor\":\"white\",\"linecolor\":\"white\",\"minorgridcolor\":\"white\",\"startlinecolor\":\"#2a3f5f\"},\"type\":\"carpet\"}],\"choropleth\":[{\"colorbar\":{\"outlinewidth\":0,\"ticks\":\"\"},\"type\":\"choropleth\"}],\"contourcarpet\":[{\"colorbar\":{\"outlinewidth\":0,\"ticks\":\"\"},\"type\":\"contourcarpet\"}],\"contour\":[{\"colorbar\":{\"outlinewidth\":0,\"ticks\":\"\"},\"colorscale\":[[0.0,\"#0d0887\"],[0.1111111111111111,\"#46039f\"],[0.2222222222222222,\"#7201a8\"],[0.3333333333333333,\"#9c179e\"],[0.4444444444444444,\"#bd3786\"],[0.5555555555555556,\"#d8576b\"],[0.6666666666666666,\"#ed7953\"],[0.7777777777777778,\"#fb9f3a\"],[0.8888888888888888,\"#fdca26\"],[1.0,\"#f0f921\"]],\"type\":\"contour\"}],\"heatmapgl\":[{\"colorbar\":{\"outlinewidth\":0,\"ticks\":\"\"},\"colorscale\":[[0.0,\"#0d0887\"],[0.1111111111111111,\"#46039f\"],[0.2222222222222222,\"#7201a8\"],[0.3333333333333333,\"#9c179e\"],[0.4444444444444444,\"#bd3786\"],[0.5555555555555556,\"#d8576b\"],[0.6666666666666666,\"#ed7953\"],[0.7777777777777778,\"#fb9f3a\"],[0.8888888888888888,\"#fdca26\"],[1.0,\"#f0f921\"]],\"type\":\"heatmapgl\"}],\"heatmap\":[{\"colorbar\":{\"outlinewidth\":0,\"ticks\":\"\"},\"colorscale\":[[0.0,\"#0d0887\"],[0.1111111111111111,\"#46039f\"],[0.2222222222222222,\"#7201a8\"],[0.3333333333333333,\"#9c179e\"],[0.4444444444444444,\"#bd3786\"],[0.5555555555555556,\"#d8576b\"],[0.6666666666666666,\"#ed7953\"],[0.7777777777777778,\"#fb9f3a\"],[0.8888888888888888,\"#fdca26\"],[1.0,\"#f0f921\"]],\"type\":\"heatmap\"}],\"histogram2dcontour\":[{\"colorbar\":{\"outlinewidth\":0,\"ticks\":\"\"},\"colorscale\":[[0.0,\"#0d0887\"],[0.1111111111111111,\"#46039f\"],[0.2222222222222222,\"#7201a8\"],[0.3333333333333333,\"#9c179e\"],[0.4444444444444444,\"#bd3786\"],[0.5555555555555556,\"#d8576b\"],[0.6666666666666666,\"#ed7953\"],[0.7777777777777778,\"#fb9f3a\"],[0.8888888888888888,\"#fdca26\"],[1.0,\"#f0f921\"]],\"type\":\"histogram2dcontour\"}],\"histogram2d\":[{\"colorbar\":{\"outlinewidth\":0,\"ticks\":\"\"},\"colorscale\":[[0.0,\"#0d0887\"],[0.1111111111111111,\"#46039f\"],[0.2222222222222222,\"#7201a8\"],[0.3333333333333333,\"#9c179e\"],[0.4444444444444444,\"#bd3786\"],[0.5555555555555556,\"#d8576b\"],[0.6666666666666666,\"#ed7953\"],[0.7777777777777778,\"#fb9f3a\"],[0.8888888888888888,\"#fdca26\"],[1.0,\"#f0f921\"]],\"type\":\"histogram2d\"}],\"histogram\":[{\"marker\":{\"pattern\":{\"fillmode\":\"overlay\",\"size\":10,\"solidity\":0.2}},\"type\":\"histogram\"}],\"mesh3d\":[{\"colorbar\":{\"outlinewidth\":0,\"ticks\":\"\"},\"type\":\"mesh3d\"}],\"parcoords\":[{\"line\":{\"colorbar\":{\"outlinewidth\":0,\"ticks\":\"\"}},\"type\":\"parcoords\"}],\"pie\":[{\"automargin\":true,\"type\":\"pie\"}],\"scatter3d\":[{\"line\":{\"colorbar\":{\"outlinewidth\":0,\"ticks\":\"\"}},\"marker\":{\"colorbar\":{\"outlinewidth\":0,\"ticks\":\"\"}},\"type\":\"scatter3d\"}],\"scattercarpet\":[{\"marker\":{\"colorbar\":{\"outlinewidth\":0,\"ticks\":\"\"}},\"type\":\"scattercarpet\"}],\"scattergeo\":[{\"marker\":{\"colorbar\":{\"outlinewidth\":0,\"ticks\":\"\"}},\"type\":\"scattergeo\"}],\"scattergl\":[{\"marker\":{\"colorbar\":{\"outlinewidth\":0,\"ticks\":\"\"}},\"type\":\"scattergl\"}],\"scattermapbox\":[{\"marker\":{\"colorbar\":{\"outlinewidth\":0,\"ticks\":\"\"}},\"type\":\"scattermapbox\"}],\"scatterpolargl\":[{\"marker\":{\"colorbar\":{\"outlinewidth\":0,\"ticks\":\"\"}},\"type\":\"scatterpolargl\"}],\"scatterpolar\":[{\"marker\":{\"colorbar\":{\"outlinewidth\":0,\"ticks\":\"\"}},\"type\":\"scatterpolar\"}],\"scatter\":[{\"marker\":{\"colorbar\":{\"outlinewidth\":0,\"ticks\":\"\"}},\"type\":\"scatter\"}],\"scatterternary\":[{\"marker\":{\"colorbar\":{\"outlinewidth\":0,\"ticks\":\"\"}},\"type\":\"scatterternary\"}],\"surface\":[{\"colorbar\":{\"outlinewidth\":0,\"ticks\":\"\"},\"colorscale\":[[0.0,\"#0d0887\"],[0.1111111111111111,\"#46039f\"],[0.2222222222222222,\"#7201a8\"],[0.3333333333333333,\"#9c179e\"],[0.4444444444444444,\"#bd3786\"],[0.5555555555555556,\"#d8576b\"],[0.6666666666666666,\"#ed7953\"],[0.7777777777777778,\"#fb9f3a\"],[0.8888888888888888,\"#fdca26\"],[1.0,\"#f0f921\"]],\"type\":\"surface\"}],\"table\":[{\"cells\":{\"fill\":{\"color\":\"#EBF0F8\"},\"line\":{\"color\":\"white\"}},\"header\":{\"fill\":{\"color\":\"#C8D4E3\"},\"line\":{\"color\":\"white\"}},\"type\":\"table\"}]},\"layout\":{\"annotationdefaults\":{\"arrowcolor\":\"#2a3f5f\",\"arrowhead\":0,\"arrowwidth\":1},\"autotypenumbers\":\"strict\",\"coloraxis\":{\"colorbar\":{\"outlinewidth\":0,\"ticks\":\"\"}},\"colorscale\":{\"diverging\":[[0,\"#8e0152\"],[0.1,\"#c51b7d\"],[0.2,\"#de77ae\"],[0.3,\"#f1b6da\"],[0.4,\"#fde0ef\"],[0.5,\"#f7f7f7\"],[0.6,\"#e6f5d0\"],[0.7,\"#b8e186\"],[0.8,\"#7fbc41\"],[0.9,\"#4d9221\"],[1,\"#276419\"]],\"sequential\":[[0.0,\"#0d0887\"],[0.1111111111111111,\"#46039f\"],[0.2222222222222222,\"#7201a8\"],[0.3333333333333333,\"#9c179e\"],[0.4444444444444444,\"#bd3786\"],[0.5555555555555556,\"#d8576b\"],[0.6666666666666666,\"#ed7953\"],[0.7777777777777778,\"#fb9f3a\"],[0.8888888888888888,\"#fdca26\"],[1.0,\"#f0f921\"]],\"sequentialminus\":[[0.0,\"#0d0887\"],[0.1111111111111111,\"#46039f\"],[0.2222222222222222,\"#7201a8\"],[0.3333333333333333,\"#9c179e\"],[0.4444444444444444,\"#bd3786\"],[0.5555555555555556,\"#d8576b\"],[0.6666666666666666,\"#ed7953\"],[0.7777777777777778,\"#fb9f3a\"],[0.8888888888888888,\"#fdca26\"],[1.0,\"#f0f921\"]]},\"colorway\":[\"#636efa\",\"#EF553B\",\"#00cc96\",\"#ab63fa\",\"#FFA15A\",\"#19d3f3\",\"#FF6692\",\"#B6E880\",\"#FF97FF\",\"#FECB52\"],\"font\":{\"color\":\"#2a3f5f\"},\"geo\":{\"bgcolor\":\"white\",\"lakecolor\":\"white\",\"landcolor\":\"#E5ECF6\",\"showlakes\":true,\"showland\":true,\"subunitcolor\":\"white\"},\"hoverlabel\":{\"align\":\"left\"},\"hovermode\":\"closest\",\"mapbox\":{\"style\":\"light\"},\"paper_bgcolor\":\"white\",\"plot_bgcolor\":\"#E5ECF6\",\"polar\":{\"angularaxis\":{\"gridcolor\":\"white\",\"linecolor\":\"white\",\"ticks\":\"\"},\"bgcolor\":\"#E5ECF6\",\"radialaxis\":{\"gridcolor\":\"white\",\"linecolor\":\"white\",\"ticks\":\"\"}},\"scene\":{\"xaxis\":{\"backgroundcolor\":\"#E5ECF6\",\"gridcolor\":\"white\",\"gridwidth\":2,\"linecolor\":\"white\",\"showbackground\":true,\"ticks\":\"\",\"zerolinecolor\":\"white\"},\"yaxis\":{\"backgroundcolor\":\"#E5ECF6\",\"gridcolor\":\"white\",\"gridwidth\":2,\"linecolor\":\"white\",\"showbackground\":true,\"ticks\":\"\",\"zerolinecolor\":\"white\"},\"zaxis\":{\"backgroundcolor\":\"#E5ECF6\",\"gridcolor\":\"white\",\"gridwidth\":2,\"linecolor\":\"white\",\"showbackground\":true,\"ticks\":\"\",\"zerolinecolor\":\"white\"}},\"shapedefaults\":{\"line\":{\"color\":\"#2a3f5f\"}},\"ternary\":{\"aaxis\":{\"gridcolor\":\"white\",\"linecolor\":\"white\",\"ticks\":\"\"},\"baxis\":{\"gridcolor\":\"white\",\"linecolor\":\"white\",\"ticks\":\"\"},\"bgcolor\":\"#E5ECF6\",\"caxis\":{\"gridcolor\":\"white\",\"linecolor\":\"white\",\"ticks\":\"\"}},\"title\":{\"x\":0.05},\"xaxis\":{\"automargin\":true,\"gridcolor\":\"white\",\"linecolor\":\"white\",\"ticks\":\"\",\"title\":{\"standoff\":15},\"zerolinecolor\":\"white\",\"zerolinewidth\":2},\"yaxis\":{\"automargin\":true,\"gridcolor\":\"white\",\"linecolor\":\"white\",\"ticks\":\"\",\"title\":{\"standoff\":15},\"zerolinecolor\":\"white\",\"zerolinewidth\":2}}},\"title\":{\"font\":{\"color\":\"#4D5663\"}},\"xaxis\":{\"gridcolor\":\"#E1E5ED\",\"showgrid\":true,\"tickfont\":{\"color\":\"#4D5663\"},\"title\":{\"font\":{\"color\":\"#4D5663\"},\"text\":\"\"},\"zerolinecolor\":\"#E1E5ED\"},\"yaxis\":{\"domain\":[0.3,1],\"gridcolor\":\"#E1E5ED\",\"showgrid\":true,\"tickfont\":{\"color\":\"#4D5663\"},\"title\":{\"font\":{\"color\":\"#4D5663\"},\"text\":\"\"},\"zerolinecolor\":\"#E1E5ED\"},\"yaxis2\":{\"domain\":[0,0.25],\"gridcolor\":\"#E1E5ED\",\"showgrid\":true,\"tickfont\":{\"color\":\"#4D5663\"},\"title\":{\"font\":{\"color\":\"#4D5663\"},\"text\":\"Spread\"},\"zerolinecolor\":\"#E1E5ED\"},\"xaxis2\":{\"anchor\":\"y2\",\"gridcolor\":\"#E1E5ED\",\"showgrid\":true,\"showticklabels\":false,\"tickfont\":{\"color\":\"#4D5663\"},\"title\":{\"font\":{\"color\":\"#4D5663\"},\"text\":\"\"},\"zerolinecolor\":\"#E1E5ED\"}},                        {\"showLink\": true, \"linkText\": \"Export to plot.ly\", \"plotlyServerURL\": \"https://plot.ly\", \"responsive\": true}                    ).then(function(){\n",
       "                            \n",
       "var gd = document.getElementById('066ec345-ba06-497f-b6e4-ea4aedf96054');\n",
       "var x = new MutationObserver(function (mutations, observer) {{\n",
       "        var display = window.getComputedStyle(gd).display;\n",
       "        if (!display || display === 'none') {{\n",
       "            console.log([gd, 'removed!']);\n",
       "            Plotly.purge(gd);\n",
       "            observer.disconnect();\n",
       "        }}\n",
       "}});\n",
       "\n",
       "// Listen for the removal of the full notebook cells\n",
       "var notebookContainer = gd.closest('#notebook-container');\n",
       "if (notebookContainer) {{\n",
       "    x.observe(notebookContainer, {childList: true});\n",
       "}}\n",
       "\n",
       "// Listen for the clearing of the current output cell\n",
       "var outputEl = gd.closest('.output');\n",
       "if (outputEl) {{\n",
       "    x.observe(outputEl, {childList: true});\n",
       "}}\n",
       "\n",
       "                        })                };                });            </script>        </div>"
      ]
     },
     "metadata": {},
     "output_type": "display_data"
    }
   ],
   "source": [
    "df[['A','B']].iplot(kind='spread')"
   ]
  },
  {
   "cell_type": "markdown",
   "metadata": {},
   "source": [
    "# Histogram"
   ]
  },
  {
   "cell_type": "code",
   "execution_count": 15,
   "metadata": {},
   "outputs": [
    {
     "data": {
      "application/vnd.plotly.v1+json": {
       "config": {
        "linkText": "Export to plot.ly",
        "plotlyServerURL": "https://plot.ly",
        "showLink": true
       },
       "data": [
        {
         "histfunc": "count",
         "histnorm": "",
         "marker": {
          "color": "rgba(255, 153, 51, 1.0)",
          "line": {
           "color": "#4D5663",
           "width": 1.3
          }
         },
         "name": "A",
         "nbinsx": 25,
         "opacity": 0.8,
         "orientation": "v",
         "type": "histogram",
         "x": [
          0.35989448670498325,
          -0.4592246745596689,
          1.1469340676932693,
          0.011457522595807158,
          -1.325225593039427,
          0.6814113631472483,
          -0.6786363701384942,
          1.0437656967750097,
          -0.47746466288488,
          0.8125037672312054,
          -0.47404658256936544,
          1.2031540729757069,
          1.4635324716319182,
          0.06280967604194186,
          -1.3846713229533583,
          0.857625982236854,
          0.5068595009022173,
          0.5580764208978222,
          0.7283816078799463,
          1.6679793441485444,
          0.5494052825729143,
          2.179905991957352,
          0.6687883289057667,
          -0.3900788675173005,
          0.6003974566718818,
          -0.4550592069568799,
          0.024033182599412138,
          0.8838170831120449,
          -0.3815550521370984,
          -1.1351702026828523,
          1.8944649799641564,
          0.294708748187957,
          0.21978311050099436,
          -0.07065302380242854,
          -0.07252968052331976,
          1.1144820614967048,
          0.606171730343062,
          -0.8731464829889949,
          -0.9310256218748634,
          -1.1793341276575884,
          -1.257519736482706,
          -1.7425979839917272,
          -0.9445804193991463,
          -1.7502567337064294,
          -1.4243514037650187,
          -0.4090315100280699,
          0.18554365411004087,
          1.5207346391246686,
          -1.3323522975428201,
          -1.0763732961923527,
          0.935426096415537,
          0.786447031400014,
          0.3251381994168318,
          0.4245928479689998,
          0.6172282965203385,
          2.616286334548319,
          0.35013172747915905,
          0.23072155751839604,
          0.1078120918737563,
          -0.6767857327332797,
          1.486845300668094,
          -0.22754332442045902,
          -0.37629874464913476,
          0.7463145320495523,
          -0.19467705150091513,
          -1.4154453380765688,
          1.3399136119262056,
          -1.5777643034446764,
          -0.27774725451621385,
          0.20185972252411266,
          0.9349122376858232,
          -1.9228425692134634,
          1.0046670938839755,
          -0.6508739922195852,
          0.4269958744781549,
          0.7736665220816002,
          -0.1679201401431736,
          -1.3158405857178361,
          -0.8227589415389568,
          2.332130548823311,
          -0.26318021389783985,
          -1.4971248638820622,
          0.3152560911248023,
          -0.21665547778357377,
          -1.0023809876326206,
          1.0562004740071824,
          0.5338261162974342,
          1.084603932148778,
          0.2935647195292971,
          0.28628110241537885,
          -1.1494679572805997,
          -0.25532087031031897,
          -0.35075476425964247,
          0.9497286053864785,
          0.2807308118655686,
          -0.4251098238132698,
          -1.0621446257664477,
          0.41931528695406345,
          -1.433797178077299,
          -0.8059425488799932
         ]
        }
       ],
       "layout": {
        "barmode": "overlay",
        "legend": {
         "bgcolor": "#F5F6F9",
         "font": {
          "color": "#4D5663"
         }
        },
        "paper_bgcolor": "#F5F6F9",
        "plot_bgcolor": "#F5F6F9",
        "template": {
         "data": {
          "bar": [
           {
            "error_x": {
             "color": "#2a3f5f"
            },
            "error_y": {
             "color": "#2a3f5f"
            },
            "marker": {
             "line": {
              "color": "#E5ECF6",
              "width": 0.5
             },
             "pattern": {
              "fillmode": "overlay",
              "size": 10,
              "solidity": 0.2
             }
            },
            "type": "bar"
           }
          ],
          "barpolar": [
           {
            "marker": {
             "line": {
              "color": "#E5ECF6",
              "width": 0.5
             },
             "pattern": {
              "fillmode": "overlay",
              "size": 10,
              "solidity": 0.2
             }
            },
            "type": "barpolar"
           }
          ],
          "carpet": [
           {
            "aaxis": {
             "endlinecolor": "#2a3f5f",
             "gridcolor": "white",
             "linecolor": "white",
             "minorgridcolor": "white",
             "startlinecolor": "#2a3f5f"
            },
            "baxis": {
             "endlinecolor": "#2a3f5f",
             "gridcolor": "white",
             "linecolor": "white",
             "minorgridcolor": "white",
             "startlinecolor": "#2a3f5f"
            },
            "type": "carpet"
           }
          ],
          "choropleth": [
           {
            "colorbar": {
             "outlinewidth": 0,
             "ticks": ""
            },
            "type": "choropleth"
           }
          ],
          "contour": [
           {
            "colorbar": {
             "outlinewidth": 0,
             "ticks": ""
            },
            "colorscale": [
             [
              0,
              "#0d0887"
             ],
             [
              0.1111111111111111,
              "#46039f"
             ],
             [
              0.2222222222222222,
              "#7201a8"
             ],
             [
              0.3333333333333333,
              "#9c179e"
             ],
             [
              0.4444444444444444,
              "#bd3786"
             ],
             [
              0.5555555555555556,
              "#d8576b"
             ],
             [
              0.6666666666666666,
              "#ed7953"
             ],
             [
              0.7777777777777778,
              "#fb9f3a"
             ],
             [
              0.8888888888888888,
              "#fdca26"
             ],
             [
              1,
              "#f0f921"
             ]
            ],
            "type": "contour"
           }
          ],
          "contourcarpet": [
           {
            "colorbar": {
             "outlinewidth": 0,
             "ticks": ""
            },
            "type": "contourcarpet"
           }
          ],
          "heatmap": [
           {
            "colorbar": {
             "outlinewidth": 0,
             "ticks": ""
            },
            "colorscale": [
             [
              0,
              "#0d0887"
             ],
             [
              0.1111111111111111,
              "#46039f"
             ],
             [
              0.2222222222222222,
              "#7201a8"
             ],
             [
              0.3333333333333333,
              "#9c179e"
             ],
             [
              0.4444444444444444,
              "#bd3786"
             ],
             [
              0.5555555555555556,
              "#d8576b"
             ],
             [
              0.6666666666666666,
              "#ed7953"
             ],
             [
              0.7777777777777778,
              "#fb9f3a"
             ],
             [
              0.8888888888888888,
              "#fdca26"
             ],
             [
              1,
              "#f0f921"
             ]
            ],
            "type": "heatmap"
           }
          ],
          "heatmapgl": [
           {
            "colorbar": {
             "outlinewidth": 0,
             "ticks": ""
            },
            "colorscale": [
             [
              0,
              "#0d0887"
             ],
             [
              0.1111111111111111,
              "#46039f"
             ],
             [
              0.2222222222222222,
              "#7201a8"
             ],
             [
              0.3333333333333333,
              "#9c179e"
             ],
             [
              0.4444444444444444,
              "#bd3786"
             ],
             [
              0.5555555555555556,
              "#d8576b"
             ],
             [
              0.6666666666666666,
              "#ed7953"
             ],
             [
              0.7777777777777778,
              "#fb9f3a"
             ],
             [
              0.8888888888888888,
              "#fdca26"
             ],
             [
              1,
              "#f0f921"
             ]
            ],
            "type": "heatmapgl"
           }
          ],
          "histogram": [
           {
            "marker": {
             "pattern": {
              "fillmode": "overlay",
              "size": 10,
              "solidity": 0.2
             }
            },
            "type": "histogram"
           }
          ],
          "histogram2d": [
           {
            "colorbar": {
             "outlinewidth": 0,
             "ticks": ""
            },
            "colorscale": [
             [
              0,
              "#0d0887"
             ],
             [
              0.1111111111111111,
              "#46039f"
             ],
             [
              0.2222222222222222,
              "#7201a8"
             ],
             [
              0.3333333333333333,
              "#9c179e"
             ],
             [
              0.4444444444444444,
              "#bd3786"
             ],
             [
              0.5555555555555556,
              "#d8576b"
             ],
             [
              0.6666666666666666,
              "#ed7953"
             ],
             [
              0.7777777777777778,
              "#fb9f3a"
             ],
             [
              0.8888888888888888,
              "#fdca26"
             ],
             [
              1,
              "#f0f921"
             ]
            ],
            "type": "histogram2d"
           }
          ],
          "histogram2dcontour": [
           {
            "colorbar": {
             "outlinewidth": 0,
             "ticks": ""
            },
            "colorscale": [
             [
              0,
              "#0d0887"
             ],
             [
              0.1111111111111111,
              "#46039f"
             ],
             [
              0.2222222222222222,
              "#7201a8"
             ],
             [
              0.3333333333333333,
              "#9c179e"
             ],
             [
              0.4444444444444444,
              "#bd3786"
             ],
             [
              0.5555555555555556,
              "#d8576b"
             ],
             [
              0.6666666666666666,
              "#ed7953"
             ],
             [
              0.7777777777777778,
              "#fb9f3a"
             ],
             [
              0.8888888888888888,
              "#fdca26"
             ],
             [
              1,
              "#f0f921"
             ]
            ],
            "type": "histogram2dcontour"
           }
          ],
          "mesh3d": [
           {
            "colorbar": {
             "outlinewidth": 0,
             "ticks": ""
            },
            "type": "mesh3d"
           }
          ],
          "parcoords": [
           {
            "line": {
             "colorbar": {
              "outlinewidth": 0,
              "ticks": ""
             }
            },
            "type": "parcoords"
           }
          ],
          "pie": [
           {
            "automargin": true,
            "type": "pie"
           }
          ],
          "scatter": [
           {
            "marker": {
             "colorbar": {
              "outlinewidth": 0,
              "ticks": ""
             }
            },
            "type": "scatter"
           }
          ],
          "scatter3d": [
           {
            "line": {
             "colorbar": {
              "outlinewidth": 0,
              "ticks": ""
             }
            },
            "marker": {
             "colorbar": {
              "outlinewidth": 0,
              "ticks": ""
             }
            },
            "type": "scatter3d"
           }
          ],
          "scattercarpet": [
           {
            "marker": {
             "colorbar": {
              "outlinewidth": 0,
              "ticks": ""
             }
            },
            "type": "scattercarpet"
           }
          ],
          "scattergeo": [
           {
            "marker": {
             "colorbar": {
              "outlinewidth": 0,
              "ticks": ""
             }
            },
            "type": "scattergeo"
           }
          ],
          "scattergl": [
           {
            "marker": {
             "colorbar": {
              "outlinewidth": 0,
              "ticks": ""
             }
            },
            "type": "scattergl"
           }
          ],
          "scattermapbox": [
           {
            "marker": {
             "colorbar": {
              "outlinewidth": 0,
              "ticks": ""
             }
            },
            "type": "scattermapbox"
           }
          ],
          "scatterpolar": [
           {
            "marker": {
             "colorbar": {
              "outlinewidth": 0,
              "ticks": ""
             }
            },
            "type": "scatterpolar"
           }
          ],
          "scatterpolargl": [
           {
            "marker": {
             "colorbar": {
              "outlinewidth": 0,
              "ticks": ""
             }
            },
            "type": "scatterpolargl"
           }
          ],
          "scatterternary": [
           {
            "marker": {
             "colorbar": {
              "outlinewidth": 0,
              "ticks": ""
             }
            },
            "type": "scatterternary"
           }
          ],
          "surface": [
           {
            "colorbar": {
             "outlinewidth": 0,
             "ticks": ""
            },
            "colorscale": [
             [
              0,
              "#0d0887"
             ],
             [
              0.1111111111111111,
              "#46039f"
             ],
             [
              0.2222222222222222,
              "#7201a8"
             ],
             [
              0.3333333333333333,
              "#9c179e"
             ],
             [
              0.4444444444444444,
              "#bd3786"
             ],
             [
              0.5555555555555556,
              "#d8576b"
             ],
             [
              0.6666666666666666,
              "#ed7953"
             ],
             [
              0.7777777777777778,
              "#fb9f3a"
             ],
             [
              0.8888888888888888,
              "#fdca26"
             ],
             [
              1,
              "#f0f921"
             ]
            ],
            "type": "surface"
           }
          ],
          "table": [
           {
            "cells": {
             "fill": {
              "color": "#EBF0F8"
             },
             "line": {
              "color": "white"
             }
            },
            "header": {
             "fill": {
              "color": "#C8D4E3"
             },
             "line": {
              "color": "white"
             }
            },
            "type": "table"
           }
          ]
         },
         "layout": {
          "annotationdefaults": {
           "arrowcolor": "#2a3f5f",
           "arrowhead": 0,
           "arrowwidth": 1
          },
          "autotypenumbers": "strict",
          "coloraxis": {
           "colorbar": {
            "outlinewidth": 0,
            "ticks": ""
           }
          },
          "colorscale": {
           "diverging": [
            [
             0,
             "#8e0152"
            ],
            [
             0.1,
             "#c51b7d"
            ],
            [
             0.2,
             "#de77ae"
            ],
            [
             0.3,
             "#f1b6da"
            ],
            [
             0.4,
             "#fde0ef"
            ],
            [
             0.5,
             "#f7f7f7"
            ],
            [
             0.6,
             "#e6f5d0"
            ],
            [
             0.7,
             "#b8e186"
            ],
            [
             0.8,
             "#7fbc41"
            ],
            [
             0.9,
             "#4d9221"
            ],
            [
             1,
             "#276419"
            ]
           ],
           "sequential": [
            [
             0,
             "#0d0887"
            ],
            [
             0.1111111111111111,
             "#46039f"
            ],
            [
             0.2222222222222222,
             "#7201a8"
            ],
            [
             0.3333333333333333,
             "#9c179e"
            ],
            [
             0.4444444444444444,
             "#bd3786"
            ],
            [
             0.5555555555555556,
             "#d8576b"
            ],
            [
             0.6666666666666666,
             "#ed7953"
            ],
            [
             0.7777777777777778,
             "#fb9f3a"
            ],
            [
             0.8888888888888888,
             "#fdca26"
            ],
            [
             1,
             "#f0f921"
            ]
           ],
           "sequentialminus": [
            [
             0,
             "#0d0887"
            ],
            [
             0.1111111111111111,
             "#46039f"
            ],
            [
             0.2222222222222222,
             "#7201a8"
            ],
            [
             0.3333333333333333,
             "#9c179e"
            ],
            [
             0.4444444444444444,
             "#bd3786"
            ],
            [
             0.5555555555555556,
             "#d8576b"
            ],
            [
             0.6666666666666666,
             "#ed7953"
            ],
            [
             0.7777777777777778,
             "#fb9f3a"
            ],
            [
             0.8888888888888888,
             "#fdca26"
            ],
            [
             1,
             "#f0f921"
            ]
           ]
          },
          "colorway": [
           "#636efa",
           "#EF553B",
           "#00cc96",
           "#ab63fa",
           "#FFA15A",
           "#19d3f3",
           "#FF6692",
           "#B6E880",
           "#FF97FF",
           "#FECB52"
          ],
          "font": {
           "color": "#2a3f5f"
          },
          "geo": {
           "bgcolor": "white",
           "lakecolor": "white",
           "landcolor": "#E5ECF6",
           "showlakes": true,
           "showland": true,
           "subunitcolor": "white"
          },
          "hoverlabel": {
           "align": "left"
          },
          "hovermode": "closest",
          "mapbox": {
           "style": "light"
          },
          "paper_bgcolor": "white",
          "plot_bgcolor": "#E5ECF6",
          "polar": {
           "angularaxis": {
            "gridcolor": "white",
            "linecolor": "white",
            "ticks": ""
           },
           "bgcolor": "#E5ECF6",
           "radialaxis": {
            "gridcolor": "white",
            "linecolor": "white",
            "ticks": ""
           }
          },
          "scene": {
           "xaxis": {
            "backgroundcolor": "#E5ECF6",
            "gridcolor": "white",
            "gridwidth": 2,
            "linecolor": "white",
            "showbackground": true,
            "ticks": "",
            "zerolinecolor": "white"
           },
           "yaxis": {
            "backgroundcolor": "#E5ECF6",
            "gridcolor": "white",
            "gridwidth": 2,
            "linecolor": "white",
            "showbackground": true,
            "ticks": "",
            "zerolinecolor": "white"
           },
           "zaxis": {
            "backgroundcolor": "#E5ECF6",
            "gridcolor": "white",
            "gridwidth": 2,
            "linecolor": "white",
            "showbackground": true,
            "ticks": "",
            "zerolinecolor": "white"
           }
          },
          "shapedefaults": {
           "line": {
            "color": "#2a3f5f"
           }
          },
          "ternary": {
           "aaxis": {
            "gridcolor": "white",
            "linecolor": "white",
            "ticks": ""
           },
           "baxis": {
            "gridcolor": "white",
            "linecolor": "white",
            "ticks": ""
           },
           "bgcolor": "#E5ECF6",
           "caxis": {
            "gridcolor": "white",
            "linecolor": "white",
            "ticks": ""
           }
          },
          "title": {
           "x": 0.05
          },
          "xaxis": {
           "automargin": true,
           "gridcolor": "white",
           "linecolor": "white",
           "ticks": "",
           "title": {
            "standoff": 15
           },
           "zerolinecolor": "white",
           "zerolinewidth": 2
          },
          "yaxis": {
           "automargin": true,
           "gridcolor": "white",
           "linecolor": "white",
           "ticks": "",
           "title": {
            "standoff": 15
           },
           "zerolinecolor": "white",
           "zerolinewidth": 2
          }
         }
        },
        "title": {
         "font": {
          "color": "#4D5663"
         }
        },
        "xaxis": {
         "gridcolor": "#E1E5ED",
         "showgrid": true,
         "tickfont": {
          "color": "#4D5663"
         },
         "title": {
          "font": {
           "color": "#4D5663"
          },
          "text": ""
         },
         "zerolinecolor": "#E1E5ED"
        },
        "yaxis": {
         "gridcolor": "#E1E5ED",
         "showgrid": true,
         "tickfont": {
          "color": "#4D5663"
         },
         "title": {
          "font": {
           "color": "#4D5663"
          },
          "text": ""
         },
         "zerolinecolor": "#E1E5ED"
        }
       }
      },
      "text/html": [
       "<div>                            <div id=\"1f4025f5-3c15-4549-96e0-8a2cf6e3cbc0\" class=\"plotly-graph-div\" style=\"height:525px; width:100%;\"></div>            <script type=\"text/javascript\">                require([\"plotly\"], function(Plotly) {                    window.PLOTLYENV=window.PLOTLYENV || {};\n",
       "                    window.PLOTLYENV.BASE_URL='https://plot.ly';                                    if (document.getElementById(\"1f4025f5-3c15-4549-96e0-8a2cf6e3cbc0\")) {                    Plotly.newPlot(                        \"1f4025f5-3c15-4549-96e0-8a2cf6e3cbc0\",                        [{\"histfunc\":\"count\",\"histnorm\":\"\",\"marker\":{\"color\":\"rgba(255, 153, 51, 1.0)\",\"line\":{\"color\":\"#4D5663\",\"width\":1.3}},\"name\":\"A\",\"nbinsx\":25,\"opacity\":0.8,\"orientation\":\"v\",\"x\":[0.35989448670498325,-0.4592246745596689,1.1469340676932693,0.011457522595807158,-1.325225593039427,0.6814113631472483,-0.6786363701384942,1.0437656967750097,-0.47746466288488,0.8125037672312054,-0.47404658256936544,1.2031540729757069,1.4635324716319182,0.06280967604194186,-1.3846713229533583,0.857625982236854,0.5068595009022173,0.5580764208978222,0.7283816078799463,1.6679793441485444,0.5494052825729143,2.179905991957352,0.6687883289057667,-0.3900788675173005,0.6003974566718818,-0.4550592069568799,0.024033182599412138,0.8838170831120449,-0.3815550521370984,-1.1351702026828523,1.8944649799641564,0.294708748187957,0.21978311050099436,-0.07065302380242854,-0.07252968052331976,1.1144820614967048,0.606171730343062,-0.8731464829889949,-0.9310256218748634,-1.1793341276575884,-1.257519736482706,-1.7425979839917272,-0.9445804193991463,-1.7502567337064294,-1.4243514037650187,-0.4090315100280699,0.18554365411004087,1.5207346391246686,-1.3323522975428201,-1.0763732961923527,0.935426096415537,0.786447031400014,0.3251381994168318,0.4245928479689998,0.6172282965203385,2.616286334548319,0.35013172747915905,0.23072155751839604,0.1078120918737563,-0.6767857327332797,1.486845300668094,-0.22754332442045902,-0.37629874464913476,0.7463145320495523,-0.19467705150091513,-1.4154453380765688,1.3399136119262056,-1.5777643034446764,-0.27774725451621385,0.20185972252411266,0.9349122376858232,-1.9228425692134634,1.0046670938839755,-0.6508739922195852,0.4269958744781549,0.7736665220816002,-0.1679201401431736,-1.3158405857178361,-0.8227589415389568,2.332130548823311,-0.26318021389783985,-1.4971248638820622,0.3152560911248023,-0.21665547778357377,-1.0023809876326206,1.0562004740071824,0.5338261162974342,1.084603932148778,0.2935647195292971,0.28628110241537885,-1.1494679572805997,-0.25532087031031897,-0.35075476425964247,0.9497286053864785,0.2807308118655686,-0.4251098238132698,-1.0621446257664477,0.41931528695406345,-1.433797178077299,-0.8059425488799932],\"type\":\"histogram\"}],                        {\"barmode\":\"overlay\",\"legend\":{\"bgcolor\":\"#F5F6F9\",\"font\":{\"color\":\"#4D5663\"}},\"paper_bgcolor\":\"#F5F6F9\",\"plot_bgcolor\":\"#F5F6F9\",\"template\":{\"data\":{\"barpolar\":[{\"marker\":{\"line\":{\"color\":\"#E5ECF6\",\"width\":0.5},\"pattern\":{\"fillmode\":\"overlay\",\"size\":10,\"solidity\":0.2}},\"type\":\"barpolar\"}],\"bar\":[{\"error_x\":{\"color\":\"#2a3f5f\"},\"error_y\":{\"color\":\"#2a3f5f\"},\"marker\":{\"line\":{\"color\":\"#E5ECF6\",\"width\":0.5},\"pattern\":{\"fillmode\":\"overlay\",\"size\":10,\"solidity\":0.2}},\"type\":\"bar\"}],\"carpet\":[{\"aaxis\":{\"endlinecolor\":\"#2a3f5f\",\"gridcolor\":\"white\",\"linecolor\":\"white\",\"minorgridcolor\":\"white\",\"startlinecolor\":\"#2a3f5f\"},\"baxis\":{\"endlinecolor\":\"#2a3f5f\",\"gridcolor\":\"white\",\"linecolor\":\"white\",\"minorgridcolor\":\"white\",\"startlinecolor\":\"#2a3f5f\"},\"type\":\"carpet\"}],\"choropleth\":[{\"colorbar\":{\"outlinewidth\":0,\"ticks\":\"\"},\"type\":\"choropleth\"}],\"contourcarpet\":[{\"colorbar\":{\"outlinewidth\":0,\"ticks\":\"\"},\"type\":\"contourcarpet\"}],\"contour\":[{\"colorbar\":{\"outlinewidth\":0,\"ticks\":\"\"},\"colorscale\":[[0.0,\"#0d0887\"],[0.1111111111111111,\"#46039f\"],[0.2222222222222222,\"#7201a8\"],[0.3333333333333333,\"#9c179e\"],[0.4444444444444444,\"#bd3786\"],[0.5555555555555556,\"#d8576b\"],[0.6666666666666666,\"#ed7953\"],[0.7777777777777778,\"#fb9f3a\"],[0.8888888888888888,\"#fdca26\"],[1.0,\"#f0f921\"]],\"type\":\"contour\"}],\"heatmapgl\":[{\"colorbar\":{\"outlinewidth\":0,\"ticks\":\"\"},\"colorscale\":[[0.0,\"#0d0887\"],[0.1111111111111111,\"#46039f\"],[0.2222222222222222,\"#7201a8\"],[0.3333333333333333,\"#9c179e\"],[0.4444444444444444,\"#bd3786\"],[0.5555555555555556,\"#d8576b\"],[0.6666666666666666,\"#ed7953\"],[0.7777777777777778,\"#fb9f3a\"],[0.8888888888888888,\"#fdca26\"],[1.0,\"#f0f921\"]],\"type\":\"heatmapgl\"}],\"heatmap\":[{\"colorbar\":{\"outlinewidth\":0,\"ticks\":\"\"},\"colorscale\":[[0.0,\"#0d0887\"],[0.1111111111111111,\"#46039f\"],[0.2222222222222222,\"#7201a8\"],[0.3333333333333333,\"#9c179e\"],[0.4444444444444444,\"#bd3786\"],[0.5555555555555556,\"#d8576b\"],[0.6666666666666666,\"#ed7953\"],[0.7777777777777778,\"#fb9f3a\"],[0.8888888888888888,\"#fdca26\"],[1.0,\"#f0f921\"]],\"type\":\"heatmap\"}],\"histogram2dcontour\":[{\"colorbar\":{\"outlinewidth\":0,\"ticks\":\"\"},\"colorscale\":[[0.0,\"#0d0887\"],[0.1111111111111111,\"#46039f\"],[0.2222222222222222,\"#7201a8\"],[0.3333333333333333,\"#9c179e\"],[0.4444444444444444,\"#bd3786\"],[0.5555555555555556,\"#d8576b\"],[0.6666666666666666,\"#ed7953\"],[0.7777777777777778,\"#fb9f3a\"],[0.8888888888888888,\"#fdca26\"],[1.0,\"#f0f921\"]],\"type\":\"histogram2dcontour\"}],\"histogram2d\":[{\"colorbar\":{\"outlinewidth\":0,\"ticks\":\"\"},\"colorscale\":[[0.0,\"#0d0887\"],[0.1111111111111111,\"#46039f\"],[0.2222222222222222,\"#7201a8\"],[0.3333333333333333,\"#9c179e\"],[0.4444444444444444,\"#bd3786\"],[0.5555555555555556,\"#d8576b\"],[0.6666666666666666,\"#ed7953\"],[0.7777777777777778,\"#fb9f3a\"],[0.8888888888888888,\"#fdca26\"],[1.0,\"#f0f921\"]],\"type\":\"histogram2d\"}],\"histogram\":[{\"marker\":{\"pattern\":{\"fillmode\":\"overlay\",\"size\":10,\"solidity\":0.2}},\"type\":\"histogram\"}],\"mesh3d\":[{\"colorbar\":{\"outlinewidth\":0,\"ticks\":\"\"},\"type\":\"mesh3d\"}],\"parcoords\":[{\"line\":{\"colorbar\":{\"outlinewidth\":0,\"ticks\":\"\"}},\"type\":\"parcoords\"}],\"pie\":[{\"automargin\":true,\"type\":\"pie\"}],\"scatter3d\":[{\"line\":{\"colorbar\":{\"outlinewidth\":0,\"ticks\":\"\"}},\"marker\":{\"colorbar\":{\"outlinewidth\":0,\"ticks\":\"\"}},\"type\":\"scatter3d\"}],\"scattercarpet\":[{\"marker\":{\"colorbar\":{\"outlinewidth\":0,\"ticks\":\"\"}},\"type\":\"scattercarpet\"}],\"scattergeo\":[{\"marker\":{\"colorbar\":{\"outlinewidth\":0,\"ticks\":\"\"}},\"type\":\"scattergeo\"}],\"scattergl\":[{\"marker\":{\"colorbar\":{\"outlinewidth\":0,\"ticks\":\"\"}},\"type\":\"scattergl\"}],\"scattermapbox\":[{\"marker\":{\"colorbar\":{\"outlinewidth\":0,\"ticks\":\"\"}},\"type\":\"scattermapbox\"}],\"scatterpolargl\":[{\"marker\":{\"colorbar\":{\"outlinewidth\":0,\"ticks\":\"\"}},\"type\":\"scatterpolargl\"}],\"scatterpolar\":[{\"marker\":{\"colorbar\":{\"outlinewidth\":0,\"ticks\":\"\"}},\"type\":\"scatterpolar\"}],\"scatter\":[{\"marker\":{\"colorbar\":{\"outlinewidth\":0,\"ticks\":\"\"}},\"type\":\"scatter\"}],\"scatterternary\":[{\"marker\":{\"colorbar\":{\"outlinewidth\":0,\"ticks\":\"\"}},\"type\":\"scatterternary\"}],\"surface\":[{\"colorbar\":{\"outlinewidth\":0,\"ticks\":\"\"},\"colorscale\":[[0.0,\"#0d0887\"],[0.1111111111111111,\"#46039f\"],[0.2222222222222222,\"#7201a8\"],[0.3333333333333333,\"#9c179e\"],[0.4444444444444444,\"#bd3786\"],[0.5555555555555556,\"#d8576b\"],[0.6666666666666666,\"#ed7953\"],[0.7777777777777778,\"#fb9f3a\"],[0.8888888888888888,\"#fdca26\"],[1.0,\"#f0f921\"]],\"type\":\"surface\"}],\"table\":[{\"cells\":{\"fill\":{\"color\":\"#EBF0F8\"},\"line\":{\"color\":\"white\"}},\"header\":{\"fill\":{\"color\":\"#C8D4E3\"},\"line\":{\"color\":\"white\"}},\"type\":\"table\"}]},\"layout\":{\"annotationdefaults\":{\"arrowcolor\":\"#2a3f5f\",\"arrowhead\":0,\"arrowwidth\":1},\"autotypenumbers\":\"strict\",\"coloraxis\":{\"colorbar\":{\"outlinewidth\":0,\"ticks\":\"\"}},\"colorscale\":{\"diverging\":[[0,\"#8e0152\"],[0.1,\"#c51b7d\"],[0.2,\"#de77ae\"],[0.3,\"#f1b6da\"],[0.4,\"#fde0ef\"],[0.5,\"#f7f7f7\"],[0.6,\"#e6f5d0\"],[0.7,\"#b8e186\"],[0.8,\"#7fbc41\"],[0.9,\"#4d9221\"],[1,\"#276419\"]],\"sequential\":[[0.0,\"#0d0887\"],[0.1111111111111111,\"#46039f\"],[0.2222222222222222,\"#7201a8\"],[0.3333333333333333,\"#9c179e\"],[0.4444444444444444,\"#bd3786\"],[0.5555555555555556,\"#d8576b\"],[0.6666666666666666,\"#ed7953\"],[0.7777777777777778,\"#fb9f3a\"],[0.8888888888888888,\"#fdca26\"],[1.0,\"#f0f921\"]],\"sequentialminus\":[[0.0,\"#0d0887\"],[0.1111111111111111,\"#46039f\"],[0.2222222222222222,\"#7201a8\"],[0.3333333333333333,\"#9c179e\"],[0.4444444444444444,\"#bd3786\"],[0.5555555555555556,\"#d8576b\"],[0.6666666666666666,\"#ed7953\"],[0.7777777777777778,\"#fb9f3a\"],[0.8888888888888888,\"#fdca26\"],[1.0,\"#f0f921\"]]},\"colorway\":[\"#636efa\",\"#EF553B\",\"#00cc96\",\"#ab63fa\",\"#FFA15A\",\"#19d3f3\",\"#FF6692\",\"#B6E880\",\"#FF97FF\",\"#FECB52\"],\"font\":{\"color\":\"#2a3f5f\"},\"geo\":{\"bgcolor\":\"white\",\"lakecolor\":\"white\",\"landcolor\":\"#E5ECF6\",\"showlakes\":true,\"showland\":true,\"subunitcolor\":\"white\"},\"hoverlabel\":{\"align\":\"left\"},\"hovermode\":\"closest\",\"mapbox\":{\"style\":\"light\"},\"paper_bgcolor\":\"white\",\"plot_bgcolor\":\"#E5ECF6\",\"polar\":{\"angularaxis\":{\"gridcolor\":\"white\",\"linecolor\":\"white\",\"ticks\":\"\"},\"bgcolor\":\"#E5ECF6\",\"radialaxis\":{\"gridcolor\":\"white\",\"linecolor\":\"white\",\"ticks\":\"\"}},\"scene\":{\"xaxis\":{\"backgroundcolor\":\"#E5ECF6\",\"gridcolor\":\"white\",\"gridwidth\":2,\"linecolor\":\"white\",\"showbackground\":true,\"ticks\":\"\",\"zerolinecolor\":\"white\"},\"yaxis\":{\"backgroundcolor\":\"#E5ECF6\",\"gridcolor\":\"white\",\"gridwidth\":2,\"linecolor\":\"white\",\"showbackground\":true,\"ticks\":\"\",\"zerolinecolor\":\"white\"},\"zaxis\":{\"backgroundcolor\":\"#E5ECF6\",\"gridcolor\":\"white\",\"gridwidth\":2,\"linecolor\":\"white\",\"showbackground\":true,\"ticks\":\"\",\"zerolinecolor\":\"white\"}},\"shapedefaults\":{\"line\":{\"color\":\"#2a3f5f\"}},\"ternary\":{\"aaxis\":{\"gridcolor\":\"white\",\"linecolor\":\"white\",\"ticks\":\"\"},\"baxis\":{\"gridcolor\":\"white\",\"linecolor\":\"white\",\"ticks\":\"\"},\"bgcolor\":\"#E5ECF6\",\"caxis\":{\"gridcolor\":\"white\",\"linecolor\":\"white\",\"ticks\":\"\"}},\"title\":{\"x\":0.05},\"xaxis\":{\"automargin\":true,\"gridcolor\":\"white\",\"linecolor\":\"white\",\"ticks\":\"\",\"title\":{\"standoff\":15},\"zerolinecolor\":\"white\",\"zerolinewidth\":2},\"yaxis\":{\"automargin\":true,\"gridcolor\":\"white\",\"linecolor\":\"white\",\"ticks\":\"\",\"title\":{\"standoff\":15},\"zerolinecolor\":\"white\",\"zerolinewidth\":2}}},\"title\":{\"font\":{\"color\":\"#4D5663\"}},\"xaxis\":{\"gridcolor\":\"#E1E5ED\",\"showgrid\":true,\"tickfont\":{\"color\":\"#4D5663\"},\"title\":{\"font\":{\"color\":\"#4D5663\"},\"text\":\"\"},\"zerolinecolor\":\"#E1E5ED\"},\"yaxis\":{\"gridcolor\":\"#E1E5ED\",\"showgrid\":true,\"tickfont\":{\"color\":\"#4D5663\"},\"title\":{\"font\":{\"color\":\"#4D5663\"},\"text\":\"\"},\"zerolinecolor\":\"#E1E5ED\"}},                        {\"showLink\": true, \"linkText\": \"Export to plot.ly\", \"plotlyServerURL\": \"https://plot.ly\", \"responsive\": true}                    ).then(function(){\n",
       "                            \n",
       "var gd = document.getElementById('1f4025f5-3c15-4549-96e0-8a2cf6e3cbc0');\n",
       "var x = new MutationObserver(function (mutations, observer) {{\n",
       "        var display = window.getComputedStyle(gd).display;\n",
       "        if (!display || display === 'none') {{\n",
       "            console.log([gd, 'removed!']);\n",
       "            Plotly.purge(gd);\n",
       "            observer.disconnect();\n",
       "        }}\n",
       "}});\n",
       "\n",
       "// Listen for the removal of the full notebook cells\n",
       "var notebookContainer = gd.closest('#notebook-container');\n",
       "if (notebookContainer) {{\n",
       "    x.observe(notebookContainer, {childList: true});\n",
       "}}\n",
       "\n",
       "// Listen for the clearing of the current output cell\n",
       "var outputEl = gd.closest('.output');\n",
       "if (outputEl) {{\n",
       "    x.observe(outputEl, {childList: true});\n",
       "}}\n",
       "\n",
       "                        })                };                });            </script>        </div>"
      ]
     },
     "metadata": {},
     "output_type": "display_data"
    }
   ],
   "source": [
    "df['A'].iplot(kind='hist',bins=25)"
   ]
  },
  {
   "cell_type": "code",
   "execution_count": 16,
   "metadata": {},
   "outputs": [
    {
     "data": {
      "application/vnd.plotly.v1+json": {
       "config": {
        "linkText": "Export to plot.ly",
        "plotlyServerURL": "https://plot.ly",
        "showLink": true
       },
       "data": [
        {
         "histfunc": "count",
         "histnorm": "",
         "marker": {
          "color": "rgba(255, 153, 51, 1.0)",
          "line": {
           "color": "#4D5663",
           "width": 1.3
          }
         },
         "name": "A",
         "nbinsx": 25,
         "opacity": 0.8,
         "orientation": "v",
         "type": "histogram",
         "x": [
          0.35989448670498325,
          -0.4592246745596689,
          1.1469340676932693,
          0.011457522595807158,
          -1.325225593039427,
          0.6814113631472483,
          -0.6786363701384942,
          1.0437656967750097,
          -0.47746466288488,
          0.8125037672312054,
          -0.47404658256936544,
          1.2031540729757069,
          1.4635324716319182,
          0.06280967604194186,
          -1.3846713229533583,
          0.857625982236854,
          0.5068595009022173,
          0.5580764208978222,
          0.7283816078799463,
          1.6679793441485444,
          0.5494052825729143,
          2.179905991957352,
          0.6687883289057667,
          -0.3900788675173005,
          0.6003974566718818,
          -0.4550592069568799,
          0.024033182599412138,
          0.8838170831120449,
          -0.3815550521370984,
          -1.1351702026828523,
          1.8944649799641564,
          0.294708748187957,
          0.21978311050099436,
          -0.07065302380242854,
          -0.07252968052331976,
          1.1144820614967048,
          0.606171730343062,
          -0.8731464829889949,
          -0.9310256218748634,
          -1.1793341276575884,
          -1.257519736482706,
          -1.7425979839917272,
          -0.9445804193991463,
          -1.7502567337064294,
          -1.4243514037650187,
          -0.4090315100280699,
          0.18554365411004087,
          1.5207346391246686,
          -1.3323522975428201,
          -1.0763732961923527,
          0.935426096415537,
          0.786447031400014,
          0.3251381994168318,
          0.4245928479689998,
          0.6172282965203385,
          2.616286334548319,
          0.35013172747915905,
          0.23072155751839604,
          0.1078120918737563,
          -0.6767857327332797,
          1.486845300668094,
          -0.22754332442045902,
          -0.37629874464913476,
          0.7463145320495523,
          -0.19467705150091513,
          -1.4154453380765688,
          1.3399136119262056,
          -1.5777643034446764,
          -0.27774725451621385,
          0.20185972252411266,
          0.9349122376858232,
          -1.9228425692134634,
          1.0046670938839755,
          -0.6508739922195852,
          0.4269958744781549,
          0.7736665220816002,
          -0.1679201401431736,
          -1.3158405857178361,
          -0.8227589415389568,
          2.332130548823311,
          -0.26318021389783985,
          -1.4971248638820622,
          0.3152560911248023,
          -0.21665547778357377,
          -1.0023809876326206,
          1.0562004740071824,
          0.5338261162974342,
          1.084603932148778,
          0.2935647195292971,
          0.28628110241537885,
          -1.1494679572805997,
          -0.25532087031031897,
          -0.35075476425964247,
          0.9497286053864785,
          0.2807308118655686,
          -0.4251098238132698,
          -1.0621446257664477,
          0.41931528695406345,
          -1.433797178077299,
          -0.8059425488799932
         ]
        },
        {
         "histfunc": "count",
         "histnorm": "",
         "marker": {
          "color": "rgba(55, 128, 191, 1.0)",
          "line": {
           "color": "#4D5663",
           "width": 1.3
          }
         },
         "name": "B",
         "nbinsx": 25,
         "opacity": 0.8,
         "orientation": "v",
         "type": "histogram",
         "x": [
          -0.9217746063940998,
          -1.6822361723427532,
          -0.055572935761315195,
          -0.7350958966894335,
          -0.16312573884020234,
          0.26078513301011524,
          -1.6077194546656872,
          -0.16660545555158907,
          0.4702211267676788,
          -0.8160247909852378,
          0.07090561857130953,
          -0.512506611196169,
          0.7176328754936439,
          -0.5532917462243572,
          -0.8119234722216444,
          -1.1765423268753135,
          -1.12954248594935,
          -0.4149262245711078,
          -0.4253415826023585,
          0.8469921767949793,
          1.881699763566048,
          -0.25778150596466876,
          -0.13128008428078422,
          0.5004041084234315,
          -1.649491285150849,
          -0.5042162792070994,
          0.6218104662260018,
          -0.5987775790098924,
          1.4123907764913297,
          -1.5904079493683279,
          -0.17544539905896128,
          -0.26662817691141316,
          1.6537875958037962,
          0.47060178918033885,
          -1.0478398572685959,
          1.2458723160603526,
          0.3183776222101448,
          -0.34137069400463826,
          0.6268383693928805,
          -0.49492715859173325,
          1.7894001280490095,
          1.0923690990085906,
          -0.4426468257952904,
          -1.7570569105500355,
          -0.2975462515868482,
          -0.9903552540790408,
          -2.0298888359656786,
          0.20798858218719538,
          -0.19840303127725278,
          0.9591272839305035,
          -1.0280598843346984,
          -1.3992328031466221,
          0.1824738273519832,
          -0.6025895866492086,
          -0.9843279818631707,
          -1.8390232897687318,
          1.534352550556892,
          1.0097682622746742,
          -0.861460988903354,
          -1.1660932424398551,
          -0.3094667414878226,
          1.1390385211944523,
          0.7427373004453051,
          0.4325319033275298,
          -0.49157497264069144,
          -1.1332619048375008,
          1.1259775995666133,
          1.9633898033012296,
          -0.1707707527943106,
          -0.4707537511823286,
          0.293722238328297,
          -0.6637770134834158,
          0.1301936407996693,
          0.3317424608102532,
          -1.0087404003189793,
          1.5522849293264396,
          0.22765004510397707,
          0.5272387175192732,
          -1.2419532380663771,
          0.33703182748365773,
          -1.7943304931124409,
          1.9246712787355624,
          -0.23366511001055065,
          0.09530901830895594,
          -0.2594634402771084,
          -0.20051248855805656,
          0.5230413669385336,
          -0.5013104579418655,
          0.46862784928238493,
          -1.2320574972191813,
          1.2274744511742934,
          0.9056958647317631,
          0.6943233325625244,
          0.613944109383328,
          0.20386916943256914,
          -0.4326740892386687,
          -0.5777941644677652,
          1.2663919771320504,
          1.4677257199411882,
          -1.8332729500431604
         ]
        },
        {
         "histfunc": "count",
         "histnorm": "",
         "marker": {
          "color": "rgba(50, 171, 96, 1.0)",
          "line": {
           "color": "#4D5663",
           "width": 1.3
          }
         },
         "name": "C",
         "nbinsx": 25,
         "opacity": 0.8,
         "orientation": "v",
         "type": "histogram",
         "x": [
          0.8273152785715431,
          2.592082609608652,
          1.3446371871912153,
          0.8504550879324595,
          1.4411075649619918,
          0.5897397057175384,
          1.4823375219325754,
          0.493545341242126,
          0.2277940736874258,
          0.26800571588185357,
          -0.35721758206893844,
          -0.5240919506759124,
          -0.998536527564416,
          -0.25250677074350025,
          0.34751354653457334,
          0.7319758834630521,
          0.8515431046657899,
          -0.5151755682976872,
          1.1034991243247498,
          -0.2514271267200668,
          0.11530430980968087,
          0.42783703065710466,
          -0.46493111644446494,
          -0.3697897261937152,
          0.5756817113457978,
          0.5590010846145865,
          0.7723509688301612,
          -0.3848689347948521,
          -0.03960165885586036,
          0.044185855710254546,
          -0.5140996425468439,
          0.13193354043914313,
          0.9187833900981137,
          1.484115372604817,
          0.18697754963781588,
          1.9497496515191346,
          -0.025593087049639886,
          0.19876252469269806,
          0.40681310501725126,
          1.5754598787831944,
          0.5434325141033527,
          -1.1639700750272357,
          -2.027499814689522,
          0.3774390179879476,
          0.07839364114765025,
          0.2099088012296653,
          -1.0098193100645472,
          -2.1968598817674136,
          -2.085850838972527,
          0.22237535775602632,
          1.410759157113143,
          0.7575898202084071,
          -0.379137771012906,
          0.05344419077288705,
          -0.39949566994663593,
          0.15032321148972558,
          -0.13006768244103997,
          -0.1104800512865253,
          0.14024177840245208,
          -0.11546794485658657,
          1.1370169489407962,
          1.6418440274751496,
          1.029633502483267,
          2.064768104260361,
          -1.4246738743908782,
          -1.1906028269960245,
          1.1195470807731074,
          0.24714600279234417,
          0.41050677418878273,
          -0.3044927976891417,
          -2.054946754679443,
          -0.7307213097989068,
          -0.8708435579846577,
          -1.1405779109930412,
          -1.3375884485723633,
          -0.8553922504340327,
          0.811982322687059,
          0.6504087801710815,
          0.22215904010631066,
          -1.4420307525037719,
          0.7506310074727195,
          1.3566616786070929,
          0.7461563731341896,
          -0.07648236873264547,
          0.022522698063428805,
          0.6937233126166052,
          -0.32415267449581314,
          0.1577868414126188,
          1.094604977544399,
          -0.7470298922393848,
          0.558516436318415,
          0.7339447070301272,
          0.32600844025502,
          0.7143208325728774,
          1.1930579479539156,
          -0.16489897476312007,
          -0.5023550910613268,
          0.8485020620346165,
          0.6152295906262166,
          -1.7710607238056244
         ]
        },
        {
         "histfunc": "count",
         "histnorm": "",
         "marker": {
          "color": "rgba(128, 0, 128, 1.0)",
          "line": {
           "color": "#4D5663",
           "width": 1.3
          }
         },
         "name": "D",
         "nbinsx": 25,
         "opacity": 0.8,
         "orientation": "v",
         "type": "histogram",
         "x": [
          0.1639515482012815,
          1.8912813739797474,
          0.130753561918199,
          -2.462473908106972,
          -0.6603998166821248,
          1.9977377081442942,
          -1.0129093630599486,
          0.7921290056316523,
          -0.5664348156991554,
          -0.7249453745242685,
          -1.316613740020055,
          -0.6912569883984678,
          -1.240988387334244,
          -0.5210705358852363,
          0.09427243247393506,
          0.23596339084549361,
          0.39613978935162286,
          -0.5036875231146357,
          -1.4879042015174808,
          2.008266172048622,
          -0.9267001478713117,
          0.8886469782275257,
          -0.013999911406236168,
          0.18162473087366604,
          -0.05355539919631981,
          0.8512041291095764,
          1.4188904241052764,
          2.0261909174276163,
          -0.7659204731984209,
          -1.0137288460711575,
          -0.11314826507733342,
          -0.006556842213361446,
          -1.4145634914480307,
          -0.04656715573464401,
          0.11464370009805469,
          1.077154835460711,
          -0.6558996673933815,
          1.6004297267147591,
          1.1560180690378152,
          -1.1020980479547866,
          -0.29695874751007373,
          -2.3171441457140984,
          -0.6845246028821502,
          0.44585404969474557,
          0.023595686585148427,
          0.8643865790452707,
          0.6314911651454947,
          1.2575699668623646,
          0.04729427854654969,
          0.5259727805936953,
          0.619317035851485,
          -0.1106898572460105,
          -1.1664952254834136,
          0.21837344055509192,
          1.7268542929393982,
          1.1910080253594584,
          -0.03371678760423379,
          0.7484607684771561,
          1.7097535689505192,
          1.6719306216288725,
          0.17375769926297524,
          0.37715327609221455,
          -0.5887231780567602,
          -0.09935263687710601,
          0.27712225162381837,
          -0.8609743885728103,
          0.4279101952965506,
          0.3007884188375812,
          0.34063671029127696,
          0.10538779020884839,
          -0.30028901730662577,
          1.0019587248375998,
          0.1832065798821189,
          -1.4554640798274099,
          2.9912213268678367,
          1.6829095016685827,
          -0.6230371284787307,
          0.7837134148587172,
          -0.0842101697097363,
          0.7455313961820127,
          -1.612400798498298,
          -0.3221942083634528,
          -1.2099618162593822,
          -0.35263267466788234,
          0.6164369788445613,
          -0.13032311478530598,
          -1.8835020613120474,
          1.157435009222289,
          0.9121473121955195,
          1.2473321030756332,
          -0.7666362855181403,
          0.7432402678061955,
          0.344599844220491,
          0.6452809496473196,
          0.831922075508615,
          -0.6315196967878742,
          0.21774047700345495,
          -0.04705120336250258,
          -0.2739043016194293,
          0.3032166418279464
         ]
        }
       ],
       "layout": {
        "barmode": "overlay",
        "legend": {
         "bgcolor": "#F5F6F9",
         "font": {
          "color": "#4D5663"
         }
        },
        "paper_bgcolor": "#F5F6F9",
        "plot_bgcolor": "#F5F6F9",
        "template": {
         "data": {
          "bar": [
           {
            "error_x": {
             "color": "#2a3f5f"
            },
            "error_y": {
             "color": "#2a3f5f"
            },
            "marker": {
             "line": {
              "color": "#E5ECF6",
              "width": 0.5
             },
             "pattern": {
              "fillmode": "overlay",
              "size": 10,
              "solidity": 0.2
             }
            },
            "type": "bar"
           }
          ],
          "barpolar": [
           {
            "marker": {
             "line": {
              "color": "#E5ECF6",
              "width": 0.5
             },
             "pattern": {
              "fillmode": "overlay",
              "size": 10,
              "solidity": 0.2
             }
            },
            "type": "barpolar"
           }
          ],
          "carpet": [
           {
            "aaxis": {
             "endlinecolor": "#2a3f5f",
             "gridcolor": "white",
             "linecolor": "white",
             "minorgridcolor": "white",
             "startlinecolor": "#2a3f5f"
            },
            "baxis": {
             "endlinecolor": "#2a3f5f",
             "gridcolor": "white",
             "linecolor": "white",
             "minorgridcolor": "white",
             "startlinecolor": "#2a3f5f"
            },
            "type": "carpet"
           }
          ],
          "choropleth": [
           {
            "colorbar": {
             "outlinewidth": 0,
             "ticks": ""
            },
            "type": "choropleth"
           }
          ],
          "contour": [
           {
            "colorbar": {
             "outlinewidth": 0,
             "ticks": ""
            },
            "colorscale": [
             [
              0,
              "#0d0887"
             ],
             [
              0.1111111111111111,
              "#46039f"
             ],
             [
              0.2222222222222222,
              "#7201a8"
             ],
             [
              0.3333333333333333,
              "#9c179e"
             ],
             [
              0.4444444444444444,
              "#bd3786"
             ],
             [
              0.5555555555555556,
              "#d8576b"
             ],
             [
              0.6666666666666666,
              "#ed7953"
             ],
             [
              0.7777777777777778,
              "#fb9f3a"
             ],
             [
              0.8888888888888888,
              "#fdca26"
             ],
             [
              1,
              "#f0f921"
             ]
            ],
            "type": "contour"
           }
          ],
          "contourcarpet": [
           {
            "colorbar": {
             "outlinewidth": 0,
             "ticks": ""
            },
            "type": "contourcarpet"
           }
          ],
          "heatmap": [
           {
            "colorbar": {
             "outlinewidth": 0,
             "ticks": ""
            },
            "colorscale": [
             [
              0,
              "#0d0887"
             ],
             [
              0.1111111111111111,
              "#46039f"
             ],
             [
              0.2222222222222222,
              "#7201a8"
             ],
             [
              0.3333333333333333,
              "#9c179e"
             ],
             [
              0.4444444444444444,
              "#bd3786"
             ],
             [
              0.5555555555555556,
              "#d8576b"
             ],
             [
              0.6666666666666666,
              "#ed7953"
             ],
             [
              0.7777777777777778,
              "#fb9f3a"
             ],
             [
              0.8888888888888888,
              "#fdca26"
             ],
             [
              1,
              "#f0f921"
             ]
            ],
            "type": "heatmap"
           }
          ],
          "heatmapgl": [
           {
            "colorbar": {
             "outlinewidth": 0,
             "ticks": ""
            },
            "colorscale": [
             [
              0,
              "#0d0887"
             ],
             [
              0.1111111111111111,
              "#46039f"
             ],
             [
              0.2222222222222222,
              "#7201a8"
             ],
             [
              0.3333333333333333,
              "#9c179e"
             ],
             [
              0.4444444444444444,
              "#bd3786"
             ],
             [
              0.5555555555555556,
              "#d8576b"
             ],
             [
              0.6666666666666666,
              "#ed7953"
             ],
             [
              0.7777777777777778,
              "#fb9f3a"
             ],
             [
              0.8888888888888888,
              "#fdca26"
             ],
             [
              1,
              "#f0f921"
             ]
            ],
            "type": "heatmapgl"
           }
          ],
          "histogram": [
           {
            "marker": {
             "pattern": {
              "fillmode": "overlay",
              "size": 10,
              "solidity": 0.2
             }
            },
            "type": "histogram"
           }
          ],
          "histogram2d": [
           {
            "colorbar": {
             "outlinewidth": 0,
             "ticks": ""
            },
            "colorscale": [
             [
              0,
              "#0d0887"
             ],
             [
              0.1111111111111111,
              "#46039f"
             ],
             [
              0.2222222222222222,
              "#7201a8"
             ],
             [
              0.3333333333333333,
              "#9c179e"
             ],
             [
              0.4444444444444444,
              "#bd3786"
             ],
             [
              0.5555555555555556,
              "#d8576b"
             ],
             [
              0.6666666666666666,
              "#ed7953"
             ],
             [
              0.7777777777777778,
              "#fb9f3a"
             ],
             [
              0.8888888888888888,
              "#fdca26"
             ],
             [
              1,
              "#f0f921"
             ]
            ],
            "type": "histogram2d"
           }
          ],
          "histogram2dcontour": [
           {
            "colorbar": {
             "outlinewidth": 0,
             "ticks": ""
            },
            "colorscale": [
             [
              0,
              "#0d0887"
             ],
             [
              0.1111111111111111,
              "#46039f"
             ],
             [
              0.2222222222222222,
              "#7201a8"
             ],
             [
              0.3333333333333333,
              "#9c179e"
             ],
             [
              0.4444444444444444,
              "#bd3786"
             ],
             [
              0.5555555555555556,
              "#d8576b"
             ],
             [
              0.6666666666666666,
              "#ed7953"
             ],
             [
              0.7777777777777778,
              "#fb9f3a"
             ],
             [
              0.8888888888888888,
              "#fdca26"
             ],
             [
              1,
              "#f0f921"
             ]
            ],
            "type": "histogram2dcontour"
           }
          ],
          "mesh3d": [
           {
            "colorbar": {
             "outlinewidth": 0,
             "ticks": ""
            },
            "type": "mesh3d"
           }
          ],
          "parcoords": [
           {
            "line": {
             "colorbar": {
              "outlinewidth": 0,
              "ticks": ""
             }
            },
            "type": "parcoords"
           }
          ],
          "pie": [
           {
            "automargin": true,
            "type": "pie"
           }
          ],
          "scatter": [
           {
            "marker": {
             "colorbar": {
              "outlinewidth": 0,
              "ticks": ""
             }
            },
            "type": "scatter"
           }
          ],
          "scatter3d": [
           {
            "line": {
             "colorbar": {
              "outlinewidth": 0,
              "ticks": ""
             }
            },
            "marker": {
             "colorbar": {
              "outlinewidth": 0,
              "ticks": ""
             }
            },
            "type": "scatter3d"
           }
          ],
          "scattercarpet": [
           {
            "marker": {
             "colorbar": {
              "outlinewidth": 0,
              "ticks": ""
             }
            },
            "type": "scattercarpet"
           }
          ],
          "scattergeo": [
           {
            "marker": {
             "colorbar": {
              "outlinewidth": 0,
              "ticks": ""
             }
            },
            "type": "scattergeo"
           }
          ],
          "scattergl": [
           {
            "marker": {
             "colorbar": {
              "outlinewidth": 0,
              "ticks": ""
             }
            },
            "type": "scattergl"
           }
          ],
          "scattermapbox": [
           {
            "marker": {
             "colorbar": {
              "outlinewidth": 0,
              "ticks": ""
             }
            },
            "type": "scattermapbox"
           }
          ],
          "scatterpolar": [
           {
            "marker": {
             "colorbar": {
              "outlinewidth": 0,
              "ticks": ""
             }
            },
            "type": "scatterpolar"
           }
          ],
          "scatterpolargl": [
           {
            "marker": {
             "colorbar": {
              "outlinewidth": 0,
              "ticks": ""
             }
            },
            "type": "scatterpolargl"
           }
          ],
          "scatterternary": [
           {
            "marker": {
             "colorbar": {
              "outlinewidth": 0,
              "ticks": ""
             }
            },
            "type": "scatterternary"
           }
          ],
          "surface": [
           {
            "colorbar": {
             "outlinewidth": 0,
             "ticks": ""
            },
            "colorscale": [
             [
              0,
              "#0d0887"
             ],
             [
              0.1111111111111111,
              "#46039f"
             ],
             [
              0.2222222222222222,
              "#7201a8"
             ],
             [
              0.3333333333333333,
              "#9c179e"
             ],
             [
              0.4444444444444444,
              "#bd3786"
             ],
             [
              0.5555555555555556,
              "#d8576b"
             ],
             [
              0.6666666666666666,
              "#ed7953"
             ],
             [
              0.7777777777777778,
              "#fb9f3a"
             ],
             [
              0.8888888888888888,
              "#fdca26"
             ],
             [
              1,
              "#f0f921"
             ]
            ],
            "type": "surface"
           }
          ],
          "table": [
           {
            "cells": {
             "fill": {
              "color": "#EBF0F8"
             },
             "line": {
              "color": "white"
             }
            },
            "header": {
             "fill": {
              "color": "#C8D4E3"
             },
             "line": {
              "color": "white"
             }
            },
            "type": "table"
           }
          ]
         },
         "layout": {
          "annotationdefaults": {
           "arrowcolor": "#2a3f5f",
           "arrowhead": 0,
           "arrowwidth": 1
          },
          "autotypenumbers": "strict",
          "coloraxis": {
           "colorbar": {
            "outlinewidth": 0,
            "ticks": ""
           }
          },
          "colorscale": {
           "diverging": [
            [
             0,
             "#8e0152"
            ],
            [
             0.1,
             "#c51b7d"
            ],
            [
             0.2,
             "#de77ae"
            ],
            [
             0.3,
             "#f1b6da"
            ],
            [
             0.4,
             "#fde0ef"
            ],
            [
             0.5,
             "#f7f7f7"
            ],
            [
             0.6,
             "#e6f5d0"
            ],
            [
             0.7,
             "#b8e186"
            ],
            [
             0.8,
             "#7fbc41"
            ],
            [
             0.9,
             "#4d9221"
            ],
            [
             1,
             "#276419"
            ]
           ],
           "sequential": [
            [
             0,
             "#0d0887"
            ],
            [
             0.1111111111111111,
             "#46039f"
            ],
            [
             0.2222222222222222,
             "#7201a8"
            ],
            [
             0.3333333333333333,
             "#9c179e"
            ],
            [
             0.4444444444444444,
             "#bd3786"
            ],
            [
             0.5555555555555556,
             "#d8576b"
            ],
            [
             0.6666666666666666,
             "#ed7953"
            ],
            [
             0.7777777777777778,
             "#fb9f3a"
            ],
            [
             0.8888888888888888,
             "#fdca26"
            ],
            [
             1,
             "#f0f921"
            ]
           ],
           "sequentialminus": [
            [
             0,
             "#0d0887"
            ],
            [
             0.1111111111111111,
             "#46039f"
            ],
            [
             0.2222222222222222,
             "#7201a8"
            ],
            [
             0.3333333333333333,
             "#9c179e"
            ],
            [
             0.4444444444444444,
             "#bd3786"
            ],
            [
             0.5555555555555556,
             "#d8576b"
            ],
            [
             0.6666666666666666,
             "#ed7953"
            ],
            [
             0.7777777777777778,
             "#fb9f3a"
            ],
            [
             0.8888888888888888,
             "#fdca26"
            ],
            [
             1,
             "#f0f921"
            ]
           ]
          },
          "colorway": [
           "#636efa",
           "#EF553B",
           "#00cc96",
           "#ab63fa",
           "#FFA15A",
           "#19d3f3",
           "#FF6692",
           "#B6E880",
           "#FF97FF",
           "#FECB52"
          ],
          "font": {
           "color": "#2a3f5f"
          },
          "geo": {
           "bgcolor": "white",
           "lakecolor": "white",
           "landcolor": "#E5ECF6",
           "showlakes": true,
           "showland": true,
           "subunitcolor": "white"
          },
          "hoverlabel": {
           "align": "left"
          },
          "hovermode": "closest",
          "mapbox": {
           "style": "light"
          },
          "paper_bgcolor": "white",
          "plot_bgcolor": "#E5ECF6",
          "polar": {
           "angularaxis": {
            "gridcolor": "white",
            "linecolor": "white",
            "ticks": ""
           },
           "bgcolor": "#E5ECF6",
           "radialaxis": {
            "gridcolor": "white",
            "linecolor": "white",
            "ticks": ""
           }
          },
          "scene": {
           "xaxis": {
            "backgroundcolor": "#E5ECF6",
            "gridcolor": "white",
            "gridwidth": 2,
            "linecolor": "white",
            "showbackground": true,
            "ticks": "",
            "zerolinecolor": "white"
           },
           "yaxis": {
            "backgroundcolor": "#E5ECF6",
            "gridcolor": "white",
            "gridwidth": 2,
            "linecolor": "white",
            "showbackground": true,
            "ticks": "",
            "zerolinecolor": "white"
           },
           "zaxis": {
            "backgroundcolor": "#E5ECF6",
            "gridcolor": "white",
            "gridwidth": 2,
            "linecolor": "white",
            "showbackground": true,
            "ticks": "",
            "zerolinecolor": "white"
           }
          },
          "shapedefaults": {
           "line": {
            "color": "#2a3f5f"
           }
          },
          "ternary": {
           "aaxis": {
            "gridcolor": "white",
            "linecolor": "white",
            "ticks": ""
           },
           "baxis": {
            "gridcolor": "white",
            "linecolor": "white",
            "ticks": ""
           },
           "bgcolor": "#E5ECF6",
           "caxis": {
            "gridcolor": "white",
            "linecolor": "white",
            "ticks": ""
           }
          },
          "title": {
           "x": 0.05
          },
          "xaxis": {
           "automargin": true,
           "gridcolor": "white",
           "linecolor": "white",
           "ticks": "",
           "title": {
            "standoff": 15
           },
           "zerolinecolor": "white",
           "zerolinewidth": 2
          },
          "yaxis": {
           "automargin": true,
           "gridcolor": "white",
           "linecolor": "white",
           "ticks": "",
           "title": {
            "standoff": 15
           },
           "zerolinecolor": "white",
           "zerolinewidth": 2
          }
         }
        },
        "title": {
         "font": {
          "color": "#4D5663"
         }
        },
        "xaxis": {
         "gridcolor": "#E1E5ED",
         "showgrid": true,
         "tickfont": {
          "color": "#4D5663"
         },
         "title": {
          "font": {
           "color": "#4D5663"
          },
          "text": ""
         },
         "zerolinecolor": "#E1E5ED"
        },
        "yaxis": {
         "gridcolor": "#E1E5ED",
         "showgrid": true,
         "tickfont": {
          "color": "#4D5663"
         },
         "title": {
          "font": {
           "color": "#4D5663"
          },
          "text": ""
         },
         "zerolinecolor": "#E1E5ED"
        }
       }
      },
      "text/html": [
       "<div>                            <div id=\"5aa8a8df-05a5-4414-b140-b7dc284a8ec6\" class=\"plotly-graph-div\" style=\"height:525px; width:100%;\"></div>            <script type=\"text/javascript\">                require([\"plotly\"], function(Plotly) {                    window.PLOTLYENV=window.PLOTLYENV || {};\n",
       "                    window.PLOTLYENV.BASE_URL='https://plot.ly';                                    if (document.getElementById(\"5aa8a8df-05a5-4414-b140-b7dc284a8ec6\")) {                    Plotly.newPlot(                        \"5aa8a8df-05a5-4414-b140-b7dc284a8ec6\",                        [{\"histfunc\":\"count\",\"histnorm\":\"\",\"marker\":{\"color\":\"rgba(255, 153, 51, 1.0)\",\"line\":{\"color\":\"#4D5663\",\"width\":1.3}},\"name\":\"A\",\"nbinsx\":25,\"opacity\":0.8,\"orientation\":\"v\",\"x\":[0.35989448670498325,-0.4592246745596689,1.1469340676932693,0.011457522595807158,-1.325225593039427,0.6814113631472483,-0.6786363701384942,1.0437656967750097,-0.47746466288488,0.8125037672312054,-0.47404658256936544,1.2031540729757069,1.4635324716319182,0.06280967604194186,-1.3846713229533583,0.857625982236854,0.5068595009022173,0.5580764208978222,0.7283816078799463,1.6679793441485444,0.5494052825729143,2.179905991957352,0.6687883289057667,-0.3900788675173005,0.6003974566718818,-0.4550592069568799,0.024033182599412138,0.8838170831120449,-0.3815550521370984,-1.1351702026828523,1.8944649799641564,0.294708748187957,0.21978311050099436,-0.07065302380242854,-0.07252968052331976,1.1144820614967048,0.606171730343062,-0.8731464829889949,-0.9310256218748634,-1.1793341276575884,-1.257519736482706,-1.7425979839917272,-0.9445804193991463,-1.7502567337064294,-1.4243514037650187,-0.4090315100280699,0.18554365411004087,1.5207346391246686,-1.3323522975428201,-1.0763732961923527,0.935426096415537,0.786447031400014,0.3251381994168318,0.4245928479689998,0.6172282965203385,2.616286334548319,0.35013172747915905,0.23072155751839604,0.1078120918737563,-0.6767857327332797,1.486845300668094,-0.22754332442045902,-0.37629874464913476,0.7463145320495523,-0.19467705150091513,-1.4154453380765688,1.3399136119262056,-1.5777643034446764,-0.27774725451621385,0.20185972252411266,0.9349122376858232,-1.9228425692134634,1.0046670938839755,-0.6508739922195852,0.4269958744781549,0.7736665220816002,-0.1679201401431736,-1.3158405857178361,-0.8227589415389568,2.332130548823311,-0.26318021389783985,-1.4971248638820622,0.3152560911248023,-0.21665547778357377,-1.0023809876326206,1.0562004740071824,0.5338261162974342,1.084603932148778,0.2935647195292971,0.28628110241537885,-1.1494679572805997,-0.25532087031031897,-0.35075476425964247,0.9497286053864785,0.2807308118655686,-0.4251098238132698,-1.0621446257664477,0.41931528695406345,-1.433797178077299,-0.8059425488799932],\"type\":\"histogram\"},{\"histfunc\":\"count\",\"histnorm\":\"\",\"marker\":{\"color\":\"rgba(55, 128, 191, 1.0)\",\"line\":{\"color\":\"#4D5663\",\"width\":1.3}},\"name\":\"B\",\"nbinsx\":25,\"opacity\":0.8,\"orientation\":\"v\",\"x\":[-0.9217746063940998,-1.6822361723427532,-0.055572935761315195,-0.7350958966894335,-0.16312573884020234,0.26078513301011524,-1.6077194546656872,-0.16660545555158907,0.4702211267676788,-0.8160247909852378,0.07090561857130953,-0.512506611196169,0.7176328754936439,-0.5532917462243572,-0.8119234722216444,-1.1765423268753135,-1.12954248594935,-0.4149262245711078,-0.4253415826023585,0.8469921767949793,1.881699763566048,-0.25778150596466876,-0.13128008428078422,0.5004041084234315,-1.649491285150849,-0.5042162792070994,0.6218104662260018,-0.5987775790098924,1.4123907764913297,-1.5904079493683279,-0.17544539905896128,-0.26662817691141316,1.6537875958037962,0.47060178918033885,-1.0478398572685959,1.2458723160603526,0.3183776222101448,-0.34137069400463826,0.6268383693928805,-0.49492715859173325,1.7894001280490095,1.0923690990085906,-0.4426468257952904,-1.7570569105500355,-0.2975462515868482,-0.9903552540790408,-2.0298888359656786,0.20798858218719538,-0.19840303127725278,0.9591272839305035,-1.0280598843346984,-1.3992328031466221,0.1824738273519832,-0.6025895866492086,-0.9843279818631707,-1.8390232897687318,1.534352550556892,1.0097682622746742,-0.861460988903354,-1.1660932424398551,-0.3094667414878226,1.1390385211944523,0.7427373004453051,0.4325319033275298,-0.49157497264069144,-1.1332619048375008,1.1259775995666133,1.9633898033012296,-0.1707707527943106,-0.4707537511823286,0.293722238328297,-0.6637770134834158,0.1301936407996693,0.3317424608102532,-1.0087404003189793,1.5522849293264396,0.22765004510397707,0.5272387175192732,-1.2419532380663771,0.33703182748365773,-1.7943304931124409,1.9246712787355624,-0.23366511001055065,0.09530901830895594,-0.2594634402771084,-0.20051248855805656,0.5230413669385336,-0.5013104579418655,0.46862784928238493,-1.2320574972191813,1.2274744511742934,0.9056958647317631,0.6943233325625244,0.613944109383328,0.20386916943256914,-0.4326740892386687,-0.5777941644677652,1.2663919771320504,1.4677257199411882,-1.8332729500431604],\"type\":\"histogram\"},{\"histfunc\":\"count\",\"histnorm\":\"\",\"marker\":{\"color\":\"rgba(50, 171, 96, 1.0)\",\"line\":{\"color\":\"#4D5663\",\"width\":1.3}},\"name\":\"C\",\"nbinsx\":25,\"opacity\":0.8,\"orientation\":\"v\",\"x\":[0.8273152785715431,2.592082609608652,1.3446371871912153,0.8504550879324595,1.4411075649619918,0.5897397057175384,1.4823375219325754,0.493545341242126,0.2277940736874258,0.26800571588185357,-0.35721758206893844,-0.5240919506759124,-0.998536527564416,-0.25250677074350025,0.34751354653457334,0.7319758834630521,0.8515431046657899,-0.5151755682976872,1.1034991243247498,-0.2514271267200668,0.11530430980968087,0.42783703065710466,-0.46493111644446494,-0.3697897261937152,0.5756817113457978,0.5590010846145865,0.7723509688301612,-0.3848689347948521,-0.03960165885586036,0.044185855710254546,-0.5140996425468439,0.13193354043914313,0.9187833900981137,1.484115372604817,0.18697754963781588,1.9497496515191346,-0.025593087049639886,0.19876252469269806,0.40681310501725126,1.5754598787831944,0.5434325141033527,-1.1639700750272357,-2.027499814689522,0.3774390179879476,0.07839364114765025,0.2099088012296653,-1.0098193100645472,-2.1968598817674136,-2.085850838972527,0.22237535775602632,1.410759157113143,0.7575898202084071,-0.379137771012906,0.05344419077288705,-0.39949566994663593,0.15032321148972558,-0.13006768244103997,-0.1104800512865253,0.14024177840245208,-0.11546794485658657,1.1370169489407962,1.6418440274751496,1.029633502483267,2.064768104260361,-1.4246738743908782,-1.1906028269960245,1.1195470807731074,0.24714600279234417,0.41050677418878273,-0.3044927976891417,-2.054946754679443,-0.7307213097989068,-0.8708435579846577,-1.1405779109930412,-1.3375884485723633,-0.8553922504340327,0.811982322687059,0.6504087801710815,0.22215904010631066,-1.4420307525037719,0.7506310074727195,1.3566616786070929,0.7461563731341896,-0.07648236873264547,0.022522698063428805,0.6937233126166052,-0.32415267449581314,0.1577868414126188,1.094604977544399,-0.7470298922393848,0.558516436318415,0.7339447070301272,0.32600844025502,0.7143208325728774,1.1930579479539156,-0.16489897476312007,-0.5023550910613268,0.8485020620346165,0.6152295906262166,-1.7710607238056244],\"type\":\"histogram\"},{\"histfunc\":\"count\",\"histnorm\":\"\",\"marker\":{\"color\":\"rgba(128, 0, 128, 1.0)\",\"line\":{\"color\":\"#4D5663\",\"width\":1.3}},\"name\":\"D\",\"nbinsx\":25,\"opacity\":0.8,\"orientation\":\"v\",\"x\":[0.1639515482012815,1.8912813739797474,0.130753561918199,-2.462473908106972,-0.6603998166821248,1.9977377081442942,-1.0129093630599486,0.7921290056316523,-0.5664348156991554,-0.7249453745242685,-1.316613740020055,-0.6912569883984678,-1.240988387334244,-0.5210705358852363,0.09427243247393506,0.23596339084549361,0.39613978935162286,-0.5036875231146357,-1.4879042015174808,2.008266172048622,-0.9267001478713117,0.8886469782275257,-0.013999911406236168,0.18162473087366604,-0.05355539919631981,0.8512041291095764,1.4188904241052764,2.0261909174276163,-0.7659204731984209,-1.0137288460711575,-0.11314826507733342,-0.006556842213361446,-1.4145634914480307,-0.04656715573464401,0.11464370009805469,1.077154835460711,-0.6558996673933815,1.6004297267147591,1.1560180690378152,-1.1020980479547866,-0.29695874751007373,-2.3171441457140984,-0.6845246028821502,0.44585404969474557,0.023595686585148427,0.8643865790452707,0.6314911651454947,1.2575699668623646,0.04729427854654969,0.5259727805936953,0.619317035851485,-0.1106898572460105,-1.1664952254834136,0.21837344055509192,1.7268542929393982,1.1910080253594584,-0.03371678760423379,0.7484607684771561,1.7097535689505192,1.6719306216288725,0.17375769926297524,0.37715327609221455,-0.5887231780567602,-0.09935263687710601,0.27712225162381837,-0.8609743885728103,0.4279101952965506,0.3007884188375812,0.34063671029127696,0.10538779020884839,-0.30028901730662577,1.0019587248375998,0.1832065798821189,-1.4554640798274099,2.9912213268678367,1.6829095016685827,-0.6230371284787307,0.7837134148587172,-0.0842101697097363,0.7455313961820127,-1.612400798498298,-0.3221942083634528,-1.2099618162593822,-0.35263267466788234,0.6164369788445613,-0.13032311478530598,-1.8835020613120474,1.157435009222289,0.9121473121955195,1.2473321030756332,-0.7666362855181403,0.7432402678061955,0.344599844220491,0.6452809496473196,0.831922075508615,-0.6315196967878742,0.21774047700345495,-0.04705120336250258,-0.2739043016194293,0.3032166418279464],\"type\":\"histogram\"}],                        {\"barmode\":\"overlay\",\"legend\":{\"bgcolor\":\"#F5F6F9\",\"font\":{\"color\":\"#4D5663\"}},\"paper_bgcolor\":\"#F5F6F9\",\"plot_bgcolor\":\"#F5F6F9\",\"template\":{\"data\":{\"barpolar\":[{\"marker\":{\"line\":{\"color\":\"#E5ECF6\",\"width\":0.5},\"pattern\":{\"fillmode\":\"overlay\",\"size\":10,\"solidity\":0.2}},\"type\":\"barpolar\"}],\"bar\":[{\"error_x\":{\"color\":\"#2a3f5f\"},\"error_y\":{\"color\":\"#2a3f5f\"},\"marker\":{\"line\":{\"color\":\"#E5ECF6\",\"width\":0.5},\"pattern\":{\"fillmode\":\"overlay\",\"size\":10,\"solidity\":0.2}},\"type\":\"bar\"}],\"carpet\":[{\"aaxis\":{\"endlinecolor\":\"#2a3f5f\",\"gridcolor\":\"white\",\"linecolor\":\"white\",\"minorgridcolor\":\"white\",\"startlinecolor\":\"#2a3f5f\"},\"baxis\":{\"endlinecolor\":\"#2a3f5f\",\"gridcolor\":\"white\",\"linecolor\":\"white\",\"minorgridcolor\":\"white\",\"startlinecolor\":\"#2a3f5f\"},\"type\":\"carpet\"}],\"choropleth\":[{\"colorbar\":{\"outlinewidth\":0,\"ticks\":\"\"},\"type\":\"choropleth\"}],\"contourcarpet\":[{\"colorbar\":{\"outlinewidth\":0,\"ticks\":\"\"},\"type\":\"contourcarpet\"}],\"contour\":[{\"colorbar\":{\"outlinewidth\":0,\"ticks\":\"\"},\"colorscale\":[[0.0,\"#0d0887\"],[0.1111111111111111,\"#46039f\"],[0.2222222222222222,\"#7201a8\"],[0.3333333333333333,\"#9c179e\"],[0.4444444444444444,\"#bd3786\"],[0.5555555555555556,\"#d8576b\"],[0.6666666666666666,\"#ed7953\"],[0.7777777777777778,\"#fb9f3a\"],[0.8888888888888888,\"#fdca26\"],[1.0,\"#f0f921\"]],\"type\":\"contour\"}],\"heatmapgl\":[{\"colorbar\":{\"outlinewidth\":0,\"ticks\":\"\"},\"colorscale\":[[0.0,\"#0d0887\"],[0.1111111111111111,\"#46039f\"],[0.2222222222222222,\"#7201a8\"],[0.3333333333333333,\"#9c179e\"],[0.4444444444444444,\"#bd3786\"],[0.5555555555555556,\"#d8576b\"],[0.6666666666666666,\"#ed7953\"],[0.7777777777777778,\"#fb9f3a\"],[0.8888888888888888,\"#fdca26\"],[1.0,\"#f0f921\"]],\"type\":\"heatmapgl\"}],\"heatmap\":[{\"colorbar\":{\"outlinewidth\":0,\"ticks\":\"\"},\"colorscale\":[[0.0,\"#0d0887\"],[0.1111111111111111,\"#46039f\"],[0.2222222222222222,\"#7201a8\"],[0.3333333333333333,\"#9c179e\"],[0.4444444444444444,\"#bd3786\"],[0.5555555555555556,\"#d8576b\"],[0.6666666666666666,\"#ed7953\"],[0.7777777777777778,\"#fb9f3a\"],[0.8888888888888888,\"#fdca26\"],[1.0,\"#f0f921\"]],\"type\":\"heatmap\"}],\"histogram2dcontour\":[{\"colorbar\":{\"outlinewidth\":0,\"ticks\":\"\"},\"colorscale\":[[0.0,\"#0d0887\"],[0.1111111111111111,\"#46039f\"],[0.2222222222222222,\"#7201a8\"],[0.3333333333333333,\"#9c179e\"],[0.4444444444444444,\"#bd3786\"],[0.5555555555555556,\"#d8576b\"],[0.6666666666666666,\"#ed7953\"],[0.7777777777777778,\"#fb9f3a\"],[0.8888888888888888,\"#fdca26\"],[1.0,\"#f0f921\"]],\"type\":\"histogram2dcontour\"}],\"histogram2d\":[{\"colorbar\":{\"outlinewidth\":0,\"ticks\":\"\"},\"colorscale\":[[0.0,\"#0d0887\"],[0.1111111111111111,\"#46039f\"],[0.2222222222222222,\"#7201a8\"],[0.3333333333333333,\"#9c179e\"],[0.4444444444444444,\"#bd3786\"],[0.5555555555555556,\"#d8576b\"],[0.6666666666666666,\"#ed7953\"],[0.7777777777777778,\"#fb9f3a\"],[0.8888888888888888,\"#fdca26\"],[1.0,\"#f0f921\"]],\"type\":\"histogram2d\"}],\"histogram\":[{\"marker\":{\"pattern\":{\"fillmode\":\"overlay\",\"size\":10,\"solidity\":0.2}},\"type\":\"histogram\"}],\"mesh3d\":[{\"colorbar\":{\"outlinewidth\":0,\"ticks\":\"\"},\"type\":\"mesh3d\"}],\"parcoords\":[{\"line\":{\"colorbar\":{\"outlinewidth\":0,\"ticks\":\"\"}},\"type\":\"parcoords\"}],\"pie\":[{\"automargin\":true,\"type\":\"pie\"}],\"scatter3d\":[{\"line\":{\"colorbar\":{\"outlinewidth\":0,\"ticks\":\"\"}},\"marker\":{\"colorbar\":{\"outlinewidth\":0,\"ticks\":\"\"}},\"type\":\"scatter3d\"}],\"scattercarpet\":[{\"marker\":{\"colorbar\":{\"outlinewidth\":0,\"ticks\":\"\"}},\"type\":\"scattercarpet\"}],\"scattergeo\":[{\"marker\":{\"colorbar\":{\"outlinewidth\":0,\"ticks\":\"\"}},\"type\":\"scattergeo\"}],\"scattergl\":[{\"marker\":{\"colorbar\":{\"outlinewidth\":0,\"ticks\":\"\"}},\"type\":\"scattergl\"}],\"scattermapbox\":[{\"marker\":{\"colorbar\":{\"outlinewidth\":0,\"ticks\":\"\"}},\"type\":\"scattermapbox\"}],\"scatterpolargl\":[{\"marker\":{\"colorbar\":{\"outlinewidth\":0,\"ticks\":\"\"}},\"type\":\"scatterpolargl\"}],\"scatterpolar\":[{\"marker\":{\"colorbar\":{\"outlinewidth\":0,\"ticks\":\"\"}},\"type\":\"scatterpolar\"}],\"scatter\":[{\"marker\":{\"colorbar\":{\"outlinewidth\":0,\"ticks\":\"\"}},\"type\":\"scatter\"}],\"scatterternary\":[{\"marker\":{\"colorbar\":{\"outlinewidth\":0,\"ticks\":\"\"}},\"type\":\"scatterternary\"}],\"surface\":[{\"colorbar\":{\"outlinewidth\":0,\"ticks\":\"\"},\"colorscale\":[[0.0,\"#0d0887\"],[0.1111111111111111,\"#46039f\"],[0.2222222222222222,\"#7201a8\"],[0.3333333333333333,\"#9c179e\"],[0.4444444444444444,\"#bd3786\"],[0.5555555555555556,\"#d8576b\"],[0.6666666666666666,\"#ed7953\"],[0.7777777777777778,\"#fb9f3a\"],[0.8888888888888888,\"#fdca26\"],[1.0,\"#f0f921\"]],\"type\":\"surface\"}],\"table\":[{\"cells\":{\"fill\":{\"color\":\"#EBF0F8\"},\"line\":{\"color\":\"white\"}},\"header\":{\"fill\":{\"color\":\"#C8D4E3\"},\"line\":{\"color\":\"white\"}},\"type\":\"table\"}]},\"layout\":{\"annotationdefaults\":{\"arrowcolor\":\"#2a3f5f\",\"arrowhead\":0,\"arrowwidth\":1},\"autotypenumbers\":\"strict\",\"coloraxis\":{\"colorbar\":{\"outlinewidth\":0,\"ticks\":\"\"}},\"colorscale\":{\"diverging\":[[0,\"#8e0152\"],[0.1,\"#c51b7d\"],[0.2,\"#de77ae\"],[0.3,\"#f1b6da\"],[0.4,\"#fde0ef\"],[0.5,\"#f7f7f7\"],[0.6,\"#e6f5d0\"],[0.7,\"#b8e186\"],[0.8,\"#7fbc41\"],[0.9,\"#4d9221\"],[1,\"#276419\"]],\"sequential\":[[0.0,\"#0d0887\"],[0.1111111111111111,\"#46039f\"],[0.2222222222222222,\"#7201a8\"],[0.3333333333333333,\"#9c179e\"],[0.4444444444444444,\"#bd3786\"],[0.5555555555555556,\"#d8576b\"],[0.6666666666666666,\"#ed7953\"],[0.7777777777777778,\"#fb9f3a\"],[0.8888888888888888,\"#fdca26\"],[1.0,\"#f0f921\"]],\"sequentialminus\":[[0.0,\"#0d0887\"],[0.1111111111111111,\"#46039f\"],[0.2222222222222222,\"#7201a8\"],[0.3333333333333333,\"#9c179e\"],[0.4444444444444444,\"#bd3786\"],[0.5555555555555556,\"#d8576b\"],[0.6666666666666666,\"#ed7953\"],[0.7777777777777778,\"#fb9f3a\"],[0.8888888888888888,\"#fdca26\"],[1.0,\"#f0f921\"]]},\"colorway\":[\"#636efa\",\"#EF553B\",\"#00cc96\",\"#ab63fa\",\"#FFA15A\",\"#19d3f3\",\"#FF6692\",\"#B6E880\",\"#FF97FF\",\"#FECB52\"],\"font\":{\"color\":\"#2a3f5f\"},\"geo\":{\"bgcolor\":\"white\",\"lakecolor\":\"white\",\"landcolor\":\"#E5ECF6\",\"showlakes\":true,\"showland\":true,\"subunitcolor\":\"white\"},\"hoverlabel\":{\"align\":\"left\"},\"hovermode\":\"closest\",\"mapbox\":{\"style\":\"light\"},\"paper_bgcolor\":\"white\",\"plot_bgcolor\":\"#E5ECF6\",\"polar\":{\"angularaxis\":{\"gridcolor\":\"white\",\"linecolor\":\"white\",\"ticks\":\"\"},\"bgcolor\":\"#E5ECF6\",\"radialaxis\":{\"gridcolor\":\"white\",\"linecolor\":\"white\",\"ticks\":\"\"}},\"scene\":{\"xaxis\":{\"backgroundcolor\":\"#E5ECF6\",\"gridcolor\":\"white\",\"gridwidth\":2,\"linecolor\":\"white\",\"showbackground\":true,\"ticks\":\"\",\"zerolinecolor\":\"white\"},\"yaxis\":{\"backgroundcolor\":\"#E5ECF6\",\"gridcolor\":\"white\",\"gridwidth\":2,\"linecolor\":\"white\",\"showbackground\":true,\"ticks\":\"\",\"zerolinecolor\":\"white\"},\"zaxis\":{\"backgroundcolor\":\"#E5ECF6\",\"gridcolor\":\"white\",\"gridwidth\":2,\"linecolor\":\"white\",\"showbackground\":true,\"ticks\":\"\",\"zerolinecolor\":\"white\"}},\"shapedefaults\":{\"line\":{\"color\":\"#2a3f5f\"}},\"ternary\":{\"aaxis\":{\"gridcolor\":\"white\",\"linecolor\":\"white\",\"ticks\":\"\"},\"baxis\":{\"gridcolor\":\"white\",\"linecolor\":\"white\",\"ticks\":\"\"},\"bgcolor\":\"#E5ECF6\",\"caxis\":{\"gridcolor\":\"white\",\"linecolor\":\"white\",\"ticks\":\"\"}},\"title\":{\"x\":0.05},\"xaxis\":{\"automargin\":true,\"gridcolor\":\"white\",\"linecolor\":\"white\",\"ticks\":\"\",\"title\":{\"standoff\":15},\"zerolinecolor\":\"white\",\"zerolinewidth\":2},\"yaxis\":{\"automargin\":true,\"gridcolor\":\"white\",\"linecolor\":\"white\",\"ticks\":\"\",\"title\":{\"standoff\":15},\"zerolinecolor\":\"white\",\"zerolinewidth\":2}}},\"title\":{\"font\":{\"color\":\"#4D5663\"}},\"xaxis\":{\"gridcolor\":\"#E1E5ED\",\"showgrid\":true,\"tickfont\":{\"color\":\"#4D5663\"},\"title\":{\"font\":{\"color\":\"#4D5663\"},\"text\":\"\"},\"zerolinecolor\":\"#E1E5ED\"},\"yaxis\":{\"gridcolor\":\"#E1E5ED\",\"showgrid\":true,\"tickfont\":{\"color\":\"#4D5663\"},\"title\":{\"font\":{\"color\":\"#4D5663\"},\"text\":\"\"},\"zerolinecolor\":\"#E1E5ED\"}},                        {\"showLink\": true, \"linkText\": \"Export to plot.ly\", \"plotlyServerURL\": \"https://plot.ly\", \"responsive\": true}                    ).then(function(){\n",
       "                            \n",
       "var gd = document.getElementById('5aa8a8df-05a5-4414-b140-b7dc284a8ec6');\n",
       "var x = new MutationObserver(function (mutations, observer) {{\n",
       "        var display = window.getComputedStyle(gd).display;\n",
       "        if (!display || display === 'none') {{\n",
       "            console.log([gd, 'removed!']);\n",
       "            Plotly.purge(gd);\n",
       "            observer.disconnect();\n",
       "        }}\n",
       "}});\n",
       "\n",
       "// Listen for the removal of the full notebook cells\n",
       "var notebookContainer = gd.closest('#notebook-container');\n",
       "if (notebookContainer) {{\n",
       "    x.observe(notebookContainer, {childList: true});\n",
       "}}\n",
       "\n",
       "// Listen for the clearing of the current output cell\n",
       "var outputEl = gd.closest('.output');\n",
       "if (outputEl) {{\n",
       "    x.observe(outputEl, {childList: true});\n",
       "}}\n",
       "\n",
       "                        })                };                });            </script>        </div>"
      ]
     },
     "metadata": {},
     "output_type": "display_data"
    }
   ],
   "source": [
    "df.iplot(kind='hist',bins=25)"
   ]
  },
  {
   "cell_type": "code",
   "execution_count": 17,
   "metadata": {},
   "outputs": [
    {
     "data": {
      "application/vnd.plotly.v1+json": {
       "config": {
        "linkText": "Export to plot.ly",
        "plotlyServerURL": "https://plot.ly",
        "showLink": true
       },
       "data": [
        {
         "marker": {
          "color": [
           "rgb(255, 153, 51)",
           "rgb(55, 128, 191)",
           "rgb(50, 171, 96)",
           "rgb(128, 0, 128)",
           "rgb(219, 64, 82)",
           "rgb(0, 128, 128)",
           "rgb(255, 255, 51)",
           "rgb(128, 128, 0)",
           "rgb(251, 128, 114)",
           "rgb(128, 177, 211)"
          ],
          "line": {
           "width": 1.3
          },
          "size": [
           75,
           112,
           85,
           75,
           87,
           70,
           88,
           68,
           62,
           63,
           50,
           46,
           37,
           52,
           65,
           73,
           75,
           47,
           80,
           52,
           60,
           66,
           48,
           50,
           69,
           69,
           74,
           49,
           57,
           58,
           47,
           60,
           77,
           88,
           61,
           98,
           57,
           62,
           66,
           90,
           69,
           33,
           15,
           65,
           59,
           62,
           36,
           12,
           14,
           62,
           87,
           73,
           49,
           58,
           49,
           61,
           55,
           55,
           60,
           55,
           81,
           92,
           79,
           100,
           28,
           33,
           81,
           63,
           66,
           51,
           14,
           42,
           39,
           34,
           29,
           40,
           74,
           71,
           62,
           27,
           73,
           86,
           73,
           56,
           58,
           72,
           51,
           61,
           80,
           42,
           69,
           73,
           64,
           72,
           82,
           54,
           47,
           75,
           70,
           20
          ],
          "symbol": "circle"
         },
         "mode": "markers",
         "text": "",
         "type": "scatter",
         "x": [
          0.35989448670498325,
          -0.4592246745596689,
          1.1469340676932693,
          0.011457522595807158,
          -1.325225593039427,
          0.6814113631472483,
          -0.6786363701384942,
          1.0437656967750097,
          -0.47746466288488,
          0.8125037672312054,
          -0.47404658256936544,
          1.2031540729757069,
          1.4635324716319182,
          0.06280967604194186,
          -1.3846713229533583,
          0.857625982236854,
          0.5068595009022173,
          0.5580764208978222,
          0.7283816078799463,
          1.6679793441485444,
          0.5494052825729143,
          2.179905991957352,
          0.6687883289057667,
          -0.3900788675173005,
          0.6003974566718818,
          -0.4550592069568799,
          0.024033182599412138,
          0.8838170831120449,
          -0.3815550521370984,
          -1.1351702026828523,
          1.8944649799641564,
          0.294708748187957,
          0.21978311050099436,
          -0.07065302380242854,
          -0.07252968052331976,
          1.1144820614967048,
          0.606171730343062,
          -0.8731464829889949,
          -0.9310256218748634,
          -1.1793341276575884,
          -1.257519736482706,
          -1.7425979839917272,
          -0.9445804193991463,
          -1.7502567337064294,
          -1.4243514037650187,
          -0.4090315100280699,
          0.18554365411004087,
          1.5207346391246686,
          -1.3323522975428201,
          -1.0763732961923527,
          0.935426096415537,
          0.786447031400014,
          0.3251381994168318,
          0.4245928479689998,
          0.6172282965203385,
          2.616286334548319,
          0.35013172747915905,
          0.23072155751839604,
          0.1078120918737563,
          -0.6767857327332797,
          1.486845300668094,
          -0.22754332442045902,
          -0.37629874464913476,
          0.7463145320495523,
          -0.19467705150091513,
          -1.4154453380765688,
          1.3399136119262056,
          -1.5777643034446764,
          -0.27774725451621385,
          0.20185972252411266,
          0.9349122376858232,
          -1.9228425692134634,
          1.0046670938839755,
          -0.6508739922195852,
          0.4269958744781549,
          0.7736665220816002,
          -0.1679201401431736,
          -1.3158405857178361,
          -0.8227589415389568,
          2.332130548823311,
          -0.26318021389783985,
          -1.4971248638820622,
          0.3152560911248023,
          -0.21665547778357377,
          -1.0023809876326206,
          1.0562004740071824,
          0.5338261162974342,
          1.084603932148778,
          0.2935647195292971,
          0.28628110241537885,
          -1.1494679572805997,
          -0.25532087031031897,
          -0.35075476425964247,
          0.9497286053864785,
          0.2807308118655686,
          -0.4251098238132698,
          -1.0621446257664477,
          0.41931528695406345,
          -1.433797178077299,
          -0.8059425488799932
         ],
         "y": [
          -0.9217746063940998,
          -1.6822361723427532,
          -0.055572935761315195,
          -0.7350958966894335,
          -0.16312573884020234,
          0.26078513301011524,
          -1.6077194546656872,
          -0.16660545555158907,
          0.4702211267676788,
          -0.8160247909852378,
          0.07090561857130953,
          -0.512506611196169,
          0.7176328754936439,
          -0.5532917462243572,
          -0.8119234722216444,
          -1.1765423268753135,
          -1.12954248594935,
          -0.4149262245711078,
          -0.4253415826023585,
          0.8469921767949793,
          1.881699763566048,
          -0.25778150596466876,
          -0.13128008428078422,
          0.5004041084234315,
          -1.649491285150849,
          -0.5042162792070994,
          0.6218104662260018,
          -0.5987775790098924,
          1.4123907764913297,
          -1.5904079493683279,
          -0.17544539905896128,
          -0.26662817691141316,
          1.6537875958037962,
          0.47060178918033885,
          -1.0478398572685959,
          1.2458723160603526,
          0.3183776222101448,
          -0.34137069400463826,
          0.6268383693928805,
          -0.49492715859173325,
          1.7894001280490095,
          1.0923690990085906,
          -0.4426468257952904,
          -1.7570569105500355,
          -0.2975462515868482,
          -0.9903552540790408,
          -2.0298888359656786,
          0.20798858218719538,
          -0.19840303127725278,
          0.9591272839305035,
          -1.0280598843346984,
          -1.3992328031466221,
          0.1824738273519832,
          -0.6025895866492086,
          -0.9843279818631707,
          -1.8390232897687318,
          1.534352550556892,
          1.0097682622746742,
          -0.861460988903354,
          -1.1660932424398551,
          -0.3094667414878226,
          1.1390385211944523,
          0.7427373004453051,
          0.4325319033275298,
          -0.49157497264069144,
          -1.1332619048375008,
          1.1259775995666133,
          1.9633898033012296,
          -0.1707707527943106,
          -0.4707537511823286,
          0.293722238328297,
          -0.6637770134834158,
          0.1301936407996693,
          0.3317424608102532,
          -1.0087404003189793,
          1.5522849293264396,
          0.22765004510397707,
          0.5272387175192732,
          -1.2419532380663771,
          0.33703182748365773,
          -1.7943304931124409,
          1.9246712787355624,
          -0.23366511001055065,
          0.09530901830895594,
          -0.2594634402771084,
          -0.20051248855805656,
          0.5230413669385336,
          -0.5013104579418655,
          0.46862784928238493,
          -1.2320574972191813,
          1.2274744511742934,
          0.9056958647317631,
          0.6943233325625244,
          0.613944109383328,
          0.20386916943256914,
          -0.4326740892386687,
          -0.5777941644677652,
          1.2663919771320504,
          1.4677257199411882,
          -1.8332729500431604
         ]
        }
       ],
       "layout": {
        "legend": {
         "bgcolor": "#F5F6F9",
         "font": {
          "color": "#4D5663"
         }
        },
        "paper_bgcolor": "#F5F6F9",
        "plot_bgcolor": "#F5F6F9",
        "template": {
         "data": {
          "bar": [
           {
            "error_x": {
             "color": "#2a3f5f"
            },
            "error_y": {
             "color": "#2a3f5f"
            },
            "marker": {
             "line": {
              "color": "#E5ECF6",
              "width": 0.5
             },
             "pattern": {
              "fillmode": "overlay",
              "size": 10,
              "solidity": 0.2
             }
            },
            "type": "bar"
           }
          ],
          "barpolar": [
           {
            "marker": {
             "line": {
              "color": "#E5ECF6",
              "width": 0.5
             },
             "pattern": {
              "fillmode": "overlay",
              "size": 10,
              "solidity": 0.2
             }
            },
            "type": "barpolar"
           }
          ],
          "carpet": [
           {
            "aaxis": {
             "endlinecolor": "#2a3f5f",
             "gridcolor": "white",
             "linecolor": "white",
             "minorgridcolor": "white",
             "startlinecolor": "#2a3f5f"
            },
            "baxis": {
             "endlinecolor": "#2a3f5f",
             "gridcolor": "white",
             "linecolor": "white",
             "minorgridcolor": "white",
             "startlinecolor": "#2a3f5f"
            },
            "type": "carpet"
           }
          ],
          "choropleth": [
           {
            "colorbar": {
             "outlinewidth": 0,
             "ticks": ""
            },
            "type": "choropleth"
           }
          ],
          "contour": [
           {
            "colorbar": {
             "outlinewidth": 0,
             "ticks": ""
            },
            "colorscale": [
             [
              0,
              "#0d0887"
             ],
             [
              0.1111111111111111,
              "#46039f"
             ],
             [
              0.2222222222222222,
              "#7201a8"
             ],
             [
              0.3333333333333333,
              "#9c179e"
             ],
             [
              0.4444444444444444,
              "#bd3786"
             ],
             [
              0.5555555555555556,
              "#d8576b"
             ],
             [
              0.6666666666666666,
              "#ed7953"
             ],
             [
              0.7777777777777778,
              "#fb9f3a"
             ],
             [
              0.8888888888888888,
              "#fdca26"
             ],
             [
              1,
              "#f0f921"
             ]
            ],
            "type": "contour"
           }
          ],
          "contourcarpet": [
           {
            "colorbar": {
             "outlinewidth": 0,
             "ticks": ""
            },
            "type": "contourcarpet"
           }
          ],
          "heatmap": [
           {
            "colorbar": {
             "outlinewidth": 0,
             "ticks": ""
            },
            "colorscale": [
             [
              0,
              "#0d0887"
             ],
             [
              0.1111111111111111,
              "#46039f"
             ],
             [
              0.2222222222222222,
              "#7201a8"
             ],
             [
              0.3333333333333333,
              "#9c179e"
             ],
             [
              0.4444444444444444,
              "#bd3786"
             ],
             [
              0.5555555555555556,
              "#d8576b"
             ],
             [
              0.6666666666666666,
              "#ed7953"
             ],
             [
              0.7777777777777778,
              "#fb9f3a"
             ],
             [
              0.8888888888888888,
              "#fdca26"
             ],
             [
              1,
              "#f0f921"
             ]
            ],
            "type": "heatmap"
           }
          ],
          "heatmapgl": [
           {
            "colorbar": {
             "outlinewidth": 0,
             "ticks": ""
            },
            "colorscale": [
             [
              0,
              "#0d0887"
             ],
             [
              0.1111111111111111,
              "#46039f"
             ],
             [
              0.2222222222222222,
              "#7201a8"
             ],
             [
              0.3333333333333333,
              "#9c179e"
             ],
             [
              0.4444444444444444,
              "#bd3786"
             ],
             [
              0.5555555555555556,
              "#d8576b"
             ],
             [
              0.6666666666666666,
              "#ed7953"
             ],
             [
              0.7777777777777778,
              "#fb9f3a"
             ],
             [
              0.8888888888888888,
              "#fdca26"
             ],
             [
              1,
              "#f0f921"
             ]
            ],
            "type": "heatmapgl"
           }
          ],
          "histogram": [
           {
            "marker": {
             "pattern": {
              "fillmode": "overlay",
              "size": 10,
              "solidity": 0.2
             }
            },
            "type": "histogram"
           }
          ],
          "histogram2d": [
           {
            "colorbar": {
             "outlinewidth": 0,
             "ticks": ""
            },
            "colorscale": [
             [
              0,
              "#0d0887"
             ],
             [
              0.1111111111111111,
              "#46039f"
             ],
             [
              0.2222222222222222,
              "#7201a8"
             ],
             [
              0.3333333333333333,
              "#9c179e"
             ],
             [
              0.4444444444444444,
              "#bd3786"
             ],
             [
              0.5555555555555556,
              "#d8576b"
             ],
             [
              0.6666666666666666,
              "#ed7953"
             ],
             [
              0.7777777777777778,
              "#fb9f3a"
             ],
             [
              0.8888888888888888,
              "#fdca26"
             ],
             [
              1,
              "#f0f921"
             ]
            ],
            "type": "histogram2d"
           }
          ],
          "histogram2dcontour": [
           {
            "colorbar": {
             "outlinewidth": 0,
             "ticks": ""
            },
            "colorscale": [
             [
              0,
              "#0d0887"
             ],
             [
              0.1111111111111111,
              "#46039f"
             ],
             [
              0.2222222222222222,
              "#7201a8"
             ],
             [
              0.3333333333333333,
              "#9c179e"
             ],
             [
              0.4444444444444444,
              "#bd3786"
             ],
             [
              0.5555555555555556,
              "#d8576b"
             ],
             [
              0.6666666666666666,
              "#ed7953"
             ],
             [
              0.7777777777777778,
              "#fb9f3a"
             ],
             [
              0.8888888888888888,
              "#fdca26"
             ],
             [
              1,
              "#f0f921"
             ]
            ],
            "type": "histogram2dcontour"
           }
          ],
          "mesh3d": [
           {
            "colorbar": {
             "outlinewidth": 0,
             "ticks": ""
            },
            "type": "mesh3d"
           }
          ],
          "parcoords": [
           {
            "line": {
             "colorbar": {
              "outlinewidth": 0,
              "ticks": ""
             }
            },
            "type": "parcoords"
           }
          ],
          "pie": [
           {
            "automargin": true,
            "type": "pie"
           }
          ],
          "scatter": [
           {
            "marker": {
             "colorbar": {
              "outlinewidth": 0,
              "ticks": ""
             }
            },
            "type": "scatter"
           }
          ],
          "scatter3d": [
           {
            "line": {
             "colorbar": {
              "outlinewidth": 0,
              "ticks": ""
             }
            },
            "marker": {
             "colorbar": {
              "outlinewidth": 0,
              "ticks": ""
             }
            },
            "type": "scatter3d"
           }
          ],
          "scattercarpet": [
           {
            "marker": {
             "colorbar": {
              "outlinewidth": 0,
              "ticks": ""
             }
            },
            "type": "scattercarpet"
           }
          ],
          "scattergeo": [
           {
            "marker": {
             "colorbar": {
              "outlinewidth": 0,
              "ticks": ""
             }
            },
            "type": "scattergeo"
           }
          ],
          "scattergl": [
           {
            "marker": {
             "colorbar": {
              "outlinewidth": 0,
              "ticks": ""
             }
            },
            "type": "scattergl"
           }
          ],
          "scattermapbox": [
           {
            "marker": {
             "colorbar": {
              "outlinewidth": 0,
              "ticks": ""
             }
            },
            "type": "scattermapbox"
           }
          ],
          "scatterpolar": [
           {
            "marker": {
             "colorbar": {
              "outlinewidth": 0,
              "ticks": ""
             }
            },
            "type": "scatterpolar"
           }
          ],
          "scatterpolargl": [
           {
            "marker": {
             "colorbar": {
              "outlinewidth": 0,
              "ticks": ""
             }
            },
            "type": "scatterpolargl"
           }
          ],
          "scatterternary": [
           {
            "marker": {
             "colorbar": {
              "outlinewidth": 0,
              "ticks": ""
             }
            },
            "type": "scatterternary"
           }
          ],
          "surface": [
           {
            "colorbar": {
             "outlinewidth": 0,
             "ticks": ""
            },
            "colorscale": [
             [
              0,
              "#0d0887"
             ],
             [
              0.1111111111111111,
              "#46039f"
             ],
             [
              0.2222222222222222,
              "#7201a8"
             ],
             [
              0.3333333333333333,
              "#9c179e"
             ],
             [
              0.4444444444444444,
              "#bd3786"
             ],
             [
              0.5555555555555556,
              "#d8576b"
             ],
             [
              0.6666666666666666,
              "#ed7953"
             ],
             [
              0.7777777777777778,
              "#fb9f3a"
             ],
             [
              0.8888888888888888,
              "#fdca26"
             ],
             [
              1,
              "#f0f921"
             ]
            ],
            "type": "surface"
           }
          ],
          "table": [
           {
            "cells": {
             "fill": {
              "color": "#EBF0F8"
             },
             "line": {
              "color": "white"
             }
            },
            "header": {
             "fill": {
              "color": "#C8D4E3"
             },
             "line": {
              "color": "white"
             }
            },
            "type": "table"
           }
          ]
         },
         "layout": {
          "annotationdefaults": {
           "arrowcolor": "#2a3f5f",
           "arrowhead": 0,
           "arrowwidth": 1
          },
          "autotypenumbers": "strict",
          "coloraxis": {
           "colorbar": {
            "outlinewidth": 0,
            "ticks": ""
           }
          },
          "colorscale": {
           "diverging": [
            [
             0,
             "#8e0152"
            ],
            [
             0.1,
             "#c51b7d"
            ],
            [
             0.2,
             "#de77ae"
            ],
            [
             0.3,
             "#f1b6da"
            ],
            [
             0.4,
             "#fde0ef"
            ],
            [
             0.5,
             "#f7f7f7"
            ],
            [
             0.6,
             "#e6f5d0"
            ],
            [
             0.7,
             "#b8e186"
            ],
            [
             0.8,
             "#7fbc41"
            ],
            [
             0.9,
             "#4d9221"
            ],
            [
             1,
             "#276419"
            ]
           ],
           "sequential": [
            [
             0,
             "#0d0887"
            ],
            [
             0.1111111111111111,
             "#46039f"
            ],
            [
             0.2222222222222222,
             "#7201a8"
            ],
            [
             0.3333333333333333,
             "#9c179e"
            ],
            [
             0.4444444444444444,
             "#bd3786"
            ],
            [
             0.5555555555555556,
             "#d8576b"
            ],
            [
             0.6666666666666666,
             "#ed7953"
            ],
            [
             0.7777777777777778,
             "#fb9f3a"
            ],
            [
             0.8888888888888888,
             "#fdca26"
            ],
            [
             1,
             "#f0f921"
            ]
           ],
           "sequentialminus": [
            [
             0,
             "#0d0887"
            ],
            [
             0.1111111111111111,
             "#46039f"
            ],
            [
             0.2222222222222222,
             "#7201a8"
            ],
            [
             0.3333333333333333,
             "#9c179e"
            ],
            [
             0.4444444444444444,
             "#bd3786"
            ],
            [
             0.5555555555555556,
             "#d8576b"
            ],
            [
             0.6666666666666666,
             "#ed7953"
            ],
            [
             0.7777777777777778,
             "#fb9f3a"
            ],
            [
             0.8888888888888888,
             "#fdca26"
            ],
            [
             1,
             "#f0f921"
            ]
           ]
          },
          "colorway": [
           "#636efa",
           "#EF553B",
           "#00cc96",
           "#ab63fa",
           "#FFA15A",
           "#19d3f3",
           "#FF6692",
           "#B6E880",
           "#FF97FF",
           "#FECB52"
          ],
          "font": {
           "color": "#2a3f5f"
          },
          "geo": {
           "bgcolor": "white",
           "lakecolor": "white",
           "landcolor": "#E5ECF6",
           "showlakes": true,
           "showland": true,
           "subunitcolor": "white"
          },
          "hoverlabel": {
           "align": "left"
          },
          "hovermode": "closest",
          "mapbox": {
           "style": "light"
          },
          "paper_bgcolor": "white",
          "plot_bgcolor": "#E5ECF6",
          "polar": {
           "angularaxis": {
            "gridcolor": "white",
            "linecolor": "white",
            "ticks": ""
           },
           "bgcolor": "#E5ECF6",
           "radialaxis": {
            "gridcolor": "white",
            "linecolor": "white",
            "ticks": ""
           }
          },
          "scene": {
           "xaxis": {
            "backgroundcolor": "#E5ECF6",
            "gridcolor": "white",
            "gridwidth": 2,
            "linecolor": "white",
            "showbackground": true,
            "ticks": "",
            "zerolinecolor": "white"
           },
           "yaxis": {
            "backgroundcolor": "#E5ECF6",
            "gridcolor": "white",
            "gridwidth": 2,
            "linecolor": "white",
            "showbackground": true,
            "ticks": "",
            "zerolinecolor": "white"
           },
           "zaxis": {
            "backgroundcolor": "#E5ECF6",
            "gridcolor": "white",
            "gridwidth": 2,
            "linecolor": "white",
            "showbackground": true,
            "ticks": "",
            "zerolinecolor": "white"
           }
          },
          "shapedefaults": {
           "line": {
            "color": "#2a3f5f"
           }
          },
          "ternary": {
           "aaxis": {
            "gridcolor": "white",
            "linecolor": "white",
            "ticks": ""
           },
           "baxis": {
            "gridcolor": "white",
            "linecolor": "white",
            "ticks": ""
           },
           "bgcolor": "#E5ECF6",
           "caxis": {
            "gridcolor": "white",
            "linecolor": "white",
            "ticks": ""
           }
          },
          "title": {
           "x": 0.05
          },
          "xaxis": {
           "automargin": true,
           "gridcolor": "white",
           "linecolor": "white",
           "ticks": "",
           "title": {
            "standoff": 15
           },
           "zerolinecolor": "white",
           "zerolinewidth": 2
          },
          "yaxis": {
           "automargin": true,
           "gridcolor": "white",
           "linecolor": "white",
           "ticks": "",
           "title": {
            "standoff": 15
           },
           "zerolinecolor": "white",
           "zerolinewidth": 2
          }
         }
        },
        "title": {
         "font": {
          "color": "#4D5663"
         }
        },
        "xaxis": {
         "gridcolor": "#E1E5ED",
         "showgrid": true,
         "tickfont": {
          "color": "#4D5663"
         },
         "title": {
          "font": {
           "color": "#4D5663"
          },
          "text": ""
         },
         "zerolinecolor": "#E1E5ED"
        },
        "yaxis": {
         "gridcolor": "#E1E5ED",
         "showgrid": true,
         "tickfont": {
          "color": "#4D5663"
         },
         "title": {
          "font": {
           "color": "#4D5663"
          },
          "text": ""
         },
         "zerolinecolor": "#E1E5ED"
        }
       }
      },
      "text/html": [
       "<div>                            <div id=\"da7a27bb-42b2-4330-a731-b6c7cf00eeea\" class=\"plotly-graph-div\" style=\"height:525px; width:100%;\"></div>            <script type=\"text/javascript\">                require([\"plotly\"], function(Plotly) {                    window.PLOTLYENV=window.PLOTLYENV || {};\n",
       "                    window.PLOTLYENV.BASE_URL='https://plot.ly';                                    if (document.getElementById(\"da7a27bb-42b2-4330-a731-b6c7cf00eeea\")) {                    Plotly.newPlot(                        \"da7a27bb-42b2-4330-a731-b6c7cf00eeea\",                        [{\"marker\":{\"color\":[\"rgb(255, 153, 51)\",\"rgb(55, 128, 191)\",\"rgb(50, 171, 96)\",\"rgb(128, 0, 128)\",\"rgb(219, 64, 82)\",\"rgb(0, 128, 128)\",\"rgb(255, 255, 51)\",\"rgb(128, 128, 0)\",\"rgb(251, 128, 114)\",\"rgb(128, 177, 211)\"],\"line\":{\"width\":1.3},\"size\":[75,112,85,75,87,70,88,68,62,63,50,46,37,52,65,73,75,47,80,52,60,66,48,50,69,69,74,49,57,58,47,60,77,88,61,98,57,62,66,90,69,33,15,65,59,62,36,12,14,62,87,73,49,58,49,61,55,55,60,55,81,92,79,100,28,33,81,63,66,51,14,42,39,34,29,40,74,71,62,27,73,86,73,56,58,72,51,61,80,42,69,73,64,72,82,54,47,75,70,20],\"symbol\":\"circle\"},\"mode\":\"markers\",\"text\":\"\",\"x\":[0.35989448670498325,-0.4592246745596689,1.1469340676932693,0.011457522595807158,-1.325225593039427,0.6814113631472483,-0.6786363701384942,1.0437656967750097,-0.47746466288488,0.8125037672312054,-0.47404658256936544,1.2031540729757069,1.4635324716319182,0.06280967604194186,-1.3846713229533583,0.857625982236854,0.5068595009022173,0.5580764208978222,0.7283816078799463,1.6679793441485444,0.5494052825729143,2.179905991957352,0.6687883289057667,-0.3900788675173005,0.6003974566718818,-0.4550592069568799,0.024033182599412138,0.8838170831120449,-0.3815550521370984,-1.1351702026828523,1.8944649799641564,0.294708748187957,0.21978311050099436,-0.07065302380242854,-0.07252968052331976,1.1144820614967048,0.606171730343062,-0.8731464829889949,-0.9310256218748634,-1.1793341276575884,-1.257519736482706,-1.7425979839917272,-0.9445804193991463,-1.7502567337064294,-1.4243514037650187,-0.4090315100280699,0.18554365411004087,1.5207346391246686,-1.3323522975428201,-1.0763732961923527,0.935426096415537,0.786447031400014,0.3251381994168318,0.4245928479689998,0.6172282965203385,2.616286334548319,0.35013172747915905,0.23072155751839604,0.1078120918737563,-0.6767857327332797,1.486845300668094,-0.22754332442045902,-0.37629874464913476,0.7463145320495523,-0.19467705150091513,-1.4154453380765688,1.3399136119262056,-1.5777643034446764,-0.27774725451621385,0.20185972252411266,0.9349122376858232,-1.9228425692134634,1.0046670938839755,-0.6508739922195852,0.4269958744781549,0.7736665220816002,-0.1679201401431736,-1.3158405857178361,-0.8227589415389568,2.332130548823311,-0.26318021389783985,-1.4971248638820622,0.3152560911248023,-0.21665547778357377,-1.0023809876326206,1.0562004740071824,0.5338261162974342,1.084603932148778,0.2935647195292971,0.28628110241537885,-1.1494679572805997,-0.25532087031031897,-0.35075476425964247,0.9497286053864785,0.2807308118655686,-0.4251098238132698,-1.0621446257664477,0.41931528695406345,-1.433797178077299,-0.8059425488799932],\"y\":[-0.9217746063940998,-1.6822361723427532,-0.055572935761315195,-0.7350958966894335,-0.16312573884020234,0.26078513301011524,-1.6077194546656872,-0.16660545555158907,0.4702211267676788,-0.8160247909852378,0.07090561857130953,-0.512506611196169,0.7176328754936439,-0.5532917462243572,-0.8119234722216444,-1.1765423268753135,-1.12954248594935,-0.4149262245711078,-0.4253415826023585,0.8469921767949793,1.881699763566048,-0.25778150596466876,-0.13128008428078422,0.5004041084234315,-1.649491285150849,-0.5042162792070994,0.6218104662260018,-0.5987775790098924,1.4123907764913297,-1.5904079493683279,-0.17544539905896128,-0.26662817691141316,1.6537875958037962,0.47060178918033885,-1.0478398572685959,1.2458723160603526,0.3183776222101448,-0.34137069400463826,0.6268383693928805,-0.49492715859173325,1.7894001280490095,1.0923690990085906,-0.4426468257952904,-1.7570569105500355,-0.2975462515868482,-0.9903552540790408,-2.0298888359656786,0.20798858218719538,-0.19840303127725278,0.9591272839305035,-1.0280598843346984,-1.3992328031466221,0.1824738273519832,-0.6025895866492086,-0.9843279818631707,-1.8390232897687318,1.534352550556892,1.0097682622746742,-0.861460988903354,-1.1660932424398551,-0.3094667414878226,1.1390385211944523,0.7427373004453051,0.4325319033275298,-0.49157497264069144,-1.1332619048375008,1.1259775995666133,1.9633898033012296,-0.1707707527943106,-0.4707537511823286,0.293722238328297,-0.6637770134834158,0.1301936407996693,0.3317424608102532,-1.0087404003189793,1.5522849293264396,0.22765004510397707,0.5272387175192732,-1.2419532380663771,0.33703182748365773,-1.7943304931124409,1.9246712787355624,-0.23366511001055065,0.09530901830895594,-0.2594634402771084,-0.20051248855805656,0.5230413669385336,-0.5013104579418655,0.46862784928238493,-1.2320574972191813,1.2274744511742934,0.9056958647317631,0.6943233325625244,0.613944109383328,0.20386916943256914,-0.4326740892386687,-0.5777941644677652,1.2663919771320504,1.4677257199411882,-1.8332729500431604],\"type\":\"scatter\"}],                        {\"legend\":{\"bgcolor\":\"#F5F6F9\",\"font\":{\"color\":\"#4D5663\"}},\"paper_bgcolor\":\"#F5F6F9\",\"plot_bgcolor\":\"#F5F6F9\",\"template\":{\"data\":{\"barpolar\":[{\"marker\":{\"line\":{\"color\":\"#E5ECF6\",\"width\":0.5},\"pattern\":{\"fillmode\":\"overlay\",\"size\":10,\"solidity\":0.2}},\"type\":\"barpolar\"}],\"bar\":[{\"error_x\":{\"color\":\"#2a3f5f\"},\"error_y\":{\"color\":\"#2a3f5f\"},\"marker\":{\"line\":{\"color\":\"#E5ECF6\",\"width\":0.5},\"pattern\":{\"fillmode\":\"overlay\",\"size\":10,\"solidity\":0.2}},\"type\":\"bar\"}],\"carpet\":[{\"aaxis\":{\"endlinecolor\":\"#2a3f5f\",\"gridcolor\":\"white\",\"linecolor\":\"white\",\"minorgridcolor\":\"white\",\"startlinecolor\":\"#2a3f5f\"},\"baxis\":{\"endlinecolor\":\"#2a3f5f\",\"gridcolor\":\"white\",\"linecolor\":\"white\",\"minorgridcolor\":\"white\",\"startlinecolor\":\"#2a3f5f\"},\"type\":\"carpet\"}],\"choropleth\":[{\"colorbar\":{\"outlinewidth\":0,\"ticks\":\"\"},\"type\":\"choropleth\"}],\"contourcarpet\":[{\"colorbar\":{\"outlinewidth\":0,\"ticks\":\"\"},\"type\":\"contourcarpet\"}],\"contour\":[{\"colorbar\":{\"outlinewidth\":0,\"ticks\":\"\"},\"colorscale\":[[0.0,\"#0d0887\"],[0.1111111111111111,\"#46039f\"],[0.2222222222222222,\"#7201a8\"],[0.3333333333333333,\"#9c179e\"],[0.4444444444444444,\"#bd3786\"],[0.5555555555555556,\"#d8576b\"],[0.6666666666666666,\"#ed7953\"],[0.7777777777777778,\"#fb9f3a\"],[0.8888888888888888,\"#fdca26\"],[1.0,\"#f0f921\"]],\"type\":\"contour\"}],\"heatmapgl\":[{\"colorbar\":{\"outlinewidth\":0,\"ticks\":\"\"},\"colorscale\":[[0.0,\"#0d0887\"],[0.1111111111111111,\"#46039f\"],[0.2222222222222222,\"#7201a8\"],[0.3333333333333333,\"#9c179e\"],[0.4444444444444444,\"#bd3786\"],[0.5555555555555556,\"#d8576b\"],[0.6666666666666666,\"#ed7953\"],[0.7777777777777778,\"#fb9f3a\"],[0.8888888888888888,\"#fdca26\"],[1.0,\"#f0f921\"]],\"type\":\"heatmapgl\"}],\"heatmap\":[{\"colorbar\":{\"outlinewidth\":0,\"ticks\":\"\"},\"colorscale\":[[0.0,\"#0d0887\"],[0.1111111111111111,\"#46039f\"],[0.2222222222222222,\"#7201a8\"],[0.3333333333333333,\"#9c179e\"],[0.4444444444444444,\"#bd3786\"],[0.5555555555555556,\"#d8576b\"],[0.6666666666666666,\"#ed7953\"],[0.7777777777777778,\"#fb9f3a\"],[0.8888888888888888,\"#fdca26\"],[1.0,\"#f0f921\"]],\"type\":\"heatmap\"}],\"histogram2dcontour\":[{\"colorbar\":{\"outlinewidth\":0,\"ticks\":\"\"},\"colorscale\":[[0.0,\"#0d0887\"],[0.1111111111111111,\"#46039f\"],[0.2222222222222222,\"#7201a8\"],[0.3333333333333333,\"#9c179e\"],[0.4444444444444444,\"#bd3786\"],[0.5555555555555556,\"#d8576b\"],[0.6666666666666666,\"#ed7953\"],[0.7777777777777778,\"#fb9f3a\"],[0.8888888888888888,\"#fdca26\"],[1.0,\"#f0f921\"]],\"type\":\"histogram2dcontour\"}],\"histogram2d\":[{\"colorbar\":{\"outlinewidth\":0,\"ticks\":\"\"},\"colorscale\":[[0.0,\"#0d0887\"],[0.1111111111111111,\"#46039f\"],[0.2222222222222222,\"#7201a8\"],[0.3333333333333333,\"#9c179e\"],[0.4444444444444444,\"#bd3786\"],[0.5555555555555556,\"#d8576b\"],[0.6666666666666666,\"#ed7953\"],[0.7777777777777778,\"#fb9f3a\"],[0.8888888888888888,\"#fdca26\"],[1.0,\"#f0f921\"]],\"type\":\"histogram2d\"}],\"histogram\":[{\"marker\":{\"pattern\":{\"fillmode\":\"overlay\",\"size\":10,\"solidity\":0.2}},\"type\":\"histogram\"}],\"mesh3d\":[{\"colorbar\":{\"outlinewidth\":0,\"ticks\":\"\"},\"type\":\"mesh3d\"}],\"parcoords\":[{\"line\":{\"colorbar\":{\"outlinewidth\":0,\"ticks\":\"\"}},\"type\":\"parcoords\"}],\"pie\":[{\"automargin\":true,\"type\":\"pie\"}],\"scatter3d\":[{\"line\":{\"colorbar\":{\"outlinewidth\":0,\"ticks\":\"\"}},\"marker\":{\"colorbar\":{\"outlinewidth\":0,\"ticks\":\"\"}},\"type\":\"scatter3d\"}],\"scattercarpet\":[{\"marker\":{\"colorbar\":{\"outlinewidth\":0,\"ticks\":\"\"}},\"type\":\"scattercarpet\"}],\"scattergeo\":[{\"marker\":{\"colorbar\":{\"outlinewidth\":0,\"ticks\":\"\"}},\"type\":\"scattergeo\"}],\"scattergl\":[{\"marker\":{\"colorbar\":{\"outlinewidth\":0,\"ticks\":\"\"}},\"type\":\"scattergl\"}],\"scattermapbox\":[{\"marker\":{\"colorbar\":{\"outlinewidth\":0,\"ticks\":\"\"}},\"type\":\"scattermapbox\"}],\"scatterpolargl\":[{\"marker\":{\"colorbar\":{\"outlinewidth\":0,\"ticks\":\"\"}},\"type\":\"scatterpolargl\"}],\"scatterpolar\":[{\"marker\":{\"colorbar\":{\"outlinewidth\":0,\"ticks\":\"\"}},\"type\":\"scatterpolar\"}],\"scatter\":[{\"marker\":{\"colorbar\":{\"outlinewidth\":0,\"ticks\":\"\"}},\"type\":\"scatter\"}],\"scatterternary\":[{\"marker\":{\"colorbar\":{\"outlinewidth\":0,\"ticks\":\"\"}},\"type\":\"scatterternary\"}],\"surface\":[{\"colorbar\":{\"outlinewidth\":0,\"ticks\":\"\"},\"colorscale\":[[0.0,\"#0d0887\"],[0.1111111111111111,\"#46039f\"],[0.2222222222222222,\"#7201a8\"],[0.3333333333333333,\"#9c179e\"],[0.4444444444444444,\"#bd3786\"],[0.5555555555555556,\"#d8576b\"],[0.6666666666666666,\"#ed7953\"],[0.7777777777777778,\"#fb9f3a\"],[0.8888888888888888,\"#fdca26\"],[1.0,\"#f0f921\"]],\"type\":\"surface\"}],\"table\":[{\"cells\":{\"fill\":{\"color\":\"#EBF0F8\"},\"line\":{\"color\":\"white\"}},\"header\":{\"fill\":{\"color\":\"#C8D4E3\"},\"line\":{\"color\":\"white\"}},\"type\":\"table\"}]},\"layout\":{\"annotationdefaults\":{\"arrowcolor\":\"#2a3f5f\",\"arrowhead\":0,\"arrowwidth\":1},\"autotypenumbers\":\"strict\",\"coloraxis\":{\"colorbar\":{\"outlinewidth\":0,\"ticks\":\"\"}},\"colorscale\":{\"diverging\":[[0,\"#8e0152\"],[0.1,\"#c51b7d\"],[0.2,\"#de77ae\"],[0.3,\"#f1b6da\"],[0.4,\"#fde0ef\"],[0.5,\"#f7f7f7\"],[0.6,\"#e6f5d0\"],[0.7,\"#b8e186\"],[0.8,\"#7fbc41\"],[0.9,\"#4d9221\"],[1,\"#276419\"]],\"sequential\":[[0.0,\"#0d0887\"],[0.1111111111111111,\"#46039f\"],[0.2222222222222222,\"#7201a8\"],[0.3333333333333333,\"#9c179e\"],[0.4444444444444444,\"#bd3786\"],[0.5555555555555556,\"#d8576b\"],[0.6666666666666666,\"#ed7953\"],[0.7777777777777778,\"#fb9f3a\"],[0.8888888888888888,\"#fdca26\"],[1.0,\"#f0f921\"]],\"sequentialminus\":[[0.0,\"#0d0887\"],[0.1111111111111111,\"#46039f\"],[0.2222222222222222,\"#7201a8\"],[0.3333333333333333,\"#9c179e\"],[0.4444444444444444,\"#bd3786\"],[0.5555555555555556,\"#d8576b\"],[0.6666666666666666,\"#ed7953\"],[0.7777777777777778,\"#fb9f3a\"],[0.8888888888888888,\"#fdca26\"],[1.0,\"#f0f921\"]]},\"colorway\":[\"#636efa\",\"#EF553B\",\"#00cc96\",\"#ab63fa\",\"#FFA15A\",\"#19d3f3\",\"#FF6692\",\"#B6E880\",\"#FF97FF\",\"#FECB52\"],\"font\":{\"color\":\"#2a3f5f\"},\"geo\":{\"bgcolor\":\"white\",\"lakecolor\":\"white\",\"landcolor\":\"#E5ECF6\",\"showlakes\":true,\"showland\":true,\"subunitcolor\":\"white\"},\"hoverlabel\":{\"align\":\"left\"},\"hovermode\":\"closest\",\"mapbox\":{\"style\":\"light\"},\"paper_bgcolor\":\"white\",\"plot_bgcolor\":\"#E5ECF6\",\"polar\":{\"angularaxis\":{\"gridcolor\":\"white\",\"linecolor\":\"white\",\"ticks\":\"\"},\"bgcolor\":\"#E5ECF6\",\"radialaxis\":{\"gridcolor\":\"white\",\"linecolor\":\"white\",\"ticks\":\"\"}},\"scene\":{\"xaxis\":{\"backgroundcolor\":\"#E5ECF6\",\"gridcolor\":\"white\",\"gridwidth\":2,\"linecolor\":\"white\",\"showbackground\":true,\"ticks\":\"\",\"zerolinecolor\":\"white\"},\"yaxis\":{\"backgroundcolor\":\"#E5ECF6\",\"gridcolor\":\"white\",\"gridwidth\":2,\"linecolor\":\"white\",\"showbackground\":true,\"ticks\":\"\",\"zerolinecolor\":\"white\"},\"zaxis\":{\"backgroundcolor\":\"#E5ECF6\",\"gridcolor\":\"white\",\"gridwidth\":2,\"linecolor\":\"white\",\"showbackground\":true,\"ticks\":\"\",\"zerolinecolor\":\"white\"}},\"shapedefaults\":{\"line\":{\"color\":\"#2a3f5f\"}},\"ternary\":{\"aaxis\":{\"gridcolor\":\"white\",\"linecolor\":\"white\",\"ticks\":\"\"},\"baxis\":{\"gridcolor\":\"white\",\"linecolor\":\"white\",\"ticks\":\"\"},\"bgcolor\":\"#E5ECF6\",\"caxis\":{\"gridcolor\":\"white\",\"linecolor\":\"white\",\"ticks\":\"\"}},\"title\":{\"x\":0.05},\"xaxis\":{\"automargin\":true,\"gridcolor\":\"white\",\"linecolor\":\"white\",\"ticks\":\"\",\"title\":{\"standoff\":15},\"zerolinecolor\":\"white\",\"zerolinewidth\":2},\"yaxis\":{\"automargin\":true,\"gridcolor\":\"white\",\"linecolor\":\"white\",\"ticks\":\"\",\"title\":{\"standoff\":15},\"zerolinecolor\":\"white\",\"zerolinewidth\":2}}},\"title\":{\"font\":{\"color\":\"#4D5663\"}},\"xaxis\":{\"gridcolor\":\"#E1E5ED\",\"showgrid\":true,\"tickfont\":{\"color\":\"#4D5663\"},\"title\":{\"font\":{\"color\":\"#4D5663\"},\"text\":\"\"},\"zerolinecolor\":\"#E1E5ED\"},\"yaxis\":{\"gridcolor\":\"#E1E5ED\",\"showgrid\":true,\"tickfont\":{\"color\":\"#4D5663\"},\"title\":{\"font\":{\"color\":\"#4D5663\"},\"text\":\"\"},\"zerolinecolor\":\"#E1E5ED\"}},                        {\"showLink\": true, \"linkText\": \"Export to plot.ly\", \"plotlyServerURL\": \"https://plot.ly\", \"responsive\": true}                    ).then(function(){\n",
       "                            \n",
       "var gd = document.getElementById('da7a27bb-42b2-4330-a731-b6c7cf00eeea');\n",
       "var x = new MutationObserver(function (mutations, observer) {{\n",
       "        var display = window.getComputedStyle(gd).display;\n",
       "        if (!display || display === 'none') {{\n",
       "            console.log([gd, 'removed!']);\n",
       "            Plotly.purge(gd);\n",
       "            observer.disconnect();\n",
       "        }}\n",
       "}});\n",
       "\n",
       "// Listen for the removal of the full notebook cells\n",
       "var notebookContainer = gd.closest('#notebook-container');\n",
       "if (notebookContainer) {{\n",
       "    x.observe(notebookContainer, {childList: true});\n",
       "}}\n",
       "\n",
       "// Listen for the clearing of the current output cell\n",
       "var outputEl = gd.closest('.output');\n",
       "if (outputEl) {{\n",
       "    x.observe(outputEl, {childList: true});\n",
       "}}\n",
       "\n",
       "                        })                };                });            </script>        </div>"
      ]
     },
     "metadata": {},
     "output_type": "display_data"
    }
   ],
   "source": [
    "df.iplot(kind='bubble',x='A',y='B',size='C')"
   ]
  },
  {
   "cell_type": "markdown",
   "metadata": {},
   "source": [
    "# Scatter Matrix"
   ]
  },
  {
   "cell_type": "code",
   "execution_count": 18,
   "metadata": {},
   "outputs": [
    {
     "data": {
      "application/vnd.plotly.v1+json": {
       "config": {
        "linkText": "Export to plot.ly",
        "plotlyServerURL": "https://plot.ly",
        "showLink": true
       },
       "data": [
        {
         "histfunc": "count",
         "histnorm": "",
         "marker": {
          "color": "rgba(255, 153, 51, 1.0)",
          "line": {
           "color": "#4D5663",
           "width": 1.3
          }
         },
         "name": "A",
         "nbinsx": 10,
         "opacity": 0.8,
         "orientation": "v",
         "type": "histogram",
         "x": [
          0.35989448670498325,
          -0.4592246745596689,
          1.1469340676932693,
          0.011457522595807158,
          -1.325225593039427,
          0.6814113631472483,
          -0.6786363701384942,
          1.0437656967750097,
          -0.47746466288488,
          0.8125037672312054,
          -0.47404658256936544,
          1.2031540729757069,
          1.4635324716319182,
          0.06280967604194186,
          -1.3846713229533583,
          0.857625982236854,
          0.5068595009022173,
          0.5580764208978222,
          0.7283816078799463,
          1.6679793441485444,
          0.5494052825729143,
          2.179905991957352,
          0.6687883289057667,
          -0.3900788675173005,
          0.6003974566718818,
          -0.4550592069568799,
          0.024033182599412138,
          0.8838170831120449,
          -0.3815550521370984,
          -1.1351702026828523,
          1.8944649799641564,
          0.294708748187957,
          0.21978311050099436,
          -0.07065302380242854,
          -0.07252968052331976,
          1.1144820614967048,
          0.606171730343062,
          -0.8731464829889949,
          -0.9310256218748634,
          -1.1793341276575884,
          -1.257519736482706,
          -1.7425979839917272,
          -0.9445804193991463,
          -1.7502567337064294,
          -1.4243514037650187,
          -0.4090315100280699,
          0.18554365411004087,
          1.5207346391246686,
          -1.3323522975428201,
          -1.0763732961923527,
          0.935426096415537,
          0.786447031400014,
          0.3251381994168318,
          0.4245928479689998,
          0.6172282965203385,
          2.616286334548319,
          0.35013172747915905,
          0.23072155751839604,
          0.1078120918737563,
          -0.6767857327332797,
          1.486845300668094,
          -0.22754332442045902,
          -0.37629874464913476,
          0.7463145320495523,
          -0.19467705150091513,
          -1.4154453380765688,
          1.3399136119262056,
          -1.5777643034446764,
          -0.27774725451621385,
          0.20185972252411266,
          0.9349122376858232,
          -1.9228425692134634,
          1.0046670938839755,
          -0.6508739922195852,
          0.4269958744781549,
          0.7736665220816002,
          -0.1679201401431736,
          -1.3158405857178361,
          -0.8227589415389568,
          2.332130548823311,
          -0.26318021389783985,
          -1.4971248638820622,
          0.3152560911248023,
          -0.21665547778357377,
          -1.0023809876326206,
          1.0562004740071824,
          0.5338261162974342,
          1.084603932148778,
          0.2935647195292971,
          0.28628110241537885,
          -1.1494679572805997,
          -0.25532087031031897,
          -0.35075476425964247,
          0.9497286053864785,
          0.2807308118655686,
          -0.4251098238132698,
          -1.0621446257664477,
          0.41931528695406345,
          -1.433797178077299,
          -0.8059425488799932
         ],
         "xaxis": "x",
         "yaxis": "y"
        },
        {
         "line": {
          "color": "rgba(128, 128, 128, 1.0)",
          "dash": "solid",
          "shape": "linear",
          "width": 1.3
         },
         "marker": {
          "size": 2,
          "symbol": "circle"
         },
         "mode": "markers",
         "name": "A",
         "text": "",
         "type": "scatter",
         "x": [
          -0.9217746063940998,
          -1.6822361723427532,
          -0.055572935761315195,
          -0.7350958966894335,
          -0.16312573884020234,
          0.26078513301011524,
          -1.6077194546656872,
          -0.16660545555158907,
          0.4702211267676788,
          -0.8160247909852378,
          0.07090561857130953,
          -0.512506611196169,
          0.7176328754936439,
          -0.5532917462243572,
          -0.8119234722216444,
          -1.1765423268753135,
          -1.12954248594935,
          -0.4149262245711078,
          -0.4253415826023585,
          0.8469921767949793,
          1.881699763566048,
          -0.25778150596466876,
          -0.13128008428078422,
          0.5004041084234315,
          -1.649491285150849,
          -0.5042162792070994,
          0.6218104662260018,
          -0.5987775790098924,
          1.4123907764913297,
          -1.5904079493683279,
          -0.17544539905896128,
          -0.26662817691141316,
          1.6537875958037962,
          0.47060178918033885,
          -1.0478398572685959,
          1.2458723160603526,
          0.3183776222101448,
          -0.34137069400463826,
          0.6268383693928805,
          -0.49492715859173325,
          1.7894001280490095,
          1.0923690990085906,
          -0.4426468257952904,
          -1.7570569105500355,
          -0.2975462515868482,
          -0.9903552540790408,
          -2.0298888359656786,
          0.20798858218719538,
          -0.19840303127725278,
          0.9591272839305035,
          -1.0280598843346984,
          -1.3992328031466221,
          0.1824738273519832,
          -0.6025895866492086,
          -0.9843279818631707,
          -1.8390232897687318,
          1.534352550556892,
          1.0097682622746742,
          -0.861460988903354,
          -1.1660932424398551,
          -0.3094667414878226,
          1.1390385211944523,
          0.7427373004453051,
          0.4325319033275298,
          -0.49157497264069144,
          -1.1332619048375008,
          1.1259775995666133,
          1.9633898033012296,
          -0.1707707527943106,
          -0.4707537511823286,
          0.293722238328297,
          -0.6637770134834158,
          0.1301936407996693,
          0.3317424608102532,
          -1.0087404003189793,
          1.5522849293264396,
          0.22765004510397707,
          0.5272387175192732,
          -1.2419532380663771,
          0.33703182748365773,
          -1.7943304931124409,
          1.9246712787355624,
          -0.23366511001055065,
          0.09530901830895594,
          -0.2594634402771084,
          -0.20051248855805656,
          0.5230413669385336,
          -0.5013104579418655,
          0.46862784928238493,
          -1.2320574972191813,
          1.2274744511742934,
          0.9056958647317631,
          0.6943233325625244,
          0.613944109383328,
          0.20386916943256914,
          -0.4326740892386687,
          -0.5777941644677652,
          1.2663919771320504,
          1.4677257199411882,
          -1.8332729500431604
         ],
         "xaxis": "x2",
         "y": [
          0.35989448670498325,
          -0.4592246745596689,
          1.1469340676932693,
          0.011457522595807158,
          -1.325225593039427,
          0.6814113631472483,
          -0.6786363701384942,
          1.0437656967750097,
          -0.47746466288488,
          0.8125037672312054,
          -0.47404658256936544,
          1.2031540729757069,
          1.4635324716319182,
          0.06280967604194186,
          -1.3846713229533583,
          0.857625982236854,
          0.5068595009022173,
          0.5580764208978222,
          0.7283816078799463,
          1.6679793441485444,
          0.5494052825729143,
          2.179905991957352,
          0.6687883289057667,
          -0.3900788675173005,
          0.6003974566718818,
          -0.4550592069568799,
          0.024033182599412138,
          0.8838170831120449,
          -0.3815550521370984,
          -1.1351702026828523,
          1.8944649799641564,
          0.294708748187957,
          0.21978311050099436,
          -0.07065302380242854,
          -0.07252968052331976,
          1.1144820614967048,
          0.606171730343062,
          -0.8731464829889949,
          -0.9310256218748634,
          -1.1793341276575884,
          -1.257519736482706,
          -1.7425979839917272,
          -0.9445804193991463,
          -1.7502567337064294,
          -1.4243514037650187,
          -0.4090315100280699,
          0.18554365411004087,
          1.5207346391246686,
          -1.3323522975428201,
          -1.0763732961923527,
          0.935426096415537,
          0.786447031400014,
          0.3251381994168318,
          0.4245928479689998,
          0.6172282965203385,
          2.616286334548319,
          0.35013172747915905,
          0.23072155751839604,
          0.1078120918737563,
          -0.6767857327332797,
          1.486845300668094,
          -0.22754332442045902,
          -0.37629874464913476,
          0.7463145320495523,
          -0.19467705150091513,
          -1.4154453380765688,
          1.3399136119262056,
          -1.5777643034446764,
          -0.27774725451621385,
          0.20185972252411266,
          0.9349122376858232,
          -1.9228425692134634,
          1.0046670938839755,
          -0.6508739922195852,
          0.4269958744781549,
          0.7736665220816002,
          -0.1679201401431736,
          -1.3158405857178361,
          -0.8227589415389568,
          2.332130548823311,
          -0.26318021389783985,
          -1.4971248638820622,
          0.3152560911248023,
          -0.21665547778357377,
          -1.0023809876326206,
          1.0562004740071824,
          0.5338261162974342,
          1.084603932148778,
          0.2935647195292971,
          0.28628110241537885,
          -1.1494679572805997,
          -0.25532087031031897,
          -0.35075476425964247,
          0.9497286053864785,
          0.2807308118655686,
          -0.4251098238132698,
          -1.0621446257664477,
          0.41931528695406345,
          -1.433797178077299,
          -0.8059425488799932
         ],
         "yaxis": "y2"
        },
        {
         "line": {
          "color": "rgba(128, 128, 128, 1.0)",
          "dash": "solid",
          "shape": "linear",
          "width": 1.3
         },
         "marker": {
          "size": 2,
          "symbol": "circle"
         },
         "mode": "markers",
         "name": "A",
         "text": "",
         "type": "scatter",
         "x": [
          0.8273152785715431,
          2.592082609608652,
          1.3446371871912153,
          0.8504550879324595,
          1.4411075649619918,
          0.5897397057175384,
          1.4823375219325754,
          0.493545341242126,
          0.2277940736874258,
          0.26800571588185357,
          -0.35721758206893844,
          -0.5240919506759124,
          -0.998536527564416,
          -0.25250677074350025,
          0.34751354653457334,
          0.7319758834630521,
          0.8515431046657899,
          -0.5151755682976872,
          1.1034991243247498,
          -0.2514271267200668,
          0.11530430980968087,
          0.42783703065710466,
          -0.46493111644446494,
          -0.3697897261937152,
          0.5756817113457978,
          0.5590010846145865,
          0.7723509688301612,
          -0.3848689347948521,
          -0.03960165885586036,
          0.044185855710254546,
          -0.5140996425468439,
          0.13193354043914313,
          0.9187833900981137,
          1.484115372604817,
          0.18697754963781588,
          1.9497496515191346,
          -0.025593087049639886,
          0.19876252469269806,
          0.40681310501725126,
          1.5754598787831944,
          0.5434325141033527,
          -1.1639700750272357,
          -2.027499814689522,
          0.3774390179879476,
          0.07839364114765025,
          0.2099088012296653,
          -1.0098193100645472,
          -2.1968598817674136,
          -2.085850838972527,
          0.22237535775602632,
          1.410759157113143,
          0.7575898202084071,
          -0.379137771012906,
          0.05344419077288705,
          -0.39949566994663593,
          0.15032321148972558,
          -0.13006768244103997,
          -0.1104800512865253,
          0.14024177840245208,
          -0.11546794485658657,
          1.1370169489407962,
          1.6418440274751496,
          1.029633502483267,
          2.064768104260361,
          -1.4246738743908782,
          -1.1906028269960245,
          1.1195470807731074,
          0.24714600279234417,
          0.41050677418878273,
          -0.3044927976891417,
          -2.054946754679443,
          -0.7307213097989068,
          -0.8708435579846577,
          -1.1405779109930412,
          -1.3375884485723633,
          -0.8553922504340327,
          0.811982322687059,
          0.6504087801710815,
          0.22215904010631066,
          -1.4420307525037719,
          0.7506310074727195,
          1.3566616786070929,
          0.7461563731341896,
          -0.07648236873264547,
          0.022522698063428805,
          0.6937233126166052,
          -0.32415267449581314,
          0.1577868414126188,
          1.094604977544399,
          -0.7470298922393848,
          0.558516436318415,
          0.7339447070301272,
          0.32600844025502,
          0.7143208325728774,
          1.1930579479539156,
          -0.16489897476312007,
          -0.5023550910613268,
          0.8485020620346165,
          0.6152295906262166,
          -1.7710607238056244
         ],
         "xaxis": "x3",
         "y": [
          0.35989448670498325,
          -0.4592246745596689,
          1.1469340676932693,
          0.011457522595807158,
          -1.325225593039427,
          0.6814113631472483,
          -0.6786363701384942,
          1.0437656967750097,
          -0.47746466288488,
          0.8125037672312054,
          -0.47404658256936544,
          1.2031540729757069,
          1.4635324716319182,
          0.06280967604194186,
          -1.3846713229533583,
          0.857625982236854,
          0.5068595009022173,
          0.5580764208978222,
          0.7283816078799463,
          1.6679793441485444,
          0.5494052825729143,
          2.179905991957352,
          0.6687883289057667,
          -0.3900788675173005,
          0.6003974566718818,
          -0.4550592069568799,
          0.024033182599412138,
          0.8838170831120449,
          -0.3815550521370984,
          -1.1351702026828523,
          1.8944649799641564,
          0.294708748187957,
          0.21978311050099436,
          -0.07065302380242854,
          -0.07252968052331976,
          1.1144820614967048,
          0.606171730343062,
          -0.8731464829889949,
          -0.9310256218748634,
          -1.1793341276575884,
          -1.257519736482706,
          -1.7425979839917272,
          -0.9445804193991463,
          -1.7502567337064294,
          -1.4243514037650187,
          -0.4090315100280699,
          0.18554365411004087,
          1.5207346391246686,
          -1.3323522975428201,
          -1.0763732961923527,
          0.935426096415537,
          0.786447031400014,
          0.3251381994168318,
          0.4245928479689998,
          0.6172282965203385,
          2.616286334548319,
          0.35013172747915905,
          0.23072155751839604,
          0.1078120918737563,
          -0.6767857327332797,
          1.486845300668094,
          -0.22754332442045902,
          -0.37629874464913476,
          0.7463145320495523,
          -0.19467705150091513,
          -1.4154453380765688,
          1.3399136119262056,
          -1.5777643034446764,
          -0.27774725451621385,
          0.20185972252411266,
          0.9349122376858232,
          -1.9228425692134634,
          1.0046670938839755,
          -0.6508739922195852,
          0.4269958744781549,
          0.7736665220816002,
          -0.1679201401431736,
          -1.3158405857178361,
          -0.8227589415389568,
          2.332130548823311,
          -0.26318021389783985,
          -1.4971248638820622,
          0.3152560911248023,
          -0.21665547778357377,
          -1.0023809876326206,
          1.0562004740071824,
          0.5338261162974342,
          1.084603932148778,
          0.2935647195292971,
          0.28628110241537885,
          -1.1494679572805997,
          -0.25532087031031897,
          -0.35075476425964247,
          0.9497286053864785,
          0.2807308118655686,
          -0.4251098238132698,
          -1.0621446257664477,
          0.41931528695406345,
          -1.433797178077299,
          -0.8059425488799932
         ],
         "yaxis": "y3"
        },
        {
         "line": {
          "color": "rgba(128, 128, 128, 1.0)",
          "dash": "solid",
          "shape": "linear",
          "width": 1.3
         },
         "marker": {
          "size": 2,
          "symbol": "circle"
         },
         "mode": "markers",
         "name": "A",
         "text": "",
         "type": "scatter",
         "x": [
          0.1639515482012815,
          1.8912813739797474,
          0.130753561918199,
          -2.462473908106972,
          -0.6603998166821248,
          1.9977377081442942,
          -1.0129093630599486,
          0.7921290056316523,
          -0.5664348156991554,
          -0.7249453745242685,
          -1.316613740020055,
          -0.6912569883984678,
          -1.240988387334244,
          -0.5210705358852363,
          0.09427243247393506,
          0.23596339084549361,
          0.39613978935162286,
          -0.5036875231146357,
          -1.4879042015174808,
          2.008266172048622,
          -0.9267001478713117,
          0.8886469782275257,
          -0.013999911406236168,
          0.18162473087366604,
          -0.05355539919631981,
          0.8512041291095764,
          1.4188904241052764,
          2.0261909174276163,
          -0.7659204731984209,
          -1.0137288460711575,
          -0.11314826507733342,
          -0.006556842213361446,
          -1.4145634914480307,
          -0.04656715573464401,
          0.11464370009805469,
          1.077154835460711,
          -0.6558996673933815,
          1.6004297267147591,
          1.1560180690378152,
          -1.1020980479547866,
          -0.29695874751007373,
          -2.3171441457140984,
          -0.6845246028821502,
          0.44585404969474557,
          0.023595686585148427,
          0.8643865790452707,
          0.6314911651454947,
          1.2575699668623646,
          0.04729427854654969,
          0.5259727805936953,
          0.619317035851485,
          -0.1106898572460105,
          -1.1664952254834136,
          0.21837344055509192,
          1.7268542929393982,
          1.1910080253594584,
          -0.03371678760423379,
          0.7484607684771561,
          1.7097535689505192,
          1.6719306216288725,
          0.17375769926297524,
          0.37715327609221455,
          -0.5887231780567602,
          -0.09935263687710601,
          0.27712225162381837,
          -0.8609743885728103,
          0.4279101952965506,
          0.3007884188375812,
          0.34063671029127696,
          0.10538779020884839,
          -0.30028901730662577,
          1.0019587248375998,
          0.1832065798821189,
          -1.4554640798274099,
          2.9912213268678367,
          1.6829095016685827,
          -0.6230371284787307,
          0.7837134148587172,
          -0.0842101697097363,
          0.7455313961820127,
          -1.612400798498298,
          -0.3221942083634528,
          -1.2099618162593822,
          -0.35263267466788234,
          0.6164369788445613,
          -0.13032311478530598,
          -1.8835020613120474,
          1.157435009222289,
          0.9121473121955195,
          1.2473321030756332,
          -0.7666362855181403,
          0.7432402678061955,
          0.344599844220491,
          0.6452809496473196,
          0.831922075508615,
          -0.6315196967878742,
          0.21774047700345495,
          -0.04705120336250258,
          -0.2739043016194293,
          0.3032166418279464
         ],
         "xaxis": "x4",
         "y": [
          0.35989448670498325,
          -0.4592246745596689,
          1.1469340676932693,
          0.011457522595807158,
          -1.325225593039427,
          0.6814113631472483,
          -0.6786363701384942,
          1.0437656967750097,
          -0.47746466288488,
          0.8125037672312054,
          -0.47404658256936544,
          1.2031540729757069,
          1.4635324716319182,
          0.06280967604194186,
          -1.3846713229533583,
          0.857625982236854,
          0.5068595009022173,
          0.5580764208978222,
          0.7283816078799463,
          1.6679793441485444,
          0.5494052825729143,
          2.179905991957352,
          0.6687883289057667,
          -0.3900788675173005,
          0.6003974566718818,
          -0.4550592069568799,
          0.024033182599412138,
          0.8838170831120449,
          -0.3815550521370984,
          -1.1351702026828523,
          1.8944649799641564,
          0.294708748187957,
          0.21978311050099436,
          -0.07065302380242854,
          -0.07252968052331976,
          1.1144820614967048,
          0.606171730343062,
          -0.8731464829889949,
          -0.9310256218748634,
          -1.1793341276575884,
          -1.257519736482706,
          -1.7425979839917272,
          -0.9445804193991463,
          -1.7502567337064294,
          -1.4243514037650187,
          -0.4090315100280699,
          0.18554365411004087,
          1.5207346391246686,
          -1.3323522975428201,
          -1.0763732961923527,
          0.935426096415537,
          0.786447031400014,
          0.3251381994168318,
          0.4245928479689998,
          0.6172282965203385,
          2.616286334548319,
          0.35013172747915905,
          0.23072155751839604,
          0.1078120918737563,
          -0.6767857327332797,
          1.486845300668094,
          -0.22754332442045902,
          -0.37629874464913476,
          0.7463145320495523,
          -0.19467705150091513,
          -1.4154453380765688,
          1.3399136119262056,
          -1.5777643034446764,
          -0.27774725451621385,
          0.20185972252411266,
          0.9349122376858232,
          -1.9228425692134634,
          1.0046670938839755,
          -0.6508739922195852,
          0.4269958744781549,
          0.7736665220816002,
          -0.1679201401431736,
          -1.3158405857178361,
          -0.8227589415389568,
          2.332130548823311,
          -0.26318021389783985,
          -1.4971248638820622,
          0.3152560911248023,
          -0.21665547778357377,
          -1.0023809876326206,
          1.0562004740071824,
          0.5338261162974342,
          1.084603932148778,
          0.2935647195292971,
          0.28628110241537885,
          -1.1494679572805997,
          -0.25532087031031897,
          -0.35075476425964247,
          0.9497286053864785,
          0.2807308118655686,
          -0.4251098238132698,
          -1.0621446257664477,
          0.41931528695406345,
          -1.433797178077299,
          -0.8059425488799932
         ],
         "yaxis": "y4"
        },
        {
         "line": {
          "color": "rgba(128, 128, 128, 1.0)",
          "dash": "solid",
          "shape": "linear",
          "width": 1.3
         },
         "marker": {
          "size": 2,
          "symbol": "circle"
         },
         "mode": "markers",
         "name": "B",
         "text": "",
         "type": "scatter",
         "x": [
          0.35989448670498325,
          -0.4592246745596689,
          1.1469340676932693,
          0.011457522595807158,
          -1.325225593039427,
          0.6814113631472483,
          -0.6786363701384942,
          1.0437656967750097,
          -0.47746466288488,
          0.8125037672312054,
          -0.47404658256936544,
          1.2031540729757069,
          1.4635324716319182,
          0.06280967604194186,
          -1.3846713229533583,
          0.857625982236854,
          0.5068595009022173,
          0.5580764208978222,
          0.7283816078799463,
          1.6679793441485444,
          0.5494052825729143,
          2.179905991957352,
          0.6687883289057667,
          -0.3900788675173005,
          0.6003974566718818,
          -0.4550592069568799,
          0.024033182599412138,
          0.8838170831120449,
          -0.3815550521370984,
          -1.1351702026828523,
          1.8944649799641564,
          0.294708748187957,
          0.21978311050099436,
          -0.07065302380242854,
          -0.07252968052331976,
          1.1144820614967048,
          0.606171730343062,
          -0.8731464829889949,
          -0.9310256218748634,
          -1.1793341276575884,
          -1.257519736482706,
          -1.7425979839917272,
          -0.9445804193991463,
          -1.7502567337064294,
          -1.4243514037650187,
          -0.4090315100280699,
          0.18554365411004087,
          1.5207346391246686,
          -1.3323522975428201,
          -1.0763732961923527,
          0.935426096415537,
          0.786447031400014,
          0.3251381994168318,
          0.4245928479689998,
          0.6172282965203385,
          2.616286334548319,
          0.35013172747915905,
          0.23072155751839604,
          0.1078120918737563,
          -0.6767857327332797,
          1.486845300668094,
          -0.22754332442045902,
          -0.37629874464913476,
          0.7463145320495523,
          -0.19467705150091513,
          -1.4154453380765688,
          1.3399136119262056,
          -1.5777643034446764,
          -0.27774725451621385,
          0.20185972252411266,
          0.9349122376858232,
          -1.9228425692134634,
          1.0046670938839755,
          -0.6508739922195852,
          0.4269958744781549,
          0.7736665220816002,
          -0.1679201401431736,
          -1.3158405857178361,
          -0.8227589415389568,
          2.332130548823311,
          -0.26318021389783985,
          -1.4971248638820622,
          0.3152560911248023,
          -0.21665547778357377,
          -1.0023809876326206,
          1.0562004740071824,
          0.5338261162974342,
          1.084603932148778,
          0.2935647195292971,
          0.28628110241537885,
          -1.1494679572805997,
          -0.25532087031031897,
          -0.35075476425964247,
          0.9497286053864785,
          0.2807308118655686,
          -0.4251098238132698,
          -1.0621446257664477,
          0.41931528695406345,
          -1.433797178077299,
          -0.8059425488799932
         ],
         "xaxis": "x5",
         "y": [
          -0.9217746063940998,
          -1.6822361723427532,
          -0.055572935761315195,
          -0.7350958966894335,
          -0.16312573884020234,
          0.26078513301011524,
          -1.6077194546656872,
          -0.16660545555158907,
          0.4702211267676788,
          -0.8160247909852378,
          0.07090561857130953,
          -0.512506611196169,
          0.7176328754936439,
          -0.5532917462243572,
          -0.8119234722216444,
          -1.1765423268753135,
          -1.12954248594935,
          -0.4149262245711078,
          -0.4253415826023585,
          0.8469921767949793,
          1.881699763566048,
          -0.25778150596466876,
          -0.13128008428078422,
          0.5004041084234315,
          -1.649491285150849,
          -0.5042162792070994,
          0.6218104662260018,
          -0.5987775790098924,
          1.4123907764913297,
          -1.5904079493683279,
          -0.17544539905896128,
          -0.26662817691141316,
          1.6537875958037962,
          0.47060178918033885,
          -1.0478398572685959,
          1.2458723160603526,
          0.3183776222101448,
          -0.34137069400463826,
          0.6268383693928805,
          -0.49492715859173325,
          1.7894001280490095,
          1.0923690990085906,
          -0.4426468257952904,
          -1.7570569105500355,
          -0.2975462515868482,
          -0.9903552540790408,
          -2.0298888359656786,
          0.20798858218719538,
          -0.19840303127725278,
          0.9591272839305035,
          -1.0280598843346984,
          -1.3992328031466221,
          0.1824738273519832,
          -0.6025895866492086,
          -0.9843279818631707,
          -1.8390232897687318,
          1.534352550556892,
          1.0097682622746742,
          -0.861460988903354,
          -1.1660932424398551,
          -0.3094667414878226,
          1.1390385211944523,
          0.7427373004453051,
          0.4325319033275298,
          -0.49157497264069144,
          -1.1332619048375008,
          1.1259775995666133,
          1.9633898033012296,
          -0.1707707527943106,
          -0.4707537511823286,
          0.293722238328297,
          -0.6637770134834158,
          0.1301936407996693,
          0.3317424608102532,
          -1.0087404003189793,
          1.5522849293264396,
          0.22765004510397707,
          0.5272387175192732,
          -1.2419532380663771,
          0.33703182748365773,
          -1.7943304931124409,
          1.9246712787355624,
          -0.23366511001055065,
          0.09530901830895594,
          -0.2594634402771084,
          -0.20051248855805656,
          0.5230413669385336,
          -0.5013104579418655,
          0.46862784928238493,
          -1.2320574972191813,
          1.2274744511742934,
          0.9056958647317631,
          0.6943233325625244,
          0.613944109383328,
          0.20386916943256914,
          -0.4326740892386687,
          -0.5777941644677652,
          1.2663919771320504,
          1.4677257199411882,
          -1.8332729500431604
         ],
         "yaxis": "y5"
        },
        {
         "histfunc": "count",
         "histnorm": "",
         "marker": {
          "color": "rgba(55, 128, 191, 1.0)",
          "line": {
           "color": "#4D5663",
           "width": 1.3
          }
         },
         "name": "B",
         "nbinsx": 10,
         "opacity": 0.8,
         "orientation": "v",
         "type": "histogram",
         "x": [
          -0.9217746063940998,
          -1.6822361723427532,
          -0.055572935761315195,
          -0.7350958966894335,
          -0.16312573884020234,
          0.26078513301011524,
          -1.6077194546656872,
          -0.16660545555158907,
          0.4702211267676788,
          -0.8160247909852378,
          0.07090561857130953,
          -0.512506611196169,
          0.7176328754936439,
          -0.5532917462243572,
          -0.8119234722216444,
          -1.1765423268753135,
          -1.12954248594935,
          -0.4149262245711078,
          -0.4253415826023585,
          0.8469921767949793,
          1.881699763566048,
          -0.25778150596466876,
          -0.13128008428078422,
          0.5004041084234315,
          -1.649491285150849,
          -0.5042162792070994,
          0.6218104662260018,
          -0.5987775790098924,
          1.4123907764913297,
          -1.5904079493683279,
          -0.17544539905896128,
          -0.26662817691141316,
          1.6537875958037962,
          0.47060178918033885,
          -1.0478398572685959,
          1.2458723160603526,
          0.3183776222101448,
          -0.34137069400463826,
          0.6268383693928805,
          -0.49492715859173325,
          1.7894001280490095,
          1.0923690990085906,
          -0.4426468257952904,
          -1.7570569105500355,
          -0.2975462515868482,
          -0.9903552540790408,
          -2.0298888359656786,
          0.20798858218719538,
          -0.19840303127725278,
          0.9591272839305035,
          -1.0280598843346984,
          -1.3992328031466221,
          0.1824738273519832,
          -0.6025895866492086,
          -0.9843279818631707,
          -1.8390232897687318,
          1.534352550556892,
          1.0097682622746742,
          -0.861460988903354,
          -1.1660932424398551,
          -0.3094667414878226,
          1.1390385211944523,
          0.7427373004453051,
          0.4325319033275298,
          -0.49157497264069144,
          -1.1332619048375008,
          1.1259775995666133,
          1.9633898033012296,
          -0.1707707527943106,
          -0.4707537511823286,
          0.293722238328297,
          -0.6637770134834158,
          0.1301936407996693,
          0.3317424608102532,
          -1.0087404003189793,
          1.5522849293264396,
          0.22765004510397707,
          0.5272387175192732,
          -1.2419532380663771,
          0.33703182748365773,
          -1.7943304931124409,
          1.9246712787355624,
          -0.23366511001055065,
          0.09530901830895594,
          -0.2594634402771084,
          -0.20051248855805656,
          0.5230413669385336,
          -0.5013104579418655,
          0.46862784928238493,
          -1.2320574972191813,
          1.2274744511742934,
          0.9056958647317631,
          0.6943233325625244,
          0.613944109383328,
          0.20386916943256914,
          -0.4326740892386687,
          -0.5777941644677652,
          1.2663919771320504,
          1.4677257199411882,
          -1.8332729500431604
         ],
         "xaxis": "x6",
         "yaxis": "y6"
        },
        {
         "line": {
          "color": "rgba(128, 128, 128, 1.0)",
          "dash": "solid",
          "shape": "linear",
          "width": 1.3
         },
         "marker": {
          "size": 2,
          "symbol": "circle"
         },
         "mode": "markers",
         "name": "B",
         "text": "",
         "type": "scatter",
         "x": [
          0.8273152785715431,
          2.592082609608652,
          1.3446371871912153,
          0.8504550879324595,
          1.4411075649619918,
          0.5897397057175384,
          1.4823375219325754,
          0.493545341242126,
          0.2277940736874258,
          0.26800571588185357,
          -0.35721758206893844,
          -0.5240919506759124,
          -0.998536527564416,
          -0.25250677074350025,
          0.34751354653457334,
          0.7319758834630521,
          0.8515431046657899,
          -0.5151755682976872,
          1.1034991243247498,
          -0.2514271267200668,
          0.11530430980968087,
          0.42783703065710466,
          -0.46493111644446494,
          -0.3697897261937152,
          0.5756817113457978,
          0.5590010846145865,
          0.7723509688301612,
          -0.3848689347948521,
          -0.03960165885586036,
          0.044185855710254546,
          -0.5140996425468439,
          0.13193354043914313,
          0.9187833900981137,
          1.484115372604817,
          0.18697754963781588,
          1.9497496515191346,
          -0.025593087049639886,
          0.19876252469269806,
          0.40681310501725126,
          1.5754598787831944,
          0.5434325141033527,
          -1.1639700750272357,
          -2.027499814689522,
          0.3774390179879476,
          0.07839364114765025,
          0.2099088012296653,
          -1.0098193100645472,
          -2.1968598817674136,
          -2.085850838972527,
          0.22237535775602632,
          1.410759157113143,
          0.7575898202084071,
          -0.379137771012906,
          0.05344419077288705,
          -0.39949566994663593,
          0.15032321148972558,
          -0.13006768244103997,
          -0.1104800512865253,
          0.14024177840245208,
          -0.11546794485658657,
          1.1370169489407962,
          1.6418440274751496,
          1.029633502483267,
          2.064768104260361,
          -1.4246738743908782,
          -1.1906028269960245,
          1.1195470807731074,
          0.24714600279234417,
          0.41050677418878273,
          -0.3044927976891417,
          -2.054946754679443,
          -0.7307213097989068,
          -0.8708435579846577,
          -1.1405779109930412,
          -1.3375884485723633,
          -0.8553922504340327,
          0.811982322687059,
          0.6504087801710815,
          0.22215904010631066,
          -1.4420307525037719,
          0.7506310074727195,
          1.3566616786070929,
          0.7461563731341896,
          -0.07648236873264547,
          0.022522698063428805,
          0.6937233126166052,
          -0.32415267449581314,
          0.1577868414126188,
          1.094604977544399,
          -0.7470298922393848,
          0.558516436318415,
          0.7339447070301272,
          0.32600844025502,
          0.7143208325728774,
          1.1930579479539156,
          -0.16489897476312007,
          -0.5023550910613268,
          0.8485020620346165,
          0.6152295906262166,
          -1.7710607238056244
         ],
         "xaxis": "x7",
         "y": [
          -0.9217746063940998,
          -1.6822361723427532,
          -0.055572935761315195,
          -0.7350958966894335,
          -0.16312573884020234,
          0.26078513301011524,
          -1.6077194546656872,
          -0.16660545555158907,
          0.4702211267676788,
          -0.8160247909852378,
          0.07090561857130953,
          -0.512506611196169,
          0.7176328754936439,
          -0.5532917462243572,
          -0.8119234722216444,
          -1.1765423268753135,
          -1.12954248594935,
          -0.4149262245711078,
          -0.4253415826023585,
          0.8469921767949793,
          1.881699763566048,
          -0.25778150596466876,
          -0.13128008428078422,
          0.5004041084234315,
          -1.649491285150849,
          -0.5042162792070994,
          0.6218104662260018,
          -0.5987775790098924,
          1.4123907764913297,
          -1.5904079493683279,
          -0.17544539905896128,
          -0.26662817691141316,
          1.6537875958037962,
          0.47060178918033885,
          -1.0478398572685959,
          1.2458723160603526,
          0.3183776222101448,
          -0.34137069400463826,
          0.6268383693928805,
          -0.49492715859173325,
          1.7894001280490095,
          1.0923690990085906,
          -0.4426468257952904,
          -1.7570569105500355,
          -0.2975462515868482,
          -0.9903552540790408,
          -2.0298888359656786,
          0.20798858218719538,
          -0.19840303127725278,
          0.9591272839305035,
          -1.0280598843346984,
          -1.3992328031466221,
          0.1824738273519832,
          -0.6025895866492086,
          -0.9843279818631707,
          -1.8390232897687318,
          1.534352550556892,
          1.0097682622746742,
          -0.861460988903354,
          -1.1660932424398551,
          -0.3094667414878226,
          1.1390385211944523,
          0.7427373004453051,
          0.4325319033275298,
          -0.49157497264069144,
          -1.1332619048375008,
          1.1259775995666133,
          1.9633898033012296,
          -0.1707707527943106,
          -0.4707537511823286,
          0.293722238328297,
          -0.6637770134834158,
          0.1301936407996693,
          0.3317424608102532,
          -1.0087404003189793,
          1.5522849293264396,
          0.22765004510397707,
          0.5272387175192732,
          -1.2419532380663771,
          0.33703182748365773,
          -1.7943304931124409,
          1.9246712787355624,
          -0.23366511001055065,
          0.09530901830895594,
          -0.2594634402771084,
          -0.20051248855805656,
          0.5230413669385336,
          -0.5013104579418655,
          0.46862784928238493,
          -1.2320574972191813,
          1.2274744511742934,
          0.9056958647317631,
          0.6943233325625244,
          0.613944109383328,
          0.20386916943256914,
          -0.4326740892386687,
          -0.5777941644677652,
          1.2663919771320504,
          1.4677257199411882,
          -1.8332729500431604
         ],
         "yaxis": "y7"
        },
        {
         "line": {
          "color": "rgba(128, 128, 128, 1.0)",
          "dash": "solid",
          "shape": "linear",
          "width": 1.3
         },
         "marker": {
          "size": 2,
          "symbol": "circle"
         },
         "mode": "markers",
         "name": "B",
         "text": "",
         "type": "scatter",
         "x": [
          0.1639515482012815,
          1.8912813739797474,
          0.130753561918199,
          -2.462473908106972,
          -0.6603998166821248,
          1.9977377081442942,
          -1.0129093630599486,
          0.7921290056316523,
          -0.5664348156991554,
          -0.7249453745242685,
          -1.316613740020055,
          -0.6912569883984678,
          -1.240988387334244,
          -0.5210705358852363,
          0.09427243247393506,
          0.23596339084549361,
          0.39613978935162286,
          -0.5036875231146357,
          -1.4879042015174808,
          2.008266172048622,
          -0.9267001478713117,
          0.8886469782275257,
          -0.013999911406236168,
          0.18162473087366604,
          -0.05355539919631981,
          0.8512041291095764,
          1.4188904241052764,
          2.0261909174276163,
          -0.7659204731984209,
          -1.0137288460711575,
          -0.11314826507733342,
          -0.006556842213361446,
          -1.4145634914480307,
          -0.04656715573464401,
          0.11464370009805469,
          1.077154835460711,
          -0.6558996673933815,
          1.6004297267147591,
          1.1560180690378152,
          -1.1020980479547866,
          -0.29695874751007373,
          -2.3171441457140984,
          -0.6845246028821502,
          0.44585404969474557,
          0.023595686585148427,
          0.8643865790452707,
          0.6314911651454947,
          1.2575699668623646,
          0.04729427854654969,
          0.5259727805936953,
          0.619317035851485,
          -0.1106898572460105,
          -1.1664952254834136,
          0.21837344055509192,
          1.7268542929393982,
          1.1910080253594584,
          -0.03371678760423379,
          0.7484607684771561,
          1.7097535689505192,
          1.6719306216288725,
          0.17375769926297524,
          0.37715327609221455,
          -0.5887231780567602,
          -0.09935263687710601,
          0.27712225162381837,
          -0.8609743885728103,
          0.4279101952965506,
          0.3007884188375812,
          0.34063671029127696,
          0.10538779020884839,
          -0.30028901730662577,
          1.0019587248375998,
          0.1832065798821189,
          -1.4554640798274099,
          2.9912213268678367,
          1.6829095016685827,
          -0.6230371284787307,
          0.7837134148587172,
          -0.0842101697097363,
          0.7455313961820127,
          -1.612400798498298,
          -0.3221942083634528,
          -1.2099618162593822,
          -0.35263267466788234,
          0.6164369788445613,
          -0.13032311478530598,
          -1.8835020613120474,
          1.157435009222289,
          0.9121473121955195,
          1.2473321030756332,
          -0.7666362855181403,
          0.7432402678061955,
          0.344599844220491,
          0.6452809496473196,
          0.831922075508615,
          -0.6315196967878742,
          0.21774047700345495,
          -0.04705120336250258,
          -0.2739043016194293,
          0.3032166418279464
         ],
         "xaxis": "x8",
         "y": [
          -0.9217746063940998,
          -1.6822361723427532,
          -0.055572935761315195,
          -0.7350958966894335,
          -0.16312573884020234,
          0.26078513301011524,
          -1.6077194546656872,
          -0.16660545555158907,
          0.4702211267676788,
          -0.8160247909852378,
          0.07090561857130953,
          -0.512506611196169,
          0.7176328754936439,
          -0.5532917462243572,
          -0.8119234722216444,
          -1.1765423268753135,
          -1.12954248594935,
          -0.4149262245711078,
          -0.4253415826023585,
          0.8469921767949793,
          1.881699763566048,
          -0.25778150596466876,
          -0.13128008428078422,
          0.5004041084234315,
          -1.649491285150849,
          -0.5042162792070994,
          0.6218104662260018,
          -0.5987775790098924,
          1.4123907764913297,
          -1.5904079493683279,
          -0.17544539905896128,
          -0.26662817691141316,
          1.6537875958037962,
          0.47060178918033885,
          -1.0478398572685959,
          1.2458723160603526,
          0.3183776222101448,
          -0.34137069400463826,
          0.6268383693928805,
          -0.49492715859173325,
          1.7894001280490095,
          1.0923690990085906,
          -0.4426468257952904,
          -1.7570569105500355,
          -0.2975462515868482,
          -0.9903552540790408,
          -2.0298888359656786,
          0.20798858218719538,
          -0.19840303127725278,
          0.9591272839305035,
          -1.0280598843346984,
          -1.3992328031466221,
          0.1824738273519832,
          -0.6025895866492086,
          -0.9843279818631707,
          -1.8390232897687318,
          1.534352550556892,
          1.0097682622746742,
          -0.861460988903354,
          -1.1660932424398551,
          -0.3094667414878226,
          1.1390385211944523,
          0.7427373004453051,
          0.4325319033275298,
          -0.49157497264069144,
          -1.1332619048375008,
          1.1259775995666133,
          1.9633898033012296,
          -0.1707707527943106,
          -0.4707537511823286,
          0.293722238328297,
          -0.6637770134834158,
          0.1301936407996693,
          0.3317424608102532,
          -1.0087404003189793,
          1.5522849293264396,
          0.22765004510397707,
          0.5272387175192732,
          -1.2419532380663771,
          0.33703182748365773,
          -1.7943304931124409,
          1.9246712787355624,
          -0.23366511001055065,
          0.09530901830895594,
          -0.2594634402771084,
          -0.20051248855805656,
          0.5230413669385336,
          -0.5013104579418655,
          0.46862784928238493,
          -1.2320574972191813,
          1.2274744511742934,
          0.9056958647317631,
          0.6943233325625244,
          0.613944109383328,
          0.20386916943256914,
          -0.4326740892386687,
          -0.5777941644677652,
          1.2663919771320504,
          1.4677257199411882,
          -1.8332729500431604
         ],
         "yaxis": "y8"
        },
        {
         "line": {
          "color": "rgba(128, 128, 128, 1.0)",
          "dash": "solid",
          "shape": "linear",
          "width": 1.3
         },
         "marker": {
          "size": 2,
          "symbol": "circle"
         },
         "mode": "markers",
         "name": "C",
         "text": "",
         "type": "scatter",
         "x": [
          0.35989448670498325,
          -0.4592246745596689,
          1.1469340676932693,
          0.011457522595807158,
          -1.325225593039427,
          0.6814113631472483,
          -0.6786363701384942,
          1.0437656967750097,
          -0.47746466288488,
          0.8125037672312054,
          -0.47404658256936544,
          1.2031540729757069,
          1.4635324716319182,
          0.06280967604194186,
          -1.3846713229533583,
          0.857625982236854,
          0.5068595009022173,
          0.5580764208978222,
          0.7283816078799463,
          1.6679793441485444,
          0.5494052825729143,
          2.179905991957352,
          0.6687883289057667,
          -0.3900788675173005,
          0.6003974566718818,
          -0.4550592069568799,
          0.024033182599412138,
          0.8838170831120449,
          -0.3815550521370984,
          -1.1351702026828523,
          1.8944649799641564,
          0.294708748187957,
          0.21978311050099436,
          -0.07065302380242854,
          -0.07252968052331976,
          1.1144820614967048,
          0.606171730343062,
          -0.8731464829889949,
          -0.9310256218748634,
          -1.1793341276575884,
          -1.257519736482706,
          -1.7425979839917272,
          -0.9445804193991463,
          -1.7502567337064294,
          -1.4243514037650187,
          -0.4090315100280699,
          0.18554365411004087,
          1.5207346391246686,
          -1.3323522975428201,
          -1.0763732961923527,
          0.935426096415537,
          0.786447031400014,
          0.3251381994168318,
          0.4245928479689998,
          0.6172282965203385,
          2.616286334548319,
          0.35013172747915905,
          0.23072155751839604,
          0.1078120918737563,
          -0.6767857327332797,
          1.486845300668094,
          -0.22754332442045902,
          -0.37629874464913476,
          0.7463145320495523,
          -0.19467705150091513,
          -1.4154453380765688,
          1.3399136119262056,
          -1.5777643034446764,
          -0.27774725451621385,
          0.20185972252411266,
          0.9349122376858232,
          -1.9228425692134634,
          1.0046670938839755,
          -0.6508739922195852,
          0.4269958744781549,
          0.7736665220816002,
          -0.1679201401431736,
          -1.3158405857178361,
          -0.8227589415389568,
          2.332130548823311,
          -0.26318021389783985,
          -1.4971248638820622,
          0.3152560911248023,
          -0.21665547778357377,
          -1.0023809876326206,
          1.0562004740071824,
          0.5338261162974342,
          1.084603932148778,
          0.2935647195292971,
          0.28628110241537885,
          -1.1494679572805997,
          -0.25532087031031897,
          -0.35075476425964247,
          0.9497286053864785,
          0.2807308118655686,
          -0.4251098238132698,
          -1.0621446257664477,
          0.41931528695406345,
          -1.433797178077299,
          -0.8059425488799932
         ],
         "xaxis": "x9",
         "y": [
          0.8273152785715431,
          2.592082609608652,
          1.3446371871912153,
          0.8504550879324595,
          1.4411075649619918,
          0.5897397057175384,
          1.4823375219325754,
          0.493545341242126,
          0.2277940736874258,
          0.26800571588185357,
          -0.35721758206893844,
          -0.5240919506759124,
          -0.998536527564416,
          -0.25250677074350025,
          0.34751354653457334,
          0.7319758834630521,
          0.8515431046657899,
          -0.5151755682976872,
          1.1034991243247498,
          -0.2514271267200668,
          0.11530430980968087,
          0.42783703065710466,
          -0.46493111644446494,
          -0.3697897261937152,
          0.5756817113457978,
          0.5590010846145865,
          0.7723509688301612,
          -0.3848689347948521,
          -0.03960165885586036,
          0.044185855710254546,
          -0.5140996425468439,
          0.13193354043914313,
          0.9187833900981137,
          1.484115372604817,
          0.18697754963781588,
          1.9497496515191346,
          -0.025593087049639886,
          0.19876252469269806,
          0.40681310501725126,
          1.5754598787831944,
          0.5434325141033527,
          -1.1639700750272357,
          -2.027499814689522,
          0.3774390179879476,
          0.07839364114765025,
          0.2099088012296653,
          -1.0098193100645472,
          -2.1968598817674136,
          -2.085850838972527,
          0.22237535775602632,
          1.410759157113143,
          0.7575898202084071,
          -0.379137771012906,
          0.05344419077288705,
          -0.39949566994663593,
          0.15032321148972558,
          -0.13006768244103997,
          -0.1104800512865253,
          0.14024177840245208,
          -0.11546794485658657,
          1.1370169489407962,
          1.6418440274751496,
          1.029633502483267,
          2.064768104260361,
          -1.4246738743908782,
          -1.1906028269960245,
          1.1195470807731074,
          0.24714600279234417,
          0.41050677418878273,
          -0.3044927976891417,
          -2.054946754679443,
          -0.7307213097989068,
          -0.8708435579846577,
          -1.1405779109930412,
          -1.3375884485723633,
          -0.8553922504340327,
          0.811982322687059,
          0.6504087801710815,
          0.22215904010631066,
          -1.4420307525037719,
          0.7506310074727195,
          1.3566616786070929,
          0.7461563731341896,
          -0.07648236873264547,
          0.022522698063428805,
          0.6937233126166052,
          -0.32415267449581314,
          0.1577868414126188,
          1.094604977544399,
          -0.7470298922393848,
          0.558516436318415,
          0.7339447070301272,
          0.32600844025502,
          0.7143208325728774,
          1.1930579479539156,
          -0.16489897476312007,
          -0.5023550910613268,
          0.8485020620346165,
          0.6152295906262166,
          -1.7710607238056244
         ],
         "yaxis": "y9"
        },
        {
         "line": {
          "color": "rgba(128, 128, 128, 1.0)",
          "dash": "solid",
          "shape": "linear",
          "width": 1.3
         },
         "marker": {
          "size": 2,
          "symbol": "circle"
         },
         "mode": "markers",
         "name": "C",
         "text": "",
         "type": "scatter",
         "x": [
          -0.9217746063940998,
          -1.6822361723427532,
          -0.055572935761315195,
          -0.7350958966894335,
          -0.16312573884020234,
          0.26078513301011524,
          -1.6077194546656872,
          -0.16660545555158907,
          0.4702211267676788,
          -0.8160247909852378,
          0.07090561857130953,
          -0.512506611196169,
          0.7176328754936439,
          -0.5532917462243572,
          -0.8119234722216444,
          -1.1765423268753135,
          -1.12954248594935,
          -0.4149262245711078,
          -0.4253415826023585,
          0.8469921767949793,
          1.881699763566048,
          -0.25778150596466876,
          -0.13128008428078422,
          0.5004041084234315,
          -1.649491285150849,
          -0.5042162792070994,
          0.6218104662260018,
          -0.5987775790098924,
          1.4123907764913297,
          -1.5904079493683279,
          -0.17544539905896128,
          -0.26662817691141316,
          1.6537875958037962,
          0.47060178918033885,
          -1.0478398572685959,
          1.2458723160603526,
          0.3183776222101448,
          -0.34137069400463826,
          0.6268383693928805,
          -0.49492715859173325,
          1.7894001280490095,
          1.0923690990085906,
          -0.4426468257952904,
          -1.7570569105500355,
          -0.2975462515868482,
          -0.9903552540790408,
          -2.0298888359656786,
          0.20798858218719538,
          -0.19840303127725278,
          0.9591272839305035,
          -1.0280598843346984,
          -1.3992328031466221,
          0.1824738273519832,
          -0.6025895866492086,
          -0.9843279818631707,
          -1.8390232897687318,
          1.534352550556892,
          1.0097682622746742,
          -0.861460988903354,
          -1.1660932424398551,
          -0.3094667414878226,
          1.1390385211944523,
          0.7427373004453051,
          0.4325319033275298,
          -0.49157497264069144,
          -1.1332619048375008,
          1.1259775995666133,
          1.9633898033012296,
          -0.1707707527943106,
          -0.4707537511823286,
          0.293722238328297,
          -0.6637770134834158,
          0.1301936407996693,
          0.3317424608102532,
          -1.0087404003189793,
          1.5522849293264396,
          0.22765004510397707,
          0.5272387175192732,
          -1.2419532380663771,
          0.33703182748365773,
          -1.7943304931124409,
          1.9246712787355624,
          -0.23366511001055065,
          0.09530901830895594,
          -0.2594634402771084,
          -0.20051248855805656,
          0.5230413669385336,
          -0.5013104579418655,
          0.46862784928238493,
          -1.2320574972191813,
          1.2274744511742934,
          0.9056958647317631,
          0.6943233325625244,
          0.613944109383328,
          0.20386916943256914,
          -0.4326740892386687,
          -0.5777941644677652,
          1.2663919771320504,
          1.4677257199411882,
          -1.8332729500431604
         ],
         "xaxis": "x10",
         "y": [
          0.8273152785715431,
          2.592082609608652,
          1.3446371871912153,
          0.8504550879324595,
          1.4411075649619918,
          0.5897397057175384,
          1.4823375219325754,
          0.493545341242126,
          0.2277940736874258,
          0.26800571588185357,
          -0.35721758206893844,
          -0.5240919506759124,
          -0.998536527564416,
          -0.25250677074350025,
          0.34751354653457334,
          0.7319758834630521,
          0.8515431046657899,
          -0.5151755682976872,
          1.1034991243247498,
          -0.2514271267200668,
          0.11530430980968087,
          0.42783703065710466,
          -0.46493111644446494,
          -0.3697897261937152,
          0.5756817113457978,
          0.5590010846145865,
          0.7723509688301612,
          -0.3848689347948521,
          -0.03960165885586036,
          0.044185855710254546,
          -0.5140996425468439,
          0.13193354043914313,
          0.9187833900981137,
          1.484115372604817,
          0.18697754963781588,
          1.9497496515191346,
          -0.025593087049639886,
          0.19876252469269806,
          0.40681310501725126,
          1.5754598787831944,
          0.5434325141033527,
          -1.1639700750272357,
          -2.027499814689522,
          0.3774390179879476,
          0.07839364114765025,
          0.2099088012296653,
          -1.0098193100645472,
          -2.1968598817674136,
          -2.085850838972527,
          0.22237535775602632,
          1.410759157113143,
          0.7575898202084071,
          -0.379137771012906,
          0.05344419077288705,
          -0.39949566994663593,
          0.15032321148972558,
          -0.13006768244103997,
          -0.1104800512865253,
          0.14024177840245208,
          -0.11546794485658657,
          1.1370169489407962,
          1.6418440274751496,
          1.029633502483267,
          2.064768104260361,
          -1.4246738743908782,
          -1.1906028269960245,
          1.1195470807731074,
          0.24714600279234417,
          0.41050677418878273,
          -0.3044927976891417,
          -2.054946754679443,
          -0.7307213097989068,
          -0.8708435579846577,
          -1.1405779109930412,
          -1.3375884485723633,
          -0.8553922504340327,
          0.811982322687059,
          0.6504087801710815,
          0.22215904010631066,
          -1.4420307525037719,
          0.7506310074727195,
          1.3566616786070929,
          0.7461563731341896,
          -0.07648236873264547,
          0.022522698063428805,
          0.6937233126166052,
          -0.32415267449581314,
          0.1577868414126188,
          1.094604977544399,
          -0.7470298922393848,
          0.558516436318415,
          0.7339447070301272,
          0.32600844025502,
          0.7143208325728774,
          1.1930579479539156,
          -0.16489897476312007,
          -0.5023550910613268,
          0.8485020620346165,
          0.6152295906262166,
          -1.7710607238056244
         ],
         "yaxis": "y10"
        },
        {
         "histfunc": "count",
         "histnorm": "",
         "marker": {
          "color": "rgba(50, 171, 96, 1.0)",
          "line": {
           "color": "#4D5663",
           "width": 1.3
          }
         },
         "name": "C",
         "nbinsx": 10,
         "opacity": 0.8,
         "orientation": "v",
         "type": "histogram",
         "x": [
          0.8273152785715431,
          2.592082609608652,
          1.3446371871912153,
          0.8504550879324595,
          1.4411075649619918,
          0.5897397057175384,
          1.4823375219325754,
          0.493545341242126,
          0.2277940736874258,
          0.26800571588185357,
          -0.35721758206893844,
          -0.5240919506759124,
          -0.998536527564416,
          -0.25250677074350025,
          0.34751354653457334,
          0.7319758834630521,
          0.8515431046657899,
          -0.5151755682976872,
          1.1034991243247498,
          -0.2514271267200668,
          0.11530430980968087,
          0.42783703065710466,
          -0.46493111644446494,
          -0.3697897261937152,
          0.5756817113457978,
          0.5590010846145865,
          0.7723509688301612,
          -0.3848689347948521,
          -0.03960165885586036,
          0.044185855710254546,
          -0.5140996425468439,
          0.13193354043914313,
          0.9187833900981137,
          1.484115372604817,
          0.18697754963781588,
          1.9497496515191346,
          -0.025593087049639886,
          0.19876252469269806,
          0.40681310501725126,
          1.5754598787831944,
          0.5434325141033527,
          -1.1639700750272357,
          -2.027499814689522,
          0.3774390179879476,
          0.07839364114765025,
          0.2099088012296653,
          -1.0098193100645472,
          -2.1968598817674136,
          -2.085850838972527,
          0.22237535775602632,
          1.410759157113143,
          0.7575898202084071,
          -0.379137771012906,
          0.05344419077288705,
          -0.39949566994663593,
          0.15032321148972558,
          -0.13006768244103997,
          -0.1104800512865253,
          0.14024177840245208,
          -0.11546794485658657,
          1.1370169489407962,
          1.6418440274751496,
          1.029633502483267,
          2.064768104260361,
          -1.4246738743908782,
          -1.1906028269960245,
          1.1195470807731074,
          0.24714600279234417,
          0.41050677418878273,
          -0.3044927976891417,
          -2.054946754679443,
          -0.7307213097989068,
          -0.8708435579846577,
          -1.1405779109930412,
          -1.3375884485723633,
          -0.8553922504340327,
          0.811982322687059,
          0.6504087801710815,
          0.22215904010631066,
          -1.4420307525037719,
          0.7506310074727195,
          1.3566616786070929,
          0.7461563731341896,
          -0.07648236873264547,
          0.022522698063428805,
          0.6937233126166052,
          -0.32415267449581314,
          0.1577868414126188,
          1.094604977544399,
          -0.7470298922393848,
          0.558516436318415,
          0.7339447070301272,
          0.32600844025502,
          0.7143208325728774,
          1.1930579479539156,
          -0.16489897476312007,
          -0.5023550910613268,
          0.8485020620346165,
          0.6152295906262166,
          -1.7710607238056244
         ],
         "xaxis": "x11",
         "yaxis": "y11"
        },
        {
         "line": {
          "color": "rgba(128, 128, 128, 1.0)",
          "dash": "solid",
          "shape": "linear",
          "width": 1.3
         },
         "marker": {
          "size": 2,
          "symbol": "circle"
         },
         "mode": "markers",
         "name": "C",
         "text": "",
         "type": "scatter",
         "x": [
          0.1639515482012815,
          1.8912813739797474,
          0.130753561918199,
          -2.462473908106972,
          -0.6603998166821248,
          1.9977377081442942,
          -1.0129093630599486,
          0.7921290056316523,
          -0.5664348156991554,
          -0.7249453745242685,
          -1.316613740020055,
          -0.6912569883984678,
          -1.240988387334244,
          -0.5210705358852363,
          0.09427243247393506,
          0.23596339084549361,
          0.39613978935162286,
          -0.5036875231146357,
          -1.4879042015174808,
          2.008266172048622,
          -0.9267001478713117,
          0.8886469782275257,
          -0.013999911406236168,
          0.18162473087366604,
          -0.05355539919631981,
          0.8512041291095764,
          1.4188904241052764,
          2.0261909174276163,
          -0.7659204731984209,
          -1.0137288460711575,
          -0.11314826507733342,
          -0.006556842213361446,
          -1.4145634914480307,
          -0.04656715573464401,
          0.11464370009805469,
          1.077154835460711,
          -0.6558996673933815,
          1.6004297267147591,
          1.1560180690378152,
          -1.1020980479547866,
          -0.29695874751007373,
          -2.3171441457140984,
          -0.6845246028821502,
          0.44585404969474557,
          0.023595686585148427,
          0.8643865790452707,
          0.6314911651454947,
          1.2575699668623646,
          0.04729427854654969,
          0.5259727805936953,
          0.619317035851485,
          -0.1106898572460105,
          -1.1664952254834136,
          0.21837344055509192,
          1.7268542929393982,
          1.1910080253594584,
          -0.03371678760423379,
          0.7484607684771561,
          1.7097535689505192,
          1.6719306216288725,
          0.17375769926297524,
          0.37715327609221455,
          -0.5887231780567602,
          -0.09935263687710601,
          0.27712225162381837,
          -0.8609743885728103,
          0.4279101952965506,
          0.3007884188375812,
          0.34063671029127696,
          0.10538779020884839,
          -0.30028901730662577,
          1.0019587248375998,
          0.1832065798821189,
          -1.4554640798274099,
          2.9912213268678367,
          1.6829095016685827,
          -0.6230371284787307,
          0.7837134148587172,
          -0.0842101697097363,
          0.7455313961820127,
          -1.612400798498298,
          -0.3221942083634528,
          -1.2099618162593822,
          -0.35263267466788234,
          0.6164369788445613,
          -0.13032311478530598,
          -1.8835020613120474,
          1.157435009222289,
          0.9121473121955195,
          1.2473321030756332,
          -0.7666362855181403,
          0.7432402678061955,
          0.344599844220491,
          0.6452809496473196,
          0.831922075508615,
          -0.6315196967878742,
          0.21774047700345495,
          -0.04705120336250258,
          -0.2739043016194293,
          0.3032166418279464
         ],
         "xaxis": "x12",
         "y": [
          0.8273152785715431,
          2.592082609608652,
          1.3446371871912153,
          0.8504550879324595,
          1.4411075649619918,
          0.5897397057175384,
          1.4823375219325754,
          0.493545341242126,
          0.2277940736874258,
          0.26800571588185357,
          -0.35721758206893844,
          -0.5240919506759124,
          -0.998536527564416,
          -0.25250677074350025,
          0.34751354653457334,
          0.7319758834630521,
          0.8515431046657899,
          -0.5151755682976872,
          1.1034991243247498,
          -0.2514271267200668,
          0.11530430980968087,
          0.42783703065710466,
          -0.46493111644446494,
          -0.3697897261937152,
          0.5756817113457978,
          0.5590010846145865,
          0.7723509688301612,
          -0.3848689347948521,
          -0.03960165885586036,
          0.044185855710254546,
          -0.5140996425468439,
          0.13193354043914313,
          0.9187833900981137,
          1.484115372604817,
          0.18697754963781588,
          1.9497496515191346,
          -0.025593087049639886,
          0.19876252469269806,
          0.40681310501725126,
          1.5754598787831944,
          0.5434325141033527,
          -1.1639700750272357,
          -2.027499814689522,
          0.3774390179879476,
          0.07839364114765025,
          0.2099088012296653,
          -1.0098193100645472,
          -2.1968598817674136,
          -2.085850838972527,
          0.22237535775602632,
          1.410759157113143,
          0.7575898202084071,
          -0.379137771012906,
          0.05344419077288705,
          -0.39949566994663593,
          0.15032321148972558,
          -0.13006768244103997,
          -0.1104800512865253,
          0.14024177840245208,
          -0.11546794485658657,
          1.1370169489407962,
          1.6418440274751496,
          1.029633502483267,
          2.064768104260361,
          -1.4246738743908782,
          -1.1906028269960245,
          1.1195470807731074,
          0.24714600279234417,
          0.41050677418878273,
          -0.3044927976891417,
          -2.054946754679443,
          -0.7307213097989068,
          -0.8708435579846577,
          -1.1405779109930412,
          -1.3375884485723633,
          -0.8553922504340327,
          0.811982322687059,
          0.6504087801710815,
          0.22215904010631066,
          -1.4420307525037719,
          0.7506310074727195,
          1.3566616786070929,
          0.7461563731341896,
          -0.07648236873264547,
          0.022522698063428805,
          0.6937233126166052,
          -0.32415267449581314,
          0.1577868414126188,
          1.094604977544399,
          -0.7470298922393848,
          0.558516436318415,
          0.7339447070301272,
          0.32600844025502,
          0.7143208325728774,
          1.1930579479539156,
          -0.16489897476312007,
          -0.5023550910613268,
          0.8485020620346165,
          0.6152295906262166,
          -1.7710607238056244
         ],
         "yaxis": "y12"
        },
        {
         "line": {
          "color": "rgba(128, 128, 128, 1.0)",
          "dash": "solid",
          "shape": "linear",
          "width": 1.3
         },
         "marker": {
          "size": 2,
          "symbol": "circle"
         },
         "mode": "markers",
         "name": "D",
         "text": "",
         "type": "scatter",
         "x": [
          0.35989448670498325,
          -0.4592246745596689,
          1.1469340676932693,
          0.011457522595807158,
          -1.325225593039427,
          0.6814113631472483,
          -0.6786363701384942,
          1.0437656967750097,
          -0.47746466288488,
          0.8125037672312054,
          -0.47404658256936544,
          1.2031540729757069,
          1.4635324716319182,
          0.06280967604194186,
          -1.3846713229533583,
          0.857625982236854,
          0.5068595009022173,
          0.5580764208978222,
          0.7283816078799463,
          1.6679793441485444,
          0.5494052825729143,
          2.179905991957352,
          0.6687883289057667,
          -0.3900788675173005,
          0.6003974566718818,
          -0.4550592069568799,
          0.024033182599412138,
          0.8838170831120449,
          -0.3815550521370984,
          -1.1351702026828523,
          1.8944649799641564,
          0.294708748187957,
          0.21978311050099436,
          -0.07065302380242854,
          -0.07252968052331976,
          1.1144820614967048,
          0.606171730343062,
          -0.8731464829889949,
          -0.9310256218748634,
          -1.1793341276575884,
          -1.257519736482706,
          -1.7425979839917272,
          -0.9445804193991463,
          -1.7502567337064294,
          -1.4243514037650187,
          -0.4090315100280699,
          0.18554365411004087,
          1.5207346391246686,
          -1.3323522975428201,
          -1.0763732961923527,
          0.935426096415537,
          0.786447031400014,
          0.3251381994168318,
          0.4245928479689998,
          0.6172282965203385,
          2.616286334548319,
          0.35013172747915905,
          0.23072155751839604,
          0.1078120918737563,
          -0.6767857327332797,
          1.486845300668094,
          -0.22754332442045902,
          -0.37629874464913476,
          0.7463145320495523,
          -0.19467705150091513,
          -1.4154453380765688,
          1.3399136119262056,
          -1.5777643034446764,
          -0.27774725451621385,
          0.20185972252411266,
          0.9349122376858232,
          -1.9228425692134634,
          1.0046670938839755,
          -0.6508739922195852,
          0.4269958744781549,
          0.7736665220816002,
          -0.1679201401431736,
          -1.3158405857178361,
          -0.8227589415389568,
          2.332130548823311,
          -0.26318021389783985,
          -1.4971248638820622,
          0.3152560911248023,
          -0.21665547778357377,
          -1.0023809876326206,
          1.0562004740071824,
          0.5338261162974342,
          1.084603932148778,
          0.2935647195292971,
          0.28628110241537885,
          -1.1494679572805997,
          -0.25532087031031897,
          -0.35075476425964247,
          0.9497286053864785,
          0.2807308118655686,
          -0.4251098238132698,
          -1.0621446257664477,
          0.41931528695406345,
          -1.433797178077299,
          -0.8059425488799932
         ],
         "xaxis": "x13",
         "y": [
          0.1639515482012815,
          1.8912813739797474,
          0.130753561918199,
          -2.462473908106972,
          -0.6603998166821248,
          1.9977377081442942,
          -1.0129093630599486,
          0.7921290056316523,
          -0.5664348156991554,
          -0.7249453745242685,
          -1.316613740020055,
          -0.6912569883984678,
          -1.240988387334244,
          -0.5210705358852363,
          0.09427243247393506,
          0.23596339084549361,
          0.39613978935162286,
          -0.5036875231146357,
          -1.4879042015174808,
          2.008266172048622,
          -0.9267001478713117,
          0.8886469782275257,
          -0.013999911406236168,
          0.18162473087366604,
          -0.05355539919631981,
          0.8512041291095764,
          1.4188904241052764,
          2.0261909174276163,
          -0.7659204731984209,
          -1.0137288460711575,
          -0.11314826507733342,
          -0.006556842213361446,
          -1.4145634914480307,
          -0.04656715573464401,
          0.11464370009805469,
          1.077154835460711,
          -0.6558996673933815,
          1.6004297267147591,
          1.1560180690378152,
          -1.1020980479547866,
          -0.29695874751007373,
          -2.3171441457140984,
          -0.6845246028821502,
          0.44585404969474557,
          0.023595686585148427,
          0.8643865790452707,
          0.6314911651454947,
          1.2575699668623646,
          0.04729427854654969,
          0.5259727805936953,
          0.619317035851485,
          -0.1106898572460105,
          -1.1664952254834136,
          0.21837344055509192,
          1.7268542929393982,
          1.1910080253594584,
          -0.03371678760423379,
          0.7484607684771561,
          1.7097535689505192,
          1.6719306216288725,
          0.17375769926297524,
          0.37715327609221455,
          -0.5887231780567602,
          -0.09935263687710601,
          0.27712225162381837,
          -0.8609743885728103,
          0.4279101952965506,
          0.3007884188375812,
          0.34063671029127696,
          0.10538779020884839,
          -0.30028901730662577,
          1.0019587248375998,
          0.1832065798821189,
          -1.4554640798274099,
          2.9912213268678367,
          1.6829095016685827,
          -0.6230371284787307,
          0.7837134148587172,
          -0.0842101697097363,
          0.7455313961820127,
          -1.612400798498298,
          -0.3221942083634528,
          -1.2099618162593822,
          -0.35263267466788234,
          0.6164369788445613,
          -0.13032311478530598,
          -1.8835020613120474,
          1.157435009222289,
          0.9121473121955195,
          1.2473321030756332,
          -0.7666362855181403,
          0.7432402678061955,
          0.344599844220491,
          0.6452809496473196,
          0.831922075508615,
          -0.6315196967878742,
          0.21774047700345495,
          -0.04705120336250258,
          -0.2739043016194293,
          0.3032166418279464
         ],
         "yaxis": "y13"
        },
        {
         "line": {
          "color": "rgba(128, 128, 128, 1.0)",
          "dash": "solid",
          "shape": "linear",
          "width": 1.3
         },
         "marker": {
          "size": 2,
          "symbol": "circle"
         },
         "mode": "markers",
         "name": "D",
         "text": "",
         "type": "scatter",
         "x": [
          -0.9217746063940998,
          -1.6822361723427532,
          -0.055572935761315195,
          -0.7350958966894335,
          -0.16312573884020234,
          0.26078513301011524,
          -1.6077194546656872,
          -0.16660545555158907,
          0.4702211267676788,
          -0.8160247909852378,
          0.07090561857130953,
          -0.512506611196169,
          0.7176328754936439,
          -0.5532917462243572,
          -0.8119234722216444,
          -1.1765423268753135,
          -1.12954248594935,
          -0.4149262245711078,
          -0.4253415826023585,
          0.8469921767949793,
          1.881699763566048,
          -0.25778150596466876,
          -0.13128008428078422,
          0.5004041084234315,
          -1.649491285150849,
          -0.5042162792070994,
          0.6218104662260018,
          -0.5987775790098924,
          1.4123907764913297,
          -1.5904079493683279,
          -0.17544539905896128,
          -0.26662817691141316,
          1.6537875958037962,
          0.47060178918033885,
          -1.0478398572685959,
          1.2458723160603526,
          0.3183776222101448,
          -0.34137069400463826,
          0.6268383693928805,
          -0.49492715859173325,
          1.7894001280490095,
          1.0923690990085906,
          -0.4426468257952904,
          -1.7570569105500355,
          -0.2975462515868482,
          -0.9903552540790408,
          -2.0298888359656786,
          0.20798858218719538,
          -0.19840303127725278,
          0.9591272839305035,
          -1.0280598843346984,
          -1.3992328031466221,
          0.1824738273519832,
          -0.6025895866492086,
          -0.9843279818631707,
          -1.8390232897687318,
          1.534352550556892,
          1.0097682622746742,
          -0.861460988903354,
          -1.1660932424398551,
          -0.3094667414878226,
          1.1390385211944523,
          0.7427373004453051,
          0.4325319033275298,
          -0.49157497264069144,
          -1.1332619048375008,
          1.1259775995666133,
          1.9633898033012296,
          -0.1707707527943106,
          -0.4707537511823286,
          0.293722238328297,
          -0.6637770134834158,
          0.1301936407996693,
          0.3317424608102532,
          -1.0087404003189793,
          1.5522849293264396,
          0.22765004510397707,
          0.5272387175192732,
          -1.2419532380663771,
          0.33703182748365773,
          -1.7943304931124409,
          1.9246712787355624,
          -0.23366511001055065,
          0.09530901830895594,
          -0.2594634402771084,
          -0.20051248855805656,
          0.5230413669385336,
          -0.5013104579418655,
          0.46862784928238493,
          -1.2320574972191813,
          1.2274744511742934,
          0.9056958647317631,
          0.6943233325625244,
          0.613944109383328,
          0.20386916943256914,
          -0.4326740892386687,
          -0.5777941644677652,
          1.2663919771320504,
          1.4677257199411882,
          -1.8332729500431604
         ],
         "xaxis": "x14",
         "y": [
          0.1639515482012815,
          1.8912813739797474,
          0.130753561918199,
          -2.462473908106972,
          -0.6603998166821248,
          1.9977377081442942,
          -1.0129093630599486,
          0.7921290056316523,
          -0.5664348156991554,
          -0.7249453745242685,
          -1.316613740020055,
          -0.6912569883984678,
          -1.240988387334244,
          -0.5210705358852363,
          0.09427243247393506,
          0.23596339084549361,
          0.39613978935162286,
          -0.5036875231146357,
          -1.4879042015174808,
          2.008266172048622,
          -0.9267001478713117,
          0.8886469782275257,
          -0.013999911406236168,
          0.18162473087366604,
          -0.05355539919631981,
          0.8512041291095764,
          1.4188904241052764,
          2.0261909174276163,
          -0.7659204731984209,
          -1.0137288460711575,
          -0.11314826507733342,
          -0.006556842213361446,
          -1.4145634914480307,
          -0.04656715573464401,
          0.11464370009805469,
          1.077154835460711,
          -0.6558996673933815,
          1.6004297267147591,
          1.1560180690378152,
          -1.1020980479547866,
          -0.29695874751007373,
          -2.3171441457140984,
          -0.6845246028821502,
          0.44585404969474557,
          0.023595686585148427,
          0.8643865790452707,
          0.6314911651454947,
          1.2575699668623646,
          0.04729427854654969,
          0.5259727805936953,
          0.619317035851485,
          -0.1106898572460105,
          -1.1664952254834136,
          0.21837344055509192,
          1.7268542929393982,
          1.1910080253594584,
          -0.03371678760423379,
          0.7484607684771561,
          1.7097535689505192,
          1.6719306216288725,
          0.17375769926297524,
          0.37715327609221455,
          -0.5887231780567602,
          -0.09935263687710601,
          0.27712225162381837,
          -0.8609743885728103,
          0.4279101952965506,
          0.3007884188375812,
          0.34063671029127696,
          0.10538779020884839,
          -0.30028901730662577,
          1.0019587248375998,
          0.1832065798821189,
          -1.4554640798274099,
          2.9912213268678367,
          1.6829095016685827,
          -0.6230371284787307,
          0.7837134148587172,
          -0.0842101697097363,
          0.7455313961820127,
          -1.612400798498298,
          -0.3221942083634528,
          -1.2099618162593822,
          -0.35263267466788234,
          0.6164369788445613,
          -0.13032311478530598,
          -1.8835020613120474,
          1.157435009222289,
          0.9121473121955195,
          1.2473321030756332,
          -0.7666362855181403,
          0.7432402678061955,
          0.344599844220491,
          0.6452809496473196,
          0.831922075508615,
          -0.6315196967878742,
          0.21774047700345495,
          -0.04705120336250258,
          -0.2739043016194293,
          0.3032166418279464
         ],
         "yaxis": "y14"
        },
        {
         "line": {
          "color": "rgba(128, 128, 128, 1.0)",
          "dash": "solid",
          "shape": "linear",
          "width": 1.3
         },
         "marker": {
          "size": 2,
          "symbol": "circle"
         },
         "mode": "markers",
         "name": "D",
         "text": "",
         "type": "scatter",
         "x": [
          0.8273152785715431,
          2.592082609608652,
          1.3446371871912153,
          0.8504550879324595,
          1.4411075649619918,
          0.5897397057175384,
          1.4823375219325754,
          0.493545341242126,
          0.2277940736874258,
          0.26800571588185357,
          -0.35721758206893844,
          -0.5240919506759124,
          -0.998536527564416,
          -0.25250677074350025,
          0.34751354653457334,
          0.7319758834630521,
          0.8515431046657899,
          -0.5151755682976872,
          1.1034991243247498,
          -0.2514271267200668,
          0.11530430980968087,
          0.42783703065710466,
          -0.46493111644446494,
          -0.3697897261937152,
          0.5756817113457978,
          0.5590010846145865,
          0.7723509688301612,
          -0.3848689347948521,
          -0.03960165885586036,
          0.044185855710254546,
          -0.5140996425468439,
          0.13193354043914313,
          0.9187833900981137,
          1.484115372604817,
          0.18697754963781588,
          1.9497496515191346,
          -0.025593087049639886,
          0.19876252469269806,
          0.40681310501725126,
          1.5754598787831944,
          0.5434325141033527,
          -1.1639700750272357,
          -2.027499814689522,
          0.3774390179879476,
          0.07839364114765025,
          0.2099088012296653,
          -1.0098193100645472,
          -2.1968598817674136,
          -2.085850838972527,
          0.22237535775602632,
          1.410759157113143,
          0.7575898202084071,
          -0.379137771012906,
          0.05344419077288705,
          -0.39949566994663593,
          0.15032321148972558,
          -0.13006768244103997,
          -0.1104800512865253,
          0.14024177840245208,
          -0.11546794485658657,
          1.1370169489407962,
          1.6418440274751496,
          1.029633502483267,
          2.064768104260361,
          -1.4246738743908782,
          -1.1906028269960245,
          1.1195470807731074,
          0.24714600279234417,
          0.41050677418878273,
          -0.3044927976891417,
          -2.054946754679443,
          -0.7307213097989068,
          -0.8708435579846577,
          -1.1405779109930412,
          -1.3375884485723633,
          -0.8553922504340327,
          0.811982322687059,
          0.6504087801710815,
          0.22215904010631066,
          -1.4420307525037719,
          0.7506310074727195,
          1.3566616786070929,
          0.7461563731341896,
          -0.07648236873264547,
          0.022522698063428805,
          0.6937233126166052,
          -0.32415267449581314,
          0.1577868414126188,
          1.094604977544399,
          -0.7470298922393848,
          0.558516436318415,
          0.7339447070301272,
          0.32600844025502,
          0.7143208325728774,
          1.1930579479539156,
          -0.16489897476312007,
          -0.5023550910613268,
          0.8485020620346165,
          0.6152295906262166,
          -1.7710607238056244
         ],
         "xaxis": "x15",
         "y": [
          0.1639515482012815,
          1.8912813739797474,
          0.130753561918199,
          -2.462473908106972,
          -0.6603998166821248,
          1.9977377081442942,
          -1.0129093630599486,
          0.7921290056316523,
          -0.5664348156991554,
          -0.7249453745242685,
          -1.316613740020055,
          -0.6912569883984678,
          -1.240988387334244,
          -0.5210705358852363,
          0.09427243247393506,
          0.23596339084549361,
          0.39613978935162286,
          -0.5036875231146357,
          -1.4879042015174808,
          2.008266172048622,
          -0.9267001478713117,
          0.8886469782275257,
          -0.013999911406236168,
          0.18162473087366604,
          -0.05355539919631981,
          0.8512041291095764,
          1.4188904241052764,
          2.0261909174276163,
          -0.7659204731984209,
          -1.0137288460711575,
          -0.11314826507733342,
          -0.006556842213361446,
          -1.4145634914480307,
          -0.04656715573464401,
          0.11464370009805469,
          1.077154835460711,
          -0.6558996673933815,
          1.6004297267147591,
          1.1560180690378152,
          -1.1020980479547866,
          -0.29695874751007373,
          -2.3171441457140984,
          -0.6845246028821502,
          0.44585404969474557,
          0.023595686585148427,
          0.8643865790452707,
          0.6314911651454947,
          1.2575699668623646,
          0.04729427854654969,
          0.5259727805936953,
          0.619317035851485,
          -0.1106898572460105,
          -1.1664952254834136,
          0.21837344055509192,
          1.7268542929393982,
          1.1910080253594584,
          -0.03371678760423379,
          0.7484607684771561,
          1.7097535689505192,
          1.6719306216288725,
          0.17375769926297524,
          0.37715327609221455,
          -0.5887231780567602,
          -0.09935263687710601,
          0.27712225162381837,
          -0.8609743885728103,
          0.4279101952965506,
          0.3007884188375812,
          0.34063671029127696,
          0.10538779020884839,
          -0.30028901730662577,
          1.0019587248375998,
          0.1832065798821189,
          -1.4554640798274099,
          2.9912213268678367,
          1.6829095016685827,
          -0.6230371284787307,
          0.7837134148587172,
          -0.0842101697097363,
          0.7455313961820127,
          -1.612400798498298,
          -0.3221942083634528,
          -1.2099618162593822,
          -0.35263267466788234,
          0.6164369788445613,
          -0.13032311478530598,
          -1.8835020613120474,
          1.157435009222289,
          0.9121473121955195,
          1.2473321030756332,
          -0.7666362855181403,
          0.7432402678061955,
          0.344599844220491,
          0.6452809496473196,
          0.831922075508615,
          -0.6315196967878742,
          0.21774047700345495,
          -0.04705120336250258,
          -0.2739043016194293,
          0.3032166418279464
         ],
         "yaxis": "y15"
        },
        {
         "histfunc": "count",
         "histnorm": "",
         "marker": {
          "color": "rgba(128, 0, 128, 1.0)",
          "line": {
           "color": "#4D5663",
           "width": 1.3
          }
         },
         "name": "D",
         "nbinsx": 10,
         "opacity": 0.8,
         "orientation": "v",
         "type": "histogram",
         "x": [
          0.1639515482012815,
          1.8912813739797474,
          0.130753561918199,
          -2.462473908106972,
          -0.6603998166821248,
          1.9977377081442942,
          -1.0129093630599486,
          0.7921290056316523,
          -0.5664348156991554,
          -0.7249453745242685,
          -1.316613740020055,
          -0.6912569883984678,
          -1.240988387334244,
          -0.5210705358852363,
          0.09427243247393506,
          0.23596339084549361,
          0.39613978935162286,
          -0.5036875231146357,
          -1.4879042015174808,
          2.008266172048622,
          -0.9267001478713117,
          0.8886469782275257,
          -0.013999911406236168,
          0.18162473087366604,
          -0.05355539919631981,
          0.8512041291095764,
          1.4188904241052764,
          2.0261909174276163,
          -0.7659204731984209,
          -1.0137288460711575,
          -0.11314826507733342,
          -0.006556842213361446,
          -1.4145634914480307,
          -0.04656715573464401,
          0.11464370009805469,
          1.077154835460711,
          -0.6558996673933815,
          1.6004297267147591,
          1.1560180690378152,
          -1.1020980479547866,
          -0.29695874751007373,
          -2.3171441457140984,
          -0.6845246028821502,
          0.44585404969474557,
          0.023595686585148427,
          0.8643865790452707,
          0.6314911651454947,
          1.2575699668623646,
          0.04729427854654969,
          0.5259727805936953,
          0.619317035851485,
          -0.1106898572460105,
          -1.1664952254834136,
          0.21837344055509192,
          1.7268542929393982,
          1.1910080253594584,
          -0.03371678760423379,
          0.7484607684771561,
          1.7097535689505192,
          1.6719306216288725,
          0.17375769926297524,
          0.37715327609221455,
          -0.5887231780567602,
          -0.09935263687710601,
          0.27712225162381837,
          -0.8609743885728103,
          0.4279101952965506,
          0.3007884188375812,
          0.34063671029127696,
          0.10538779020884839,
          -0.30028901730662577,
          1.0019587248375998,
          0.1832065798821189,
          -1.4554640798274099,
          2.9912213268678367,
          1.6829095016685827,
          -0.6230371284787307,
          0.7837134148587172,
          -0.0842101697097363,
          0.7455313961820127,
          -1.612400798498298,
          -0.3221942083634528,
          -1.2099618162593822,
          -0.35263267466788234,
          0.6164369788445613,
          -0.13032311478530598,
          -1.8835020613120474,
          1.157435009222289,
          0.9121473121955195,
          1.2473321030756332,
          -0.7666362855181403,
          0.7432402678061955,
          0.344599844220491,
          0.6452809496473196,
          0.831922075508615,
          -0.6315196967878742,
          0.21774047700345495,
          -0.04705120336250258,
          -0.2739043016194293,
          0.3032166418279464
         ],
         "xaxis": "x16",
         "yaxis": "y16"
        }
       ],
       "layout": {
        "bargap": 0.02,
        "legend": {
         "bgcolor": "#F5F6F9",
         "font": {
          "color": "#4D5663"
         }
        },
        "paper_bgcolor": "#F5F6F9",
        "plot_bgcolor": "#F5F6F9",
        "showlegend": false,
        "template": {
         "data": {
          "bar": [
           {
            "error_x": {
             "color": "#2a3f5f"
            },
            "error_y": {
             "color": "#2a3f5f"
            },
            "marker": {
             "line": {
              "color": "#E5ECF6",
              "width": 0.5
             },
             "pattern": {
              "fillmode": "overlay",
              "size": 10,
              "solidity": 0.2
             }
            },
            "type": "bar"
           }
          ],
          "barpolar": [
           {
            "marker": {
             "line": {
              "color": "#E5ECF6",
              "width": 0.5
             },
             "pattern": {
              "fillmode": "overlay",
              "size": 10,
              "solidity": 0.2
             }
            },
            "type": "barpolar"
           }
          ],
          "carpet": [
           {
            "aaxis": {
             "endlinecolor": "#2a3f5f",
             "gridcolor": "white",
             "linecolor": "white",
             "minorgridcolor": "white",
             "startlinecolor": "#2a3f5f"
            },
            "baxis": {
             "endlinecolor": "#2a3f5f",
             "gridcolor": "white",
             "linecolor": "white",
             "minorgridcolor": "white",
             "startlinecolor": "#2a3f5f"
            },
            "type": "carpet"
           }
          ],
          "choropleth": [
           {
            "colorbar": {
             "outlinewidth": 0,
             "ticks": ""
            },
            "type": "choropleth"
           }
          ],
          "contour": [
           {
            "colorbar": {
             "outlinewidth": 0,
             "ticks": ""
            },
            "colorscale": [
             [
              0,
              "#0d0887"
             ],
             [
              0.1111111111111111,
              "#46039f"
             ],
             [
              0.2222222222222222,
              "#7201a8"
             ],
             [
              0.3333333333333333,
              "#9c179e"
             ],
             [
              0.4444444444444444,
              "#bd3786"
             ],
             [
              0.5555555555555556,
              "#d8576b"
             ],
             [
              0.6666666666666666,
              "#ed7953"
             ],
             [
              0.7777777777777778,
              "#fb9f3a"
             ],
             [
              0.8888888888888888,
              "#fdca26"
             ],
             [
              1,
              "#f0f921"
             ]
            ],
            "type": "contour"
           }
          ],
          "contourcarpet": [
           {
            "colorbar": {
             "outlinewidth": 0,
             "ticks": ""
            },
            "type": "contourcarpet"
           }
          ],
          "heatmap": [
           {
            "colorbar": {
             "outlinewidth": 0,
             "ticks": ""
            },
            "colorscale": [
             [
              0,
              "#0d0887"
             ],
             [
              0.1111111111111111,
              "#46039f"
             ],
             [
              0.2222222222222222,
              "#7201a8"
             ],
             [
              0.3333333333333333,
              "#9c179e"
             ],
             [
              0.4444444444444444,
              "#bd3786"
             ],
             [
              0.5555555555555556,
              "#d8576b"
             ],
             [
              0.6666666666666666,
              "#ed7953"
             ],
             [
              0.7777777777777778,
              "#fb9f3a"
             ],
             [
              0.8888888888888888,
              "#fdca26"
             ],
             [
              1,
              "#f0f921"
             ]
            ],
            "type": "heatmap"
           }
          ],
          "heatmapgl": [
           {
            "colorbar": {
             "outlinewidth": 0,
             "ticks": ""
            },
            "colorscale": [
             [
              0,
              "#0d0887"
             ],
             [
              0.1111111111111111,
              "#46039f"
             ],
             [
              0.2222222222222222,
              "#7201a8"
             ],
             [
              0.3333333333333333,
              "#9c179e"
             ],
             [
              0.4444444444444444,
              "#bd3786"
             ],
             [
              0.5555555555555556,
              "#d8576b"
             ],
             [
              0.6666666666666666,
              "#ed7953"
             ],
             [
              0.7777777777777778,
              "#fb9f3a"
             ],
             [
              0.8888888888888888,
              "#fdca26"
             ],
             [
              1,
              "#f0f921"
             ]
            ],
            "type": "heatmapgl"
           }
          ],
          "histogram": [
           {
            "marker": {
             "pattern": {
              "fillmode": "overlay",
              "size": 10,
              "solidity": 0.2
             }
            },
            "type": "histogram"
           }
          ],
          "histogram2d": [
           {
            "colorbar": {
             "outlinewidth": 0,
             "ticks": ""
            },
            "colorscale": [
             [
              0,
              "#0d0887"
             ],
             [
              0.1111111111111111,
              "#46039f"
             ],
             [
              0.2222222222222222,
              "#7201a8"
             ],
             [
              0.3333333333333333,
              "#9c179e"
             ],
             [
              0.4444444444444444,
              "#bd3786"
             ],
             [
              0.5555555555555556,
              "#d8576b"
             ],
             [
              0.6666666666666666,
              "#ed7953"
             ],
             [
              0.7777777777777778,
              "#fb9f3a"
             ],
             [
              0.8888888888888888,
              "#fdca26"
             ],
             [
              1,
              "#f0f921"
             ]
            ],
            "type": "histogram2d"
           }
          ],
          "histogram2dcontour": [
           {
            "colorbar": {
             "outlinewidth": 0,
             "ticks": ""
            },
            "colorscale": [
             [
              0,
              "#0d0887"
             ],
             [
              0.1111111111111111,
              "#46039f"
             ],
             [
              0.2222222222222222,
              "#7201a8"
             ],
             [
              0.3333333333333333,
              "#9c179e"
             ],
             [
              0.4444444444444444,
              "#bd3786"
             ],
             [
              0.5555555555555556,
              "#d8576b"
             ],
             [
              0.6666666666666666,
              "#ed7953"
             ],
             [
              0.7777777777777778,
              "#fb9f3a"
             ],
             [
              0.8888888888888888,
              "#fdca26"
             ],
             [
              1,
              "#f0f921"
             ]
            ],
            "type": "histogram2dcontour"
           }
          ],
          "mesh3d": [
           {
            "colorbar": {
             "outlinewidth": 0,
             "ticks": ""
            },
            "type": "mesh3d"
           }
          ],
          "parcoords": [
           {
            "line": {
             "colorbar": {
              "outlinewidth": 0,
              "ticks": ""
             }
            },
            "type": "parcoords"
           }
          ],
          "pie": [
           {
            "automargin": true,
            "type": "pie"
           }
          ],
          "scatter": [
           {
            "marker": {
             "colorbar": {
              "outlinewidth": 0,
              "ticks": ""
             }
            },
            "type": "scatter"
           }
          ],
          "scatter3d": [
           {
            "line": {
             "colorbar": {
              "outlinewidth": 0,
              "ticks": ""
             }
            },
            "marker": {
             "colorbar": {
              "outlinewidth": 0,
              "ticks": ""
             }
            },
            "type": "scatter3d"
           }
          ],
          "scattercarpet": [
           {
            "marker": {
             "colorbar": {
              "outlinewidth": 0,
              "ticks": ""
             }
            },
            "type": "scattercarpet"
           }
          ],
          "scattergeo": [
           {
            "marker": {
             "colorbar": {
              "outlinewidth": 0,
              "ticks": ""
             }
            },
            "type": "scattergeo"
           }
          ],
          "scattergl": [
           {
            "marker": {
             "colorbar": {
              "outlinewidth": 0,
              "ticks": ""
             }
            },
            "type": "scattergl"
           }
          ],
          "scattermapbox": [
           {
            "marker": {
             "colorbar": {
              "outlinewidth": 0,
              "ticks": ""
             }
            },
            "type": "scattermapbox"
           }
          ],
          "scatterpolar": [
           {
            "marker": {
             "colorbar": {
              "outlinewidth": 0,
              "ticks": ""
             }
            },
            "type": "scatterpolar"
           }
          ],
          "scatterpolargl": [
           {
            "marker": {
             "colorbar": {
              "outlinewidth": 0,
              "ticks": ""
             }
            },
            "type": "scatterpolargl"
           }
          ],
          "scatterternary": [
           {
            "marker": {
             "colorbar": {
              "outlinewidth": 0,
              "ticks": ""
             }
            },
            "type": "scatterternary"
           }
          ],
          "surface": [
           {
            "colorbar": {
             "outlinewidth": 0,
             "ticks": ""
            },
            "colorscale": [
             [
              0,
              "#0d0887"
             ],
             [
              0.1111111111111111,
              "#46039f"
             ],
             [
              0.2222222222222222,
              "#7201a8"
             ],
             [
              0.3333333333333333,
              "#9c179e"
             ],
             [
              0.4444444444444444,
              "#bd3786"
             ],
             [
              0.5555555555555556,
              "#d8576b"
             ],
             [
              0.6666666666666666,
              "#ed7953"
             ],
             [
              0.7777777777777778,
              "#fb9f3a"
             ],
             [
              0.8888888888888888,
              "#fdca26"
             ],
             [
              1,
              "#f0f921"
             ]
            ],
            "type": "surface"
           }
          ],
          "table": [
           {
            "cells": {
             "fill": {
              "color": "#EBF0F8"
             },
             "line": {
              "color": "white"
             }
            },
            "header": {
             "fill": {
              "color": "#C8D4E3"
             },
             "line": {
              "color": "white"
             }
            },
            "type": "table"
           }
          ]
         },
         "layout": {
          "annotationdefaults": {
           "arrowcolor": "#2a3f5f",
           "arrowhead": 0,
           "arrowwidth": 1
          },
          "autotypenumbers": "strict",
          "coloraxis": {
           "colorbar": {
            "outlinewidth": 0,
            "ticks": ""
           }
          },
          "colorscale": {
           "diverging": [
            [
             0,
             "#8e0152"
            ],
            [
             0.1,
             "#c51b7d"
            ],
            [
             0.2,
             "#de77ae"
            ],
            [
             0.3,
             "#f1b6da"
            ],
            [
             0.4,
             "#fde0ef"
            ],
            [
             0.5,
             "#f7f7f7"
            ],
            [
             0.6,
             "#e6f5d0"
            ],
            [
             0.7,
             "#b8e186"
            ],
            [
             0.8,
             "#7fbc41"
            ],
            [
             0.9,
             "#4d9221"
            ],
            [
             1,
             "#276419"
            ]
           ],
           "sequential": [
            [
             0,
             "#0d0887"
            ],
            [
             0.1111111111111111,
             "#46039f"
            ],
            [
             0.2222222222222222,
             "#7201a8"
            ],
            [
             0.3333333333333333,
             "#9c179e"
            ],
            [
             0.4444444444444444,
             "#bd3786"
            ],
            [
             0.5555555555555556,
             "#d8576b"
            ],
            [
             0.6666666666666666,
             "#ed7953"
            ],
            [
             0.7777777777777778,
             "#fb9f3a"
            ],
            [
             0.8888888888888888,
             "#fdca26"
            ],
            [
             1,
             "#f0f921"
            ]
           ],
           "sequentialminus": [
            [
             0,
             "#0d0887"
            ],
            [
             0.1111111111111111,
             "#46039f"
            ],
            [
             0.2222222222222222,
             "#7201a8"
            ],
            [
             0.3333333333333333,
             "#9c179e"
            ],
            [
             0.4444444444444444,
             "#bd3786"
            ],
            [
             0.5555555555555556,
             "#d8576b"
            ],
            [
             0.6666666666666666,
             "#ed7953"
            ],
            [
             0.7777777777777778,
             "#fb9f3a"
            ],
            [
             0.8888888888888888,
             "#fdca26"
            ],
            [
             1,
             "#f0f921"
            ]
           ]
          },
          "colorway": [
           "#636efa",
           "#EF553B",
           "#00cc96",
           "#ab63fa",
           "#FFA15A",
           "#19d3f3",
           "#FF6692",
           "#B6E880",
           "#FF97FF",
           "#FECB52"
          ],
          "font": {
           "color": "#2a3f5f"
          },
          "geo": {
           "bgcolor": "white",
           "lakecolor": "white",
           "landcolor": "#E5ECF6",
           "showlakes": true,
           "showland": true,
           "subunitcolor": "white"
          },
          "hoverlabel": {
           "align": "left"
          },
          "hovermode": "closest",
          "mapbox": {
           "style": "light"
          },
          "paper_bgcolor": "white",
          "plot_bgcolor": "#E5ECF6",
          "polar": {
           "angularaxis": {
            "gridcolor": "white",
            "linecolor": "white",
            "ticks": ""
           },
           "bgcolor": "#E5ECF6",
           "radialaxis": {
            "gridcolor": "white",
            "linecolor": "white",
            "ticks": ""
           }
          },
          "scene": {
           "xaxis": {
            "backgroundcolor": "#E5ECF6",
            "gridcolor": "white",
            "gridwidth": 2,
            "linecolor": "white",
            "showbackground": true,
            "ticks": "",
            "zerolinecolor": "white"
           },
           "yaxis": {
            "backgroundcolor": "#E5ECF6",
            "gridcolor": "white",
            "gridwidth": 2,
            "linecolor": "white",
            "showbackground": true,
            "ticks": "",
            "zerolinecolor": "white"
           },
           "zaxis": {
            "backgroundcolor": "#E5ECF6",
            "gridcolor": "white",
            "gridwidth": 2,
            "linecolor": "white",
            "showbackground": true,
            "ticks": "",
            "zerolinecolor": "white"
           }
          },
          "shapedefaults": {
           "line": {
            "color": "#2a3f5f"
           }
          },
          "ternary": {
           "aaxis": {
            "gridcolor": "white",
            "linecolor": "white",
            "ticks": ""
           },
           "baxis": {
            "gridcolor": "white",
            "linecolor": "white",
            "ticks": ""
           },
           "bgcolor": "#E5ECF6",
           "caxis": {
            "gridcolor": "white",
            "linecolor": "white",
            "ticks": ""
           }
          },
          "title": {
           "x": 0.05
          },
          "xaxis": {
           "automargin": true,
           "gridcolor": "white",
           "linecolor": "white",
           "ticks": "",
           "title": {
            "standoff": 15
           },
           "zerolinecolor": "white",
           "zerolinewidth": 2
          },
          "yaxis": {
           "automargin": true,
           "gridcolor": "white",
           "linecolor": "white",
           "ticks": "",
           "title": {
            "standoff": 15
           },
           "zerolinecolor": "white",
           "zerolinewidth": 2
          }
         }
        },
        "title": {
         "font": {
          "color": "#4D5663"
         }
        },
        "xaxis": {
         "anchor": "y",
         "domain": [
          0,
          0.2125
         ],
         "gridcolor": "#E1E5ED",
         "showgrid": false,
         "tickfont": {
          "color": "#4D5663"
         },
         "title": {
          "font": {
           "color": "#4D5663"
          },
          "text": ""
         },
         "zerolinecolor": "#E1E5ED"
        },
        "xaxis10": {
         "anchor": "y10",
         "domain": [
          0.2625,
          0.475
         ],
         "gridcolor": "#E1E5ED",
         "showgrid": false,
         "tickfont": {
          "color": "#4D5663"
         },
         "title": {
          "font": {
           "color": "#4D5663"
          },
          "text": ""
         },
         "zerolinecolor": "#E1E5ED"
        },
        "xaxis11": {
         "anchor": "y11",
         "domain": [
          0.525,
          0.7375
         ],
         "gridcolor": "#E1E5ED",
         "showgrid": false,
         "tickfont": {
          "color": "#4D5663"
         },
         "title": {
          "font": {
           "color": "#4D5663"
          },
          "text": ""
         },
         "zerolinecolor": "#E1E5ED"
        },
        "xaxis12": {
         "anchor": "y12",
         "domain": [
          0.7875,
          1
         ],
         "gridcolor": "#E1E5ED",
         "showgrid": false,
         "tickfont": {
          "color": "#4D5663"
         },
         "title": {
          "font": {
           "color": "#4D5663"
          },
          "text": ""
         },
         "zerolinecolor": "#E1E5ED"
        },
        "xaxis13": {
         "anchor": "y13",
         "domain": [
          0,
          0.2125
         ],
         "gridcolor": "#E1E5ED",
         "showgrid": false,
         "tickfont": {
          "color": "#4D5663"
         },
         "title": {
          "font": {
           "color": "#4D5663"
          },
          "text": ""
         },
         "zerolinecolor": "#E1E5ED"
        },
        "xaxis14": {
         "anchor": "y14",
         "domain": [
          0.2625,
          0.475
         ],
         "gridcolor": "#E1E5ED",
         "showgrid": false,
         "tickfont": {
          "color": "#4D5663"
         },
         "title": {
          "font": {
           "color": "#4D5663"
          },
          "text": ""
         },
         "zerolinecolor": "#E1E5ED"
        },
        "xaxis15": {
         "anchor": "y15",
         "domain": [
          0.525,
          0.7375
         ],
         "gridcolor": "#E1E5ED",
         "showgrid": false,
         "tickfont": {
          "color": "#4D5663"
         },
         "title": {
          "font": {
           "color": "#4D5663"
          },
          "text": ""
         },
         "zerolinecolor": "#E1E5ED"
        },
        "xaxis16": {
         "anchor": "y16",
         "domain": [
          0.7875,
          1
         ],
         "gridcolor": "#E1E5ED",
         "showgrid": false,
         "tickfont": {
          "color": "#4D5663"
         },
         "title": {
          "font": {
           "color": "#4D5663"
          },
          "text": ""
         },
         "zerolinecolor": "#E1E5ED"
        },
        "xaxis2": {
         "anchor": "y2",
         "domain": [
          0.2625,
          0.475
         ],
         "gridcolor": "#E1E5ED",
         "showgrid": false,
         "tickfont": {
          "color": "#4D5663"
         },
         "title": {
          "font": {
           "color": "#4D5663"
          },
          "text": ""
         },
         "zerolinecolor": "#E1E5ED"
        },
        "xaxis3": {
         "anchor": "y3",
         "domain": [
          0.525,
          0.7375
         ],
         "gridcolor": "#E1E5ED",
         "showgrid": false,
         "tickfont": {
          "color": "#4D5663"
         },
         "title": {
          "font": {
           "color": "#4D5663"
          },
          "text": ""
         },
         "zerolinecolor": "#E1E5ED"
        },
        "xaxis4": {
         "anchor": "y4",
         "domain": [
          0.7875,
          1
         ],
         "gridcolor": "#E1E5ED",
         "showgrid": false,
         "tickfont": {
          "color": "#4D5663"
         },
         "title": {
          "font": {
           "color": "#4D5663"
          },
          "text": ""
         },
         "zerolinecolor": "#E1E5ED"
        },
        "xaxis5": {
         "anchor": "y5",
         "domain": [
          0,
          0.2125
         ],
         "gridcolor": "#E1E5ED",
         "showgrid": false,
         "tickfont": {
          "color": "#4D5663"
         },
         "title": {
          "font": {
           "color": "#4D5663"
          },
          "text": ""
         },
         "zerolinecolor": "#E1E5ED"
        },
        "xaxis6": {
         "anchor": "y6",
         "domain": [
          0.2625,
          0.475
         ],
         "gridcolor": "#E1E5ED",
         "showgrid": false,
         "tickfont": {
          "color": "#4D5663"
         },
         "title": {
          "font": {
           "color": "#4D5663"
          },
          "text": ""
         },
         "zerolinecolor": "#E1E5ED"
        },
        "xaxis7": {
         "anchor": "y7",
         "domain": [
          0.525,
          0.7375
         ],
         "gridcolor": "#E1E5ED",
         "showgrid": false,
         "tickfont": {
          "color": "#4D5663"
         },
         "title": {
          "font": {
           "color": "#4D5663"
          },
          "text": ""
         },
         "zerolinecolor": "#E1E5ED"
        },
        "xaxis8": {
         "anchor": "y8",
         "domain": [
          0.7875,
          1
         ],
         "gridcolor": "#E1E5ED",
         "showgrid": false,
         "tickfont": {
          "color": "#4D5663"
         },
         "title": {
          "font": {
           "color": "#4D5663"
          },
          "text": ""
         },
         "zerolinecolor": "#E1E5ED"
        },
        "xaxis9": {
         "anchor": "y9",
         "domain": [
          0,
          0.2125
         ],
         "gridcolor": "#E1E5ED",
         "showgrid": false,
         "tickfont": {
          "color": "#4D5663"
         },
         "title": {
          "font": {
           "color": "#4D5663"
          },
          "text": ""
         },
         "zerolinecolor": "#E1E5ED"
        },
        "yaxis": {
         "anchor": "x",
         "domain": [
          0.8025,
          1
         ],
         "gridcolor": "#E1E5ED",
         "showgrid": false,
         "tickfont": {
          "color": "#4D5663"
         },
         "title": {
          "font": {
           "color": "#4D5663"
          },
          "text": ""
         },
         "zerolinecolor": "#E1E5ED"
        },
        "yaxis10": {
         "anchor": "x10",
         "domain": [
          0.2675,
          0.465
         ],
         "gridcolor": "#E1E5ED",
         "showgrid": false,
         "tickfont": {
          "color": "#4D5663"
         },
         "title": {
          "font": {
           "color": "#4D5663"
          },
          "text": ""
         },
         "zerolinecolor": "#E1E5ED"
        },
        "yaxis11": {
         "anchor": "x11",
         "domain": [
          0.2675,
          0.465
         ],
         "gridcolor": "#E1E5ED",
         "showgrid": false,
         "tickfont": {
          "color": "#4D5663"
         },
         "title": {
          "font": {
           "color": "#4D5663"
          },
          "text": ""
         },
         "zerolinecolor": "#E1E5ED"
        },
        "yaxis12": {
         "anchor": "x12",
         "domain": [
          0.2675,
          0.465
         ],
         "gridcolor": "#E1E5ED",
         "showgrid": false,
         "tickfont": {
          "color": "#4D5663"
         },
         "title": {
          "font": {
           "color": "#4D5663"
          },
          "text": ""
         },
         "zerolinecolor": "#E1E5ED"
        },
        "yaxis13": {
         "anchor": "x13",
         "domain": [
          0,
          0.1975
         ],
         "gridcolor": "#E1E5ED",
         "showgrid": false,
         "tickfont": {
          "color": "#4D5663"
         },
         "title": {
          "font": {
           "color": "#4D5663"
          },
          "text": ""
         },
         "zerolinecolor": "#E1E5ED"
        },
        "yaxis14": {
         "anchor": "x14",
         "domain": [
          0,
          0.1975
         ],
         "gridcolor": "#E1E5ED",
         "showgrid": false,
         "tickfont": {
          "color": "#4D5663"
         },
         "title": {
          "font": {
           "color": "#4D5663"
          },
          "text": ""
         },
         "zerolinecolor": "#E1E5ED"
        },
        "yaxis15": {
         "anchor": "x15",
         "domain": [
          0,
          0.1975
         ],
         "gridcolor": "#E1E5ED",
         "showgrid": false,
         "tickfont": {
          "color": "#4D5663"
         },
         "title": {
          "font": {
           "color": "#4D5663"
          },
          "text": ""
         },
         "zerolinecolor": "#E1E5ED"
        },
        "yaxis16": {
         "anchor": "x16",
         "domain": [
          0,
          0.1975
         ],
         "gridcolor": "#E1E5ED",
         "showgrid": false,
         "tickfont": {
          "color": "#4D5663"
         },
         "title": {
          "font": {
           "color": "#4D5663"
          },
          "text": ""
         },
         "zerolinecolor": "#E1E5ED"
        },
        "yaxis2": {
         "anchor": "x2",
         "domain": [
          0.8025,
          1
         ],
         "gridcolor": "#E1E5ED",
         "showgrid": false,
         "tickfont": {
          "color": "#4D5663"
         },
         "title": {
          "font": {
           "color": "#4D5663"
          },
          "text": ""
         },
         "zerolinecolor": "#E1E5ED"
        },
        "yaxis3": {
         "anchor": "x3",
         "domain": [
          0.8025,
          1
         ],
         "gridcolor": "#E1E5ED",
         "showgrid": false,
         "tickfont": {
          "color": "#4D5663"
         },
         "title": {
          "font": {
           "color": "#4D5663"
          },
          "text": ""
         },
         "zerolinecolor": "#E1E5ED"
        },
        "yaxis4": {
         "anchor": "x4",
         "domain": [
          0.8025,
          1
         ],
         "gridcolor": "#E1E5ED",
         "showgrid": false,
         "tickfont": {
          "color": "#4D5663"
         },
         "title": {
          "font": {
           "color": "#4D5663"
          },
          "text": ""
         },
         "zerolinecolor": "#E1E5ED"
        },
        "yaxis5": {
         "anchor": "x5",
         "domain": [
          0.535,
          0.7325
         ],
         "gridcolor": "#E1E5ED",
         "showgrid": false,
         "tickfont": {
          "color": "#4D5663"
         },
         "title": {
          "font": {
           "color": "#4D5663"
          },
          "text": ""
         },
         "zerolinecolor": "#E1E5ED"
        },
        "yaxis6": {
         "anchor": "x6",
         "domain": [
          0.535,
          0.7325
         ],
         "gridcolor": "#E1E5ED",
         "showgrid": false,
         "tickfont": {
          "color": "#4D5663"
         },
         "title": {
          "font": {
           "color": "#4D5663"
          },
          "text": ""
         },
         "zerolinecolor": "#E1E5ED"
        },
        "yaxis7": {
         "anchor": "x7",
         "domain": [
          0.535,
          0.7325
         ],
         "gridcolor": "#E1E5ED",
         "showgrid": false,
         "tickfont": {
          "color": "#4D5663"
         },
         "title": {
          "font": {
           "color": "#4D5663"
          },
          "text": ""
         },
         "zerolinecolor": "#E1E5ED"
        },
        "yaxis8": {
         "anchor": "x8",
         "domain": [
          0.535,
          0.7325
         ],
         "gridcolor": "#E1E5ED",
         "showgrid": false,
         "tickfont": {
          "color": "#4D5663"
         },
         "title": {
          "font": {
           "color": "#4D5663"
          },
          "text": ""
         },
         "zerolinecolor": "#E1E5ED"
        },
        "yaxis9": {
         "anchor": "x9",
         "domain": [
          0.2675,
          0.465
         ],
         "gridcolor": "#E1E5ED",
         "showgrid": false,
         "tickfont": {
          "color": "#4D5663"
         },
         "title": {
          "font": {
           "color": "#4D5663"
          },
          "text": ""
         },
         "zerolinecolor": "#E1E5ED"
        }
       }
      },
      "text/html": [
       "<div>                            <div id=\"fee8b4e7-78bb-493d-942c-f8ed525c5f76\" class=\"plotly-graph-div\" style=\"height:525px; width:100%;\"></div>            <script type=\"text/javascript\">                require([\"plotly\"], function(Plotly) {                    window.PLOTLYENV=window.PLOTLYENV || {};\n",
       "                    window.PLOTLYENV.BASE_URL='https://plot.ly';                                    if (document.getElementById(\"fee8b4e7-78bb-493d-942c-f8ed525c5f76\")) {                    Plotly.newPlot(                        \"fee8b4e7-78bb-493d-942c-f8ed525c5f76\",                        [{\"histfunc\":\"count\",\"histnorm\":\"\",\"marker\":{\"color\":\"rgba(255, 153, 51, 1.0)\",\"line\":{\"color\":\"#4D5663\",\"width\":1.3}},\"name\":\"A\",\"nbinsx\":10,\"opacity\":0.8,\"orientation\":\"v\",\"x\":[0.35989448670498325,-0.4592246745596689,1.1469340676932693,0.011457522595807158,-1.325225593039427,0.6814113631472483,-0.6786363701384942,1.0437656967750097,-0.47746466288488,0.8125037672312054,-0.47404658256936544,1.2031540729757069,1.4635324716319182,0.06280967604194186,-1.3846713229533583,0.857625982236854,0.5068595009022173,0.5580764208978222,0.7283816078799463,1.6679793441485444,0.5494052825729143,2.179905991957352,0.6687883289057667,-0.3900788675173005,0.6003974566718818,-0.4550592069568799,0.024033182599412138,0.8838170831120449,-0.3815550521370984,-1.1351702026828523,1.8944649799641564,0.294708748187957,0.21978311050099436,-0.07065302380242854,-0.07252968052331976,1.1144820614967048,0.606171730343062,-0.8731464829889949,-0.9310256218748634,-1.1793341276575884,-1.257519736482706,-1.7425979839917272,-0.9445804193991463,-1.7502567337064294,-1.4243514037650187,-0.4090315100280699,0.18554365411004087,1.5207346391246686,-1.3323522975428201,-1.0763732961923527,0.935426096415537,0.786447031400014,0.3251381994168318,0.4245928479689998,0.6172282965203385,2.616286334548319,0.35013172747915905,0.23072155751839604,0.1078120918737563,-0.6767857327332797,1.486845300668094,-0.22754332442045902,-0.37629874464913476,0.7463145320495523,-0.19467705150091513,-1.4154453380765688,1.3399136119262056,-1.5777643034446764,-0.27774725451621385,0.20185972252411266,0.9349122376858232,-1.9228425692134634,1.0046670938839755,-0.6508739922195852,0.4269958744781549,0.7736665220816002,-0.1679201401431736,-1.3158405857178361,-0.8227589415389568,2.332130548823311,-0.26318021389783985,-1.4971248638820622,0.3152560911248023,-0.21665547778357377,-1.0023809876326206,1.0562004740071824,0.5338261162974342,1.084603932148778,0.2935647195292971,0.28628110241537885,-1.1494679572805997,-0.25532087031031897,-0.35075476425964247,0.9497286053864785,0.2807308118655686,-0.4251098238132698,-1.0621446257664477,0.41931528695406345,-1.433797178077299,-0.8059425488799932],\"xaxis\":\"x\",\"yaxis\":\"y\",\"type\":\"histogram\"},{\"line\":{\"color\":\"rgba(128, 128, 128, 1.0)\",\"dash\":\"solid\",\"shape\":\"linear\",\"width\":1.3},\"marker\":{\"size\":2,\"symbol\":\"circle\"},\"mode\":\"markers\",\"name\":\"A\",\"text\":\"\",\"x\":[-0.9217746063940998,-1.6822361723427532,-0.055572935761315195,-0.7350958966894335,-0.16312573884020234,0.26078513301011524,-1.6077194546656872,-0.16660545555158907,0.4702211267676788,-0.8160247909852378,0.07090561857130953,-0.512506611196169,0.7176328754936439,-0.5532917462243572,-0.8119234722216444,-1.1765423268753135,-1.12954248594935,-0.4149262245711078,-0.4253415826023585,0.8469921767949793,1.881699763566048,-0.25778150596466876,-0.13128008428078422,0.5004041084234315,-1.649491285150849,-0.5042162792070994,0.6218104662260018,-0.5987775790098924,1.4123907764913297,-1.5904079493683279,-0.17544539905896128,-0.26662817691141316,1.6537875958037962,0.47060178918033885,-1.0478398572685959,1.2458723160603526,0.3183776222101448,-0.34137069400463826,0.6268383693928805,-0.49492715859173325,1.7894001280490095,1.0923690990085906,-0.4426468257952904,-1.7570569105500355,-0.2975462515868482,-0.9903552540790408,-2.0298888359656786,0.20798858218719538,-0.19840303127725278,0.9591272839305035,-1.0280598843346984,-1.3992328031466221,0.1824738273519832,-0.6025895866492086,-0.9843279818631707,-1.8390232897687318,1.534352550556892,1.0097682622746742,-0.861460988903354,-1.1660932424398551,-0.3094667414878226,1.1390385211944523,0.7427373004453051,0.4325319033275298,-0.49157497264069144,-1.1332619048375008,1.1259775995666133,1.9633898033012296,-0.1707707527943106,-0.4707537511823286,0.293722238328297,-0.6637770134834158,0.1301936407996693,0.3317424608102532,-1.0087404003189793,1.5522849293264396,0.22765004510397707,0.5272387175192732,-1.2419532380663771,0.33703182748365773,-1.7943304931124409,1.9246712787355624,-0.23366511001055065,0.09530901830895594,-0.2594634402771084,-0.20051248855805656,0.5230413669385336,-0.5013104579418655,0.46862784928238493,-1.2320574972191813,1.2274744511742934,0.9056958647317631,0.6943233325625244,0.613944109383328,0.20386916943256914,-0.4326740892386687,-0.5777941644677652,1.2663919771320504,1.4677257199411882,-1.8332729500431604],\"xaxis\":\"x2\",\"y\":[0.35989448670498325,-0.4592246745596689,1.1469340676932693,0.011457522595807158,-1.325225593039427,0.6814113631472483,-0.6786363701384942,1.0437656967750097,-0.47746466288488,0.8125037672312054,-0.47404658256936544,1.2031540729757069,1.4635324716319182,0.06280967604194186,-1.3846713229533583,0.857625982236854,0.5068595009022173,0.5580764208978222,0.7283816078799463,1.6679793441485444,0.5494052825729143,2.179905991957352,0.6687883289057667,-0.3900788675173005,0.6003974566718818,-0.4550592069568799,0.024033182599412138,0.8838170831120449,-0.3815550521370984,-1.1351702026828523,1.8944649799641564,0.294708748187957,0.21978311050099436,-0.07065302380242854,-0.07252968052331976,1.1144820614967048,0.606171730343062,-0.8731464829889949,-0.9310256218748634,-1.1793341276575884,-1.257519736482706,-1.7425979839917272,-0.9445804193991463,-1.7502567337064294,-1.4243514037650187,-0.4090315100280699,0.18554365411004087,1.5207346391246686,-1.3323522975428201,-1.0763732961923527,0.935426096415537,0.786447031400014,0.3251381994168318,0.4245928479689998,0.6172282965203385,2.616286334548319,0.35013172747915905,0.23072155751839604,0.1078120918737563,-0.6767857327332797,1.486845300668094,-0.22754332442045902,-0.37629874464913476,0.7463145320495523,-0.19467705150091513,-1.4154453380765688,1.3399136119262056,-1.5777643034446764,-0.27774725451621385,0.20185972252411266,0.9349122376858232,-1.9228425692134634,1.0046670938839755,-0.6508739922195852,0.4269958744781549,0.7736665220816002,-0.1679201401431736,-1.3158405857178361,-0.8227589415389568,2.332130548823311,-0.26318021389783985,-1.4971248638820622,0.3152560911248023,-0.21665547778357377,-1.0023809876326206,1.0562004740071824,0.5338261162974342,1.084603932148778,0.2935647195292971,0.28628110241537885,-1.1494679572805997,-0.25532087031031897,-0.35075476425964247,0.9497286053864785,0.2807308118655686,-0.4251098238132698,-1.0621446257664477,0.41931528695406345,-1.433797178077299,-0.8059425488799932],\"yaxis\":\"y2\",\"type\":\"scatter\"},{\"line\":{\"color\":\"rgba(128, 128, 128, 1.0)\",\"dash\":\"solid\",\"shape\":\"linear\",\"width\":1.3},\"marker\":{\"size\":2,\"symbol\":\"circle\"},\"mode\":\"markers\",\"name\":\"A\",\"text\":\"\",\"x\":[0.8273152785715431,2.592082609608652,1.3446371871912153,0.8504550879324595,1.4411075649619918,0.5897397057175384,1.4823375219325754,0.493545341242126,0.2277940736874258,0.26800571588185357,-0.35721758206893844,-0.5240919506759124,-0.998536527564416,-0.25250677074350025,0.34751354653457334,0.7319758834630521,0.8515431046657899,-0.5151755682976872,1.1034991243247498,-0.2514271267200668,0.11530430980968087,0.42783703065710466,-0.46493111644446494,-0.3697897261937152,0.5756817113457978,0.5590010846145865,0.7723509688301612,-0.3848689347948521,-0.03960165885586036,0.044185855710254546,-0.5140996425468439,0.13193354043914313,0.9187833900981137,1.484115372604817,0.18697754963781588,1.9497496515191346,-0.025593087049639886,0.19876252469269806,0.40681310501725126,1.5754598787831944,0.5434325141033527,-1.1639700750272357,-2.027499814689522,0.3774390179879476,0.07839364114765025,0.2099088012296653,-1.0098193100645472,-2.1968598817674136,-2.085850838972527,0.22237535775602632,1.410759157113143,0.7575898202084071,-0.379137771012906,0.05344419077288705,-0.39949566994663593,0.15032321148972558,-0.13006768244103997,-0.1104800512865253,0.14024177840245208,-0.11546794485658657,1.1370169489407962,1.6418440274751496,1.029633502483267,2.064768104260361,-1.4246738743908782,-1.1906028269960245,1.1195470807731074,0.24714600279234417,0.41050677418878273,-0.3044927976891417,-2.054946754679443,-0.7307213097989068,-0.8708435579846577,-1.1405779109930412,-1.3375884485723633,-0.8553922504340327,0.811982322687059,0.6504087801710815,0.22215904010631066,-1.4420307525037719,0.7506310074727195,1.3566616786070929,0.7461563731341896,-0.07648236873264547,0.022522698063428805,0.6937233126166052,-0.32415267449581314,0.1577868414126188,1.094604977544399,-0.7470298922393848,0.558516436318415,0.7339447070301272,0.32600844025502,0.7143208325728774,1.1930579479539156,-0.16489897476312007,-0.5023550910613268,0.8485020620346165,0.6152295906262166,-1.7710607238056244],\"xaxis\":\"x3\",\"y\":[0.35989448670498325,-0.4592246745596689,1.1469340676932693,0.011457522595807158,-1.325225593039427,0.6814113631472483,-0.6786363701384942,1.0437656967750097,-0.47746466288488,0.8125037672312054,-0.47404658256936544,1.2031540729757069,1.4635324716319182,0.06280967604194186,-1.3846713229533583,0.857625982236854,0.5068595009022173,0.5580764208978222,0.7283816078799463,1.6679793441485444,0.5494052825729143,2.179905991957352,0.6687883289057667,-0.3900788675173005,0.6003974566718818,-0.4550592069568799,0.024033182599412138,0.8838170831120449,-0.3815550521370984,-1.1351702026828523,1.8944649799641564,0.294708748187957,0.21978311050099436,-0.07065302380242854,-0.07252968052331976,1.1144820614967048,0.606171730343062,-0.8731464829889949,-0.9310256218748634,-1.1793341276575884,-1.257519736482706,-1.7425979839917272,-0.9445804193991463,-1.7502567337064294,-1.4243514037650187,-0.4090315100280699,0.18554365411004087,1.5207346391246686,-1.3323522975428201,-1.0763732961923527,0.935426096415537,0.786447031400014,0.3251381994168318,0.4245928479689998,0.6172282965203385,2.616286334548319,0.35013172747915905,0.23072155751839604,0.1078120918737563,-0.6767857327332797,1.486845300668094,-0.22754332442045902,-0.37629874464913476,0.7463145320495523,-0.19467705150091513,-1.4154453380765688,1.3399136119262056,-1.5777643034446764,-0.27774725451621385,0.20185972252411266,0.9349122376858232,-1.9228425692134634,1.0046670938839755,-0.6508739922195852,0.4269958744781549,0.7736665220816002,-0.1679201401431736,-1.3158405857178361,-0.8227589415389568,2.332130548823311,-0.26318021389783985,-1.4971248638820622,0.3152560911248023,-0.21665547778357377,-1.0023809876326206,1.0562004740071824,0.5338261162974342,1.084603932148778,0.2935647195292971,0.28628110241537885,-1.1494679572805997,-0.25532087031031897,-0.35075476425964247,0.9497286053864785,0.2807308118655686,-0.4251098238132698,-1.0621446257664477,0.41931528695406345,-1.433797178077299,-0.8059425488799932],\"yaxis\":\"y3\",\"type\":\"scatter\"},{\"line\":{\"color\":\"rgba(128, 128, 128, 1.0)\",\"dash\":\"solid\",\"shape\":\"linear\",\"width\":1.3},\"marker\":{\"size\":2,\"symbol\":\"circle\"},\"mode\":\"markers\",\"name\":\"A\",\"text\":\"\",\"x\":[0.1639515482012815,1.8912813739797474,0.130753561918199,-2.462473908106972,-0.6603998166821248,1.9977377081442942,-1.0129093630599486,0.7921290056316523,-0.5664348156991554,-0.7249453745242685,-1.316613740020055,-0.6912569883984678,-1.240988387334244,-0.5210705358852363,0.09427243247393506,0.23596339084549361,0.39613978935162286,-0.5036875231146357,-1.4879042015174808,2.008266172048622,-0.9267001478713117,0.8886469782275257,-0.013999911406236168,0.18162473087366604,-0.05355539919631981,0.8512041291095764,1.4188904241052764,2.0261909174276163,-0.7659204731984209,-1.0137288460711575,-0.11314826507733342,-0.006556842213361446,-1.4145634914480307,-0.04656715573464401,0.11464370009805469,1.077154835460711,-0.6558996673933815,1.6004297267147591,1.1560180690378152,-1.1020980479547866,-0.29695874751007373,-2.3171441457140984,-0.6845246028821502,0.44585404969474557,0.023595686585148427,0.8643865790452707,0.6314911651454947,1.2575699668623646,0.04729427854654969,0.5259727805936953,0.619317035851485,-0.1106898572460105,-1.1664952254834136,0.21837344055509192,1.7268542929393982,1.1910080253594584,-0.03371678760423379,0.7484607684771561,1.7097535689505192,1.6719306216288725,0.17375769926297524,0.37715327609221455,-0.5887231780567602,-0.09935263687710601,0.27712225162381837,-0.8609743885728103,0.4279101952965506,0.3007884188375812,0.34063671029127696,0.10538779020884839,-0.30028901730662577,1.0019587248375998,0.1832065798821189,-1.4554640798274099,2.9912213268678367,1.6829095016685827,-0.6230371284787307,0.7837134148587172,-0.0842101697097363,0.7455313961820127,-1.612400798498298,-0.3221942083634528,-1.2099618162593822,-0.35263267466788234,0.6164369788445613,-0.13032311478530598,-1.8835020613120474,1.157435009222289,0.9121473121955195,1.2473321030756332,-0.7666362855181403,0.7432402678061955,0.344599844220491,0.6452809496473196,0.831922075508615,-0.6315196967878742,0.21774047700345495,-0.04705120336250258,-0.2739043016194293,0.3032166418279464],\"xaxis\":\"x4\",\"y\":[0.35989448670498325,-0.4592246745596689,1.1469340676932693,0.011457522595807158,-1.325225593039427,0.6814113631472483,-0.6786363701384942,1.0437656967750097,-0.47746466288488,0.8125037672312054,-0.47404658256936544,1.2031540729757069,1.4635324716319182,0.06280967604194186,-1.3846713229533583,0.857625982236854,0.5068595009022173,0.5580764208978222,0.7283816078799463,1.6679793441485444,0.5494052825729143,2.179905991957352,0.6687883289057667,-0.3900788675173005,0.6003974566718818,-0.4550592069568799,0.024033182599412138,0.8838170831120449,-0.3815550521370984,-1.1351702026828523,1.8944649799641564,0.294708748187957,0.21978311050099436,-0.07065302380242854,-0.07252968052331976,1.1144820614967048,0.606171730343062,-0.8731464829889949,-0.9310256218748634,-1.1793341276575884,-1.257519736482706,-1.7425979839917272,-0.9445804193991463,-1.7502567337064294,-1.4243514037650187,-0.4090315100280699,0.18554365411004087,1.5207346391246686,-1.3323522975428201,-1.0763732961923527,0.935426096415537,0.786447031400014,0.3251381994168318,0.4245928479689998,0.6172282965203385,2.616286334548319,0.35013172747915905,0.23072155751839604,0.1078120918737563,-0.6767857327332797,1.486845300668094,-0.22754332442045902,-0.37629874464913476,0.7463145320495523,-0.19467705150091513,-1.4154453380765688,1.3399136119262056,-1.5777643034446764,-0.27774725451621385,0.20185972252411266,0.9349122376858232,-1.9228425692134634,1.0046670938839755,-0.6508739922195852,0.4269958744781549,0.7736665220816002,-0.1679201401431736,-1.3158405857178361,-0.8227589415389568,2.332130548823311,-0.26318021389783985,-1.4971248638820622,0.3152560911248023,-0.21665547778357377,-1.0023809876326206,1.0562004740071824,0.5338261162974342,1.084603932148778,0.2935647195292971,0.28628110241537885,-1.1494679572805997,-0.25532087031031897,-0.35075476425964247,0.9497286053864785,0.2807308118655686,-0.4251098238132698,-1.0621446257664477,0.41931528695406345,-1.433797178077299,-0.8059425488799932],\"yaxis\":\"y4\",\"type\":\"scatter\"},{\"line\":{\"color\":\"rgba(128, 128, 128, 1.0)\",\"dash\":\"solid\",\"shape\":\"linear\",\"width\":1.3},\"marker\":{\"size\":2,\"symbol\":\"circle\"},\"mode\":\"markers\",\"name\":\"B\",\"text\":\"\",\"x\":[0.35989448670498325,-0.4592246745596689,1.1469340676932693,0.011457522595807158,-1.325225593039427,0.6814113631472483,-0.6786363701384942,1.0437656967750097,-0.47746466288488,0.8125037672312054,-0.47404658256936544,1.2031540729757069,1.4635324716319182,0.06280967604194186,-1.3846713229533583,0.857625982236854,0.5068595009022173,0.5580764208978222,0.7283816078799463,1.6679793441485444,0.5494052825729143,2.179905991957352,0.6687883289057667,-0.3900788675173005,0.6003974566718818,-0.4550592069568799,0.024033182599412138,0.8838170831120449,-0.3815550521370984,-1.1351702026828523,1.8944649799641564,0.294708748187957,0.21978311050099436,-0.07065302380242854,-0.07252968052331976,1.1144820614967048,0.606171730343062,-0.8731464829889949,-0.9310256218748634,-1.1793341276575884,-1.257519736482706,-1.7425979839917272,-0.9445804193991463,-1.7502567337064294,-1.4243514037650187,-0.4090315100280699,0.18554365411004087,1.5207346391246686,-1.3323522975428201,-1.0763732961923527,0.935426096415537,0.786447031400014,0.3251381994168318,0.4245928479689998,0.6172282965203385,2.616286334548319,0.35013172747915905,0.23072155751839604,0.1078120918737563,-0.6767857327332797,1.486845300668094,-0.22754332442045902,-0.37629874464913476,0.7463145320495523,-0.19467705150091513,-1.4154453380765688,1.3399136119262056,-1.5777643034446764,-0.27774725451621385,0.20185972252411266,0.9349122376858232,-1.9228425692134634,1.0046670938839755,-0.6508739922195852,0.4269958744781549,0.7736665220816002,-0.1679201401431736,-1.3158405857178361,-0.8227589415389568,2.332130548823311,-0.26318021389783985,-1.4971248638820622,0.3152560911248023,-0.21665547778357377,-1.0023809876326206,1.0562004740071824,0.5338261162974342,1.084603932148778,0.2935647195292971,0.28628110241537885,-1.1494679572805997,-0.25532087031031897,-0.35075476425964247,0.9497286053864785,0.2807308118655686,-0.4251098238132698,-1.0621446257664477,0.41931528695406345,-1.433797178077299,-0.8059425488799932],\"xaxis\":\"x5\",\"y\":[-0.9217746063940998,-1.6822361723427532,-0.055572935761315195,-0.7350958966894335,-0.16312573884020234,0.26078513301011524,-1.6077194546656872,-0.16660545555158907,0.4702211267676788,-0.8160247909852378,0.07090561857130953,-0.512506611196169,0.7176328754936439,-0.5532917462243572,-0.8119234722216444,-1.1765423268753135,-1.12954248594935,-0.4149262245711078,-0.4253415826023585,0.8469921767949793,1.881699763566048,-0.25778150596466876,-0.13128008428078422,0.5004041084234315,-1.649491285150849,-0.5042162792070994,0.6218104662260018,-0.5987775790098924,1.4123907764913297,-1.5904079493683279,-0.17544539905896128,-0.26662817691141316,1.6537875958037962,0.47060178918033885,-1.0478398572685959,1.2458723160603526,0.3183776222101448,-0.34137069400463826,0.6268383693928805,-0.49492715859173325,1.7894001280490095,1.0923690990085906,-0.4426468257952904,-1.7570569105500355,-0.2975462515868482,-0.9903552540790408,-2.0298888359656786,0.20798858218719538,-0.19840303127725278,0.9591272839305035,-1.0280598843346984,-1.3992328031466221,0.1824738273519832,-0.6025895866492086,-0.9843279818631707,-1.8390232897687318,1.534352550556892,1.0097682622746742,-0.861460988903354,-1.1660932424398551,-0.3094667414878226,1.1390385211944523,0.7427373004453051,0.4325319033275298,-0.49157497264069144,-1.1332619048375008,1.1259775995666133,1.9633898033012296,-0.1707707527943106,-0.4707537511823286,0.293722238328297,-0.6637770134834158,0.1301936407996693,0.3317424608102532,-1.0087404003189793,1.5522849293264396,0.22765004510397707,0.5272387175192732,-1.2419532380663771,0.33703182748365773,-1.7943304931124409,1.9246712787355624,-0.23366511001055065,0.09530901830895594,-0.2594634402771084,-0.20051248855805656,0.5230413669385336,-0.5013104579418655,0.46862784928238493,-1.2320574972191813,1.2274744511742934,0.9056958647317631,0.6943233325625244,0.613944109383328,0.20386916943256914,-0.4326740892386687,-0.5777941644677652,1.2663919771320504,1.4677257199411882,-1.8332729500431604],\"yaxis\":\"y5\",\"type\":\"scatter\"},{\"histfunc\":\"count\",\"histnorm\":\"\",\"marker\":{\"color\":\"rgba(55, 128, 191, 1.0)\",\"line\":{\"color\":\"#4D5663\",\"width\":1.3}},\"name\":\"B\",\"nbinsx\":10,\"opacity\":0.8,\"orientation\":\"v\",\"x\":[-0.9217746063940998,-1.6822361723427532,-0.055572935761315195,-0.7350958966894335,-0.16312573884020234,0.26078513301011524,-1.6077194546656872,-0.16660545555158907,0.4702211267676788,-0.8160247909852378,0.07090561857130953,-0.512506611196169,0.7176328754936439,-0.5532917462243572,-0.8119234722216444,-1.1765423268753135,-1.12954248594935,-0.4149262245711078,-0.4253415826023585,0.8469921767949793,1.881699763566048,-0.25778150596466876,-0.13128008428078422,0.5004041084234315,-1.649491285150849,-0.5042162792070994,0.6218104662260018,-0.5987775790098924,1.4123907764913297,-1.5904079493683279,-0.17544539905896128,-0.26662817691141316,1.6537875958037962,0.47060178918033885,-1.0478398572685959,1.2458723160603526,0.3183776222101448,-0.34137069400463826,0.6268383693928805,-0.49492715859173325,1.7894001280490095,1.0923690990085906,-0.4426468257952904,-1.7570569105500355,-0.2975462515868482,-0.9903552540790408,-2.0298888359656786,0.20798858218719538,-0.19840303127725278,0.9591272839305035,-1.0280598843346984,-1.3992328031466221,0.1824738273519832,-0.6025895866492086,-0.9843279818631707,-1.8390232897687318,1.534352550556892,1.0097682622746742,-0.861460988903354,-1.1660932424398551,-0.3094667414878226,1.1390385211944523,0.7427373004453051,0.4325319033275298,-0.49157497264069144,-1.1332619048375008,1.1259775995666133,1.9633898033012296,-0.1707707527943106,-0.4707537511823286,0.293722238328297,-0.6637770134834158,0.1301936407996693,0.3317424608102532,-1.0087404003189793,1.5522849293264396,0.22765004510397707,0.5272387175192732,-1.2419532380663771,0.33703182748365773,-1.7943304931124409,1.9246712787355624,-0.23366511001055065,0.09530901830895594,-0.2594634402771084,-0.20051248855805656,0.5230413669385336,-0.5013104579418655,0.46862784928238493,-1.2320574972191813,1.2274744511742934,0.9056958647317631,0.6943233325625244,0.613944109383328,0.20386916943256914,-0.4326740892386687,-0.5777941644677652,1.2663919771320504,1.4677257199411882,-1.8332729500431604],\"xaxis\":\"x6\",\"yaxis\":\"y6\",\"type\":\"histogram\"},{\"line\":{\"color\":\"rgba(128, 128, 128, 1.0)\",\"dash\":\"solid\",\"shape\":\"linear\",\"width\":1.3},\"marker\":{\"size\":2,\"symbol\":\"circle\"},\"mode\":\"markers\",\"name\":\"B\",\"text\":\"\",\"x\":[0.8273152785715431,2.592082609608652,1.3446371871912153,0.8504550879324595,1.4411075649619918,0.5897397057175384,1.4823375219325754,0.493545341242126,0.2277940736874258,0.26800571588185357,-0.35721758206893844,-0.5240919506759124,-0.998536527564416,-0.25250677074350025,0.34751354653457334,0.7319758834630521,0.8515431046657899,-0.5151755682976872,1.1034991243247498,-0.2514271267200668,0.11530430980968087,0.42783703065710466,-0.46493111644446494,-0.3697897261937152,0.5756817113457978,0.5590010846145865,0.7723509688301612,-0.3848689347948521,-0.03960165885586036,0.044185855710254546,-0.5140996425468439,0.13193354043914313,0.9187833900981137,1.484115372604817,0.18697754963781588,1.9497496515191346,-0.025593087049639886,0.19876252469269806,0.40681310501725126,1.5754598787831944,0.5434325141033527,-1.1639700750272357,-2.027499814689522,0.3774390179879476,0.07839364114765025,0.2099088012296653,-1.0098193100645472,-2.1968598817674136,-2.085850838972527,0.22237535775602632,1.410759157113143,0.7575898202084071,-0.379137771012906,0.05344419077288705,-0.39949566994663593,0.15032321148972558,-0.13006768244103997,-0.1104800512865253,0.14024177840245208,-0.11546794485658657,1.1370169489407962,1.6418440274751496,1.029633502483267,2.064768104260361,-1.4246738743908782,-1.1906028269960245,1.1195470807731074,0.24714600279234417,0.41050677418878273,-0.3044927976891417,-2.054946754679443,-0.7307213097989068,-0.8708435579846577,-1.1405779109930412,-1.3375884485723633,-0.8553922504340327,0.811982322687059,0.6504087801710815,0.22215904010631066,-1.4420307525037719,0.7506310074727195,1.3566616786070929,0.7461563731341896,-0.07648236873264547,0.022522698063428805,0.6937233126166052,-0.32415267449581314,0.1577868414126188,1.094604977544399,-0.7470298922393848,0.558516436318415,0.7339447070301272,0.32600844025502,0.7143208325728774,1.1930579479539156,-0.16489897476312007,-0.5023550910613268,0.8485020620346165,0.6152295906262166,-1.7710607238056244],\"xaxis\":\"x7\",\"y\":[-0.9217746063940998,-1.6822361723427532,-0.055572935761315195,-0.7350958966894335,-0.16312573884020234,0.26078513301011524,-1.6077194546656872,-0.16660545555158907,0.4702211267676788,-0.8160247909852378,0.07090561857130953,-0.512506611196169,0.7176328754936439,-0.5532917462243572,-0.8119234722216444,-1.1765423268753135,-1.12954248594935,-0.4149262245711078,-0.4253415826023585,0.8469921767949793,1.881699763566048,-0.25778150596466876,-0.13128008428078422,0.5004041084234315,-1.649491285150849,-0.5042162792070994,0.6218104662260018,-0.5987775790098924,1.4123907764913297,-1.5904079493683279,-0.17544539905896128,-0.26662817691141316,1.6537875958037962,0.47060178918033885,-1.0478398572685959,1.2458723160603526,0.3183776222101448,-0.34137069400463826,0.6268383693928805,-0.49492715859173325,1.7894001280490095,1.0923690990085906,-0.4426468257952904,-1.7570569105500355,-0.2975462515868482,-0.9903552540790408,-2.0298888359656786,0.20798858218719538,-0.19840303127725278,0.9591272839305035,-1.0280598843346984,-1.3992328031466221,0.1824738273519832,-0.6025895866492086,-0.9843279818631707,-1.8390232897687318,1.534352550556892,1.0097682622746742,-0.861460988903354,-1.1660932424398551,-0.3094667414878226,1.1390385211944523,0.7427373004453051,0.4325319033275298,-0.49157497264069144,-1.1332619048375008,1.1259775995666133,1.9633898033012296,-0.1707707527943106,-0.4707537511823286,0.293722238328297,-0.6637770134834158,0.1301936407996693,0.3317424608102532,-1.0087404003189793,1.5522849293264396,0.22765004510397707,0.5272387175192732,-1.2419532380663771,0.33703182748365773,-1.7943304931124409,1.9246712787355624,-0.23366511001055065,0.09530901830895594,-0.2594634402771084,-0.20051248855805656,0.5230413669385336,-0.5013104579418655,0.46862784928238493,-1.2320574972191813,1.2274744511742934,0.9056958647317631,0.6943233325625244,0.613944109383328,0.20386916943256914,-0.4326740892386687,-0.5777941644677652,1.2663919771320504,1.4677257199411882,-1.8332729500431604],\"yaxis\":\"y7\",\"type\":\"scatter\"},{\"line\":{\"color\":\"rgba(128, 128, 128, 1.0)\",\"dash\":\"solid\",\"shape\":\"linear\",\"width\":1.3},\"marker\":{\"size\":2,\"symbol\":\"circle\"},\"mode\":\"markers\",\"name\":\"B\",\"text\":\"\",\"x\":[0.1639515482012815,1.8912813739797474,0.130753561918199,-2.462473908106972,-0.6603998166821248,1.9977377081442942,-1.0129093630599486,0.7921290056316523,-0.5664348156991554,-0.7249453745242685,-1.316613740020055,-0.6912569883984678,-1.240988387334244,-0.5210705358852363,0.09427243247393506,0.23596339084549361,0.39613978935162286,-0.5036875231146357,-1.4879042015174808,2.008266172048622,-0.9267001478713117,0.8886469782275257,-0.013999911406236168,0.18162473087366604,-0.05355539919631981,0.8512041291095764,1.4188904241052764,2.0261909174276163,-0.7659204731984209,-1.0137288460711575,-0.11314826507733342,-0.006556842213361446,-1.4145634914480307,-0.04656715573464401,0.11464370009805469,1.077154835460711,-0.6558996673933815,1.6004297267147591,1.1560180690378152,-1.1020980479547866,-0.29695874751007373,-2.3171441457140984,-0.6845246028821502,0.44585404969474557,0.023595686585148427,0.8643865790452707,0.6314911651454947,1.2575699668623646,0.04729427854654969,0.5259727805936953,0.619317035851485,-0.1106898572460105,-1.1664952254834136,0.21837344055509192,1.7268542929393982,1.1910080253594584,-0.03371678760423379,0.7484607684771561,1.7097535689505192,1.6719306216288725,0.17375769926297524,0.37715327609221455,-0.5887231780567602,-0.09935263687710601,0.27712225162381837,-0.8609743885728103,0.4279101952965506,0.3007884188375812,0.34063671029127696,0.10538779020884839,-0.30028901730662577,1.0019587248375998,0.1832065798821189,-1.4554640798274099,2.9912213268678367,1.6829095016685827,-0.6230371284787307,0.7837134148587172,-0.0842101697097363,0.7455313961820127,-1.612400798498298,-0.3221942083634528,-1.2099618162593822,-0.35263267466788234,0.6164369788445613,-0.13032311478530598,-1.8835020613120474,1.157435009222289,0.9121473121955195,1.2473321030756332,-0.7666362855181403,0.7432402678061955,0.344599844220491,0.6452809496473196,0.831922075508615,-0.6315196967878742,0.21774047700345495,-0.04705120336250258,-0.2739043016194293,0.3032166418279464],\"xaxis\":\"x8\",\"y\":[-0.9217746063940998,-1.6822361723427532,-0.055572935761315195,-0.7350958966894335,-0.16312573884020234,0.26078513301011524,-1.6077194546656872,-0.16660545555158907,0.4702211267676788,-0.8160247909852378,0.07090561857130953,-0.512506611196169,0.7176328754936439,-0.5532917462243572,-0.8119234722216444,-1.1765423268753135,-1.12954248594935,-0.4149262245711078,-0.4253415826023585,0.8469921767949793,1.881699763566048,-0.25778150596466876,-0.13128008428078422,0.5004041084234315,-1.649491285150849,-0.5042162792070994,0.6218104662260018,-0.5987775790098924,1.4123907764913297,-1.5904079493683279,-0.17544539905896128,-0.26662817691141316,1.6537875958037962,0.47060178918033885,-1.0478398572685959,1.2458723160603526,0.3183776222101448,-0.34137069400463826,0.6268383693928805,-0.49492715859173325,1.7894001280490095,1.0923690990085906,-0.4426468257952904,-1.7570569105500355,-0.2975462515868482,-0.9903552540790408,-2.0298888359656786,0.20798858218719538,-0.19840303127725278,0.9591272839305035,-1.0280598843346984,-1.3992328031466221,0.1824738273519832,-0.6025895866492086,-0.9843279818631707,-1.8390232897687318,1.534352550556892,1.0097682622746742,-0.861460988903354,-1.1660932424398551,-0.3094667414878226,1.1390385211944523,0.7427373004453051,0.4325319033275298,-0.49157497264069144,-1.1332619048375008,1.1259775995666133,1.9633898033012296,-0.1707707527943106,-0.4707537511823286,0.293722238328297,-0.6637770134834158,0.1301936407996693,0.3317424608102532,-1.0087404003189793,1.5522849293264396,0.22765004510397707,0.5272387175192732,-1.2419532380663771,0.33703182748365773,-1.7943304931124409,1.9246712787355624,-0.23366511001055065,0.09530901830895594,-0.2594634402771084,-0.20051248855805656,0.5230413669385336,-0.5013104579418655,0.46862784928238493,-1.2320574972191813,1.2274744511742934,0.9056958647317631,0.6943233325625244,0.613944109383328,0.20386916943256914,-0.4326740892386687,-0.5777941644677652,1.2663919771320504,1.4677257199411882,-1.8332729500431604],\"yaxis\":\"y8\",\"type\":\"scatter\"},{\"line\":{\"color\":\"rgba(128, 128, 128, 1.0)\",\"dash\":\"solid\",\"shape\":\"linear\",\"width\":1.3},\"marker\":{\"size\":2,\"symbol\":\"circle\"},\"mode\":\"markers\",\"name\":\"C\",\"text\":\"\",\"x\":[0.35989448670498325,-0.4592246745596689,1.1469340676932693,0.011457522595807158,-1.325225593039427,0.6814113631472483,-0.6786363701384942,1.0437656967750097,-0.47746466288488,0.8125037672312054,-0.47404658256936544,1.2031540729757069,1.4635324716319182,0.06280967604194186,-1.3846713229533583,0.857625982236854,0.5068595009022173,0.5580764208978222,0.7283816078799463,1.6679793441485444,0.5494052825729143,2.179905991957352,0.6687883289057667,-0.3900788675173005,0.6003974566718818,-0.4550592069568799,0.024033182599412138,0.8838170831120449,-0.3815550521370984,-1.1351702026828523,1.8944649799641564,0.294708748187957,0.21978311050099436,-0.07065302380242854,-0.07252968052331976,1.1144820614967048,0.606171730343062,-0.8731464829889949,-0.9310256218748634,-1.1793341276575884,-1.257519736482706,-1.7425979839917272,-0.9445804193991463,-1.7502567337064294,-1.4243514037650187,-0.4090315100280699,0.18554365411004087,1.5207346391246686,-1.3323522975428201,-1.0763732961923527,0.935426096415537,0.786447031400014,0.3251381994168318,0.4245928479689998,0.6172282965203385,2.616286334548319,0.35013172747915905,0.23072155751839604,0.1078120918737563,-0.6767857327332797,1.486845300668094,-0.22754332442045902,-0.37629874464913476,0.7463145320495523,-0.19467705150091513,-1.4154453380765688,1.3399136119262056,-1.5777643034446764,-0.27774725451621385,0.20185972252411266,0.9349122376858232,-1.9228425692134634,1.0046670938839755,-0.6508739922195852,0.4269958744781549,0.7736665220816002,-0.1679201401431736,-1.3158405857178361,-0.8227589415389568,2.332130548823311,-0.26318021389783985,-1.4971248638820622,0.3152560911248023,-0.21665547778357377,-1.0023809876326206,1.0562004740071824,0.5338261162974342,1.084603932148778,0.2935647195292971,0.28628110241537885,-1.1494679572805997,-0.25532087031031897,-0.35075476425964247,0.9497286053864785,0.2807308118655686,-0.4251098238132698,-1.0621446257664477,0.41931528695406345,-1.433797178077299,-0.8059425488799932],\"xaxis\":\"x9\",\"y\":[0.8273152785715431,2.592082609608652,1.3446371871912153,0.8504550879324595,1.4411075649619918,0.5897397057175384,1.4823375219325754,0.493545341242126,0.2277940736874258,0.26800571588185357,-0.35721758206893844,-0.5240919506759124,-0.998536527564416,-0.25250677074350025,0.34751354653457334,0.7319758834630521,0.8515431046657899,-0.5151755682976872,1.1034991243247498,-0.2514271267200668,0.11530430980968087,0.42783703065710466,-0.46493111644446494,-0.3697897261937152,0.5756817113457978,0.5590010846145865,0.7723509688301612,-0.3848689347948521,-0.03960165885586036,0.044185855710254546,-0.5140996425468439,0.13193354043914313,0.9187833900981137,1.484115372604817,0.18697754963781588,1.9497496515191346,-0.025593087049639886,0.19876252469269806,0.40681310501725126,1.5754598787831944,0.5434325141033527,-1.1639700750272357,-2.027499814689522,0.3774390179879476,0.07839364114765025,0.2099088012296653,-1.0098193100645472,-2.1968598817674136,-2.085850838972527,0.22237535775602632,1.410759157113143,0.7575898202084071,-0.379137771012906,0.05344419077288705,-0.39949566994663593,0.15032321148972558,-0.13006768244103997,-0.1104800512865253,0.14024177840245208,-0.11546794485658657,1.1370169489407962,1.6418440274751496,1.029633502483267,2.064768104260361,-1.4246738743908782,-1.1906028269960245,1.1195470807731074,0.24714600279234417,0.41050677418878273,-0.3044927976891417,-2.054946754679443,-0.7307213097989068,-0.8708435579846577,-1.1405779109930412,-1.3375884485723633,-0.8553922504340327,0.811982322687059,0.6504087801710815,0.22215904010631066,-1.4420307525037719,0.7506310074727195,1.3566616786070929,0.7461563731341896,-0.07648236873264547,0.022522698063428805,0.6937233126166052,-0.32415267449581314,0.1577868414126188,1.094604977544399,-0.7470298922393848,0.558516436318415,0.7339447070301272,0.32600844025502,0.7143208325728774,1.1930579479539156,-0.16489897476312007,-0.5023550910613268,0.8485020620346165,0.6152295906262166,-1.7710607238056244],\"yaxis\":\"y9\",\"type\":\"scatter\"},{\"line\":{\"color\":\"rgba(128, 128, 128, 1.0)\",\"dash\":\"solid\",\"shape\":\"linear\",\"width\":1.3},\"marker\":{\"size\":2,\"symbol\":\"circle\"},\"mode\":\"markers\",\"name\":\"C\",\"text\":\"\",\"x\":[-0.9217746063940998,-1.6822361723427532,-0.055572935761315195,-0.7350958966894335,-0.16312573884020234,0.26078513301011524,-1.6077194546656872,-0.16660545555158907,0.4702211267676788,-0.8160247909852378,0.07090561857130953,-0.512506611196169,0.7176328754936439,-0.5532917462243572,-0.8119234722216444,-1.1765423268753135,-1.12954248594935,-0.4149262245711078,-0.4253415826023585,0.8469921767949793,1.881699763566048,-0.25778150596466876,-0.13128008428078422,0.5004041084234315,-1.649491285150849,-0.5042162792070994,0.6218104662260018,-0.5987775790098924,1.4123907764913297,-1.5904079493683279,-0.17544539905896128,-0.26662817691141316,1.6537875958037962,0.47060178918033885,-1.0478398572685959,1.2458723160603526,0.3183776222101448,-0.34137069400463826,0.6268383693928805,-0.49492715859173325,1.7894001280490095,1.0923690990085906,-0.4426468257952904,-1.7570569105500355,-0.2975462515868482,-0.9903552540790408,-2.0298888359656786,0.20798858218719538,-0.19840303127725278,0.9591272839305035,-1.0280598843346984,-1.3992328031466221,0.1824738273519832,-0.6025895866492086,-0.9843279818631707,-1.8390232897687318,1.534352550556892,1.0097682622746742,-0.861460988903354,-1.1660932424398551,-0.3094667414878226,1.1390385211944523,0.7427373004453051,0.4325319033275298,-0.49157497264069144,-1.1332619048375008,1.1259775995666133,1.9633898033012296,-0.1707707527943106,-0.4707537511823286,0.293722238328297,-0.6637770134834158,0.1301936407996693,0.3317424608102532,-1.0087404003189793,1.5522849293264396,0.22765004510397707,0.5272387175192732,-1.2419532380663771,0.33703182748365773,-1.7943304931124409,1.9246712787355624,-0.23366511001055065,0.09530901830895594,-0.2594634402771084,-0.20051248855805656,0.5230413669385336,-0.5013104579418655,0.46862784928238493,-1.2320574972191813,1.2274744511742934,0.9056958647317631,0.6943233325625244,0.613944109383328,0.20386916943256914,-0.4326740892386687,-0.5777941644677652,1.2663919771320504,1.4677257199411882,-1.8332729500431604],\"xaxis\":\"x10\",\"y\":[0.8273152785715431,2.592082609608652,1.3446371871912153,0.8504550879324595,1.4411075649619918,0.5897397057175384,1.4823375219325754,0.493545341242126,0.2277940736874258,0.26800571588185357,-0.35721758206893844,-0.5240919506759124,-0.998536527564416,-0.25250677074350025,0.34751354653457334,0.7319758834630521,0.8515431046657899,-0.5151755682976872,1.1034991243247498,-0.2514271267200668,0.11530430980968087,0.42783703065710466,-0.46493111644446494,-0.3697897261937152,0.5756817113457978,0.5590010846145865,0.7723509688301612,-0.3848689347948521,-0.03960165885586036,0.044185855710254546,-0.5140996425468439,0.13193354043914313,0.9187833900981137,1.484115372604817,0.18697754963781588,1.9497496515191346,-0.025593087049639886,0.19876252469269806,0.40681310501725126,1.5754598787831944,0.5434325141033527,-1.1639700750272357,-2.027499814689522,0.3774390179879476,0.07839364114765025,0.2099088012296653,-1.0098193100645472,-2.1968598817674136,-2.085850838972527,0.22237535775602632,1.410759157113143,0.7575898202084071,-0.379137771012906,0.05344419077288705,-0.39949566994663593,0.15032321148972558,-0.13006768244103997,-0.1104800512865253,0.14024177840245208,-0.11546794485658657,1.1370169489407962,1.6418440274751496,1.029633502483267,2.064768104260361,-1.4246738743908782,-1.1906028269960245,1.1195470807731074,0.24714600279234417,0.41050677418878273,-0.3044927976891417,-2.054946754679443,-0.7307213097989068,-0.8708435579846577,-1.1405779109930412,-1.3375884485723633,-0.8553922504340327,0.811982322687059,0.6504087801710815,0.22215904010631066,-1.4420307525037719,0.7506310074727195,1.3566616786070929,0.7461563731341896,-0.07648236873264547,0.022522698063428805,0.6937233126166052,-0.32415267449581314,0.1577868414126188,1.094604977544399,-0.7470298922393848,0.558516436318415,0.7339447070301272,0.32600844025502,0.7143208325728774,1.1930579479539156,-0.16489897476312007,-0.5023550910613268,0.8485020620346165,0.6152295906262166,-1.7710607238056244],\"yaxis\":\"y10\",\"type\":\"scatter\"},{\"histfunc\":\"count\",\"histnorm\":\"\",\"marker\":{\"color\":\"rgba(50, 171, 96, 1.0)\",\"line\":{\"color\":\"#4D5663\",\"width\":1.3}},\"name\":\"C\",\"nbinsx\":10,\"opacity\":0.8,\"orientation\":\"v\",\"x\":[0.8273152785715431,2.592082609608652,1.3446371871912153,0.8504550879324595,1.4411075649619918,0.5897397057175384,1.4823375219325754,0.493545341242126,0.2277940736874258,0.26800571588185357,-0.35721758206893844,-0.5240919506759124,-0.998536527564416,-0.25250677074350025,0.34751354653457334,0.7319758834630521,0.8515431046657899,-0.5151755682976872,1.1034991243247498,-0.2514271267200668,0.11530430980968087,0.42783703065710466,-0.46493111644446494,-0.3697897261937152,0.5756817113457978,0.5590010846145865,0.7723509688301612,-0.3848689347948521,-0.03960165885586036,0.044185855710254546,-0.5140996425468439,0.13193354043914313,0.9187833900981137,1.484115372604817,0.18697754963781588,1.9497496515191346,-0.025593087049639886,0.19876252469269806,0.40681310501725126,1.5754598787831944,0.5434325141033527,-1.1639700750272357,-2.027499814689522,0.3774390179879476,0.07839364114765025,0.2099088012296653,-1.0098193100645472,-2.1968598817674136,-2.085850838972527,0.22237535775602632,1.410759157113143,0.7575898202084071,-0.379137771012906,0.05344419077288705,-0.39949566994663593,0.15032321148972558,-0.13006768244103997,-0.1104800512865253,0.14024177840245208,-0.11546794485658657,1.1370169489407962,1.6418440274751496,1.029633502483267,2.064768104260361,-1.4246738743908782,-1.1906028269960245,1.1195470807731074,0.24714600279234417,0.41050677418878273,-0.3044927976891417,-2.054946754679443,-0.7307213097989068,-0.8708435579846577,-1.1405779109930412,-1.3375884485723633,-0.8553922504340327,0.811982322687059,0.6504087801710815,0.22215904010631066,-1.4420307525037719,0.7506310074727195,1.3566616786070929,0.7461563731341896,-0.07648236873264547,0.022522698063428805,0.6937233126166052,-0.32415267449581314,0.1577868414126188,1.094604977544399,-0.7470298922393848,0.558516436318415,0.7339447070301272,0.32600844025502,0.7143208325728774,1.1930579479539156,-0.16489897476312007,-0.5023550910613268,0.8485020620346165,0.6152295906262166,-1.7710607238056244],\"xaxis\":\"x11\",\"yaxis\":\"y11\",\"type\":\"histogram\"},{\"line\":{\"color\":\"rgba(128, 128, 128, 1.0)\",\"dash\":\"solid\",\"shape\":\"linear\",\"width\":1.3},\"marker\":{\"size\":2,\"symbol\":\"circle\"},\"mode\":\"markers\",\"name\":\"C\",\"text\":\"\",\"x\":[0.1639515482012815,1.8912813739797474,0.130753561918199,-2.462473908106972,-0.6603998166821248,1.9977377081442942,-1.0129093630599486,0.7921290056316523,-0.5664348156991554,-0.7249453745242685,-1.316613740020055,-0.6912569883984678,-1.240988387334244,-0.5210705358852363,0.09427243247393506,0.23596339084549361,0.39613978935162286,-0.5036875231146357,-1.4879042015174808,2.008266172048622,-0.9267001478713117,0.8886469782275257,-0.013999911406236168,0.18162473087366604,-0.05355539919631981,0.8512041291095764,1.4188904241052764,2.0261909174276163,-0.7659204731984209,-1.0137288460711575,-0.11314826507733342,-0.006556842213361446,-1.4145634914480307,-0.04656715573464401,0.11464370009805469,1.077154835460711,-0.6558996673933815,1.6004297267147591,1.1560180690378152,-1.1020980479547866,-0.29695874751007373,-2.3171441457140984,-0.6845246028821502,0.44585404969474557,0.023595686585148427,0.8643865790452707,0.6314911651454947,1.2575699668623646,0.04729427854654969,0.5259727805936953,0.619317035851485,-0.1106898572460105,-1.1664952254834136,0.21837344055509192,1.7268542929393982,1.1910080253594584,-0.03371678760423379,0.7484607684771561,1.7097535689505192,1.6719306216288725,0.17375769926297524,0.37715327609221455,-0.5887231780567602,-0.09935263687710601,0.27712225162381837,-0.8609743885728103,0.4279101952965506,0.3007884188375812,0.34063671029127696,0.10538779020884839,-0.30028901730662577,1.0019587248375998,0.1832065798821189,-1.4554640798274099,2.9912213268678367,1.6829095016685827,-0.6230371284787307,0.7837134148587172,-0.0842101697097363,0.7455313961820127,-1.612400798498298,-0.3221942083634528,-1.2099618162593822,-0.35263267466788234,0.6164369788445613,-0.13032311478530598,-1.8835020613120474,1.157435009222289,0.9121473121955195,1.2473321030756332,-0.7666362855181403,0.7432402678061955,0.344599844220491,0.6452809496473196,0.831922075508615,-0.6315196967878742,0.21774047700345495,-0.04705120336250258,-0.2739043016194293,0.3032166418279464],\"xaxis\":\"x12\",\"y\":[0.8273152785715431,2.592082609608652,1.3446371871912153,0.8504550879324595,1.4411075649619918,0.5897397057175384,1.4823375219325754,0.493545341242126,0.2277940736874258,0.26800571588185357,-0.35721758206893844,-0.5240919506759124,-0.998536527564416,-0.25250677074350025,0.34751354653457334,0.7319758834630521,0.8515431046657899,-0.5151755682976872,1.1034991243247498,-0.2514271267200668,0.11530430980968087,0.42783703065710466,-0.46493111644446494,-0.3697897261937152,0.5756817113457978,0.5590010846145865,0.7723509688301612,-0.3848689347948521,-0.03960165885586036,0.044185855710254546,-0.5140996425468439,0.13193354043914313,0.9187833900981137,1.484115372604817,0.18697754963781588,1.9497496515191346,-0.025593087049639886,0.19876252469269806,0.40681310501725126,1.5754598787831944,0.5434325141033527,-1.1639700750272357,-2.027499814689522,0.3774390179879476,0.07839364114765025,0.2099088012296653,-1.0098193100645472,-2.1968598817674136,-2.085850838972527,0.22237535775602632,1.410759157113143,0.7575898202084071,-0.379137771012906,0.05344419077288705,-0.39949566994663593,0.15032321148972558,-0.13006768244103997,-0.1104800512865253,0.14024177840245208,-0.11546794485658657,1.1370169489407962,1.6418440274751496,1.029633502483267,2.064768104260361,-1.4246738743908782,-1.1906028269960245,1.1195470807731074,0.24714600279234417,0.41050677418878273,-0.3044927976891417,-2.054946754679443,-0.7307213097989068,-0.8708435579846577,-1.1405779109930412,-1.3375884485723633,-0.8553922504340327,0.811982322687059,0.6504087801710815,0.22215904010631066,-1.4420307525037719,0.7506310074727195,1.3566616786070929,0.7461563731341896,-0.07648236873264547,0.022522698063428805,0.6937233126166052,-0.32415267449581314,0.1577868414126188,1.094604977544399,-0.7470298922393848,0.558516436318415,0.7339447070301272,0.32600844025502,0.7143208325728774,1.1930579479539156,-0.16489897476312007,-0.5023550910613268,0.8485020620346165,0.6152295906262166,-1.7710607238056244],\"yaxis\":\"y12\",\"type\":\"scatter\"},{\"line\":{\"color\":\"rgba(128, 128, 128, 1.0)\",\"dash\":\"solid\",\"shape\":\"linear\",\"width\":1.3},\"marker\":{\"size\":2,\"symbol\":\"circle\"},\"mode\":\"markers\",\"name\":\"D\",\"text\":\"\",\"x\":[0.35989448670498325,-0.4592246745596689,1.1469340676932693,0.011457522595807158,-1.325225593039427,0.6814113631472483,-0.6786363701384942,1.0437656967750097,-0.47746466288488,0.8125037672312054,-0.47404658256936544,1.2031540729757069,1.4635324716319182,0.06280967604194186,-1.3846713229533583,0.857625982236854,0.5068595009022173,0.5580764208978222,0.7283816078799463,1.6679793441485444,0.5494052825729143,2.179905991957352,0.6687883289057667,-0.3900788675173005,0.6003974566718818,-0.4550592069568799,0.024033182599412138,0.8838170831120449,-0.3815550521370984,-1.1351702026828523,1.8944649799641564,0.294708748187957,0.21978311050099436,-0.07065302380242854,-0.07252968052331976,1.1144820614967048,0.606171730343062,-0.8731464829889949,-0.9310256218748634,-1.1793341276575884,-1.257519736482706,-1.7425979839917272,-0.9445804193991463,-1.7502567337064294,-1.4243514037650187,-0.4090315100280699,0.18554365411004087,1.5207346391246686,-1.3323522975428201,-1.0763732961923527,0.935426096415537,0.786447031400014,0.3251381994168318,0.4245928479689998,0.6172282965203385,2.616286334548319,0.35013172747915905,0.23072155751839604,0.1078120918737563,-0.6767857327332797,1.486845300668094,-0.22754332442045902,-0.37629874464913476,0.7463145320495523,-0.19467705150091513,-1.4154453380765688,1.3399136119262056,-1.5777643034446764,-0.27774725451621385,0.20185972252411266,0.9349122376858232,-1.9228425692134634,1.0046670938839755,-0.6508739922195852,0.4269958744781549,0.7736665220816002,-0.1679201401431736,-1.3158405857178361,-0.8227589415389568,2.332130548823311,-0.26318021389783985,-1.4971248638820622,0.3152560911248023,-0.21665547778357377,-1.0023809876326206,1.0562004740071824,0.5338261162974342,1.084603932148778,0.2935647195292971,0.28628110241537885,-1.1494679572805997,-0.25532087031031897,-0.35075476425964247,0.9497286053864785,0.2807308118655686,-0.4251098238132698,-1.0621446257664477,0.41931528695406345,-1.433797178077299,-0.8059425488799932],\"xaxis\":\"x13\",\"y\":[0.1639515482012815,1.8912813739797474,0.130753561918199,-2.462473908106972,-0.6603998166821248,1.9977377081442942,-1.0129093630599486,0.7921290056316523,-0.5664348156991554,-0.7249453745242685,-1.316613740020055,-0.6912569883984678,-1.240988387334244,-0.5210705358852363,0.09427243247393506,0.23596339084549361,0.39613978935162286,-0.5036875231146357,-1.4879042015174808,2.008266172048622,-0.9267001478713117,0.8886469782275257,-0.013999911406236168,0.18162473087366604,-0.05355539919631981,0.8512041291095764,1.4188904241052764,2.0261909174276163,-0.7659204731984209,-1.0137288460711575,-0.11314826507733342,-0.006556842213361446,-1.4145634914480307,-0.04656715573464401,0.11464370009805469,1.077154835460711,-0.6558996673933815,1.6004297267147591,1.1560180690378152,-1.1020980479547866,-0.29695874751007373,-2.3171441457140984,-0.6845246028821502,0.44585404969474557,0.023595686585148427,0.8643865790452707,0.6314911651454947,1.2575699668623646,0.04729427854654969,0.5259727805936953,0.619317035851485,-0.1106898572460105,-1.1664952254834136,0.21837344055509192,1.7268542929393982,1.1910080253594584,-0.03371678760423379,0.7484607684771561,1.7097535689505192,1.6719306216288725,0.17375769926297524,0.37715327609221455,-0.5887231780567602,-0.09935263687710601,0.27712225162381837,-0.8609743885728103,0.4279101952965506,0.3007884188375812,0.34063671029127696,0.10538779020884839,-0.30028901730662577,1.0019587248375998,0.1832065798821189,-1.4554640798274099,2.9912213268678367,1.6829095016685827,-0.6230371284787307,0.7837134148587172,-0.0842101697097363,0.7455313961820127,-1.612400798498298,-0.3221942083634528,-1.2099618162593822,-0.35263267466788234,0.6164369788445613,-0.13032311478530598,-1.8835020613120474,1.157435009222289,0.9121473121955195,1.2473321030756332,-0.7666362855181403,0.7432402678061955,0.344599844220491,0.6452809496473196,0.831922075508615,-0.6315196967878742,0.21774047700345495,-0.04705120336250258,-0.2739043016194293,0.3032166418279464],\"yaxis\":\"y13\",\"type\":\"scatter\"},{\"line\":{\"color\":\"rgba(128, 128, 128, 1.0)\",\"dash\":\"solid\",\"shape\":\"linear\",\"width\":1.3},\"marker\":{\"size\":2,\"symbol\":\"circle\"},\"mode\":\"markers\",\"name\":\"D\",\"text\":\"\",\"x\":[-0.9217746063940998,-1.6822361723427532,-0.055572935761315195,-0.7350958966894335,-0.16312573884020234,0.26078513301011524,-1.6077194546656872,-0.16660545555158907,0.4702211267676788,-0.8160247909852378,0.07090561857130953,-0.512506611196169,0.7176328754936439,-0.5532917462243572,-0.8119234722216444,-1.1765423268753135,-1.12954248594935,-0.4149262245711078,-0.4253415826023585,0.8469921767949793,1.881699763566048,-0.25778150596466876,-0.13128008428078422,0.5004041084234315,-1.649491285150849,-0.5042162792070994,0.6218104662260018,-0.5987775790098924,1.4123907764913297,-1.5904079493683279,-0.17544539905896128,-0.26662817691141316,1.6537875958037962,0.47060178918033885,-1.0478398572685959,1.2458723160603526,0.3183776222101448,-0.34137069400463826,0.6268383693928805,-0.49492715859173325,1.7894001280490095,1.0923690990085906,-0.4426468257952904,-1.7570569105500355,-0.2975462515868482,-0.9903552540790408,-2.0298888359656786,0.20798858218719538,-0.19840303127725278,0.9591272839305035,-1.0280598843346984,-1.3992328031466221,0.1824738273519832,-0.6025895866492086,-0.9843279818631707,-1.8390232897687318,1.534352550556892,1.0097682622746742,-0.861460988903354,-1.1660932424398551,-0.3094667414878226,1.1390385211944523,0.7427373004453051,0.4325319033275298,-0.49157497264069144,-1.1332619048375008,1.1259775995666133,1.9633898033012296,-0.1707707527943106,-0.4707537511823286,0.293722238328297,-0.6637770134834158,0.1301936407996693,0.3317424608102532,-1.0087404003189793,1.5522849293264396,0.22765004510397707,0.5272387175192732,-1.2419532380663771,0.33703182748365773,-1.7943304931124409,1.9246712787355624,-0.23366511001055065,0.09530901830895594,-0.2594634402771084,-0.20051248855805656,0.5230413669385336,-0.5013104579418655,0.46862784928238493,-1.2320574972191813,1.2274744511742934,0.9056958647317631,0.6943233325625244,0.613944109383328,0.20386916943256914,-0.4326740892386687,-0.5777941644677652,1.2663919771320504,1.4677257199411882,-1.8332729500431604],\"xaxis\":\"x14\",\"y\":[0.1639515482012815,1.8912813739797474,0.130753561918199,-2.462473908106972,-0.6603998166821248,1.9977377081442942,-1.0129093630599486,0.7921290056316523,-0.5664348156991554,-0.7249453745242685,-1.316613740020055,-0.6912569883984678,-1.240988387334244,-0.5210705358852363,0.09427243247393506,0.23596339084549361,0.39613978935162286,-0.5036875231146357,-1.4879042015174808,2.008266172048622,-0.9267001478713117,0.8886469782275257,-0.013999911406236168,0.18162473087366604,-0.05355539919631981,0.8512041291095764,1.4188904241052764,2.0261909174276163,-0.7659204731984209,-1.0137288460711575,-0.11314826507733342,-0.006556842213361446,-1.4145634914480307,-0.04656715573464401,0.11464370009805469,1.077154835460711,-0.6558996673933815,1.6004297267147591,1.1560180690378152,-1.1020980479547866,-0.29695874751007373,-2.3171441457140984,-0.6845246028821502,0.44585404969474557,0.023595686585148427,0.8643865790452707,0.6314911651454947,1.2575699668623646,0.04729427854654969,0.5259727805936953,0.619317035851485,-0.1106898572460105,-1.1664952254834136,0.21837344055509192,1.7268542929393982,1.1910080253594584,-0.03371678760423379,0.7484607684771561,1.7097535689505192,1.6719306216288725,0.17375769926297524,0.37715327609221455,-0.5887231780567602,-0.09935263687710601,0.27712225162381837,-0.8609743885728103,0.4279101952965506,0.3007884188375812,0.34063671029127696,0.10538779020884839,-0.30028901730662577,1.0019587248375998,0.1832065798821189,-1.4554640798274099,2.9912213268678367,1.6829095016685827,-0.6230371284787307,0.7837134148587172,-0.0842101697097363,0.7455313961820127,-1.612400798498298,-0.3221942083634528,-1.2099618162593822,-0.35263267466788234,0.6164369788445613,-0.13032311478530598,-1.8835020613120474,1.157435009222289,0.9121473121955195,1.2473321030756332,-0.7666362855181403,0.7432402678061955,0.344599844220491,0.6452809496473196,0.831922075508615,-0.6315196967878742,0.21774047700345495,-0.04705120336250258,-0.2739043016194293,0.3032166418279464],\"yaxis\":\"y14\",\"type\":\"scatter\"},{\"line\":{\"color\":\"rgba(128, 128, 128, 1.0)\",\"dash\":\"solid\",\"shape\":\"linear\",\"width\":1.3},\"marker\":{\"size\":2,\"symbol\":\"circle\"},\"mode\":\"markers\",\"name\":\"D\",\"text\":\"\",\"x\":[0.8273152785715431,2.592082609608652,1.3446371871912153,0.8504550879324595,1.4411075649619918,0.5897397057175384,1.4823375219325754,0.493545341242126,0.2277940736874258,0.26800571588185357,-0.35721758206893844,-0.5240919506759124,-0.998536527564416,-0.25250677074350025,0.34751354653457334,0.7319758834630521,0.8515431046657899,-0.5151755682976872,1.1034991243247498,-0.2514271267200668,0.11530430980968087,0.42783703065710466,-0.46493111644446494,-0.3697897261937152,0.5756817113457978,0.5590010846145865,0.7723509688301612,-0.3848689347948521,-0.03960165885586036,0.044185855710254546,-0.5140996425468439,0.13193354043914313,0.9187833900981137,1.484115372604817,0.18697754963781588,1.9497496515191346,-0.025593087049639886,0.19876252469269806,0.40681310501725126,1.5754598787831944,0.5434325141033527,-1.1639700750272357,-2.027499814689522,0.3774390179879476,0.07839364114765025,0.2099088012296653,-1.0098193100645472,-2.1968598817674136,-2.085850838972527,0.22237535775602632,1.410759157113143,0.7575898202084071,-0.379137771012906,0.05344419077288705,-0.39949566994663593,0.15032321148972558,-0.13006768244103997,-0.1104800512865253,0.14024177840245208,-0.11546794485658657,1.1370169489407962,1.6418440274751496,1.029633502483267,2.064768104260361,-1.4246738743908782,-1.1906028269960245,1.1195470807731074,0.24714600279234417,0.41050677418878273,-0.3044927976891417,-2.054946754679443,-0.7307213097989068,-0.8708435579846577,-1.1405779109930412,-1.3375884485723633,-0.8553922504340327,0.811982322687059,0.6504087801710815,0.22215904010631066,-1.4420307525037719,0.7506310074727195,1.3566616786070929,0.7461563731341896,-0.07648236873264547,0.022522698063428805,0.6937233126166052,-0.32415267449581314,0.1577868414126188,1.094604977544399,-0.7470298922393848,0.558516436318415,0.7339447070301272,0.32600844025502,0.7143208325728774,1.1930579479539156,-0.16489897476312007,-0.5023550910613268,0.8485020620346165,0.6152295906262166,-1.7710607238056244],\"xaxis\":\"x15\",\"y\":[0.1639515482012815,1.8912813739797474,0.130753561918199,-2.462473908106972,-0.6603998166821248,1.9977377081442942,-1.0129093630599486,0.7921290056316523,-0.5664348156991554,-0.7249453745242685,-1.316613740020055,-0.6912569883984678,-1.240988387334244,-0.5210705358852363,0.09427243247393506,0.23596339084549361,0.39613978935162286,-0.5036875231146357,-1.4879042015174808,2.008266172048622,-0.9267001478713117,0.8886469782275257,-0.013999911406236168,0.18162473087366604,-0.05355539919631981,0.8512041291095764,1.4188904241052764,2.0261909174276163,-0.7659204731984209,-1.0137288460711575,-0.11314826507733342,-0.006556842213361446,-1.4145634914480307,-0.04656715573464401,0.11464370009805469,1.077154835460711,-0.6558996673933815,1.6004297267147591,1.1560180690378152,-1.1020980479547866,-0.29695874751007373,-2.3171441457140984,-0.6845246028821502,0.44585404969474557,0.023595686585148427,0.8643865790452707,0.6314911651454947,1.2575699668623646,0.04729427854654969,0.5259727805936953,0.619317035851485,-0.1106898572460105,-1.1664952254834136,0.21837344055509192,1.7268542929393982,1.1910080253594584,-0.03371678760423379,0.7484607684771561,1.7097535689505192,1.6719306216288725,0.17375769926297524,0.37715327609221455,-0.5887231780567602,-0.09935263687710601,0.27712225162381837,-0.8609743885728103,0.4279101952965506,0.3007884188375812,0.34063671029127696,0.10538779020884839,-0.30028901730662577,1.0019587248375998,0.1832065798821189,-1.4554640798274099,2.9912213268678367,1.6829095016685827,-0.6230371284787307,0.7837134148587172,-0.0842101697097363,0.7455313961820127,-1.612400798498298,-0.3221942083634528,-1.2099618162593822,-0.35263267466788234,0.6164369788445613,-0.13032311478530598,-1.8835020613120474,1.157435009222289,0.9121473121955195,1.2473321030756332,-0.7666362855181403,0.7432402678061955,0.344599844220491,0.6452809496473196,0.831922075508615,-0.6315196967878742,0.21774047700345495,-0.04705120336250258,-0.2739043016194293,0.3032166418279464],\"yaxis\":\"y15\",\"type\":\"scatter\"},{\"histfunc\":\"count\",\"histnorm\":\"\",\"marker\":{\"color\":\"rgba(128, 0, 128, 1.0)\",\"line\":{\"color\":\"#4D5663\",\"width\":1.3}},\"name\":\"D\",\"nbinsx\":10,\"opacity\":0.8,\"orientation\":\"v\",\"x\":[0.1639515482012815,1.8912813739797474,0.130753561918199,-2.462473908106972,-0.6603998166821248,1.9977377081442942,-1.0129093630599486,0.7921290056316523,-0.5664348156991554,-0.7249453745242685,-1.316613740020055,-0.6912569883984678,-1.240988387334244,-0.5210705358852363,0.09427243247393506,0.23596339084549361,0.39613978935162286,-0.5036875231146357,-1.4879042015174808,2.008266172048622,-0.9267001478713117,0.8886469782275257,-0.013999911406236168,0.18162473087366604,-0.05355539919631981,0.8512041291095764,1.4188904241052764,2.0261909174276163,-0.7659204731984209,-1.0137288460711575,-0.11314826507733342,-0.006556842213361446,-1.4145634914480307,-0.04656715573464401,0.11464370009805469,1.077154835460711,-0.6558996673933815,1.6004297267147591,1.1560180690378152,-1.1020980479547866,-0.29695874751007373,-2.3171441457140984,-0.6845246028821502,0.44585404969474557,0.023595686585148427,0.8643865790452707,0.6314911651454947,1.2575699668623646,0.04729427854654969,0.5259727805936953,0.619317035851485,-0.1106898572460105,-1.1664952254834136,0.21837344055509192,1.7268542929393982,1.1910080253594584,-0.03371678760423379,0.7484607684771561,1.7097535689505192,1.6719306216288725,0.17375769926297524,0.37715327609221455,-0.5887231780567602,-0.09935263687710601,0.27712225162381837,-0.8609743885728103,0.4279101952965506,0.3007884188375812,0.34063671029127696,0.10538779020884839,-0.30028901730662577,1.0019587248375998,0.1832065798821189,-1.4554640798274099,2.9912213268678367,1.6829095016685827,-0.6230371284787307,0.7837134148587172,-0.0842101697097363,0.7455313961820127,-1.612400798498298,-0.3221942083634528,-1.2099618162593822,-0.35263267466788234,0.6164369788445613,-0.13032311478530598,-1.8835020613120474,1.157435009222289,0.9121473121955195,1.2473321030756332,-0.7666362855181403,0.7432402678061955,0.344599844220491,0.6452809496473196,0.831922075508615,-0.6315196967878742,0.21774047700345495,-0.04705120336250258,-0.2739043016194293,0.3032166418279464],\"xaxis\":\"x16\",\"yaxis\":\"y16\",\"type\":\"histogram\"}],                        {\"bargap\":0.02,\"legend\":{\"bgcolor\":\"#F5F6F9\",\"font\":{\"color\":\"#4D5663\"}},\"paper_bgcolor\":\"#F5F6F9\",\"plot_bgcolor\":\"#F5F6F9\",\"showlegend\":false,\"template\":{\"data\":{\"barpolar\":[{\"marker\":{\"line\":{\"color\":\"#E5ECF6\",\"width\":0.5},\"pattern\":{\"fillmode\":\"overlay\",\"size\":10,\"solidity\":0.2}},\"type\":\"barpolar\"}],\"bar\":[{\"error_x\":{\"color\":\"#2a3f5f\"},\"error_y\":{\"color\":\"#2a3f5f\"},\"marker\":{\"line\":{\"color\":\"#E5ECF6\",\"width\":0.5},\"pattern\":{\"fillmode\":\"overlay\",\"size\":10,\"solidity\":0.2}},\"type\":\"bar\"}],\"carpet\":[{\"aaxis\":{\"endlinecolor\":\"#2a3f5f\",\"gridcolor\":\"white\",\"linecolor\":\"white\",\"minorgridcolor\":\"white\",\"startlinecolor\":\"#2a3f5f\"},\"baxis\":{\"endlinecolor\":\"#2a3f5f\",\"gridcolor\":\"white\",\"linecolor\":\"white\",\"minorgridcolor\":\"white\",\"startlinecolor\":\"#2a3f5f\"},\"type\":\"carpet\"}],\"choropleth\":[{\"colorbar\":{\"outlinewidth\":0,\"ticks\":\"\"},\"type\":\"choropleth\"}],\"contourcarpet\":[{\"colorbar\":{\"outlinewidth\":0,\"ticks\":\"\"},\"type\":\"contourcarpet\"}],\"contour\":[{\"colorbar\":{\"outlinewidth\":0,\"ticks\":\"\"},\"colorscale\":[[0.0,\"#0d0887\"],[0.1111111111111111,\"#46039f\"],[0.2222222222222222,\"#7201a8\"],[0.3333333333333333,\"#9c179e\"],[0.4444444444444444,\"#bd3786\"],[0.5555555555555556,\"#d8576b\"],[0.6666666666666666,\"#ed7953\"],[0.7777777777777778,\"#fb9f3a\"],[0.8888888888888888,\"#fdca26\"],[1.0,\"#f0f921\"]],\"type\":\"contour\"}],\"heatmapgl\":[{\"colorbar\":{\"outlinewidth\":0,\"ticks\":\"\"},\"colorscale\":[[0.0,\"#0d0887\"],[0.1111111111111111,\"#46039f\"],[0.2222222222222222,\"#7201a8\"],[0.3333333333333333,\"#9c179e\"],[0.4444444444444444,\"#bd3786\"],[0.5555555555555556,\"#d8576b\"],[0.6666666666666666,\"#ed7953\"],[0.7777777777777778,\"#fb9f3a\"],[0.8888888888888888,\"#fdca26\"],[1.0,\"#f0f921\"]],\"type\":\"heatmapgl\"}],\"heatmap\":[{\"colorbar\":{\"outlinewidth\":0,\"ticks\":\"\"},\"colorscale\":[[0.0,\"#0d0887\"],[0.1111111111111111,\"#46039f\"],[0.2222222222222222,\"#7201a8\"],[0.3333333333333333,\"#9c179e\"],[0.4444444444444444,\"#bd3786\"],[0.5555555555555556,\"#d8576b\"],[0.6666666666666666,\"#ed7953\"],[0.7777777777777778,\"#fb9f3a\"],[0.8888888888888888,\"#fdca26\"],[1.0,\"#f0f921\"]],\"type\":\"heatmap\"}],\"histogram2dcontour\":[{\"colorbar\":{\"outlinewidth\":0,\"ticks\":\"\"},\"colorscale\":[[0.0,\"#0d0887\"],[0.1111111111111111,\"#46039f\"],[0.2222222222222222,\"#7201a8\"],[0.3333333333333333,\"#9c179e\"],[0.4444444444444444,\"#bd3786\"],[0.5555555555555556,\"#d8576b\"],[0.6666666666666666,\"#ed7953\"],[0.7777777777777778,\"#fb9f3a\"],[0.8888888888888888,\"#fdca26\"],[1.0,\"#f0f921\"]],\"type\":\"histogram2dcontour\"}],\"histogram2d\":[{\"colorbar\":{\"outlinewidth\":0,\"ticks\":\"\"},\"colorscale\":[[0.0,\"#0d0887\"],[0.1111111111111111,\"#46039f\"],[0.2222222222222222,\"#7201a8\"],[0.3333333333333333,\"#9c179e\"],[0.4444444444444444,\"#bd3786\"],[0.5555555555555556,\"#d8576b\"],[0.6666666666666666,\"#ed7953\"],[0.7777777777777778,\"#fb9f3a\"],[0.8888888888888888,\"#fdca26\"],[1.0,\"#f0f921\"]],\"type\":\"histogram2d\"}],\"histogram\":[{\"marker\":{\"pattern\":{\"fillmode\":\"overlay\",\"size\":10,\"solidity\":0.2}},\"type\":\"histogram\"}],\"mesh3d\":[{\"colorbar\":{\"outlinewidth\":0,\"ticks\":\"\"},\"type\":\"mesh3d\"}],\"parcoords\":[{\"line\":{\"colorbar\":{\"outlinewidth\":0,\"ticks\":\"\"}},\"type\":\"parcoords\"}],\"pie\":[{\"automargin\":true,\"type\":\"pie\"}],\"scatter3d\":[{\"line\":{\"colorbar\":{\"outlinewidth\":0,\"ticks\":\"\"}},\"marker\":{\"colorbar\":{\"outlinewidth\":0,\"ticks\":\"\"}},\"type\":\"scatter3d\"}],\"scattercarpet\":[{\"marker\":{\"colorbar\":{\"outlinewidth\":0,\"ticks\":\"\"}},\"type\":\"scattercarpet\"}],\"scattergeo\":[{\"marker\":{\"colorbar\":{\"outlinewidth\":0,\"ticks\":\"\"}},\"type\":\"scattergeo\"}],\"scattergl\":[{\"marker\":{\"colorbar\":{\"outlinewidth\":0,\"ticks\":\"\"}},\"type\":\"scattergl\"}],\"scattermapbox\":[{\"marker\":{\"colorbar\":{\"outlinewidth\":0,\"ticks\":\"\"}},\"type\":\"scattermapbox\"}],\"scatterpolargl\":[{\"marker\":{\"colorbar\":{\"outlinewidth\":0,\"ticks\":\"\"}},\"type\":\"scatterpolargl\"}],\"scatterpolar\":[{\"marker\":{\"colorbar\":{\"outlinewidth\":0,\"ticks\":\"\"}},\"type\":\"scatterpolar\"}],\"scatter\":[{\"marker\":{\"colorbar\":{\"outlinewidth\":0,\"ticks\":\"\"}},\"type\":\"scatter\"}],\"scatterternary\":[{\"marker\":{\"colorbar\":{\"outlinewidth\":0,\"ticks\":\"\"}},\"type\":\"scatterternary\"}],\"surface\":[{\"colorbar\":{\"outlinewidth\":0,\"ticks\":\"\"},\"colorscale\":[[0.0,\"#0d0887\"],[0.1111111111111111,\"#46039f\"],[0.2222222222222222,\"#7201a8\"],[0.3333333333333333,\"#9c179e\"],[0.4444444444444444,\"#bd3786\"],[0.5555555555555556,\"#d8576b\"],[0.6666666666666666,\"#ed7953\"],[0.7777777777777778,\"#fb9f3a\"],[0.8888888888888888,\"#fdca26\"],[1.0,\"#f0f921\"]],\"type\":\"surface\"}],\"table\":[{\"cells\":{\"fill\":{\"color\":\"#EBF0F8\"},\"line\":{\"color\":\"white\"}},\"header\":{\"fill\":{\"color\":\"#C8D4E3\"},\"line\":{\"color\":\"white\"}},\"type\":\"table\"}]},\"layout\":{\"annotationdefaults\":{\"arrowcolor\":\"#2a3f5f\",\"arrowhead\":0,\"arrowwidth\":1},\"autotypenumbers\":\"strict\",\"coloraxis\":{\"colorbar\":{\"outlinewidth\":0,\"ticks\":\"\"}},\"colorscale\":{\"diverging\":[[0,\"#8e0152\"],[0.1,\"#c51b7d\"],[0.2,\"#de77ae\"],[0.3,\"#f1b6da\"],[0.4,\"#fde0ef\"],[0.5,\"#f7f7f7\"],[0.6,\"#e6f5d0\"],[0.7,\"#b8e186\"],[0.8,\"#7fbc41\"],[0.9,\"#4d9221\"],[1,\"#276419\"]],\"sequential\":[[0.0,\"#0d0887\"],[0.1111111111111111,\"#46039f\"],[0.2222222222222222,\"#7201a8\"],[0.3333333333333333,\"#9c179e\"],[0.4444444444444444,\"#bd3786\"],[0.5555555555555556,\"#d8576b\"],[0.6666666666666666,\"#ed7953\"],[0.7777777777777778,\"#fb9f3a\"],[0.8888888888888888,\"#fdca26\"],[1.0,\"#f0f921\"]],\"sequentialminus\":[[0.0,\"#0d0887\"],[0.1111111111111111,\"#46039f\"],[0.2222222222222222,\"#7201a8\"],[0.3333333333333333,\"#9c179e\"],[0.4444444444444444,\"#bd3786\"],[0.5555555555555556,\"#d8576b\"],[0.6666666666666666,\"#ed7953\"],[0.7777777777777778,\"#fb9f3a\"],[0.8888888888888888,\"#fdca26\"],[1.0,\"#f0f921\"]]},\"colorway\":[\"#636efa\",\"#EF553B\",\"#00cc96\",\"#ab63fa\",\"#FFA15A\",\"#19d3f3\",\"#FF6692\",\"#B6E880\",\"#FF97FF\",\"#FECB52\"],\"font\":{\"color\":\"#2a3f5f\"},\"geo\":{\"bgcolor\":\"white\",\"lakecolor\":\"white\",\"landcolor\":\"#E5ECF6\",\"showlakes\":true,\"showland\":true,\"subunitcolor\":\"white\"},\"hoverlabel\":{\"align\":\"left\"},\"hovermode\":\"closest\",\"mapbox\":{\"style\":\"light\"},\"paper_bgcolor\":\"white\",\"plot_bgcolor\":\"#E5ECF6\",\"polar\":{\"angularaxis\":{\"gridcolor\":\"white\",\"linecolor\":\"white\",\"ticks\":\"\"},\"bgcolor\":\"#E5ECF6\",\"radialaxis\":{\"gridcolor\":\"white\",\"linecolor\":\"white\",\"ticks\":\"\"}},\"scene\":{\"xaxis\":{\"backgroundcolor\":\"#E5ECF6\",\"gridcolor\":\"white\",\"gridwidth\":2,\"linecolor\":\"white\",\"showbackground\":true,\"ticks\":\"\",\"zerolinecolor\":\"white\"},\"yaxis\":{\"backgroundcolor\":\"#E5ECF6\",\"gridcolor\":\"white\",\"gridwidth\":2,\"linecolor\":\"white\",\"showbackground\":true,\"ticks\":\"\",\"zerolinecolor\":\"white\"},\"zaxis\":{\"backgroundcolor\":\"#E5ECF6\",\"gridcolor\":\"white\",\"gridwidth\":2,\"linecolor\":\"white\",\"showbackground\":true,\"ticks\":\"\",\"zerolinecolor\":\"white\"}},\"shapedefaults\":{\"line\":{\"color\":\"#2a3f5f\"}},\"ternary\":{\"aaxis\":{\"gridcolor\":\"white\",\"linecolor\":\"white\",\"ticks\":\"\"},\"baxis\":{\"gridcolor\":\"white\",\"linecolor\":\"white\",\"ticks\":\"\"},\"bgcolor\":\"#E5ECF6\",\"caxis\":{\"gridcolor\":\"white\",\"linecolor\":\"white\",\"ticks\":\"\"}},\"title\":{\"x\":0.05},\"xaxis\":{\"automargin\":true,\"gridcolor\":\"white\",\"linecolor\":\"white\",\"ticks\":\"\",\"title\":{\"standoff\":15},\"zerolinecolor\":\"white\",\"zerolinewidth\":2},\"yaxis\":{\"automargin\":true,\"gridcolor\":\"white\",\"linecolor\":\"white\",\"ticks\":\"\",\"title\":{\"standoff\":15},\"zerolinecolor\":\"white\",\"zerolinewidth\":2}}},\"title\":{\"font\":{\"color\":\"#4D5663\"}},\"xaxis\":{\"anchor\":\"y\",\"domain\":[0.0,0.2125],\"gridcolor\":\"#E1E5ED\",\"showgrid\":false,\"tickfont\":{\"color\":\"#4D5663\"},\"title\":{\"font\":{\"color\":\"#4D5663\"},\"text\":\"\"},\"zerolinecolor\":\"#E1E5ED\"},\"yaxis\":{\"anchor\":\"x\",\"domain\":[0.8025,1.0],\"gridcolor\":\"#E1E5ED\",\"showgrid\":false,\"tickfont\":{\"color\":\"#4D5663\"},\"title\":{\"font\":{\"color\":\"#4D5663\"},\"text\":\"\"},\"zerolinecolor\":\"#E1E5ED\"},\"xaxis2\":{\"anchor\":\"y2\",\"domain\":[0.2625,0.475],\"gridcolor\":\"#E1E5ED\",\"showgrid\":false,\"tickfont\":{\"color\":\"#4D5663\"},\"title\":{\"font\":{\"color\":\"#4D5663\"},\"text\":\"\"},\"zerolinecolor\":\"#E1E5ED\"},\"yaxis2\":{\"anchor\":\"x2\",\"domain\":[0.8025,1.0],\"gridcolor\":\"#E1E5ED\",\"showgrid\":false,\"tickfont\":{\"color\":\"#4D5663\"},\"title\":{\"font\":{\"color\":\"#4D5663\"},\"text\":\"\"},\"zerolinecolor\":\"#E1E5ED\"},\"xaxis3\":{\"anchor\":\"y3\",\"domain\":[0.525,0.7375],\"gridcolor\":\"#E1E5ED\",\"showgrid\":false,\"tickfont\":{\"color\":\"#4D5663\"},\"title\":{\"font\":{\"color\":\"#4D5663\"},\"text\":\"\"},\"zerolinecolor\":\"#E1E5ED\"},\"yaxis3\":{\"anchor\":\"x3\",\"domain\":[0.8025,1.0],\"gridcolor\":\"#E1E5ED\",\"showgrid\":false,\"tickfont\":{\"color\":\"#4D5663\"},\"title\":{\"font\":{\"color\":\"#4D5663\"},\"text\":\"\"},\"zerolinecolor\":\"#E1E5ED\"},\"xaxis4\":{\"anchor\":\"y4\",\"domain\":[0.7875,1.0],\"gridcolor\":\"#E1E5ED\",\"showgrid\":false,\"tickfont\":{\"color\":\"#4D5663\"},\"title\":{\"font\":{\"color\":\"#4D5663\"},\"text\":\"\"},\"zerolinecolor\":\"#E1E5ED\"},\"yaxis4\":{\"anchor\":\"x4\",\"domain\":[0.8025,1.0],\"gridcolor\":\"#E1E5ED\",\"showgrid\":false,\"tickfont\":{\"color\":\"#4D5663\"},\"title\":{\"font\":{\"color\":\"#4D5663\"},\"text\":\"\"},\"zerolinecolor\":\"#E1E5ED\"},\"xaxis5\":{\"anchor\":\"y5\",\"domain\":[0.0,0.2125],\"gridcolor\":\"#E1E5ED\",\"showgrid\":false,\"tickfont\":{\"color\":\"#4D5663\"},\"title\":{\"font\":{\"color\":\"#4D5663\"},\"text\":\"\"},\"zerolinecolor\":\"#E1E5ED\"},\"yaxis5\":{\"anchor\":\"x5\",\"domain\":[0.535,0.7325],\"gridcolor\":\"#E1E5ED\",\"showgrid\":false,\"tickfont\":{\"color\":\"#4D5663\"},\"title\":{\"font\":{\"color\":\"#4D5663\"},\"text\":\"\"},\"zerolinecolor\":\"#E1E5ED\"},\"xaxis6\":{\"anchor\":\"y6\",\"domain\":[0.2625,0.475],\"gridcolor\":\"#E1E5ED\",\"showgrid\":false,\"tickfont\":{\"color\":\"#4D5663\"},\"title\":{\"font\":{\"color\":\"#4D5663\"},\"text\":\"\"},\"zerolinecolor\":\"#E1E5ED\"},\"yaxis6\":{\"anchor\":\"x6\",\"domain\":[0.535,0.7325],\"gridcolor\":\"#E1E5ED\",\"showgrid\":false,\"tickfont\":{\"color\":\"#4D5663\"},\"title\":{\"font\":{\"color\":\"#4D5663\"},\"text\":\"\"},\"zerolinecolor\":\"#E1E5ED\"},\"xaxis7\":{\"anchor\":\"y7\",\"domain\":[0.525,0.7375],\"gridcolor\":\"#E1E5ED\",\"showgrid\":false,\"tickfont\":{\"color\":\"#4D5663\"},\"title\":{\"font\":{\"color\":\"#4D5663\"},\"text\":\"\"},\"zerolinecolor\":\"#E1E5ED\"},\"yaxis7\":{\"anchor\":\"x7\",\"domain\":[0.535,0.7325],\"gridcolor\":\"#E1E5ED\",\"showgrid\":false,\"tickfont\":{\"color\":\"#4D5663\"},\"title\":{\"font\":{\"color\":\"#4D5663\"},\"text\":\"\"},\"zerolinecolor\":\"#E1E5ED\"},\"xaxis8\":{\"anchor\":\"y8\",\"domain\":[0.7875,1.0],\"gridcolor\":\"#E1E5ED\",\"showgrid\":false,\"tickfont\":{\"color\":\"#4D5663\"},\"title\":{\"font\":{\"color\":\"#4D5663\"},\"text\":\"\"},\"zerolinecolor\":\"#E1E5ED\"},\"yaxis8\":{\"anchor\":\"x8\",\"domain\":[0.535,0.7325],\"gridcolor\":\"#E1E5ED\",\"showgrid\":false,\"tickfont\":{\"color\":\"#4D5663\"},\"title\":{\"font\":{\"color\":\"#4D5663\"},\"text\":\"\"},\"zerolinecolor\":\"#E1E5ED\"},\"xaxis9\":{\"anchor\":\"y9\",\"domain\":[0.0,0.2125],\"gridcolor\":\"#E1E5ED\",\"showgrid\":false,\"tickfont\":{\"color\":\"#4D5663\"},\"title\":{\"font\":{\"color\":\"#4D5663\"},\"text\":\"\"},\"zerolinecolor\":\"#E1E5ED\"},\"yaxis9\":{\"anchor\":\"x9\",\"domain\":[0.2675,0.465],\"gridcolor\":\"#E1E5ED\",\"showgrid\":false,\"tickfont\":{\"color\":\"#4D5663\"},\"title\":{\"font\":{\"color\":\"#4D5663\"},\"text\":\"\"},\"zerolinecolor\":\"#E1E5ED\"},\"xaxis10\":{\"anchor\":\"y10\",\"domain\":[0.2625,0.475],\"gridcolor\":\"#E1E5ED\",\"showgrid\":false,\"tickfont\":{\"color\":\"#4D5663\"},\"title\":{\"font\":{\"color\":\"#4D5663\"},\"text\":\"\"},\"zerolinecolor\":\"#E1E5ED\"},\"yaxis10\":{\"anchor\":\"x10\",\"domain\":[0.2675,0.465],\"gridcolor\":\"#E1E5ED\",\"showgrid\":false,\"tickfont\":{\"color\":\"#4D5663\"},\"title\":{\"font\":{\"color\":\"#4D5663\"},\"text\":\"\"},\"zerolinecolor\":\"#E1E5ED\"},\"xaxis11\":{\"anchor\":\"y11\",\"domain\":[0.525,0.7375],\"gridcolor\":\"#E1E5ED\",\"showgrid\":false,\"tickfont\":{\"color\":\"#4D5663\"},\"title\":{\"font\":{\"color\":\"#4D5663\"},\"text\":\"\"},\"zerolinecolor\":\"#E1E5ED\"},\"yaxis11\":{\"anchor\":\"x11\",\"domain\":[0.2675,0.465],\"gridcolor\":\"#E1E5ED\",\"showgrid\":false,\"tickfont\":{\"color\":\"#4D5663\"},\"title\":{\"font\":{\"color\":\"#4D5663\"},\"text\":\"\"},\"zerolinecolor\":\"#E1E5ED\"},\"xaxis12\":{\"anchor\":\"y12\",\"domain\":[0.7875,1.0],\"gridcolor\":\"#E1E5ED\",\"showgrid\":false,\"tickfont\":{\"color\":\"#4D5663\"},\"title\":{\"font\":{\"color\":\"#4D5663\"},\"text\":\"\"},\"zerolinecolor\":\"#E1E5ED\"},\"yaxis12\":{\"anchor\":\"x12\",\"domain\":[0.2675,0.465],\"gridcolor\":\"#E1E5ED\",\"showgrid\":false,\"tickfont\":{\"color\":\"#4D5663\"},\"title\":{\"font\":{\"color\":\"#4D5663\"},\"text\":\"\"},\"zerolinecolor\":\"#E1E5ED\"},\"xaxis13\":{\"anchor\":\"y13\",\"domain\":[0.0,0.2125],\"gridcolor\":\"#E1E5ED\",\"showgrid\":false,\"tickfont\":{\"color\":\"#4D5663\"},\"title\":{\"font\":{\"color\":\"#4D5663\"},\"text\":\"\"},\"zerolinecolor\":\"#E1E5ED\"},\"yaxis13\":{\"anchor\":\"x13\",\"domain\":[0.0,0.1975],\"gridcolor\":\"#E1E5ED\",\"showgrid\":false,\"tickfont\":{\"color\":\"#4D5663\"},\"title\":{\"font\":{\"color\":\"#4D5663\"},\"text\":\"\"},\"zerolinecolor\":\"#E1E5ED\"},\"xaxis14\":{\"anchor\":\"y14\",\"domain\":[0.2625,0.475],\"gridcolor\":\"#E1E5ED\",\"showgrid\":false,\"tickfont\":{\"color\":\"#4D5663\"},\"title\":{\"font\":{\"color\":\"#4D5663\"},\"text\":\"\"},\"zerolinecolor\":\"#E1E5ED\"},\"yaxis14\":{\"anchor\":\"x14\",\"domain\":[0.0,0.1975],\"gridcolor\":\"#E1E5ED\",\"showgrid\":false,\"tickfont\":{\"color\":\"#4D5663\"},\"title\":{\"font\":{\"color\":\"#4D5663\"},\"text\":\"\"},\"zerolinecolor\":\"#E1E5ED\"},\"xaxis15\":{\"anchor\":\"y15\",\"domain\":[0.525,0.7375],\"gridcolor\":\"#E1E5ED\",\"showgrid\":false,\"tickfont\":{\"color\":\"#4D5663\"},\"title\":{\"font\":{\"color\":\"#4D5663\"},\"text\":\"\"},\"zerolinecolor\":\"#E1E5ED\"},\"yaxis15\":{\"anchor\":\"x15\",\"domain\":[0.0,0.1975],\"gridcolor\":\"#E1E5ED\",\"showgrid\":false,\"tickfont\":{\"color\":\"#4D5663\"},\"title\":{\"font\":{\"color\":\"#4D5663\"},\"text\":\"\"},\"zerolinecolor\":\"#E1E5ED\"},\"xaxis16\":{\"anchor\":\"y16\",\"domain\":[0.7875,1.0],\"gridcolor\":\"#E1E5ED\",\"showgrid\":false,\"tickfont\":{\"color\":\"#4D5663\"},\"title\":{\"font\":{\"color\":\"#4D5663\"},\"text\":\"\"},\"zerolinecolor\":\"#E1E5ED\"},\"yaxis16\":{\"anchor\":\"x16\",\"domain\":[0.0,0.1975],\"gridcolor\":\"#E1E5ED\",\"showgrid\":false,\"tickfont\":{\"color\":\"#4D5663\"},\"title\":{\"font\":{\"color\":\"#4D5663\"},\"text\":\"\"},\"zerolinecolor\":\"#E1E5ED\"}},                        {\"showLink\": true, \"linkText\": \"Export to plot.ly\", \"plotlyServerURL\": \"https://plot.ly\", \"responsive\": true}                    ).then(function(){\n",
       "                            \n",
       "var gd = document.getElementById('fee8b4e7-78bb-493d-942c-f8ed525c5f76');\n",
       "var x = new MutationObserver(function (mutations, observer) {{\n",
       "        var display = window.getComputedStyle(gd).display;\n",
       "        if (!display || display === 'none') {{\n",
       "            console.log([gd, 'removed!']);\n",
       "            Plotly.purge(gd);\n",
       "            observer.disconnect();\n",
       "        }}\n",
       "}});\n",
       "\n",
       "// Listen for the removal of the full notebook cells\n",
       "var notebookContainer = gd.closest('#notebook-container');\n",
       "if (notebookContainer) {{\n",
       "    x.observe(notebookContainer, {childList: true});\n",
       "}}\n",
       "\n",
       "// Listen for the clearing of the current output cell\n",
       "var outputEl = gd.closest('.output');\n",
       "if (outputEl) {{\n",
       "    x.observe(outputEl, {childList: true});\n",
       "}}\n",
       "\n",
       "                        })                };                });            </script>        </div>"
      ]
     },
     "metadata": {},
     "output_type": "display_data"
    }
   ],
   "source": [
    "df.scatter_matrix()"
   ]
  }
 ],
 "metadata": {
  "kernelspec": {
   "display_name": "Python 3",
   "language": "python",
   "name": "python3"
  },
  "language_info": {
   "codemirror_mode": {
    "name": "ipython",
    "version": 3
   },
   "file_extension": ".py",
   "mimetype": "text/x-python",
   "name": "python",
   "nbconvert_exporter": "python",
   "pygments_lexer": "ipython3",
   "version": "3.8.8"
  }
 },
 "nbformat": 4,
 "nbformat_minor": 1
}
