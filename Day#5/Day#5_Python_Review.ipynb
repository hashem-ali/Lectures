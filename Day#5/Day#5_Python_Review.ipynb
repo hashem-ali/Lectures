{
 "cells": [
  {
   "cell_type": "markdown",
   "id": "7e547b7f",
   "metadata": {},
   "source": [
    "# Collections"
   ]
  },
  {
   "cell_type": "markdown",
   "id": "aad9eda2",
   "metadata": {},
   "source": [
    "## First: Lists"
   ]
  },
  {
   "cell_type": "code",
   "execution_count": 1,
   "id": "970bd8cc",
   "metadata": {},
   "outputs": [
    {
     "name": "stdout",
     "output_type": "stream",
     "text": [
      "['A', 'B', 'C']\n",
      "['A', 2, 3.5, False]\n"
     ]
    }
   ],
   "source": [
    "lst = [\"A\", \"B\", \"C\"]\n",
    "lst2 = [\"A\", 2, 3.5, False] # A list can contain different data types\n",
    "print(lst)\n",
    "print(lst2)"
   ]
  },
  {
   "cell_type": "code",
   "execution_count": 2,
   "id": "2971fd01",
   "metadata": {},
   "outputs": [
    {
     "name": "stdout",
     "output_type": "stream",
     "text": [
      "['A', 'B', 'C']\n"
     ]
    }
   ],
   "source": [
    "lst = list((\"A\", \"B\", \"C\"))\n",
    "print(lst)"
   ]
  },
  {
   "cell_type": "code",
   "execution_count": 3,
   "id": "1f11cf6f",
   "metadata": {},
   "outputs": [
    {
     "name": "stdout",
     "output_type": "stream",
     "text": [
      "C\n",
      "B\n",
      "['A']\n",
      "['A', 'B']\n",
      "['A']\n"
     ]
    }
   ],
   "source": [
    "# List Items\n",
    "print(lst[2])\n",
    "# Negative Indexing\n",
    "print(lst[-2])\n",
    "# Range of Indexes\n",
    "print(lst[0:1])\n",
    "print(lst[:2])\n",
    "print(lst[:1])"
   ]
  },
  {
   "cell_type": "code",
   "execution_count": 4,
   "id": "a64afeff",
   "metadata": {},
   "outputs": [
    {
     "name": "stdout",
     "output_type": "stream",
     "text": [
      "['A', 'B', 'C', 'D']\n"
     ]
    }
   ],
   "source": [
    "# Ordered\n",
    "# When we say that lists are ordered, it means that the items have a defined order, and that order will not change.\n",
    "# If you add new items to a list, the new items will be placed at the end of the list.\n",
    "\n",
    "# Changeable\n",
    "# The list is changeable, meaning that we can change, add, and remove items in a list after it has been created\n",
    "lst.append('D')\n",
    "print(lst)"
   ]
  },
  {
   "cell_type": "code",
   "execution_count": 5,
   "id": "52b31c21",
   "metadata": {},
   "outputs": [
    {
     "name": "stdout",
     "output_type": "stream",
     "text": [
      "['A', 'B', 'C', 'D', 'C']\n"
     ]
    }
   ],
   "source": [
    "# Allow Duplicates\n",
    "lst.append('C')\n",
    "print(lst)"
   ]
  },
  {
   "cell_type": "code",
   "execution_count": 6,
   "id": "25cb15c6",
   "metadata": {},
   "outputs": [
    {
     "name": "stdout",
     "output_type": "stream",
     "text": [
      "5\n"
     ]
    }
   ],
   "source": [
    "#List Length\n",
    "print(len(lst))"
   ]
  },
  {
   "cell_type": "code",
   "execution_count": 7,
   "id": "f4509ad9",
   "metadata": {},
   "outputs": [
    {
     "name": "stdout",
     "output_type": "stream",
     "text": [
      "no\n"
     ]
    }
   ],
   "source": [
    "# Check if Item Exists\n",
    "if 'E' in lst:\n",
    "    print(\"yes\")\n",
    "else:\n",
    "    print(\"no\")"
   ]
  },
  {
   "cell_type": "code",
   "execution_count": 8,
   "id": "f0132644",
   "metadata": {},
   "outputs": [
    {
     "name": "stdout",
     "output_type": "stream",
     "text": [
      "['Z', 'B', 'C', 'D', 'C']\n"
     ]
    }
   ],
   "source": [
    "# Change Item Value\n",
    "lst[0]=\"Z\"\n",
    "print(lst)"
   ]
  },
  {
   "cell_type": "code",
   "execution_count": 9,
   "id": "e90305ad",
   "metadata": {},
   "outputs": [
    {
     "name": "stdout",
     "output_type": "stream",
     "text": [
      "['Z', 'B', 'Y', 'C', 'D', 'C']\n"
     ]
    }
   ],
   "source": [
    "# insert() >> insert a new list item, without replacing any of the existing values\n",
    "lst.insert(2, \"Y\")\n",
    "print(lst)"
   ]
  },
  {
   "cell_type": "code",
   "execution_count": 10,
   "id": "b6dd5b61",
   "metadata": {},
   "outputs": [
    {
     "name": "stdout",
     "output_type": "stream",
     "text": [
      "['Z', 'B', 'Y', 'C', 'D', 'C', 'E']\n"
     ]
    }
   ],
   "source": [
    "# append() Method\n",
    "lst.append(\"E\")\n",
    "print(lst)"
   ]
  },
  {
   "cell_type": "code",
   "execution_count": 11,
   "id": "f36b62b0",
   "metadata": {},
   "outputs": [
    {
     "name": "stdout",
     "output_type": "stream",
     "text": [
      "['Z', 'B', 'Y', 'C', 'D', 'C', 'E']\n"
     ]
    }
   ],
   "source": [
    "lst_copy = lst.copy()\n",
    "print(lst_copy)"
   ]
  },
  {
   "cell_type": "code",
   "execution_count": 12,
   "id": "56fb6b2b",
   "metadata": {},
   "outputs": [
    {
     "name": "stdout",
     "output_type": "stream",
     "text": [
      "[1, 2, 3]\n",
      "[1, 2, 3]\n",
      "[1, 2, 5]\n",
      "[1, 2, 5]\n"
     ]
    }
   ],
   "source": [
    "# You cannot copy a list simply by typing list2 = list1, \n",
    "# because: list2 will only be a reference to list1, \n",
    "# and changes made in list1 will automatically also be made in list2.\n",
    "list1 = [1,2,3]\n",
    "list2 = list1\n",
    "print(list1)\n",
    "print(list2)\n",
    "list2[2] = 5\n",
    "print(list1)\n",
    "print(list2)"
   ]
  },
  {
   "cell_type": "code",
   "execution_count": 13,
   "id": "12599053",
   "metadata": {},
   "outputs": [
    {
     "name": "stdout",
     "output_type": "stream",
     "text": [
      "[]\n"
     ]
    }
   ],
   "source": [
    "# clear() Method\n",
    "lst_copy.clear()\n",
    "print(lst_copy)"
   ]
  },
  {
   "cell_type": "code",
   "execution_count": 14,
   "id": "066ba9ff",
   "metadata": {},
   "outputs": [
    {
     "name": "stdout",
     "output_type": "stream",
     "text": [
      "['B', 'Y', 'C', 'D', 'C', 'E']\n"
     ]
    }
   ],
   "source": [
    "# remove() Method\n",
    "lst.remove(\"Z\")\n",
    "print(lst)"
   ]
  },
  {
   "cell_type": "code",
   "execution_count": 15,
   "id": "e99e3e39",
   "metadata": {},
   "outputs": [
    {
     "name": "stdout",
     "output_type": "stream",
     "text": [
      "['Y', 'C', 'D', 'C', 'E']\n"
     ]
    }
   ],
   "source": [
    "# pop() Method\n",
    "lst.pop(0)\n",
    "print(lst)"
   ]
  },
  {
   "cell_type": "code",
   "execution_count": 16,
   "id": "17552d79",
   "metadata": {},
   "outputs": [
    {
     "name": "stdout",
     "output_type": "stream",
     "text": [
      "['C', 'D', 'C', 'E']\n"
     ]
    }
   ],
   "source": [
    "# del Method\n",
    "del lst[0]\n",
    "print(lst)"
   ]
  },
  {
   "cell_type": "code",
   "execution_count": 17,
   "id": "13dc9d0d",
   "metadata": {},
   "outputs": [
    {
     "name": "stdout",
     "output_type": "stream",
     "text": [
      "['E', 'C', 'D', 'C']\n"
     ]
    }
   ],
   "source": [
    "# reverse() Method\n",
    "lst.reverse()\n",
    "print(lst)"
   ]
  },
  {
   "cell_type": "code",
   "execution_count": 18,
   "id": "02b62648",
   "metadata": {},
   "outputs": [
    {
     "name": "stdout",
     "output_type": "stream",
     "text": [
      "['C', 'C', 'D', 'E']\n"
     ]
    }
   ],
   "source": [
    "# sort() Method\n",
    "lst.sort(reverse=False)\n",
    "print(lst)"
   ]
  },
  {
   "cell_type": "code",
   "execution_count": 19,
   "id": "06383156",
   "metadata": {},
   "outputs": [
    {
     "name": "stdout",
     "output_type": "stream",
     "text": [
      "['C', 'C', 'D', 'E', 'A', 2, 3.5, False]\n"
     ]
    }
   ],
   "source": [
    "# extend() Method\n",
    "lst.extend(lst2)\n",
    "print(lst)"
   ]
  },
  {
   "cell_type": "code",
   "execution_count": 20,
   "id": "b006c0e3",
   "metadata": {},
   "outputs": [
    {
     "name": "stdout",
     "output_type": "stream",
     "text": [
      "[1, 2, 3, 4, 5, 6]\n"
     ]
    }
   ],
   "source": [
    "# Join Two Lists\n",
    "list1 = [1,2,3]\n",
    "list2 = [4,5,6]\n",
    "list3 = list1 + list2\n",
    "print(list3)"
   ]
  },
  {
   "cell_type": "code",
   "execution_count": 21,
   "id": "047e4341",
   "metadata": {},
   "outputs": [
    {
     "name": "stdout",
     "output_type": "stream",
     "text": [
      "3\n"
     ]
    }
   ],
   "source": [
    "# index() Method\n",
    "print(lst.index('E'))"
   ]
  },
  {
   "cell_type": "code",
   "execution_count": 22,
   "id": "5d6c4191",
   "metadata": {},
   "outputs": [
    {
     "name": "stdout",
     "output_type": "stream",
     "text": [
      "1\n"
     ]
    }
   ],
   "source": [
    "# count() Method\n",
    "print(lst.count('E'))"
   ]
  },
  {
   "cell_type": "code",
   "execution_count": 23,
   "id": "c363792d",
   "metadata": {},
   "outputs": [
    {
     "name": "stdout",
     "output_type": "stream",
     "text": [
      "C\n",
      "C\n",
      "D\n",
      "E\n",
      "A\n",
      "2\n",
      "3.5\n",
      "False\n"
     ]
    }
   ],
   "source": [
    "# loop lists\n",
    "for item in lst:\n",
    "    print(item)"
   ]
  },
  {
   "cell_type": "code",
   "execution_count": 24,
   "id": "4642ef87",
   "metadata": {},
   "outputs": [
    {
     "name": "stdout",
     "output_type": "stream",
     "text": [
      "C\n",
      "C\n",
      "D\n",
      "E\n",
      "A\n",
      "2\n",
      "3.5\n",
      "False\n"
     ]
    }
   ],
   "source": [
    "for item in range(len(lst)):\n",
    "    print(lst[item])"
   ]
  },
  {
   "cell_type": "code",
   "execution_count": 25,
   "id": "ca4cdeb0",
   "metadata": {},
   "outputs": [
    {
     "name": "stdout",
     "output_type": "stream",
     "text": [
      "C\n",
      "C\n",
      "D\n",
      "E\n",
      "A\n",
      "2\n",
      "3.5\n",
      "False\n"
     ]
    }
   ],
   "source": [
    "i = 0\n",
    "while i < len(lst):\n",
    "    print(lst[i])\n",
    "    i = i + 1"
   ]
  },
  {
   "cell_type": "code",
   "execution_count": 26,
   "id": "90e0ffbc",
   "metadata": {},
   "outputs": [
    {
     "name": "stdout",
     "output_type": "stream",
     "text": [
      "C\n",
      "C\n",
      "D\n",
      "E\n",
      "A\n",
      "2\n",
      "3.5\n",
      "False\n"
     ]
    },
    {
     "data": {
      "text/plain": [
       "[None, None, None, None, None, None, None, None]"
      ]
     },
     "execution_count": 26,
     "metadata": {},
     "output_type": "execute_result"
    }
   ],
   "source": [
    "# List Comprehension offers the shortest syntax for looping through lists\n",
    "# newlist = [expression for item in iterable if condition == True]\n",
    "[print(x) for x in lst]"
   ]
  },
  {
   "cell_type": "code",
   "execution_count": 27,
   "id": "11f7b15c",
   "metadata": {},
   "outputs": [
    {
     "name": "stdout",
     "output_type": "stream",
     "text": [
      "['Sara', 'Amal']\n"
     ]
    }
   ],
   "source": [
    "lst = [\"Ahmed\", \"Sara\", \"Amal\"]\n",
    "newlst = []\n",
    "for item in lst:\n",
    "    if \"a\" in item:\n",
    "        newlst.append(item)\n",
    "print(newlst)"
   ]
  },
  {
   "cell_type": "code",
   "execution_count": 28,
   "id": "a7c69bb6",
   "metadata": {},
   "outputs": [
    {
     "name": "stdout",
     "output_type": "stream",
     "text": [
      "['Sara', 'Amal']\n"
     ]
    }
   ],
   "source": [
    "newlst2 = []\n",
    "newlst2 = [item for item in lst if \"a\" in item]\n",
    "print(newlst2)"
   ]
  },
  {
   "cell_type": "markdown",
   "id": "d2bb9c49",
   "metadata": {},
   "source": [
    "## Second: Tuples"
   ]
  },
  {
   "cell_type": "code",
   "execution_count": 29,
   "id": "27feb9d6",
   "metadata": {},
   "outputs": [
    {
     "name": "stdout",
     "output_type": "stream",
     "text": [
      "('A', 'B', 'C')\n"
     ]
    }
   ],
   "source": [
    "t = (\"A\", \"B\", \"C\")\n",
    "print(t)"
   ]
  },
  {
   "cell_type": "code",
   "execution_count": 30,
   "id": "b2333bea",
   "metadata": {},
   "outputs": [
    {
     "name": "stdout",
     "output_type": "stream",
     "text": [
      "B\n",
      "('B',)\n"
     ]
    }
   ],
   "source": [
    "# Access an item\n",
    "print(t[1])\n",
    "# Negative and range Indexing \n",
    "print(t[1:-1])"
   ]
  },
  {
   "cell_type": "code",
   "execution_count": 31,
   "id": "f9eed96a",
   "metadata": {},
   "outputs": [
    {
     "name": "stdout",
     "output_type": "stream",
     "text": [
      "<class 'str'>\n",
      "<class 'tuple'>\n"
     ]
    }
   ],
   "source": [
    "print(type(t[1]))\n",
    "# Negative and range Indexing \n",
    "print(type(t[1:-1]))"
   ]
  },
  {
   "cell_type": "code",
   "execution_count": 32,
   "id": "ec5e4ef0",
   "metadata": {},
   "outputs": [
    {
     "ename": "TypeError",
     "evalue": "'tuple' object does not support item assignment",
     "output_type": "error",
     "traceback": [
      "\u001b[0;31m---------------------------------------------------------------------------\u001b[0m",
      "\u001b[0;31mTypeError\u001b[0m                                 Traceback (most recent call last)",
      "\u001b[0;32m<ipython-input-32-e4558545923b>\u001b[0m in \u001b[0;36m<module>\u001b[0;34m\u001b[0m\n\u001b[1;32m      1\u001b[0m \u001b[0;31m# Once a tuple is created, you cannot change its values.\u001b[0m\u001b[0;34m\u001b[0m\u001b[0;34m\u001b[0m\u001b[0;34m\u001b[0m\u001b[0m\n\u001b[1;32m      2\u001b[0m \u001b[0;31m# Tuples are unchangeable, or immutable as it also is called.\u001b[0m\u001b[0;34m\u001b[0m\u001b[0;34m\u001b[0m\u001b[0;34m\u001b[0m\u001b[0m\n\u001b[0;32m----> 3\u001b[0;31m \u001b[0mt\u001b[0m\u001b[0;34m[\u001b[0m\u001b[0;36m0\u001b[0m\u001b[0;34m]\u001b[0m\u001b[0;34m=\u001b[0m\u001b[0;34m\"K\"\u001b[0m\u001b[0;34m\u001b[0m\u001b[0;34m\u001b[0m\u001b[0m\n\u001b[0m\u001b[1;32m      4\u001b[0m \u001b[0mprint\u001b[0m\u001b[0;34m(\u001b[0m\u001b[0mt\u001b[0m\u001b[0;34m)\u001b[0m\u001b[0;34m\u001b[0m\u001b[0;34m\u001b[0m\u001b[0m\n",
      "\u001b[0;31mTypeError\u001b[0m: 'tuple' object does not support item assignment"
     ]
    }
   ],
   "source": [
    "# Once a tuple is created, you cannot change its values. \n",
    "# Tuples are unchangeable, or immutable as it also is called.\n",
    "t[0]=\"K\"\n",
    "print(t)"
   ]
  },
  {
   "cell_type": "code",
   "execution_count": 33,
   "id": "b6a14016",
   "metadata": {},
   "outputs": [
    {
     "data": {
      "text/plain": [
       "('A', 'B', 'C')"
      ]
     },
     "execution_count": 33,
     "metadata": {},
     "output_type": "execute_result"
    }
   ],
   "source": [
    "t"
   ]
  },
  {
   "cell_type": "code",
   "execution_count": 34,
   "id": "4db30d30",
   "metadata": {},
   "outputs": [
    {
     "name": "stdout",
     "output_type": "stream",
     "text": [
      "('A', 'B', 'C', 'B')\n"
     ]
    }
   ],
   "source": [
    "# Allow Duplicates\n",
    "t = (\"A\", \"B\", \"C\", \"B\")\n",
    "print(t)"
   ]
  },
  {
   "cell_type": "code",
   "execution_count": 35,
   "id": "0c7ae441",
   "metadata": {},
   "outputs": [
    {
     "name": "stdout",
     "output_type": "stream",
     "text": [
      "('A', 'B', 'C', 'D')\n",
      "('A', 'B', 'C', 'D', 'E')\n"
     ]
    }
   ],
   "source": [
    "# to change tuple values, you can:\n",
    "# 1- Convert the tuple into a list to be able to change it:\n",
    "t2 = list(t)\n",
    "t2[3] = \"D\"\n",
    "t = tuple(t2)\n",
    "print(t)\n",
    "# 2- Add tuple to a tuple.\n",
    "t3 = (\"E\",)\n",
    "t += t3\n",
    "print(t)"
   ]
  },
  {
   "cell_type": "code",
   "execution_count": 36,
   "id": "88b6a2a5",
   "metadata": {},
   "outputs": [
    {
     "name": "stdout",
     "output_type": "stream",
     "text": [
      "A\n",
      "B\n",
      "C\n"
     ]
    }
   ],
   "source": [
    "# Unpacking a Tuple\n",
    "t4 = (\"A\", \"B\", \"C\")\n",
    "(x, y, z) = t4\n",
    "print(x)\n",
    "print(y)\n",
    "print(z)"
   ]
  },
  {
   "cell_type": "code",
   "execution_count": 37,
   "id": "d1ee4cbb",
   "metadata": {},
   "outputs": [
    {
     "name": "stdout",
     "output_type": "stream",
     "text": [
      "('A', 'B', 'C', 'D', 'E')\n",
      "A\n",
      "B\n",
      "['C', 'D', 'E']\n"
     ]
    }
   ],
   "source": [
    "# Using Asterisk*\n",
    "print(t)\n",
    "(A, B, *C) = t\n",
    "print(A)\n",
    "print(B)\n",
    "print(C)"
   ]
  },
  {
   "cell_type": "code",
   "execution_count": 38,
   "id": "3ee3adb8",
   "metadata": {},
   "outputs": [
    {
     "name": "stdout",
     "output_type": "stream",
     "text": [
      "2\n"
     ]
    }
   ],
   "source": [
    "# The count() method returns the number of times a specified value appears in the tuple.\n",
    "t = ('A', 'B', 'C', 'D', 'E', 'A')\n",
    "print(t.count(\"A\"))"
   ]
  },
  {
   "cell_type": "code",
   "execution_count": 39,
   "id": "07c930cb",
   "metadata": {},
   "outputs": [
    {
     "name": "stdout",
     "output_type": "stream",
     "text": [
      "0\n"
     ]
    }
   ],
   "source": [
    "# The index() method finds the first occurrence of the specified value.\n",
    "print(t.index(\"A\"))"
   ]
  },
  {
   "cell_type": "markdown",
   "id": "d577cdb8",
   "metadata": {},
   "source": [
    "## Third: Sets"
   ]
  },
  {
   "cell_type": "code",
   "execution_count": 40,
   "id": "af4bdef3",
   "metadata": {},
   "outputs": [
    {
     "name": "stdout",
     "output_type": "stream",
     "text": [
      "{'B', 'A', 'D', 'C', 'E'}\n"
     ]
    }
   ],
   "source": [
    "s = {'A', 'B', 'C', 'D', 'E', 'A'}\n",
    "print(s)\n",
    "# Unordered >> items can appear in a different order every time you use them, \n",
    "# and cannot be referred to by index.\n",
    "# Duplicates Not Allowed\n",
    "# Unchangeable"
   ]
  },
  {
   "cell_type": "code",
   "execution_count": 41,
   "id": "516b3d43",
   "metadata": {},
   "outputs": [
    {
     "name": "stdout",
     "output_type": "stream",
     "text": [
      "B\n",
      "A\n",
      "D\n",
      "C\n",
      "E\n"
     ]
    }
   ],
   "source": [
    "# Access Items by loop\n",
    "s = {'A', 'B', 'C', 'D', 'E', 'A'}\n",
    "for x in s:\n",
    "    print(x)"
   ]
  },
  {
   "cell_type": "code",
   "execution_count": 42,
   "id": "230874fc",
   "metadata": {},
   "outputs": [
    {
     "name": "stdout",
     "output_type": "stream",
     "text": [
      "{'B', 'A', 'D', 'X', 'C', 'E'}\n"
     ]
    }
   ],
   "source": [
    "# add() method to add one item\n",
    "s.add(\"X\")\n",
    "print(s)"
   ]
  },
  {
   "cell_type": "code",
   "execution_count": 43,
   "id": "16e7dbf9",
   "metadata": {},
   "outputs": [
    {
     "name": "stdout",
     "output_type": "stream",
     "text": [
      "{'Z', 'B', 'A', 'D', 'Y', 'X', 'C', 'E'}\n",
      "{'Z', 'N', 'M', 'B', 'A', 'D', 'Y', 'X', 'C', 'E'}\n"
     ]
    }
   ],
   "source": [
    "# Add Sets or any iterable object (tuples, lists, dictionaries etc.).\n",
    "s2 = {'Y', 'Z'}\n",
    "s.update(s2)\n",
    "print(s)\n",
    "\n",
    "lst = ['M', 'N']\n",
    "s.update(lst)\n",
    "print(s)"
   ]
  },
  {
   "cell_type": "code",
   "execution_count": 44,
   "id": "55bffc09",
   "metadata": {},
   "outputs": [
    {
     "name": "stdout",
     "output_type": "stream",
     "text": [
      "{'Z', 'N', 'M', 'B', 'A', 'D', 'Y', 'C', 'E'}\n"
     ]
    }
   ],
   "source": [
    "s.remove(\"X\")\n",
    "print(s)"
   ]
  },
  {
   "cell_type": "code",
   "execution_count": 45,
   "id": "24aafc05",
   "metadata": {},
   "outputs": [
    {
     "name": "stdout",
     "output_type": "stream",
     "text": [
      "{'Z', 'N', 'M', 'B', 'A', 'D', 'C', 'E'}\n"
     ]
    }
   ],
   "source": [
    "s.discard(\"Y\")\n",
    "print(s)"
   ]
  },
  {
   "cell_type": "markdown",
   "id": "268393fc",
   "metadata": {},
   "source": [
    "# What is the difference between discard and remove?"
   ]
  },
  {
   "cell_type": "code",
   "execution_count": 46,
   "id": "18af19a7",
   "metadata": {},
   "outputs": [
    {
     "name": "stdout",
     "output_type": "stream",
     "text": [
      "{'Z', 'N', 'M', 'B', 'A', 'D', 'C', 'E'}\n"
     ]
    }
   ],
   "source": [
    "s.discard(\"r\")\n",
    "print(s)"
   ]
  },
  {
   "cell_type": "code",
   "execution_count": 47,
   "id": "e8720baa",
   "metadata": {},
   "outputs": [
    {
     "ename": "KeyError",
     "evalue": "'r'",
     "output_type": "error",
     "traceback": [
      "\u001b[0;31m---------------------------------------------------------------------------\u001b[0m",
      "\u001b[0;31mKeyError\u001b[0m                                  Traceback (most recent call last)",
      "\u001b[0;32m<ipython-input-47-d75e4d1eb475>\u001b[0m in \u001b[0;36m<module>\u001b[0;34m\u001b[0m\n\u001b[0;32m----> 1\u001b[0;31m \u001b[0ms\u001b[0m\u001b[0;34m.\u001b[0m\u001b[0mremove\u001b[0m\u001b[0;34m(\u001b[0m\u001b[0;34m\"r\"\u001b[0m\u001b[0;34m)\u001b[0m\u001b[0;34m\u001b[0m\u001b[0;34m\u001b[0m\u001b[0m\n\u001b[0m\u001b[1;32m      2\u001b[0m \u001b[0mprint\u001b[0m\u001b[0;34m(\u001b[0m\u001b[0ms\u001b[0m\u001b[0;34m)\u001b[0m\u001b[0;34m\u001b[0m\u001b[0;34m\u001b[0m\u001b[0m\n",
      "\u001b[0;31mKeyError\u001b[0m: 'r'"
     ]
    }
   ],
   "source": [
    "s.remove(\"r\")\n",
    "print(s)"
   ]
  },
  {
   "cell_type": "code",
   "execution_count": 48,
   "id": "5de8c4d8",
   "metadata": {},
   "outputs": [
    {
     "name": "stdout",
     "output_type": "stream",
     "text": [
      "Z\n",
      "{'N', 'M', 'B', 'A', 'D', 'C', 'E'}\n"
     ]
    }
   ],
   "source": [
    "# pop() method will remove the last item. \n",
    "# As that sets are unordered, so you will not know what item that gets removed.\n",
    "x = s.pop()\n",
    "print(x)\n",
    "print(s)"
   ]
  },
  {
   "cell_type": "code",
   "execution_count": 49,
   "id": "5a412db8",
   "metadata": {},
   "outputs": [
    {
     "name": "stdout",
     "output_type": "stream",
     "text": [
      "N\n",
      "{'M', 'B', 'A', 'D', 'C', 'E'}\n"
     ]
    }
   ],
   "source": [
    "x = s.pop()\n",
    "print(x)\n",
    "print(s)"
   ]
  },
  {
   "cell_type": "code",
   "execution_count": 50,
   "id": "91ddb974",
   "metadata": {},
   "outputs": [
    {
     "name": "stdout",
     "output_type": "stream",
     "text": [
      "M\n",
      "{'B', 'A', 'D', 'C', 'E'}\n"
     ]
    }
   ],
   "source": [
    "x = s.pop()\n",
    "print(x)\n",
    "print(s)"
   ]
  },
  {
   "cell_type": "code",
   "execution_count": 51,
   "id": "b9b5585f",
   "metadata": {},
   "outputs": [
    {
     "name": "stdout",
     "output_type": "stream",
     "text": [
      "B\n",
      "{'A', 'D', 'C', 'E'}\n"
     ]
    }
   ],
   "source": [
    "x = s.pop()\n",
    "print(x)\n",
    "print(s)"
   ]
  },
  {
   "cell_type": "code",
   "execution_count": 52,
   "id": "adc41a85",
   "metadata": {},
   "outputs": [
    {
     "name": "stdout",
     "output_type": "stream",
     "text": [
      "set()\n"
     ]
    }
   ],
   "source": [
    "# clear() method empties the set\n",
    "s.clear()\n",
    "print(s)"
   ]
  },
  {
   "cell_type": "code",
   "execution_count": 53,
   "id": "cba8e0c2",
   "metadata": {},
   "outputs": [
    {
     "name": "stdout",
     "output_type": "stream",
     "text": [
      "{'Y', 'Z'}\n"
     ]
    }
   ],
   "source": [
    "# The del keyword will delete the set completely\n",
    "s = {'Y', 'Z'}\n",
    "print(s)\n",
    "del s\n"
   ]
  },
  {
   "cell_type": "code",
   "execution_count": 54,
   "id": "5569a730",
   "metadata": {},
   "outputs": [
    {
     "name": "stdout",
     "output_type": "stream",
     "text": [
      "1\n",
      "20\n"
     ]
    }
   ],
   "source": [
    "s = {1, 8, 10, 20}\n",
    "print(min(s))\n",
    "print(max(s))"
   ]
  },
  {
   "cell_type": "markdown",
   "id": "9b82a212",
   "metadata": {},
   "source": [
    "## Forth: Dictionaries"
   ]
  },
  {
   "cell_type": "code",
   "execution_count": 55,
   "id": "bf486bf6",
   "metadata": {},
   "outputs": [
    {
     "name": "stdout",
     "output_type": "stream",
     "text": [
      "{'Name': 'Sara', 'B.O.D': 1995, 'Age': 26}\n",
      "3\n"
     ]
    }
   ],
   "source": [
    "# Ordered\n",
    "dict1 = {\n",
    "  \"Name\": \"Sara\",\n",
    "  \"B.O.D\": 1995,\n",
    "  \"Age\": 26 \n",
    "}\n",
    "print(dict1)\n",
    "print(len(dict1))"
   ]
  },
  {
   "cell_type": "code",
   "execution_count": 56,
   "id": "6742f6b6",
   "metadata": {},
   "outputs": [
    {
     "name": "stdout",
     "output_type": "stream",
     "text": [
      "{'Name': 'Sara', 'B.O.D': 1995, 'Age': 26}\n"
     ]
    }
   ],
   "source": [
    "# Duplicates Not Allowed\n",
    "dict1 = {\n",
    "  \"Name\": \"Sara\",\n",
    "  \"B.O.D\": 1995,\n",
    "  \"Age\": 26,\n",
    "  \"Age\": 26\n",
    "}\n",
    "print(dict1)"
   ]
  },
  {
   "cell_type": "code",
   "execution_count": 57,
   "id": "9fd17b15",
   "metadata": {},
   "outputs": [
    {
     "name": "stdout",
     "output_type": "stream",
     "text": [
      "{'Name': 'Sara', 'B.O.D': 1995, 'Age': 26, 'Age2': 26}\n"
     ]
    }
   ],
   "source": [
    "dict1 = {\n",
    "  \"Name\": \"Sara\",\n",
    "  \"B.O.D\": 1995,\n",
    "  \"Age\": 26,\n",
    "  \"Age2\": 26\n",
    "}\n",
    "print(dict1)"
   ]
  },
  {
   "cell_type": "code",
   "execution_count": 58,
   "id": "35a6c90f",
   "metadata": {},
   "outputs": [
    {
     "name": "stdout",
     "output_type": "stream",
     "text": [
      "{'Name': 'Sara', 'B.O.D': 1995, 'Age': 26, 'Age2': 26, 'Blood Type': 'B'}\n"
     ]
    }
   ],
   "source": [
    "# Changeable\n",
    "dict1[\"Blood Type\"] = \"B\"\n",
    "print(dict1)"
   ]
  },
  {
   "cell_type": "code",
   "execution_count": 59,
   "id": "b2ce146a",
   "metadata": {},
   "outputs": [
    {
     "name": "stdout",
     "output_type": "stream",
     "text": [
      "Sara\n",
      "Sara\n"
     ]
    }
   ],
   "source": [
    "# Accessing Items\n",
    "x = dict1[\"Name\"]\n",
    "print(x)\n",
    "\n",
    "x = dict1.get(\"Name\")\n",
    "print(x)"
   ]
  },
  {
   "cell_type": "code",
   "execution_count": 60,
   "id": "12d8ebf5",
   "metadata": {},
   "outputs": [
    {
     "name": "stdout",
     "output_type": "stream",
     "text": [
      "dict_items([('Name', 'Sara'), ('B.O.D', 1995), ('Age', 26), ('Age2', 26), ('Blood Type', 'B')])\n"
     ]
    }
   ],
   "source": [
    "print(dict1.items())"
   ]
  },
  {
   "cell_type": "code",
   "execution_count": 61,
   "id": "3e1f2e06",
   "metadata": {},
   "outputs": [
    {
     "name": "stdout",
     "output_type": "stream",
     "text": [
      "dict_keys(['Name', 'B.O.D', 'Age', 'Age2', 'Blood Type'])\n"
     ]
    }
   ],
   "source": [
    "print(dict1.keys())"
   ]
  },
  {
   "cell_type": "code",
   "execution_count": 62,
   "id": "681a173f",
   "metadata": {},
   "outputs": [
    {
     "name": "stdout",
     "output_type": "stream",
     "text": [
      "dict_values(['Sara', 1995, 26, 26, 'B'])\n"
     ]
    }
   ],
   "source": [
    "print(dict1.values())"
   ]
  },
  {
   "cell_type": "code",
   "execution_count": 63,
   "id": "f33f221c",
   "metadata": {},
   "outputs": [
    {
     "name": "stdout",
     "output_type": "stream",
     "text": [
      "dict_values(['Sara', 1995, 26, 26, 'B'])\n",
      "dict_values(['Sara', 1994, 26, 26, 'B'])\n"
     ]
    }
   ],
   "source": [
    "x = dict1.values()\n",
    "print(x) #before the change\n",
    "\n",
    "dict1[\"B.O.D\"] = 1994\n",
    "print(x) #after the change"
   ]
  },
  {
   "cell_type": "code",
   "execution_count": 64,
   "id": "ec2e5656",
   "metadata": {},
   "outputs": [
    {
     "name": "stdout",
     "output_type": "stream",
     "text": [
      "{'Name': 'Reem', 'B.O.D': 1994, 'Age': 26, 'Age2': 26, 'Blood Type': 'B'}\n"
     ]
    }
   ],
   "source": [
    "dict1.update({\"Name\": \"Reem\"})\n",
    "print(dict1)"
   ]
  },
  {
   "cell_type": "code",
   "execution_count": 65,
   "id": "2f2411cb",
   "metadata": {},
   "outputs": [
    {
     "name": "stdout",
     "output_type": "stream",
     "text": [
      "{'Name': 'Reem', 'B.O.D': 1994, 'Age': 26, 'Age2': 26}\n"
     ]
    }
   ],
   "source": [
    "# pop() method removes the item with the specified key name\n",
    "dict1.pop(\"Blood Type\")\n",
    "print(dict1)"
   ]
  },
  {
   "cell_type": "code",
   "execution_count": 66,
   "id": "bb714599",
   "metadata": {},
   "outputs": [
    {
     "name": "stdout",
     "output_type": "stream",
     "text": [
      "{'Name': 'Reem', 'B.O.D': 1994, 'Age': 26}\n"
     ]
    }
   ],
   "source": [
    "# popitem() method removes the last inserted item\n",
    "dict1.popitem()\n",
    "print(dict1)"
   ]
  },
  {
   "cell_type": "code",
   "execution_count": 67,
   "id": "2482948e",
   "metadata": {},
   "outputs": [
    {
     "name": "stdout",
     "output_type": "stream",
     "text": [
      "{'Name': 'Reem', 'Age': 26}\n"
     ]
    },
    {
     "ename": "NameError",
     "evalue": "name 'dict1' is not defined",
     "output_type": "error",
     "traceback": [
      "\u001b[0;31m---------------------------------------------------------------------------\u001b[0m",
      "\u001b[0;31mNameError\u001b[0m                                 Traceback (most recent call last)",
      "\u001b[0;32m<ipython-input-67-797e4e159f58>\u001b[0m in \u001b[0;36m<module>\u001b[0;34m\u001b[0m\n\u001b[1;32m      4\u001b[0m \u001b[0;31m# The del keyword can also delete the dictionary completely\u001b[0m\u001b[0;34m\u001b[0m\u001b[0;34m\u001b[0m\u001b[0;34m\u001b[0m\u001b[0m\n\u001b[1;32m      5\u001b[0m \u001b[0;32mdel\u001b[0m \u001b[0mdict1\u001b[0m\u001b[0;34m\u001b[0m\u001b[0;34m\u001b[0m\u001b[0m\n\u001b[0;32m----> 6\u001b[0;31m \u001b[0mprint\u001b[0m\u001b[0;34m(\u001b[0m\u001b[0mdict1\u001b[0m\u001b[0;34m)\u001b[0m\u001b[0;34m\u001b[0m\u001b[0;34m\u001b[0m\u001b[0m\n\u001b[0m",
      "\u001b[0;31mNameError\u001b[0m: name 'dict1' is not defined"
     ]
    }
   ],
   "source": [
    "# del keyword removes the item with the specified key name\n",
    "del dict1[\"B.O.D\"]\n",
    "print(dict1)\n",
    "# The del keyword can also delete the dictionary completely\n",
    "del dict1\n",
    "print(dict1)"
   ]
  },
  {
   "cell_type": "code",
   "execution_count": 68,
   "id": "0cbc0c30",
   "metadata": {},
   "outputs": [
    {
     "name": "stdout",
     "output_type": "stream",
     "text": [
      "{'Name': 'Sara', 'B.O.D': 1995, 'Age': 26}\n",
      "{}\n"
     ]
    }
   ],
   "source": [
    "# clear() method empties the dictionary\n",
    "dict1 = {\n",
    "  \"Name\": \"Sara\",\n",
    "  \"B.O.D\": 1995,\n",
    "  \"Age\": 26 \n",
    "}\n",
    "print(dict1)\n",
    "dict1.clear()\n",
    "print(dict1)"
   ]
  },
  {
   "cell_type": "code",
   "execution_count": 69,
   "id": "b796347e",
   "metadata": {},
   "outputs": [
    {
     "name": "stdout",
     "output_type": "stream",
     "text": [
      "Name\n",
      "B.O.D\n",
      "Age\n"
     ]
    }
   ],
   "source": [
    "dict1 = {\n",
    "  \"Name\": \"Sara\",\n",
    "  \"B.O.D\": 1995,\n",
    "  \"Age\": 26 \n",
    "}\n",
    "\n",
    "for x in dict1:\n",
    "    print(x)"
   ]
  },
  {
   "cell_type": "code",
   "execution_count": 70,
   "id": "85dd8da7",
   "metadata": {},
   "outputs": [
    {
     "name": "stdout",
     "output_type": "stream",
     "text": [
      "Name\n",
      "B.O.D\n",
      "Age\n"
     ]
    }
   ],
   "source": [
    "for x in dict1.keys():\n",
    "    print(x)"
   ]
  },
  {
   "cell_type": "code",
   "execution_count": 71,
   "id": "3eb578c1",
   "metadata": {},
   "outputs": [
    {
     "name": "stdout",
     "output_type": "stream",
     "text": [
      "Sara\n",
      "1995\n",
      "26\n"
     ]
    }
   ],
   "source": [
    "for x in dict1:\n",
    "    print(dict1[x])"
   ]
  },
  {
   "cell_type": "code",
   "execution_count": 72,
   "id": "f233305b",
   "metadata": {},
   "outputs": [
    {
     "name": "stdout",
     "output_type": "stream",
     "text": [
      "Sara\n",
      "1995\n",
      "26\n"
     ]
    }
   ],
   "source": [
    "for x in dict1.values():\n",
    "    print(x)"
   ]
  },
  {
   "cell_type": "code",
   "execution_count": 73,
   "id": "6cbca27b",
   "metadata": {},
   "outputs": [
    {
     "name": "stdout",
     "output_type": "stream",
     "text": [
      "Name\n",
      "B.O.D\n",
      "Age\n"
     ]
    }
   ],
   "source": [
    "for x in dict1:\n",
    "    print(x)"
   ]
  },
  {
   "cell_type": "code",
   "execution_count": 74,
   "id": "6d6c7eb7",
   "metadata": {},
   "outputs": [
    {
     "name": "stdout",
     "output_type": "stream",
     "text": [
      "amal khaled\n",
      "amal khaled\n"
     ]
    }
   ],
   "source": [
    "name = \"amal\"\n",
    "name2 = \"khaled\"\n",
    "print(name +\" \"+ name2)\n",
    "print(name, name2)"
   ]
  },
  {
   "cell_type": "code",
   "execution_count": 75,
   "id": "ae6bb08f",
   "metadata": {},
   "outputs": [
    {
     "name": "stdout",
     "output_type": "stream",
     "text": [
      "{'Name': 'Sara', 'B.O.D': 1995, 'Age': 26}\n"
     ]
    }
   ],
   "source": [
    "dict2 = dict1.copy()\n",
    "print(dict2)"
   ]
  },
  {
   "cell_type": "code",
   "execution_count": 76,
   "id": "85f2116d",
   "metadata": {},
   "outputs": [
    {
     "name": "stdout",
     "output_type": "stream",
     "text": [
      "{'Name': 'Sara', 'B.O.D': 1995, 'Age': 26}\n"
     ]
    }
   ],
   "source": [
    "dict1 = {'Name': 'Sara', 'B.O.D': 1995, 'Age': 26}\n",
    "dict3 = dict(dict1)\n",
    "print(dict3)"
   ]
  },
  {
   "cell_type": "code",
   "execution_count": 77,
   "id": "c8fa42a9",
   "metadata": {},
   "outputs": [
    {
     "name": "stdout",
     "output_type": "stream",
     "text": [
      "{'Name': 'Sara', 'B.O.D': 1995, 'Age': 26}\n"
     ]
    }
   ],
   "source": [
    "dict3['Name'] = 'S'\n",
    "print(dict1)"
   ]
  },
  {
   "cell_type": "code",
   "execution_count": 78,
   "id": "553cbfef",
   "metadata": {},
   "outputs": [
    {
     "name": "stdout",
     "output_type": "stream",
     "text": [
      "{'student1': {'Name': 'Sara', 'B.O.D': 1995, 'Age': 26}, 'student2': {'Name': 'Ahmed', 'B.O.D': 1998, 'Age': 23}}\n"
     ]
    }
   ],
   "source": [
    "# Nested Dictionaries\n",
    "dict4 = {\n",
    "    \n",
    "    \"student1\": {\n",
    "        \"Name\": \"Sara\",\n",
    "        \"B.O.D\": 1995,\n",
    "        \"Age\": 26 \n",
    "    },\n",
    "    \n",
    "    \"student2\": {\n",
    "        \"Name\": \"Ahmed\",\n",
    "        \"B.O.D\": 1998,\n",
    "        \"Age\": 23 \n",
    "    }\n",
    " \n",
    "}\n",
    "\n",
    "print(dict4)"
   ]
  },
  {
   "cell_type": "code",
   "execution_count": 79,
   "id": "7edb1514",
   "metadata": {},
   "outputs": [
    {
     "name": "stdout",
     "output_type": "stream",
     "text": [
      "{'student1': {'Name': 'Sara', 'B.O.D': 1995, 'Age': 26}, 'student2': {'Name': 'Ahmed', 'B.O.D': 1998, 'Age': 23}}\n"
     ]
    }
   ],
   "source": [
    "student1 = {\n",
    "        \"Name\": \"Sara\",\n",
    "        \"B.O.D\": 1995,\n",
    "        \"Age\": 26 \n",
    "    }\n",
    "    \n",
    "    \n",
    "student2 = {\n",
    "        \"Name\": \"Ahmed\",\n",
    "        \"B.O.D\": 1998,\n",
    "        \"Age\": 23 \n",
    "    }\n",
    "\n",
    "dict4 = {\n",
    "     \"student1\": student1,\n",
    "     \"student2\": student2\n",
    "}\n",
    "print(dict4)"
   ]
  }
 ],
 "metadata": {
  "kernelspec": {
   "display_name": "Python 3",
   "language": "python",
   "name": "python3"
  },
  "language_info": {
   "codemirror_mode": {
    "name": "ipython",
    "version": 3
   },
   "file_extension": ".py",
   "mimetype": "text/x-python",
   "name": "python",
   "nbconvert_exporter": "python",
   "pygments_lexer": "ipython3",
   "version": "3.8.8"
  }
 },
 "nbformat": 4,
 "nbformat_minor": 5
}
