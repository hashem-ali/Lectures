{
 "cells": [
  {
   "cell_type": "markdown",
   "id": "247364a8",
   "metadata": {},
   "source": [
    "# Operators"
   ]
  },
  {
   "cell_type": "markdown",
   "id": "58f13dff",
   "metadata": {},
   "source": [
    "### Arithmetic operators"
   ]
  },
  {
   "cell_type": "code",
   "execution_count": 68,
   "id": "10b16ef7",
   "metadata": {},
   "outputs": [
    {
     "data": {
      "text/plain": [
       "7"
      ]
     },
     "execution_count": 68,
     "metadata": {},
     "output_type": "execute_result"
    }
   ],
   "source": [
    "# Arithmetic operators are used with numeric values to perform common mathematical operations\n",
    "# example: +, -, *, /\n",
    "x = 4\n",
    "y = 3\n",
    "x + y"
   ]
  },
  {
   "cell_type": "code",
   "execution_count": 69,
   "id": "c2203d84",
   "metadata": {},
   "outputs": [
    {
     "data": {
      "text/plain": [
       "12"
      ]
     },
     "execution_count": 69,
     "metadata": {},
     "output_type": "execute_result"
    }
   ],
   "source": [
    "x*y"
   ]
  },
  {
   "cell_type": "code",
   "execution_count": 61,
   "id": "2da12270",
   "metadata": {},
   "outputs": [
    {
     "data": {
      "text/plain": [
       "16"
      ]
     },
     "execution_count": 61,
     "metadata": {},
     "output_type": "execute_result"
    }
   ],
   "source": [
    "x ** 2"
   ]
  },
  {
   "cell_type": "markdown",
   "id": "78b16c99",
   "metadata": {},
   "source": [
    "### Assignment operators"
   ]
  },
  {
   "cell_type": "code",
   "execution_count": 62,
   "id": "393523cc",
   "metadata": {},
   "outputs": [
    {
     "data": {
      "text/plain": [
       "5"
      ]
     },
     "execution_count": 62,
     "metadata": {},
     "output_type": "execute_result"
    }
   ],
   "source": [
    "# Assignment operators are used to assign values to variables\n",
    "# example: = ,+=, -=, *=\n",
    "x = 4\n",
    "x += 1\n",
    "x"
   ]
  },
  {
   "cell_type": "markdown",
   "id": "562fc5a9",
   "metadata": {},
   "source": [
    "### Comparison operators"
   ]
  },
  {
   "cell_type": "code",
   "execution_count": 63,
   "id": "236b6a2f",
   "metadata": {},
   "outputs": [
    {
     "data": {
      "text/plain": [
       "True"
      ]
     },
     "execution_count": 63,
     "metadata": {},
     "output_type": "execute_result"
    }
   ],
   "source": [
    "# Comparison operators are used to compare two values\n",
    "# example: ==, !=, <, <=\n",
    "x = 4\n",
    "y = 4\n",
    "x == y"
   ]
  },
  {
   "cell_type": "markdown",
   "id": "72c5456b",
   "metadata": {},
   "source": [
    "### Logical operators"
   ]
  },
  {
   "cell_type": "code",
   "execution_count": 64,
   "id": "7e310f05",
   "metadata": {},
   "outputs": [
    {
     "name": "stdout",
     "output_type": "stream",
     "text": [
      "False\n",
      "True\n",
      "False\n"
     ]
    }
   ],
   "source": [
    "# Logical operators are used to combine conditional statements\n",
    "# example: and, or , not\n",
    "x = 4\n",
    "y = 4\n",
    "print(x == 3 and x < 10)\n",
    "print(x == 3 or x < 10)\n",
    "print(not(x == 3 or x < 10))"
   ]
  },
  {
   "cell_type": "markdown",
   "id": "fa1b3b51",
   "metadata": {},
   "source": [
    "### Identity Operators"
   ]
  },
  {
   "cell_type": "code",
   "execution_count": 65,
   "id": "fd85a3af",
   "metadata": {},
   "outputs": [
    {
     "name": "stdout",
     "output_type": "stream",
     "text": [
      "True\n",
      "False\n",
      "True\n"
     ]
    }
   ],
   "source": [
    "# Identity operators are used to compare the objects, not if they are equal, \n",
    "# but if they are actually the same object, with the same memory location\n",
    "# example: is, is not\n",
    "x = [1, 2, 3]\n",
    "y = [1, 2, 3]\n",
    "z = x\n",
    "\n",
    "print(x is z)\n",
    "print(x is y)\n",
    "print(x is not y)"
   ]
  },
  {
   "cell_type": "markdown",
   "id": "bebd8a03",
   "metadata": {},
   "source": [
    "### Membership Operators"
   ]
  },
  {
   "cell_type": "code",
   "execution_count": 66,
   "id": "220a7602",
   "metadata": {},
   "outputs": [
    {
     "name": "stdout",
     "output_type": "stream",
     "text": [
      "False\n",
      "True\n"
     ]
    }
   ],
   "source": [
    "# Membership operators are used to test if a sequence is presented in an object\n",
    "# example: in, not in\n",
    "x = [1, 2, 3]\n",
    "print(5 in x)\n",
    "print(5 not in x)"
   ]
  },
  {
   "cell_type": "markdown",
   "id": "5954ec45",
   "metadata": {},
   "source": [
    "# Loops"
   ]
  },
  {
   "cell_type": "markdown",
   "id": "a0b38f3c",
   "metadata": {},
   "source": [
    "## 1- While Loop"
   ]
  },
  {
   "cell_type": "code",
   "execution_count": 2,
   "id": "dbb75b0c",
   "metadata": {},
   "outputs": [
    {
     "name": "stdout",
     "output_type": "stream",
     "text": [
      "1\n",
      "2\n",
      "3\n",
      "4\n",
      "5\n",
      "6\n",
      "7\n",
      "8\n",
      "9\n",
      "10\n"
     ]
    }
   ],
   "source": [
    "x = 1\n",
    "while x <= 10:\n",
    "    print(x)\n",
    "    x += 1"
   ]
  },
  {
   "cell_type": "markdown",
   "id": "0d4393db",
   "metadata": {},
   "source": [
    "## 2- for Loop"
   ]
  },
  {
   "cell_type": "code",
   "execution_count": 3,
   "id": "42915706",
   "metadata": {},
   "outputs": [
    {
     "name": "stdout",
     "output_type": "stream",
     "text": [
      "0\n",
      "1\n",
      "2\n"
     ]
    }
   ],
   "source": [
    "numbers = [0, 1, 2]\n",
    "for num in numbers:\n",
    "    print(num)"
   ]
  },
  {
   "cell_type": "markdown",
   "id": "76bee222",
   "metadata": {},
   "source": [
    "### range() Function"
   ]
  },
  {
   "cell_type": "code",
   "execution_count": 17,
   "id": "7ce5a2be",
   "metadata": {},
   "outputs": [
    {
     "name": "stdout",
     "output_type": "stream",
     "text": [
      "1\n",
      "2\n"
     ]
    }
   ],
   "source": [
    "for num in range(1, 3):\n",
    "    print(num)"
   ]
  },
  {
   "cell_type": "code",
   "execution_count": 18,
   "id": "59342890",
   "metadata": {},
   "outputs": [
    {
     "name": "stdout",
     "output_type": "stream",
     "text": [
      "1\n",
      "6\n"
     ]
    }
   ],
   "source": [
    "for num in range(1, 10, 5): #(start, end, gap)\n",
    "    print(num)"
   ]
  },
  {
   "cell_type": "markdown",
   "id": "d21c954c",
   "metadata": {},
   "source": [
    "### Nested Loops"
   ]
  },
  {
   "cell_type": "code",
   "execution_count": 22,
   "id": "7b0d64a0",
   "metadata": {},
   "outputs": [
    {
     "name": "stdout",
     "output_type": "stream",
     "text": [
      "1 A\n",
      "1 B\n",
      "1 C\n",
      "2 A\n",
      "2 B\n",
      "2 C\n"
     ]
    }
   ],
   "source": [
    "numbers = [1, 2]\n",
    "letters = [\"A\", \"B\", \"C\"]\n",
    "\n",
    "for num in numbers:\n",
    "    for letter in letters:\n",
    "        print(num, letter)"
   ]
  },
  {
   "cell_type": "markdown",
   "id": "f0252265",
   "metadata": {},
   "source": [
    "### continue Statement"
   ]
  },
  {
   "cell_type": "code",
   "execution_count": 19,
   "id": "ef591e19",
   "metadata": {},
   "outputs": [
    {
     "name": "stdout",
     "output_type": "stream",
     "text": [
      "1  is odd\n",
      "3  is odd\n",
      "5  is odd\n"
     ]
    }
   ],
   "source": [
    "numbers = [1, 2, 3, 4, 5]\n",
    "for num in numbers:\n",
    "    if num % 2 == 0:\n",
    "        continue\n",
    "    print(num,\" is odd\")"
   ]
  },
  {
   "cell_type": "markdown",
   "id": "de60ec86",
   "metadata": {},
   "source": [
    "### break Statement"
   ]
  },
  {
   "cell_type": "code",
   "execution_count": 20,
   "id": "104c3913",
   "metadata": {},
   "outputs": [
    {
     "name": "stdout",
     "output_type": "stream",
     "text": [
      "1  is odd\n"
     ]
    }
   ],
   "source": [
    "numbers = [1, 2, 3, 4, 5]\n",
    "for num in numbers:\n",
    "    if num % 2 == 0:\n",
    "        break\n",
    "    print(num,\" is odd\")"
   ]
  },
  {
   "cell_type": "markdown",
   "id": "6558d62d",
   "metadata": {},
   "source": [
    "### pass Statement"
   ]
  },
  {
   "cell_type": "code",
   "execution_count": 73,
   "id": "ad0764f0",
   "metadata": {},
   "outputs": [],
   "source": [
    "for x in [0, 1, 2]:\n",
    "    pass"
   ]
  },
  {
   "cell_type": "markdown",
   "id": "7bcd8928",
   "metadata": {},
   "source": [
    "# Functions"
   ]
  },
  {
   "cell_type": "code",
   "execution_count": 27,
   "id": "4419ec89",
   "metadata": {},
   "outputs": [
    {
     "name": "stdout",
     "output_type": "stream",
     "text": [
      "10\n"
     ]
    }
   ],
   "source": [
    "def sum():\n",
    "    firstNumber = 1 \n",
    "    secondNumber = 9 \n",
    "    print(firstNumber + secondNumber)\n",
    "sum() # Calling the Function"
   ]
  },
  {
   "cell_type": "markdown",
   "id": "e3cab7c0",
   "metadata": {},
   "source": [
    "## Arguments and Parameters"
   ]
  },
  {
   "cell_type": "code",
   "execution_count": 28,
   "id": "0ac60b28",
   "metadata": {},
   "outputs": [
    {
     "name": "stdout",
     "output_type": "stream",
     "text": [
      "10\n"
     ]
    }
   ],
   "source": [
    "def sum(firstNumber, secondNumber): # Parameters\n",
    "    print(firstNumber + secondNumber)\n",
    "sum(1, 9) # Arguments"
   ]
  },
  {
   "cell_type": "markdown",
   "id": "17cf8d0a",
   "metadata": {},
   "source": [
    "## lambda"
   ]
  },
  {
   "cell_type": "code",
   "execution_count": 35,
   "id": "61d6a548",
   "metadata": {},
   "outputs": [
    {
     "name": "stdout",
     "output_type": "stream",
     "text": [
      "10\n"
     ]
    }
   ],
   "source": [
    "sum = lambda firstNumber, secondNumber : firstNumber + secondNumber\n",
    "print(sum(1, 9))"
   ]
  }
 ],
 "metadata": {
  "kernelspec": {
   "display_name": "Python 3",
   "language": "python",
   "name": "python3"
  },
  "language_info": {
   "codemirror_mode": {
    "name": "ipython",
    "version": 3
   },
   "file_extension": ".py",
   "mimetype": "text/x-python",
   "name": "python",
   "nbconvert_exporter": "python",
   "pygments_lexer": "ipython3",
   "version": "3.8.8"
  }
 },
 "nbformat": 4,
 "nbformat_minor": 5
}
